{
 "cells": [
  {
   "cell_type": "markdown",
   "id": "9a8dad9a-d2b4-44c9-a677-32346b58f66b",
   "metadata": {},
   "source": [
    "Most forked Computational Neuroscience repositories as of May 12 2022 at 4:41 pm CST"
   ]
  },
  {
   "cell_type": "code",
   "execution_count": 1,
   "id": "584fd847-6568-40ed-972f-69220cc81f2a",
   "metadata": {},
   "outputs": [],
   "source": [
    "import pandas as pd\n",
    "\n",
    "pd.options.display.max_colwidth = 100"
   ]
  },
  {
   "cell_type": "code",
   "execution_count": 2,
   "id": "871609ef-fa97-49cf-900d-aa77225cbfc3",
   "metadata": {},
   "outputs": [],
   "source": [
    "cnl = [\"NeuromatchAcademy/course-content\",\n",
    "\"cnrl/cns-project-template\",\n",
    "\"translationalneuromodeling/tapas\",\n",
    "\"ContextLab/computational-neuroscience\",\n",
    "\"computational-neuroscience/Computational-Neuroscience-UW\",\n",
    "\"neurolib-dev/neurolib\",\n",
    "\"simetenn/uncertainpy\",\n",
    "\"CompCogNeuro/sims\",\n",
    "\"compmem/compsy\",\n",
    "\"conorhoughton/COMS30127\",\n",
    "\"ashumeow/Computational-NeuroScience\",\n",
    "\"kuz/Computational-Neuroscience-Course\",\n",
    "\"INCF/neuroshapes\",\n",
    "\"CompCogNeuro/ed4\",\n",
    "\"alisharifi2000/CS-SBU-ComputationalNeuroScience2021-projects\",\n",
    "\"karnigili/Computational-Neuroscience\",\n",
    "\"robclewley/compneuro\",\n",
    "\"btel/python-in-neuroscience-tutorials\",\n",
    "\"neurodebian/neurodebian\",\n",
    "\"alfredcai/Coursera-Computational-NeuroScience\",\n",
    "\"neurodata/brainlit\",\n",
    "\"patrickmineault/xcorr-notebooks\",\n",
    "\"ITNG/ModelingNeuralDynamics\",\n",
    "\"CNS-OIST/a310_cns_2018\",\n",
    "\"rougier/Neurosciences\"]"
   ]
  },
  {
   "cell_type": "code",
   "execution_count": 3,
   "id": "138cba7d-aa2c-4afc-9250-0906e1f681be",
   "metadata": {},
   "outputs": [],
   "source": [
    "data = pd.read_json('data.json')"
   ]
  },
  {
   "cell_type": "code",
   "execution_count": 4,
   "id": "5d4ef518-0881-419d-b628-493da389b8cf",
   "metadata": {},
   "outputs": [],
   "source": [
    "# data.readme_contents[0]"
   ]
  },
  {
   "cell_type": "code",
   "execution_count": 5,
   "id": "f46b2b0f-dae1-456d-9ced-a34d96cdb564",
   "metadata": {},
   "outputs": [],
   "source": [
    "# data.readme_contents[18]"
   ]
  },
  {
   "cell_type": "code",
   "execution_count": null,
   "id": "3786f2d9-9afb-4af0-bdbb-05395394bad4",
   "metadata": {},
   "outputs": [],
   "source": []
  },
  {
   "cell_type": "code",
   "execution_count": null,
   "id": "b2b4532b-6fd3-40de-9c8e-e697fb8dcfff",
   "metadata": {},
   "outputs": [],
   "source": []
  },
  {
   "cell_type": "code",
   "execution_count": null,
   "id": "58cb3366-bed8-49e9-99d1-1c571cd41306",
   "metadata": {},
   "outputs": [],
   "source": []
  }
 ],
 "metadata": {
  "kernelspec": {
   "display_name": "Python 3 (ipykernel)",
   "language": "python",
   "name": "python3"
  },
  "language_info": {
   "codemirror_mode": {
    "name": "ipython",
    "version": 3
   },
   "file_extension": ".py",
   "mimetype": "text/x-python",
   "name": "python",
   "nbconvert_exporter": "python",
   "pygments_lexer": "ipython3",
   "version": "3.9.7"
  }
 },
 "nbformat": 4,
 "nbformat_minor": 5
}
