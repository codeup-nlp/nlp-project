{
 "cells": [
  {
   "cell_type": "markdown",
   "id": "9a8dad9a-d2b4-44c9-a677-32346b58f66b",
   "metadata": {
    "tags": []
   },
   "source": [
    "# Most forked Computational Neuroscience repositories\n",
    "As of May 12 2022 at 4:41 pm CST"
   ]
  },
  {
   "cell_type": "code",
   "execution_count": 1,
   "id": "871609ef-fa97-49cf-900d-aa77225cbfc3",
   "metadata": {
    "tags": []
   },
   "outputs": [],
   "source": [
    "cnl = [\"NeuromatchAcademy/course-content\",\n",
    "\"cnrl/cns-project-template\",\n",
    "\"translationalneuromodeling/tapas\",\n",
    "\"ContextLab/computational-neuroscience\",\n",
    "\"computational-neuroscience/Computational-Neuroscience-UW\",\n",
    "\"neurolib-dev/neurolib\",\n",
    "\"simetenn/uncertainpy\",\n",
    "\"CompCogNeuro/sims\",\n",
    "\"compmem/compsy\",\n",
    "\"conorhoughton/COMS30127\",\n",
    "\"ashumeow/Computational-NeuroScience\",\n",
    "\"kuz/Computational-Neuroscience-Course\",\n",
    "\"INCF/neuroshapes\",\n",
    "\"CompCogNeuro/ed4\",\n",
    "\"alisharifi2000/CS-SBU-ComputationalNeuroScience2021-projects\",\n",
    "\"karnigili/Computational-Neuroscience\",\n",
    "\"robclewley/compneuro\",\n",
    "\"btel/python-in-neuroscience-tutorials\",\n",
    "\"neurodebian/neurodebian\",\n",
    "\"alfredcai/Coursera-Computational-NeuroScience\",\n",
    "\"neurodata/brainlit\",\n",
    "\"patrickmineault/xcorr-notebooks\",\n",
    "\"ITNG/ModelingNeuralDynamics\",\n",
    "\"CNS-OIST/a310_cns_2018\",\n",
    "\"rougier/Neurosciences\"]"
   ]
  },
  {
   "cell_type": "code",
   "execution_count": 2,
   "id": "310ca965-8c56-41e9-9741-4b1fdf54234c",
   "metadata": {
    "tags": []
   },
   "outputs": [],
   "source": [
    "REPOS = [ \n",
    "\"ccxt/ccxt\",\n",
    "\"openssl/openssl\",\n",
    "\"HelloZeroNet/ZeroNet\",\n",
    "\"freqtrade/freqtrade\",\n",
    "\"amark/gun\",\n",
    "\"brix/crypto-js\",\n",
    "\"google/tink\",\n",
    "\"jedisct1/libsodium\",\n",
    "\"krzyzanowskim/CryptoSwift\",\n",
    "\"cryptomator/cryptomator\",\n",
    "\"bitwiseshiftleft/sjcl\",\n",
    "\"ctf-wiki/ctf-wiki\",\n",
    "\"StockSharp/StockSharp\",\n",
    "\"pyca/cryptography\",\n",
    "\"digitalbazaar/forge\",\n",
    "\"aws/s2n-tls\",\n",
    "\"hummingbot/hummingbot\",\n",
    "\"google/end-to-end\",\n",
    "\"PrivateBin/PrivateBin\",\n",
    "\"CryptoSignal/Crypto-Signal\",\n",
    "\"jesse-ai/jesse\",\n",
    "\"trustwallet/assets\",\n",
    "\"Mbed-TLS/mbedtls\",\n",
    "\"bitpay/wallet\",\n",
    "\"Haehnchen/crypto-trading-bot\",\n",
    "\n",
    "\"NASAWorldWind/WebWorldWind\", \n",
    "\"r-spacex/SpaceX-API\", \n",
    "\"nasa/fprime\", \n",
    "\"NASAWorldWind/WorldWindJava\", \n",
    "\"nasa-gibs/worldview\", \n",
    "\"nasa/apod-api\", \n",
    "\"chrislgarry/Apollo-11\", \n",
    "\"nasa/NASA-3D-Resources\", \n",
    "\"nasa/astrobee\", \n",
    "\"bloominstituteoftechnology/nasa-photo-of-the-day\", \n",
    "\"nasa/Open-Source-Catalog\", \n",
    "\"nasa/CrisisMappingToolkit\",\n",
    "\"nasa/code-nasa-gov\", \n",
    "\"nasa/earthdata-search\",\n",
    "\"NASAWorldWind/WorldWindAndroid\", \n",
    "\"spaceship-prompt/spaceship-prompt\",\n",
    "\"rt-bishop/Look4Sat\", \n",
    "\"nasa-jpl/COVID-19-respirators\",\n",
    "\"jakiestfu/himawari.js\", \n",
    "\"orbitalindex/awesome-space\", \n",
    "\"CelestiaProject/Celestia\", \n",
    "\"trehn/termtrack\", \n",
    "\"barrosfilipe/Rocket-Lab-API\", \n",
    "\"Trinitui/Rocket-Lab-API-Reborn\", \n",
    "\"Onnamission/SpaceX-Analytics\", \n",
    "\n",
    "\"NeuromatchAcademy/course-content\",\n",
    "\"cnrl/cns-project-template\",\n",
    "\"translationalneuromodeling/tapas\",\n",
    "\"ContextLab/computational-neuroscience\",\n",
    "\"computational-neuroscience/Computational-Neuroscience-UW\",\n",
    "\"neurolib-dev/neurolib\",\n",
    "\"simetenn/uncertainpy\",\n",
    "\"CompCogNeuro/sims\",\n",
    "\"compmem/compsy\",\n",
    "\"conorhoughton/COMS30127\",\n",
    "\"ashumeow/Computational-NeuroScience\",\n",
    "\"kuz/Computational-Neuroscience-Course\",\n",
    "\"INCF/neuroshapes\",\n",
    "\"CompCogNeuro/ed4\",\n",
    "\"alisharifi2000/CS-SBU-ComputationalNeuroScience2021-projects\",\n",
    "\"karnigili/Computational-Neuroscience\",\n",
    "\"robclewley/compneuro\",\n",
    "\"btel/python-in-neuroscience-tutorials\",\n",
    "\"neurodebian/neurodebian\",\n",
    "\"alfredcai/Coursera-Computational-NeuroScience\",\n",
    "\"neurodata/brainlit\",\n",
    "\"patrickmineault/xcorr-notebooks\",\n",
    "\"ITNG/ModelingNeuralDynamics\",\n",
    "\"CNS-OIST/a310_cns_2018\",\n",
    "\"rougier/Neurosciences\",\n",
    "\n",
    "\"ossu/computer-science\",\n",
    "\"hyperledger-archives/education-cryptomoji\",\n",
    "\"DataONEorg/Education\",\n",
    "\"data-edu/data-science-in-education\",\n",
    "\"yrgo/awesome-educational-games\", \n",
    "\"AgoraIO-Usecase/eEducation\",\n",
    "\"WikiEducationFoundation/WikiEduDashboard\",\n",
    "\"puppetlabs/education-builds\",\n",
    "\"sugarlabs/musicblocks\",\n",
    "\"microsoft/Web-Dev-For-Beginners\",\n",
    "\"jakemdrew/EducationDataNC\",\n",
    "\"shama/letswritecode\",\n",
    "\"ossu/math\",\n",
    "\"CTFd/CTFd\",\n",
    "\"anton-liauchuk/educational-platform\",\n",
    "\"Akshima-Ghai/OneEducationalWebsiteForAll\",\n",
    "\"llSourcell/Watch-Me-Build-an-Education-Startup\",\n",
    "\"tecladocode/rest-apis-flask-python\",\n",
    "\"psi4/psi4numpy\",\n",
    "\"unstructuredstudio/zubhub\",\n",
    "\"zero-to-mastery/start-here-guidelines\",\n",
    "\"getify/Functional-Light-JS\",\n",
    "\"arschles/go-in-5-minutes\",\n",
    "\"mikesprague/udacity-nanodegrees\",\n",
    "\"microsoft/Industry-Accelerator-Education\",\n",
    "]"
   ]
  },
  {
   "cell_type": "code",
   "execution_count": 3,
   "id": "241de6e8-2d69-41b7-aa4f-3584a3c33dfe",
   "metadata": {},
   "outputs": [],
   "source": [
    "# len(set(REPOS))"
   ]
  },
  {
   "cell_type": "code",
   "execution_count": 4,
   "id": "bc160b9b-ddef-4c6b-8fcc-705207e2c7a1",
   "metadata": {},
   "outputs": [],
   "source": [
    "import unicodedata\n",
    "import re\n",
    "import json\n",
    "import os\n",
    "\n",
    "import nltk\n",
    "from nltk.tokenize.toktok import ToktokTokenizer\n",
    "from nltk.corpus import stopwords\n",
    "\n",
    "import pandas as pd\n",
    "import wrangle\n",
    "\n",
    "pd.options.display.max_colwidth = 100\n",
    "pd.options.display.max_columns = None\n",
    "pd.options.display.max_rows = None\n",
    "\n",
    "import warnings\n",
    "warnings.filterwarnings('ignore')"
   ]
  },
  {
   "cell_type": "markdown",
   "id": "6d8ce9a1-1cd6-4120-9571-6bd52d52c4da",
   "metadata": {
    "tags": []
   },
   "source": [
    "## Acquire"
   ]
  },
  {
   "cell_type": "code",
   "execution_count": 5,
   "id": "138cba7d-aa2c-4afc-9250-0906e1f681be",
   "metadata": {},
   "outputs": [],
   "source": [
    "data = pd.read_json('data.json')"
   ]
  },
  {
   "cell_type": "code",
   "execution_count": 6,
   "id": "3786f2d9-9afb-4af0-bdbb-05395394bad4",
   "metadata": {},
   "outputs": [
    {
     "data": {
      "text/plain": [
       "(124, 3)"
      ]
     },
     "execution_count": 6,
     "metadata": {},
     "output_type": "execute_result"
    }
   ],
   "source": [
    "data.shape"
   ]
  },
  {
   "cell_type": "code",
   "execution_count": 7,
   "id": "7b130281-cb8d-4198-b3e7-8859507feb62",
   "metadata": {},
   "outputs": [],
   "source": [
    "# url_re = re.compile(r'https?://', re.IGNORECASE)\n",
    "\n",
    "# def is_url(word):\n",
    "#     return url_re.search(word) is not None\n",
    "\n",
    "\n",
    "# def keep_row(row):\n",
    "#     return not is_url(row['text'])"
   ]
  },
  {
   "cell_type": "code",
   "execution_count": 8,
   "id": "6eff6277-c5e7-48ed-8e10-d7b38a03f0c5",
   "metadata": {},
   "outputs": [],
   "source": [
    "# [is_url(text) for text in data.readme_contents[0].split()]"
   ]
  },
  {
   "cell_type": "code",
   "execution_count": 9,
   "id": "f2191160-b49d-45e0-b4c5-baf0b34ebe57",
   "metadata": {},
   "outputs": [],
   "source": [
    "# [re.search(r'https?://', text) for text in data.readme_contents[0].split()]"
   ]
  },
  {
   "cell_type": "code",
   "execution_count": 10,
   "id": "2a66e7b7-443f-4eab-9865-c2800881bf9b",
   "metadata": {},
   "outputs": [],
   "source": [
    "# remove urls\n",
    "#data['clean_text'] = [' '.join([text for text in readme.split() if re.search(r'https?://', text) is None]) for readme in data.readme_contents]"
   ]
  },
  {
   "cell_type": "markdown",
   "id": "d7fda146-508f-426a-9b85-fa2039d04463",
   "metadata": {
    "tags": []
   },
   "source": [
    "## Prepare"
   ]
  },
  {
   "cell_type": "code",
   "execution_count": 11,
   "id": "a7341ae9-6c7f-4a91-9985-50c5aea775d0",
   "metadata": {},
   "outputs": [],
   "source": [
    "def remove_url(instr):\n",
    "    '''\n",
    "    This removes urls from readme's\n",
    "    '''\n",
    "    instr = ' '.join([text for text in instr.split() if re.search(r'https?://', text) is None])\n",
    "    return instr"
   ]
  },
  {
   "cell_type": "code",
   "execution_count": 12,
   "id": "018e5d91-c5e2-4167-a4b8-b7e9f1da41ce",
   "metadata": {},
   "outputs": [],
   "source": [
    "data['clean_text'] = [remove_url(readme) for readme in data.readme_contents]"
   ]
  },
  {
   "cell_type": "code",
   "execution_count": 13,
   "id": "cd706882-78e2-4676-a93f-db2a90916445",
   "metadata": {},
   "outputs": [],
   "source": [
    "def basic_clean(instr):\n",
    "    '''\n",
    "    Clean our data by making everything lowercase, normalize unicode characters, and removing unwanted characters\n",
    "    '''\n",
    "    # Lower case\n",
    "    instr = instr.lower()\n",
    "    # Normalize\n",
    "    instr = unicodedata.normalize('NFKD' , instr).encode('ascii','ignore').decode('utf-8', 'ignore')\n",
    "    # remove unwanted characters\n",
    "    instr = re.sub(f\"[^a-z0-9'\\s]\", '', instr)\n",
    "    # Return the cleaned string\n",
    "    return instr"
   ]
  },
  {
   "cell_type": "code",
   "execution_count": 14,
   "id": "b2b4532b-6fd3-40de-9c8e-e697fb8dcfff",
   "metadata": {},
   "outputs": [],
   "source": [
    "data.clean_text = [basic_clean(readme) for readme in data.clean_text]"
   ]
  },
  {
   "cell_type": "code",
   "execution_count": 15,
   "id": "e72c61f0-9d9b-41a3-9fcf-d2ffac726b1c",
   "metadata": {},
   "outputs": [],
   "source": [
    "def tokenize(instr):\n",
    "    '''\n",
    "    Tokenize the target string. We breakup words and puctuation into descrete units\n",
    "    '''\n",
    "    \n",
    "    tokenizer = ToktokTokenizer()\n",
    "    \n",
    "    instr = tokenizer.tokenize(instr, return_str = True)\n",
    "    \n",
    "    return instr"
   ]
  },
  {
   "cell_type": "code",
   "execution_count": 16,
   "id": "58cb3366-bed8-49e9-99d1-1c571cd41306",
   "metadata": {},
   "outputs": [],
   "source": [
    "data.clean_text = [tokenize(readme) for readme in data.clean_text]"
   ]
  },
  {
   "cell_type": "code",
   "execution_count": 17,
   "id": "9737f19c-b210-4939-9357-eb55210a6fa0",
   "metadata": {},
   "outputs": [],
   "source": [
    "# def stem(instr):\n",
    "#     '''\n",
    "#     '''\n",
    "    \n",
    "#     ps = nltk.porter.PorterStemmer()\n",
    "    \n",
    "#     stems = [ps.stem(word) for word in instr.split()]\n",
    "    \n",
    "#     instr = ' '.join(stems)\n",
    "    \n",
    "#     return instr"
   ]
  },
  {
   "cell_type": "code",
   "execution_count": 18,
   "id": "2287ccc9-571f-4445-a130-ddacb51dd69d",
   "metadata": {},
   "outputs": [],
   "source": [
    "# data['stem'] = [stem(readme) for readme in data.clean]"
   ]
  },
  {
   "cell_type": "code",
   "execution_count": 19,
   "id": "049a7be7-863f-4c16-a60c-33f95650ebf2",
   "metadata": {},
   "outputs": [],
   "source": [
    "def lemmatize(instr):\n",
    "    '''\n",
    "    \n",
    "    '''\n",
    "    \n",
    "    wnl = nltk.stem.WordNetLemmatizer()\n",
    "    \n",
    "    lemmas = [wnl.lemmatize(word) for word in instr.split()]\n",
    "    \n",
    "    instr = ' '.join(lemmas)\n",
    "    \n",
    "    return instr"
   ]
  },
  {
   "cell_type": "code",
   "execution_count": 20,
   "id": "3daa1a32-e12d-4546-a3d9-6f60b1aa1dae",
   "metadata": {},
   "outputs": [],
   "source": [
    "data.clean_text = [lemmatize(readme) for readme in data.clean_text]"
   ]
  },
  {
   "cell_type": "code",
   "execution_count": 21,
   "id": "71f02e0d-f64e-4d59-8c92-c32aa1d7be25",
   "metadata": {},
   "outputs": [],
   "source": [
    "def remove_stopwords(instr, extra_words = [], exclude_words= []):\n",
    "    '''\n",
    "    \n",
    "    '''\n",
    "    \n",
    "    stopword_list = stopwords.words('english')\n",
    "    \n",
    "    if exclude_words: \n",
    "        for word in exclude_words:\n",
    "            stopword_list.remove(word)\n",
    "    \n",
    "    if extra_words:\n",
    "        for word in extra_words:\n",
    "            stopword_list.append(word)\n",
    "    \n",
    "    words = instr.split()\n",
    "    \n",
    "    filtered_words = [w for w in words if w not in stopword_list]\n",
    "    \n",
    "    words_removed = ' '.join(filtered_words)\n",
    "    \n",
    "    return words_removed"
   ]
  },
  {
   "cell_type": "code",
   "execution_count": 22,
   "id": "7c4e6e9e-81f8-481b-9f7f-89e858e6dffe",
   "metadata": {},
   "outputs": [],
   "source": [
    "data.clean_text = [remove_stopwords(readme) for readme in data.clean_text]"
   ]
  },
  {
   "cell_type": "code",
   "execution_count": 23,
   "id": "5ca92522-d380-4496-8e5d-7f5b2c64df02",
   "metadata": {},
   "outputs": [],
   "source": [
    "# def clean(text: str) -> list:\n",
    "#     'A simple function to cleanup text data'\n",
    "#     wnl = nltk.stem.WordNetLemmatizer()\n",
    "#     stopwords = set(nltk.corpus.stopwords.words('english'))\n",
    "#     text = (text.encode('ascii', 'ignore')\n",
    "#              .decode('utf-8', 'ignore')\n",
    "#              .lower())\n",
    "#     words = re.sub(r'[^\\w\\s]', '', text).split() # tokenization\n",
    "#     return [wnl.lemmatize(word) for word in words if word not in stopwords]\n",
    "\n",
    "# data['clean_text'] = data.readme_contents.apply(clean).apply(' '.join)"
   ]
  },
  {
   "cell_type": "markdown",
   "id": "6bd00617-8505-40c1-9f4d-cefadd410692",
   "metadata": {
    "tags": []
   },
   "source": [
    "## Explore"
   ]
  },
  {
   "cell_type": "code",
   "execution_count": 24,
   "id": "d33fb942-b502-41fc-be6e-880d9764fa4a",
   "metadata": {},
   "outputs": [],
   "source": [
    "# labels = pd.concat([data.language.value_counts(dropna=False), data.language.value_counts(normalize=True)], axis=1)\n",
    "# labels.columns = ['n', 'percent']\n",
    "# #labels"
   ]
  },
  {
   "cell_type": "code",
   "execution_count": 25,
   "id": "a69a37b1-faa2-4e23-936e-a7c01da1a41e",
   "metadata": {},
   "outputs": [],
   "source": [
    "#data.language.value_counts(dropna=False)"
   ]
  },
  {
   "cell_type": "code",
   "execution_count": 26,
   "id": "0cdc7147-08c0-4e56-a8f3-a012c974b657",
   "metadata": {},
   "outputs": [],
   "source": [
    "#data[['repo']][data.language.isnull()]"
   ]
  },
  {
   "cell_type": "code",
   "execution_count": 27,
   "id": "4fe4dae7-0550-4b2e-a36e-123c175c8690",
   "metadata": {
    "tags": []
   },
   "outputs": [],
   "source": [
    "# lang_df = pd.DataFrame()\n",
    "# for lang in data.language.unique():\n",
    "#     lang_df[lang] = ' '.join(data.readme_contents[data.language == lang].dropna())"
   ]
  },
  {
   "cell_type": "code",
   "execution_count": 28,
   "id": "bc34253a-1d8f-45dd-88e7-5ba817609660",
   "metadata": {},
   "outputs": [],
   "source": [
    "# word_counts.sort_values(by='javascript_freq',ascending=False).head(10)"
   ]
  },
  {
   "cell_type": "code",
   "execution_count": 29,
   "id": "6bbc069c-5bec-465b-80f7-a82c29e4f488",
   "metadata": {},
   "outputs": [],
   "source": [
    "#sns.catplot(x='index',y='javascript_freq',data=jsf,kind='bar' )"
   ]
  },
  {
   "cell_type": "code",
   "execution_count": 30,
   "id": "8471026a-459b-4392-94bd-4e4bdcc026f1",
   "metadata": {},
   "outputs": [],
   "source": [
    "# jsf = pd.DataFrame(word_counts['javascript_freq'].sort_values(ascending=False).head(10)).reset_index()\n",
    "# jsf"
   ]
  },
  {
   "cell_type": "code",
   "execution_count": 31,
   "id": "fa3fe3c2-4544-47a8-b623-c7f7bd8d9a6d",
   "metadata": {},
   "outputs": [],
   "source": [
    "# top_five = data.language.value_counts(dropna=True).head(5).index\n",
    "# top_five"
   ]
  },
  {
   "cell_type": "code",
   "execution_count": 32,
   "id": "7b6bfbef-0c52-423a-8e0f-f5452b9013c0",
   "metadata": {},
   "outputs": [],
   "source": [
    "# pd.DataFrame(word_counts[lang].sort_values(ascending=False).reset_index()[lang] > 0).sum().values[0]"
   ]
  },
  {
   "cell_type": "code",
   "execution_count": 33,
   "id": "99a84f1d-5319-4b5d-8d45-65d7471daa30",
   "metadata": {},
   "outputs": [],
   "source": [
    "# unique words\n",
    "# len(set(data.clean_text[0].split()))"
   ]
  },
  {
   "cell_type": "code",
   "execution_count": 34,
   "id": "7340736f-e367-4aa7-be6a-650f88e8faa5",
   "metadata": {},
   "outputs": [],
   "source": [
    "# words\n",
    "# len(data.clean_text[0].split())"
   ]
  },
  {
   "cell_type": "code",
   "execution_count": 35,
   "id": "5baeed4e-7d06-4103-8d86-a0f29e44389a",
   "metadata": {},
   "outputs": [],
   "source": [
    "# word_counts.reset_index().pivot(index=word_counts.index,columns=word_counts.columns,values=word_counts.values)"
   ]
  },
  {
   "cell_type": "code",
   "execution_count": 36,
   "id": "9cec44e0-905f-4f79-8d99-1844299a61f4",
   "metadata": {},
   "outputs": [],
   "source": [
    "# word_counts['groff_freq'].sort_values(ascending=False).sum()"
   ]
  },
  {
   "cell_type": "code",
   "execution_count": 37,
   "id": "562981ef-eab6-4391-a456-08461926765a",
   "metadata": {},
   "outputs": [],
   "source": [
    "# (word_counts.javascript_freq != 0).sum()"
   ]
  },
  {
   "cell_type": "markdown",
   "id": "1ab31886-3da3-4550-b3e4-e0669f31d344",
   "metadata": {
    "tags": []
   },
   "source": [
    "##  Question 1 \n",
    "Do different programming languages use a different number of unique words?"
   ]
  },
  {
   "cell_type": "code",
   "execution_count": 38,
   "id": "4c71f7cc-afaf-4937-8879-a30dacb8ff52",
   "metadata": {
    "tags": []
   },
   "outputs": [],
   "source": [
    "javascript = ' '.join(data.clean_text[data.language == 'JavaScript'])\n",
    "c = ' '.join(data.clean_text[data.language == 'C'])\n",
    "jupyter_notebook = ' '.join(data.clean_text[data.language == 'Jupyter Notebook'])\n",
    "python = ' '.join(data.clean_text[data.language == 'Python'])\n",
    "cplusplus = ' '.join(data.clean_text[data.language == 'C++'])\n",
    "swift = ' '.join(data.clean_text[data.language == 'Swift'])\n",
    "java = ' '.join(data.clean_text[data.language == 'Java'])\n",
    "csharp = ' '.join(data.clean_text[data.language == 'C#'])\n",
    "php = ' '.join(data.clean_text[data.language == 'PHP'])\n",
    "typescript = ' '.join(data.clean_text[data.language == 'TypeScript'])\n",
    "assembly = ' '.join(data.clean_text[data.language == 'Assembly'])\n",
    "mathematica = ' '.join(data.clean_text[data.language == 'Mathematica'])\n",
    "css = ' '.join(data.clean_text[data.language == 'CSS'])\n",
    "kotlin = ' '.join(data.clean_text[data.language == 'Kotlin'])\n",
    "g_code = ' '.join(data.clean_text[data.language == 'G-code'])\n",
    "ruby = ' '.join(data.clean_text[data.language == 'Ruby'])\n",
    "r = ' '.join(data.clean_text[data.language == 'R'])\n",
    "tex = ' '.join(data.clean_text[data.language == 'TeX'])\n",
    "go = ' '.join(data.clean_text[data.language == 'Go'])\n",
    "groff = ' '.join(data.clean_text[data.language == 'Groff'])\n",
    "html = ' '.join(data.clean_text[data.language == 'HTML'])\n",
    "shell = ' '.join(data.clean_text[data.language == 'Shell'])\n",
    "objective_c = ' '.join(data.clean_text[data.language == 'Objective-C'])\n",
    "\n",
    "matlab = data.clean_text[data.language == 'MATLAB']\n",
    "matlab = matlab.append(data.clean_text[data.language == 'Matlab'])\n",
    "matlab = ' '.join(matlab)"
   ]
  },
  {
   "cell_type": "code",
   "execution_count": 39,
   "id": "fa677ee4-2bea-440f-b987-6eb00582aa2d",
   "metadata": {
    "tags": []
   },
   "outputs": [],
   "source": [
    "javascript_freq = pd.Series(javascript.split()).value_counts()\n",
    "c_freq = pd.Series(c.split()).value_counts()\n",
    "jupyter_notebook_freq = pd.Series(jupyter_notebook.split()).value_counts()\n",
    "python_freq = pd.Series(python.split()).value_counts()\n",
    "cplusplus_freq = pd.Series(cplusplus.split()).value_counts()\n",
    "swift_freq = pd.Series(swift.split()).value_counts()\n",
    "java_freq = pd.Series(java.split()).value_counts()\n",
    "csharp_freq = pd.Series(csharp.split()).value_counts()\n",
    "php_freq = pd.Series(php.split()).value_counts()\n",
    "typescript_freq = pd.Series(typescript.split()).value_counts()\n",
    "assembly_freq = pd.Series(assembly.split()).value_counts()\n",
    "mathematica_freq = pd.Series(mathematica.split()).value_counts()\n",
    "css_freq = pd.Series(css.split()).value_counts()\n",
    "kotlin_freq = pd.Series(kotlin.split()).value_counts()\n",
    "g_code_freq = pd.Series(g_code.split()).value_counts()\n",
    "ruby_freq = pd.Series(ruby.split()).value_counts()\n",
    "r_freq = pd.Series(r.split()).value_counts()\n",
    "tex_freq = pd.Series(tex.split()).value_counts()\n",
    "go_freq = pd.Series(go.split()).value_counts()\n",
    "groff_freq = pd.Series(groff.split()).value_counts()\n",
    "html_freq = pd.Series(html.split()).value_counts()\n",
    "shell_freq = pd.Series(shell.split()).value_counts()\n",
    "objective_c_freq = pd.Series(objective_c.split()).value_counts()\n",
    "matlab_freq = pd.Series(matlab.split()).value_counts()"
   ]
  },
  {
   "cell_type": "code",
   "execution_count": 40,
   "id": "ff81e0cd-eb08-431d-bd36-6a175fb45cf7",
   "metadata": {
    "tags": []
   },
   "outputs": [],
   "source": [
    "total_word_counts = (pd.concat([javascript_freq,\\\n",
    "                          c_freq,\\\n",
    "                          jupyter_notebook_freq,\\\n",
    "                          python_freq,\\\n",
    "                          tex_freq,\\\n",
    "                          cplusplus_freq,\\\n",
    "                          swift_freq,\\\n",
    "                          java_freq,\\\n",
    "                          csharp_freq,\\\n",
    "                          php_freq,\\\n",
    "                          typescript_freq,\\\n",
    "                          assembly_freq,\\\n",
    "                          mathematica_freq,\\\n",
    "                          css_freq,\\\n",
    "                          kotlin_freq,\\\n",
    "                          g_code_freq,\\\n",
    "                          ruby_freq,\\\n",
    "                          r_freq,\\\n",
    "                          go_freq,\\\n",
    "                          groff_freq,\\\n",
    "                          html_freq,\\\n",
    "                          shell_freq,\\\n",
    "                          matlab_freq],\\\n",
    "                        axis = 1, sort = True)\n",
    "               .set_axis(['javascript_freq',\n",
    "                          'c_freq',\n",
    "                          'jupyter_notebook_freq',\n",
    "                          'python_freq',\n",
    "                          'tex_freq',\n",
    "                          'cplusplus_freq',\n",
    "                          'swift_freq',\n",
    "                          'java_freq',\n",
    "                          'csharp_freq',\n",
    "                          'php_freq',\n",
    "                          'typescript_freq',\n",
    "                          'assembly_freq',\n",
    "                          'mathematica_freq',\n",
    "                          'css_freq',\n",
    "                          'kotlin_freq',\n",
    "                          'g_code_freq',\n",
    "                          'ruby_freq',\n",
    "                          'r_freq',\n",
    "                          'go_freq',\n",
    "                          'groff_freq',\n",
    "                          'html_freq',\n",
    "                          'shell_freq',\n",
    "                          'matlab_freq'\n",
    "                         ], axis =1, inplace = False)\n",
    "              .fillna(0)\n",
    "              .apply(lambda s:s.astype(int)))"
   ]
  },
  {
   "cell_type": "code",
   "execution_count": 41,
   "id": "8f564f06-fc35-4ca3-b257-c76d686ccf2e",
   "metadata": {},
   "outputs": [
    {
     "data": {
      "image/png": "[encoded data removed]",
      "text/plain": [
       "<Figure size 504x504 with 1 Axes>"
      ]
     },
     "metadata": {
      "needs_background": "light"
     },
     "output_type": "display_data"
    },
    {
     "data": {
      "image/png": "[encoded data removed]",
      "text/plain": [
       "<Figure size 504x504 with 1 Axes>"
      ]
     },
     "metadata": {
      "needs_background": "light"
     },
     "output_type": "display_data"
    },
    {
     "data": {
      "image/png": "[encoded data removed]",
      "text/plain": [
       "<Figure size 504x504 with 1 Axes>"
      ]
     },
     "metadata": {
      "needs_background": "light"
     },
     "output_type": "display_data"
    },
    {
     "data": {
      "image/png": "[encoded data removed]",
      "text/plain": [
       "<Figure size 504x504 with 1 Axes>"
      ]
     },
     "metadata": {
      "needs_background": "light"
     },
     "output_type": "display_data"
    },
    {
     "data": {
      "image/png": "[encoded data removed]",
      "text/plain": [
       "<Figure size 504x504 with 1 Axes>"
      ]
     },
     "metadata": {
      "needs_background": "light"
     },
     "output_type": "display_data"
    },
    {
     "data": {
      "image/png": "[encoded data removed]",
      "text/plain": [
       "<Figure size 504x504 with 1 Axes>"
      ]
     },
     "metadata": {
      "needs_background": "light"
     },
     "output_type": "display_data"
    },
    {
     "data": {
      "image/png": "[encoded data removed]",
      "text/plain": [
       "<Figure size 504x504 with 1 Axes>"
      ]
     },
     "metadata": {
      "needs_background": "light"
     },
     "output_type": "display_data"
    },
    {
     "data": {
      "image/png": "[encoded data removed]",
      "text/plain": [
       "<Figure size 504x504 with 1 Axes>"
      ]
     },
     "metadata": {
      "needs_background": "light"
     },
     "output_type": "display_data"
    },
    {
     "data": {
      "image/png": "[encoded data removed]",
      "text/plain": [
       "<Figure size 504x504 with 1 Axes>"
      ]
     },
     "metadata": {
      "needs_background": "light"
     },
     "output_type": "display_data"
    },
    {
     "data": {
      "image/png": "[encoded data removed]",
      "text/plain": [
       "<Figure size 504x504 with 1 Axes>"
      ]
     },
     "metadata": {
      "needs_background": "light"
     },
     "output_type": "display_data"
    },
    {
     "data": {
      "image/png": "[encoded data removed]",
      "text/plain": [
       "<Figure size 504x504 with 1 Axes>"
      ]
     },
     "metadata": {
      "needs_background": "light"
     },
     "output_type": "display_data"
    },
    {
     "data": {
      "image/png": "[encoded data removed]",
      "text/plain": [
       "<Figure size 504x504 with 1 Axes>"
      ]
     },
     "metadata": {
      "needs_background": "light"
     },
     "output_type": "display_data"
    },
    {
     "data": {
      "image/png": "[encoded data removed]",
      "text/plain": [
       "<Figure size 504x504 with 1 Axes>"
      ]
     },
     "metadata": {
      "needs_background": "light"
     },
     "output_type": "display_data"
    },
    {
     "data": {
      "image/png": "[encoded data removed]",
      "text/plain": [
       "<Figure size 504x504 with 1 Axes>"
      ]
     },
     "metadata": {
      "needs_background": "light"
     },
     "output_type": "display_data"
    },
    {
     "data": {
      "image/png": "[encoded data removed]",
      "text/plain": [
       "<Figure size 504x504 with 1 Axes>"
      ]
     },
     "metadata": {
      "needs_background": "light"
     },
     "output_type": "display_data"
    },
    {
     "data": {
      "image/png": "[encoded data removed]",
      "text/plain": [
       "<Figure size 504x504 with 1 Axes>"
      ]
     },
     "metadata": {
      "needs_background": "light"
     },
     "output_type": "display_data"
    },
    {
     "data": {
      "image/png": "[encoded data removed]",
      "text/plain": [
       "<Figure size 504x504 with 1 Axes>"
      ]
     },
     "metadata": {
      "needs_background": "light"
     },
     "output_type": "display_data"
    },
    {
     "data": {
      "image/png": "[encoded data removed]",
      "text/plain": [
       "<Figure size 504x504 with 1 Axes>"
      ]
     },
     "metadata": {
      "needs_background": "light"
     },
     "output_type": "display_data"
    },
    {
     "data": {
      "image/png": "[encoded data removed]",
      "text/plain": [
       "<Figure size 504x504 with 1 Axes>"
      ]
     },
     "metadata": {
      "needs_background": "light"
     },
     "output_type": "display_data"
    },
    {
     "data": {
      "image/png": "[encoded data removed]",
      "text/plain": [
       "<Figure size 504x504 with 1 Axes>"
      ]
     },
     "metadata": {
      "needs_background": "light"
     },
     "output_type": "display_data"
    },
    {
     "data": {
      "image/png": "[encoded data removed]",
      "text/plain": [
       "<Figure size 504x504 with 1 Axes>"
      ]
     },
     "metadata": {
      "needs_background": "light"
     },
     "output_type": "display_data"
    },
    {
     "data": {
      "image/png": "[encoded data removed]",
      "text/plain": [
       "<Figure size 504x504 with 1 Axes>"
      ]
     },
     "metadata": {
      "needs_background": "light"
     },
     "output_type": "display_data"
    },
    {
     "data": {
      "image/png": "[encoded data removed]",
      "text/plain": [
       "<Figure size 504x504 with 1 Axes>"
      ]
     },
     "metadata": {
      "needs_background": "light"
     },
     "output_type": "display_data"
    }
   ],
   "source": [
    "# Data Viz of each language top 10 words over all with overall unique word counts in title\n",
    "import seaborn as sns\n",
    "import matplotlib.pyplot as plt\n",
    "for lang in total_word_counts.columns:\n",
    "    count = pd.DataFrame(total_word_counts[lang].sort_values(ascending=False).reset_index()[lang] > 0).sum().values[0]\n",
    "    sns.catplot(x='index', y = lang,\n",
    "                  data = pd.DataFrame(total_word_counts[lang]\n",
    "                                      .sort_values(ascending=False).head(10)).reset_index(),kind='bar',height=7)\n",
    "    plt.title(f'{lang} Top 10\\nUnique Words: {count}')\n",
    "    plt.show()"
   ]
  },
  {
   "cell_type": "markdown",
   "id": "c07a3cae-a1da-4ab7-862c-b48ebe3e8eb0",
   "metadata": {},
   "source": [
    "## Question 2 \n",
    "Are counts per document and across the df different for each language?"
   ]
  },
  {
   "cell_type": "code",
   "execution_count": 42,
   "id": "d691d681-ada8-4088-814d-1038ff0cbd1a",
   "metadata": {},
   "outputs": [
    {
     "data": {
      "text/html": [
       "<div>\n",
       "<style scoped>\n",
       "    .dataframe tbody tr th:only-of-type {\n",
       "        vertical-align: middle;\n",
       "    }\n",
       "\n",
       "    .dataframe tbody tr th {\n",
       "        vertical-align: top;\n",
       "    }\n",
       "\n",
       "    .dataframe thead th {\n",
       "        text-align: right;\n",
       "    }\n",
       "</style>\n",
       "<table border=\"1\" class=\"dataframe\">\n",
       "  <thead>\n",
       "    <tr style=\"text-align: right;\">\n",
       "      <th></th>\n",
       "      <th>repo</th>\n",
       "      <th>language</th>\n",
       "      <th>readme_contents</th>\n",
       "      <th>clean_text</th>\n",
       "    </tr>\n",
       "  </thead>\n",
       "  <tbody>\n",
       "    <tr>\n",
       "      <th>0</th>\n",
       "      <td>ccxt/ccxt</td>\n",
       "      <td>JavaScript</td>\n",
       "      <td># CCXT – CryptoCurrency eXchange Trading Library\\n\\n[![Build Status](https://travis-ci.com/ccxt/...</td>\n",
       "      <td>ccxt cryptocurrency exchange trading library build npm supported twitter javascript python php l...</td>\n",
       "    </tr>\n",
       "    <tr>\n",
       "      <th>1</th>\n",
       "      <td>openssl/openssl</td>\n",
       "      <td>C</td>\n",
       "      <td>Engines\\n=======\\n\\nDeprecation Note\\n----------------\\n\\nThe ENGINE API was introduced in OpenS...</td>\n",
       "      <td>engine deprecation note engine api wa introduced openssl version 096 low level interface adding ...</td>\n",
       "    </tr>\n",
       "    <tr>\n",
       "      <th>2</th>\n",
       "      <td>HelloZeroNet/ZeroNet</td>\n",
       "      <td>JavaScript</td>\n",
       "      <td># ZeroNet [![Build Status](https://travis-ci.org/HelloZeroNet/ZeroNet.svg?branch=master)](https:...</td>\n",
       "      <td>zeronet build readmezhcnmd englishreadmemd bitcoin bittorrent 1 namecoin bit passwordless based ...</td>\n",
       "    </tr>\n",
       "    <tr>\n",
       "      <th>3</th>\n",
       "      <td>freqtrade/freqtrade</td>\n",
       "      <td>Python</td>\n",
       "      <td># ![freqtrade](https://raw.githubusercontent.com/freqtrade/freqtrade/develop/docs/assets/freqtra...</td>\n",
       "      <td>freqtrade coverage freqtrade free open source crypto trading bot written python designed support...</td>\n",
       "    </tr>\n",
       "    <tr>\n",
       "      <th>4</th>\n",
       "      <td>amark/gun</td>\n",
       "      <td>JavaScript</td>\n",
       "      <td>&lt;p id=\"readme\"&gt;&lt;a href=\"https://gun.eco/\"&gt;&lt;img width=\"40%\" src=\"https://cldup.com/TEy9yGh45l.svg...</td>\n",
       "      <td>p idreadmea width40 width50 alignright vspace25 gun tool let build community encrypted like open...</td>\n",
       "    </tr>\n",
       "  </tbody>\n",
       "</table>\n",
       "</div>"
      ],
      "text/plain": [
       "                   repo    language  \\\n",
       "0             ccxt/ccxt  JavaScript   \n",
       "1       openssl/openssl           C   \n",
       "2  HelloZeroNet/ZeroNet  JavaScript   \n",
       "3   freqtrade/freqtrade      Python   \n",
       "4             amark/gun  JavaScript   \n",
       "\n",
       "                                                                                       readme_contents  \\\n",
       "0  # CCXT – CryptoCurrency eXchange Trading Library\\n\\n[![Build Status](https://travis-ci.com/ccxt/...   \n",
       "1  Engines\\n=======\\n\\nDeprecation Note\\n----------------\\n\\nThe ENGINE API was introduced in OpenS...   \n",
       "2  # ZeroNet [![Build Status](https://travis-ci.org/HelloZeroNet/ZeroNet.svg?branch=master)](https:...   \n",
       "3  # ![freqtrade](https://raw.githubusercontent.com/freqtrade/freqtrade/develop/docs/assets/freqtra...   \n",
       "4  <p id=\"readme\"><a href=\"https://gun.eco/\"><img width=\"40%\" src=\"https://cldup.com/TEy9yGh45l.svg...   \n",
       "\n",
       "                                                                                            clean_text  \n",
       "0  ccxt cryptocurrency exchange trading library build npm supported twitter javascript python php l...  \n",
       "1  engine deprecation note engine api wa introduced openssl version 096 low level interface adding ...  \n",
       "2  zeronet build readmezhcnmd englishreadmemd bitcoin bittorrent 1 namecoin bit passwordless based ...  \n",
       "3  freqtrade coverage freqtrade free open source crypto trading bot written python designed support...  \n",
       "4  p idreadmea width40 width50 alignright vspace25 gun tool let build community encrypted like open...  "
      ]
     },
     "execution_count": 42,
     "metadata": {},
     "output_type": "execute_result"
    }
   ],
   "source": [
    "data.head()"
   ]
  },
  {
   "cell_type": "code",
   "execution_count": 43,
   "id": "0d2c17bf-3e4f-426f-8878-7535ddcd6d2c",
   "metadata": {},
   "outputs": [],
   "source": [
    "# Apply counts to each document\n",
    "data['word_counts'] = data.clean_text.apply(lambda x : len(x.split()))\n",
    "data['unique_word_counts'] = data.clean_text.apply(lambda x : len(set(x.split())))"
   ]
  },
  {
   "cell_type": "code",
   "execution_count": 44,
   "id": "3a004cfa-c031-4072-8180-44d8df00da71",
   "metadata": {},
   "outputs": [
    {
     "data": {
      "text/plain": [
       "language\n",
       "Swift               658.000000\n",
       "C#                  465.500000\n",
       "C                   428.800000\n",
       "Ruby                416.333333\n",
       "Objective-C         399.000000\n",
       "Java                398.666667\n",
       "MATLAB              383.000000\n",
       "TypeScript          362.000000\n",
       "Go                  357.000000\n",
       "C++                 288.375000\n",
       "JavaScript          282.708333\n",
       "Shell               251.000000\n",
       "Python              232.500000\n",
       "PHP                 226.000000\n",
       "HTML                215.588235\n",
       "R                   213.000000\n",
       "CSS                 174.000000\n",
       "Jupyter Notebook    131.727273\n",
       "G-code              118.000000\n",
       "Assembly            110.000000\n",
       "Kotlin              105.000000\n",
       "Mathematica          93.000000\n",
       "TeX                  45.000000\n",
       "Groff                40.000000\n",
       "Matlab               30.000000\n",
       "Name: unique_word_counts, dtype: float64"
      ]
     },
     "execution_count": 44,
     "metadata": {},
     "output_type": "execute_result"
    }
   ],
   "source": [
    "# Average unique word count per document for each language\n",
    "data.groupby('language').unique_word_counts.mean().sort_values(ascending=False)"
   ]
  },
  {
   "cell_type": "code",
   "execution_count": 45,
   "id": "9473739a-74ef-4dfa-b497-c6637ef6381f",
   "metadata": {},
   "outputs": [
    {
     "data": {
      "text/plain": [
       "language\n",
       "Swift               1607.000000\n",
       "C#                   951.000000\n",
       "Objective-C          930.000000\n",
       "C                    924.000000\n",
       "Ruby                 881.333333\n",
       "Java                 809.166667\n",
       "TypeScript           795.000000\n",
       "MATLAB               669.000000\n",
       "JavaScript           655.125000\n",
       "Go                   643.000000\n",
       "C++                  527.375000\n",
       "R                    512.000000\n",
       "Shell                444.500000\n",
       "HTML                 430.823529\n",
       "Python               428.350000\n",
       "PHP                  337.000000\n",
       "CSS                  296.000000\n",
       "Jupyter Notebook     232.090909\n",
       "G-code               184.000000\n",
       "Assembly             150.000000\n",
       "Mathematica          148.000000\n",
       "Kotlin               145.000000\n",
       "TeX                   57.000000\n",
       "Groff                 56.000000\n",
       "Matlab                33.000000\n",
       "Name: word_counts, dtype: float64"
      ]
     },
     "execution_count": 45,
     "metadata": {},
     "output_type": "execute_result"
    }
   ],
   "source": [
    "# Average word count per document for each language\n",
    "data.groupby('language').word_counts.mean().sort_values(ascending=False)"
   ]
  },
  {
   "cell_type": "code",
   "execution_count": 46,
   "id": "f5eb62ff-2b44-4b2d-8635-061102eaa833",
   "metadata": {},
   "outputs": [
    {
     "data": {
      "text/plain": [
       "javascript_freq          15723\n",
       "python_freq               8567\n",
       "cplusplus_freq            8438\n",
       "html_freq                 7324\n",
       "java_freq                 4855\n",
       "c_freq                    4620\n",
       "ruby_freq                 2644\n",
       "jupyter_notebook_freq     2553\n",
       "csharp_freq               1902\n",
       "swift_freq                1607\n",
       "typescript_freq           1590\n",
       "go_freq                   1286\n",
       "shell_freq                 889\n",
       "matlab_freq                702\n",
       "r_freq                     512\n",
       "php_freq                   337\n",
       "css_freq                   296\n",
       "g_code_freq                184\n",
       "assembly_freq              150\n",
       "mathematica_freq           148\n",
       "kotlin_freq                145\n",
       "tex_freq                   114\n",
       "groff_freq                  56\n",
       "dtype: int64"
      ]
     },
     "execution_count": 46,
     "metadata": {},
     "output_type": "execute_result"
    }
   ],
   "source": [
    "# Total word count across the dataframe per language\n",
    "total_word_counts.sum().sort_values(ascending=False)"
   ]
  },
  {
   "cell_type": "code",
   "execution_count": 47,
   "id": "a74f06e2-f069-4d22-8cd8-6a285deffdae",
   "metadata": {},
   "outputs": [
    {
     "data": {
      "text/plain": [
       "javascript_freq          3982\n",
       "python_freq              2878\n",
       "cplusplus_freq           2630\n",
       "html_freq                2219\n",
       "java_freq                1876\n",
       "c_freq                   1577\n",
       "ruby_freq                1121\n",
       "jupyter_notebook_freq    1075\n",
       "csharp_freq               886\n",
       "typescript_freq           669\n",
       "go_freq                   664\n",
       "swift_freq                658\n",
       "shell_freq                488\n",
       "matlab_freq               408\n",
       "php_freq                  226\n",
       "r_freq                    213\n",
       "css_freq                  174\n",
       "g_code_freq               118\n",
       "assembly_freq             110\n",
       "kotlin_freq               105\n",
       "mathematica_freq           93\n",
       "tex_freq                   88\n",
       "groff_freq                 40\n",
       "dtype: int64"
      ]
     },
     "execution_count": 47,
     "metadata": {},
     "output_type": "execute_result"
    }
   ],
   "source": [
    "# Total unique words across the dataframe per langauge\n",
    "(total_word_counts != 0).sum().sort_values(ascending=False)"
   ]
  },
  {
   "cell_type": "markdown",
   "id": "22bc96cb-01cd-4bfb-93f5-c1bfc7f7ede2",
   "metadata": {},
   "source": [
    "## Question 3"
   ]
  },
  {
   "cell_type": "markdown",
   "id": "df49ef80-e318-474f-bdab-1b5f381336fd",
   "metadata": {},
   "source": [
    "What am I doing with this modeling? "
   ]
  },
  {
   "cell_type": "code",
   "execution_count": 48,
   "id": "4dcbc177-4a16-4ccd-9a93-64add2bee880",
   "metadata": {},
   "outputs": [],
   "source": [
    "# data.head()"
   ]
  },
  {
   "cell_type": "code",
   "execution_count": 49,
   "id": "f3c95aa7-a0e9-4811-a915-4c06b5ebe0cc",
   "metadata": {},
   "outputs": [],
   "source": [
    "# def idf(word):\n",
    "#     n_occurences = sum([1 for doc in data.clean_text if word in doc])\n",
    "#     return len(data.clean_text) / n_occurences\n",
    "\n",
    "# unique_words_full_df = pd.Series(' '.join(data.clean_text).split()).unique()\n",
    "\n",
    "# (pd.DataFrame(dict(word=unique_words_full_df)).assign(idf=lambda df: df.word.apply(idf))\n",
    "# .set_index('word').sort_values(by='idf', ascending=False).head(10))"
   ]
  },
  {
   "cell_type": "code",
   "execution_count": 50,
   "id": "e395a5e4-dffe-4106-a92e-68ddf5573ce3",
   "metadata": {},
   "outputs": [],
   "source": [
    "# data[['repo','clean_text']].set_index('repo')"
   ]
  },
  {
   "cell_type": "code",
   "execution_count": 51,
   "id": "7c51acac-35aa-44ec-b802-9963fc04d270",
   "metadata": {},
   "outputs": [],
   "source": [
    "# tfs = []\n",
    "\n",
    "# # We'll caclulate the tf-idf value for every word across every document\n",
    "\n",
    "# # Start by iterating over all the documents\n",
    "# for doc, text in enumerate(data.clean_text):\n",
    "#     # We'll make a data frame that contains the tf for every word in every document\n",
    "#     df = (pd.Series(text.split())\n",
    "#           .value_counts()\n",
    "#           .reset_index()\n",
    "#           .set_axis(['word', 'raw_count'], axis=1, inplace=False)\n",
    "#           .assign(tf=lambda df: df.raw_count / df.shape[0])\n",
    "#           .drop(columns='raw_count')\n",
    "#           .assign(doc=data.repo[doc]))\n",
    "#     # Then add that data frame to our list\n",
    "#     tfs.append(df)\n",
    "\n",
    "# # We'll then concatenate all the tf values together.\n",
    "# word_df = (pd.concat(tfs)\n",
    "#  # calculate the idf value for each word\n",
    "#  .assign(idf=lambda df: df.word.apply(idf))\n",
    "#  # then use the if and idf values to calculate tf-idf \n",
    "#  .assign(tf_idf=lambda df: df.idf * df.tf)\n",
    "#  .drop(columns=['tf', 'idf'])\n",
    "#  .sort_values(by='tf_idf', ascending=False)\n",
    "#  .pipe(lambda df: pd.crosstab(df.doc, df.word, values=df.tf_idf, aggfunc=lambda x: x))\n",
    "#  .fillna(0))"
   ]
  },
  {
   "cell_type": "code",
   "execution_count": 52,
   "id": "37a5dfd7-8a8a-4f81-9ba5-b4aac6a22ea1",
   "metadata": {},
   "outputs": [],
   "source": [
    "# word_df.head()"
   ]
  },
  {
   "cell_type": "code",
   "execution_count": 53,
   "id": "3e13170d-66a1-40b5-b0a0-a217872d25aa",
   "metadata": {},
   "outputs": [],
   "source": [
    "# pd.DataFrame(tfidfs.todense(), columns=tfidf.get_feature_names())"
   ]
  },
  {
   "cell_type": "code",
   "execution_count": 54,
   "id": "1a3f96e8-42c9-4331-a207-277e95c77702",
   "metadata": {},
   "outputs": [],
   "source": [
    "# (data.language.value_counts() > 1)"
   ]
  },
  {
   "cell_type": "code",
   "execution_count": 55,
   "id": "3a4764f3-ba8d-48cd-94e7-0be3c110dee5",
   "metadata": {},
   "outputs": [],
   "source": [
    "\n",
    "\n",
    "# tfidf = TfidfVectorizer()\n",
    "# tfidfs = tfidf.fit_transform(data.clean_text)\n",
    "# # tfidfs"
   ]
  },
  {
   "cell_type": "code",
   "execution_count": 56,
   "id": "e751f7f0-4170-4966-8d53-27b40b2046c1",
   "metadata": {},
   "outputs": [],
   "source": [
    "# focus_lang = ['JavaScript','Python','HTML','C++','Jupyter Notebook','Java','C','Ruby','TeX','Shell','TypeScript','Go','C#']\n",
    "\n",
    "# model_me = data[data.language.isin(focus_lang)]\n",
    "# model_me['target_language'] = model_me.language.apply(lambda lang : lang if lang == \"JavaScript\" else \"Not JavaScript\")\n",
    "# model_me['word_counts'] = model_me.clean_text.apply(lambda x : len(x.split()))\n",
    "# model_me['unique_word_counts'] = model_me.clean_text.apply(lambda x : len(set(x.split())))"
   ]
  },
  {
   "cell_type": "markdown",
   "id": "282b7c2a-2824-4b8e-a5c9-feefdd7b367e",
   "metadata": {},
   "source": [
    "### Modeling"
   ]
  },
  {
   "cell_type": "code",
   "execution_count": 57,
   "id": "4360da7e-1f7c-4629-bc7a-5f3e183d7d72",
   "metadata": {},
   "outputs": [],
   "source": [
    "# DummyClassifier from sklearn is used to create a baseline accuracy.\n",
    "from sklearn.dummy import DummyClassifier \n",
    "# TfidfVectorizer is used to create a sparce matrices of tf-idf scores to run through modeling\n",
    "from sklearn.feature_extraction.text import TfidfVectorizer\n",
    "# Import to split the data into train, test, split\n",
    "from sklearn.model_selection import train_test_split\n",
    "# Import to model the data\n",
    "from sklearn.tree import DecisionTreeClassifier, plot_tree\n",
    "from sklearn.ensemble import RandomForestClassifier\n",
    "from sklearn.neighbors import KNeighborsClassifier\n",
    "from sklearn.linear_model import LogisticRegression\n",
    "# Import to understand the data modeling scores\n",
    "from sklearn.metrics import classification_report, accuracy_score\n",
    "# Set Random State\n",
    "rs = 1729"
   ]
  },
  {
   "cell_type": "code",
   "execution_count": 58,
   "id": "5924cf6b-f028-4e5c-bb12-6e6612409eaa",
   "metadata": {},
   "outputs": [
    {
     "data": {
      "text/plain": [
       "Not Top_five        0.290323\n",
       "JavaScript          0.193548\n",
       "Python              0.161290\n",
       "HTML                0.137097\n",
       "C++                 0.129032\n",
       "Jupyter Notebook    0.088710\n",
       "Name: language, dtype: float64"
      ]
     },
     "execution_count": 58,
     "metadata": {},
     "output_type": "execute_result"
    }
   ],
   "source": [
    "# Create a list of top five languages by appearance in the dataset\n",
    "top_five = ['JavaScript','Python','HTML','C++','Jupyter Notebook']\n",
    "# Create a new version of our df to transform for modeling\n",
    "model_me = data.copy()\n",
    "# Rename the languages that are not in the top 5 \"not_top_five\"\n",
    "model_me['language'] = model_me.language.apply(lambda lang : lang if lang in top_five else \"not_top_five\")\n",
    "# show the distribution\n",
    "model_me.language.value_counts(normalize=True)"
   ]
  },
  {
   "cell_type": "markdown",
   "id": "c10bc09c-8442-41b2-802f-068e81eae9fd",
   "metadata": {},
   "source": [
    "- Our Data was relabeled so that languages that were not in our top 5 were binned into a seperate category. We will be predicting if a README file represents one of the top five frequently used languages or is not in the top five."
   ]
  },
  {
   "cell_type": "code",
   "execution_count": 59,
   "id": "b01688a7-8e0e-44e6-9838-d1b33ec9bc06",
   "metadata": {},
   "outputs": [
    {
     "name": "stdout",
     "output_type": "stream",
     "text": [
      "                  precision    recall  f1-score   support\n",
      "\n",
      "             C++       0.00      0.00      0.00        16\n",
      "            HTML       0.00      0.00      0.00        17\n",
      "      JavaScript       0.00      0.00      0.00        24\n",
      "Jupyter Notebook       0.00      0.00      0.00        11\n",
      "    Not Top_five       0.29      1.00      0.45        36\n",
      "          Python       0.00      0.00      0.00        20\n",
      "\n",
      "        accuracy                           0.29       124\n",
      "       macro avg       0.05      0.17      0.08       124\n",
      "    weighted avg       0.08      0.29      0.13       124\n",
      "\n"
     ]
    }
   ],
   "source": [
    "# Setting a baseline of 'not_top_five'\n",
    "\n",
    "# Here we create and fit the model\n",
    "dummy = DummyClassifier(strategy='most_frequent', random_state = rs)\n",
    "dummy.fit(model_me[model_me.columns[model_me.columns != 'language']], model_me.language)   \n",
    "\n",
    "# Here we create our prediction\n",
    "y_pred = dummy.predict(model_me[model_me.columns[model_me.columns != 'language']])\n",
    "\n",
    "# Check report for current baseline accuracy:\n",
    "print(classification_report(model_me.language, y_pred))"
   ]
  },
  {
   "cell_type": "markdown",
   "id": "57ca04a8-12fc-42c0-865a-6ae228b5b205",
   "metadata": {},
   "source": [
    "- For our baseline score 'not_top_five' was used at it is the most frequent occurance in our df."
   ]
  },
  {
   "cell_type": "code",
   "execution_count": 60,
   "id": "f08a99a5-e420-4322-91a9-66a62661a96f",
   "metadata": {},
   "outputs": [],
   "source": [
    "# Create the tf-idf model\n",
    "tfidf = TfidfVectorizer()\n",
    "# Fit the model and create the X, y variables for modeling\n",
    "X = tfidf.fit_transform(model_me.clean_text)\n",
    "y = model_me.language \n",
    "# Split the data into train (71%), validate (18.5%), test (10.5%) split\n",
    "X_train_validate, X_test, y_train_validate, y_test = train_test_split(X, y, stratify=y, test_size=.1, random_state = rs)\n",
    "X_train, X_validate, y_train, y_validate = train_test_split(X_train_validate, y_train_validate, stratify=y_train_validate, test_size=.2, random_state = rs)"
   ]
  },
  {
   "cell_type": "markdown",
   "id": "4f795fc1-3a1e-4ec0-b61d-d99c90490840",
   "metadata": {},
   "source": [
    "- Term Frequency - Inverse Document Frequency or TF-IDF is the measure we will be using to run our models\n",
    "    - TF is how often the word appears in a document\n",
    "    - IDF is a measure of how many documents the word appears in\n",
    "    - TF-IDF is a combination of these two measures and gives us a good picture of the words present in each document and their weight\n",
    "- Variables are created with X being our TF-IDF scores and y being our target variable\n",
    "- The data is split for modeling with 71 % for Train, 18.5 for Validate, and 10.5 for Test."
   ]
  },
  {
   "cell_type": "code",
   "execution_count": 61,
   "id": "7deda8de-b066-4ff7-af78-c5587b8b4130",
   "metadata": {},
   "outputs": [],
   "source": [
    "# Create Result Dataframes to store actual and predictive scores from the models\n",
    "train = pd.DataFrame(dict(actual=y_train))\n",
    "validate = pd.DataFrame(dict(actual=y_validate))\n",
    "test = pd.DataFrame(dict(actual=y_test))"
   ]
  },
  {
   "cell_type": "code",
   "execution_count": 111,
   "id": "abd6afe7-3888-4ac8-b6f1-ca24abedf4cb",
   "metadata": {},
   "outputs": [
    {
     "data": {
      "text/html": [
       "<div>\n",
       "<style scoped>\n",
       "    .dataframe tbody tr th:only-of-type {\n",
       "        vertical-align: middle;\n",
       "    }\n",
       "\n",
       "    .dataframe tbody tr th {\n",
       "        vertical-align: top;\n",
       "    }\n",
       "\n",
       "    .dataframe thead th {\n",
       "        text-align: right;\n",
       "    }\n",
       "</style>\n",
       "<table border=\"1\" class=\"dataframe\">\n",
       "  <thead>\n",
       "    <tr style=\"text-align: right;\">\n",
       "      <th></th>\n",
       "      <th>max_depth</th>\n",
       "      <th>max_features</th>\n",
       "      <th>score</th>\n",
       "    </tr>\n",
       "  </thead>\n",
       "  <tbody>\n",
       "    <tr>\n",
       "      <th>21</th>\n",
       "      <td>4</td>\n",
       "      <td>4.0</td>\n",
       "      <td>0.329412</td>\n",
       "    </tr>\n",
       "    <tr>\n",
       "      <th>27</th>\n",
       "      <td>5</td>\n",
       "      <td>NaN</td>\n",
       "      <td>0.318301</td>\n",
       "    </tr>\n",
       "    <tr>\n",
       "      <th>0</th>\n",
       "      <td>2</td>\n",
       "      <td>NaN</td>\n",
       "      <td>0.317647</td>\n",
       "    </tr>\n",
       "    <tr>\n",
       "      <th>18</th>\n",
       "      <td>4</td>\n",
       "      <td>NaN</td>\n",
       "      <td>0.307190</td>\n",
       "    </tr>\n",
       "    <tr>\n",
       "      <th>36</th>\n",
       "      <td>6</td>\n",
       "      <td>NaN</td>\n",
       "      <td>0.307190</td>\n",
       "    </tr>\n",
       "  </tbody>\n",
       "</table>\n",
       "</div>"
      ],
      "text/plain": [
       "    max_depth  max_features     score\n",
       "21          4           4.0  0.329412\n",
       "27          5           NaN  0.318301\n",
       "0           2           NaN  0.317647\n",
       "18          4           NaN  0.307190\n",
       "36          6           NaN  0.307190"
      ]
     },
     "execution_count": 111,
     "metadata": {},
     "output_type": "execute_result"
    }
   ],
   "source": [
    "from sklearn.model_selection import GridSearchCV\n",
    "\n",
    "params = {'max_depth': [2, 3, 4, 5, 6, 7],\n",
    "          'max_features': [None, 1, 3, 4, 5, 6, 7, 8, 9]}\n",
    "\n",
    "dtc = DecisionTreeClassifier()\n",
    "\n",
    "grid = GridSearchCV(dtc, params)\n",
    "\n",
    "grid.fit(X_train, y_train)\n",
    "\n",
    "GridSearchCV(cv=3, estimator=DecisionTreeClassifier(),\n",
    "             param_grid=params)\n",
    "\n",
    "results = grid.cv_results_\n",
    "\n",
    "test_scores = results['mean_test_score']\n",
    "params = results['params']\n",
    "\n",
    "for p, s in zip(params, test_scores):\n",
    "    p['score'] = s\n",
    "    \n",
    "pd.DataFrame(params).sort_values(by='score',ascending=False).head()"
   ]
  },
  {
   "cell_type": "code",
   "execution_count": 127,
   "id": "aea230e8-8aaa-4ac9-b884-827ad82506c3",
   "metadata": {},
   "outputs": [],
   "source": [
    "# Create and fit each model\n",
    "lm = LogisticRegression(multi_class='multinomial',random_state=rs).fit(X_train, y_train)\n",
    "dtc = DecisionTreeClassifier(max_depth=4, max_features = 4, random_state=rs).fit(X_train, y_train)\n",
    "rf = RandomForestClassifier(min_samples_leaf=3,max_depth=3, random_state=rs).fit(X_train,y_train)\n",
    "knn = KNeighborsClassifier().fit(X_train,y_train)"
   ]
  },
  {
   "cell_type": "markdown",
   "id": "f35239b4-de13-474d-b753-b4fafca36806",
   "metadata": {},
   "source": [
    "- The models we used inherently support multiclass classification problems"
   ]
  },
  {
   "cell_type": "code",
   "execution_count": 128,
   "id": "c809d874-1e42-4bb3-9ffb-87ac239590f8",
   "metadata": {},
   "outputs": [],
   "source": [
    "# Store the train predictions in our result df\n",
    "train['lm_predicted'] = lm.predict(X_train)\n",
    "train['dtc_predicted'] = dtc.predict(X_train)\n",
    "train['rf_predicted'] = rf.predict(X_train)\n",
    "train['knn_predicted'] = knn.predict(X_train)"
   ]
  },
  {
   "cell_type": "code",
   "execution_count": 129,
   "id": "5db24395-cf91-4191-b1c6-4ba8196a4811",
   "metadata": {},
   "outputs": [
    {
     "name": "stdout",
     "output_type": "stream",
     "text": [
      "Logistic Regression\n",
      "                  precision    recall  f1-score   support\n",
      "\n",
      "             C++       1.00      1.00      1.00        11\n",
      "            HTML       1.00      1.00      1.00        12\n",
      "      JavaScript       1.00      0.94      0.97        18\n",
      "Jupyter Notebook       1.00      0.62      0.77         8\n",
      "    Not Top_five       0.86      1.00      0.93        25\n",
      "          Python       1.00      1.00      1.00        14\n",
      "\n",
      "        accuracy                           0.95        88\n",
      "       macro avg       0.98      0.93      0.94        88\n",
      "    weighted avg       0.96      0.95      0.95        88\n",
      "\n"
     ]
    }
   ],
   "source": [
    "# Show the scores for train on the logistic regression model\n",
    "print('Logistic Regression')\n",
    "print(classification_report(train.actual, train.lm_predicted))"
   ]
  },
  {
   "cell_type": "code",
   "execution_count": 130,
   "id": "f9e45c87-40d9-4c57-b948-0c5e35ab0fba",
   "metadata": {},
   "outputs": [
    {
     "name": "stdout",
     "output_type": "stream",
     "text": [
      "Decision Tree\n",
      "                  precision    recall  f1-score   support\n",
      "\n",
      "             C++       1.00      0.27      0.43        11\n",
      "            HTML       0.00      0.00      0.00        12\n",
      "      JavaScript       0.00      0.00      0.00        18\n",
      "Jupyter Notebook       0.00      0.00      0.00         8\n",
      "    Not Top_five       0.29      1.00      0.45        25\n",
      "          Python       0.00      0.00      0.00        14\n",
      "\n",
      "        accuracy                           0.32        88\n",
      "       macro avg       0.22      0.21      0.15        88\n",
      "    weighted avg       0.21      0.32      0.18        88\n",
      "\n"
     ]
    }
   ],
   "source": [
    "# Show the scores for train on the Decision Tree model\n",
    "print('Decision Tree')\n",
    "print(classification_report(train.actual, train.dtc_predicted))"
   ]
  },
  {
   "cell_type": "code",
   "execution_count": 131,
   "id": "a72fb44b-68f3-4733-bbae-c17d1133791d",
   "metadata": {},
   "outputs": [
    {
     "name": "stdout",
     "output_type": "stream",
     "text": [
      "Random Forest\n",
      "                  precision    recall  f1-score   support\n",
      "\n",
      "             C++       1.00      0.18      0.31        11\n",
      "            HTML       1.00      0.17      0.29        12\n",
      "      JavaScript       0.88      0.78      0.82        18\n",
      "Jupyter Notebook       0.00      0.00      0.00         8\n",
      "    Not Top_five       0.40      1.00      0.57        25\n",
      "          Python       1.00      0.36      0.53        14\n",
      "\n",
      "        accuracy                           0.55        88\n",
      "       macro avg       0.71      0.41      0.42        88\n",
      "    weighted avg       0.71      0.55      0.49        88\n",
      "\n"
     ]
    }
   ],
   "source": [
    "# Show the scores for train on the Random Forest Model\n",
    "print('Random Forest')\n",
    "print(classification_report(train.actual, train.rf_predicted))"
   ]
  },
  {
   "cell_type": "code",
   "execution_count": 132,
   "id": "caf89d4e-3bfe-467f-ac8d-0e355b9c355f",
   "metadata": {},
   "outputs": [
    {
     "name": "stdout",
     "output_type": "stream",
     "text": [
      "KNN\n",
      "                  precision    recall  f1-score   support\n",
      "\n",
      "             C++       0.50      0.64      0.56        11\n",
      "            HTML       0.52      0.92      0.67        12\n",
      "      JavaScript       0.67      0.56      0.61        18\n",
      "Jupyter Notebook       0.83      0.62      0.71         8\n",
      "    Not Top_five       0.60      0.48      0.53        25\n",
      "          Python       0.58      0.50      0.54        14\n",
      "\n",
      "        accuracy                           0.59        88\n",
      "       macro avg       0.62      0.62      0.60        88\n",
      "    weighted avg       0.61      0.59      0.59        88\n",
      "\n"
     ]
    }
   ],
   "source": [
    "# Show the scores for train on the KNN Model\n",
    "print('KNN')\n",
    "print(classification_report(train.actual, train.knn_predicted))"
   ]
  },
  {
   "cell_type": "markdown",
   "id": "5350c779-1f1a-4a06-b585-e0c00c349a8e",
   "metadata": {},
   "source": [
    "- In our train phase logistic regression performed far better than our other models"
   ]
  },
  {
   "cell_type": "code",
   "execution_count": 133,
   "id": "69d62e23-0f25-44a0-bd7a-30ec5a02da08",
   "metadata": {},
   "outputs": [],
   "source": [
    "# Assign the validate predictions to the results df\n",
    "validate['lm_predicted'] = lm.predict(X_validate)\n",
    "validate['dtc_predicted'] = dtc.predict(X_validate)\n",
    "validate['rf_predicted'] = rf.predict(X_validate)\n",
    "validate['knn_predicted'] = knn.predict(X_validate)"
   ]
  },
  {
   "cell_type": "code",
   "execution_count": 134,
   "id": "37c5c7ee-5e1d-4d69-8f80-c3b6c803f027",
   "metadata": {},
   "outputs": [
    {
     "name": "stdout",
     "output_type": "stream",
     "text": [
      "Validate on Logistic Regression\n",
      "                  precision    recall  f1-score   support\n",
      "\n",
      "             C++       0.00      0.00      0.00         3\n",
      "            HTML       1.00      0.33      0.50         3\n",
      "      JavaScript       0.50      0.25      0.33         4\n",
      "Jupyter Notebook       0.00      0.00      0.00         2\n",
      "    Not Top_five       0.35      1.00      0.52         7\n",
      "          Python       0.00      0.00      0.00         4\n",
      "\n",
      "        accuracy                           0.39        23\n",
      "       macro avg       0.31      0.26      0.23        23\n",
      "    weighted avg       0.32      0.39      0.28        23\n",
      "\n"
     ]
    }
   ],
   "source": [
    "# Show the scores for validate on the Logistic Regression Model\n",
    "print('Validate on Logistic Regression')\n",
    "print(classification_report(validate.actual, validate.lm_predicted))"
   ]
  },
  {
   "cell_type": "code",
   "execution_count": 135,
   "id": "424453a8-93b7-4757-ae2b-94cccc0604c1",
   "metadata": {},
   "outputs": [
    {
     "name": "stdout",
     "output_type": "stream",
     "text": [
      "Validate on Decision Tree\n",
      "                  precision    recall  f1-score   support\n",
      "\n",
      "             C++       0.00      0.00      0.00         3\n",
      "            HTML       0.00      0.00      0.00         3\n",
      "      JavaScript       0.00      0.00      0.00         4\n",
      "Jupyter Notebook       0.00      0.00      0.00         2\n",
      "    Not Top_five       0.30      1.00      0.47         7\n",
      "          Python       0.00      0.00      0.00         4\n",
      "\n",
      "        accuracy                           0.30        23\n",
      "       macro avg       0.05      0.17      0.08        23\n",
      "    weighted avg       0.09      0.30      0.14        23\n",
      "\n"
     ]
    }
   ],
   "source": [
    "# Show the scores for validate on the Decision Tree Model\n",
    "print('Validate on Decision Tree')\n",
    "print(classification_report(validate.actual, validate.dtc_predicted))"
   ]
  },
  {
   "cell_type": "code",
   "execution_count": 136,
   "id": "708df06f-7af2-4d86-a166-b290c8e0814e",
   "metadata": {},
   "outputs": [
    {
     "name": "stdout",
     "output_type": "stream",
     "text": [
      "Validate on Random Forest\n",
      "                  precision    recall  f1-score   support\n",
      "\n",
      "             C++       0.00      0.00      0.00         3\n",
      "            HTML       0.00      0.00      0.00         3\n",
      "      JavaScript       0.50      0.25      0.33         4\n",
      "Jupyter Notebook       0.00      0.00      0.00         2\n",
      "    Not Top_five       0.29      0.86      0.43         7\n",
      "          Python       0.00      0.00      0.00         4\n",
      "\n",
      "        accuracy                           0.30        23\n",
      "       macro avg       0.13      0.18      0.13        23\n",
      "    weighted avg       0.17      0.30      0.19        23\n",
      "\n"
     ]
    }
   ],
   "source": [
    "# Show the scores for validate on the Random Forest Model\n",
    "print('Validate on Random Forest')\n",
    "print(classification_report(validate.actual, validate.rf_predicted))"
   ]
  },
  {
   "cell_type": "code",
   "execution_count": 137,
   "id": "d7c5e808-1ed7-46bb-8e72-e7109318e09e",
   "metadata": {},
   "outputs": [
    {
     "name": "stdout",
     "output_type": "stream",
     "text": [
      "Validate on KNN\n",
      "                  precision    recall  f1-score   support\n",
      "\n",
      "             C++       0.50      0.33      0.40         3\n",
      "            HTML       0.33      0.67      0.44         3\n",
      "      JavaScript       0.50      0.75      0.60         4\n",
      "Jupyter Notebook       1.00      1.00      1.00         2\n",
      "    Not Top_five       0.25      0.14      0.18         7\n",
      "          Python       0.00      0.00      0.00         4\n",
      "\n",
      "        accuracy                           0.39        23\n",
      "       macro avg       0.43      0.48      0.44        23\n",
      "    weighted avg       0.36      0.39      0.36        23\n",
      "\n"
     ]
    }
   ],
   "source": [
    "#Show the scores for validate on the KNN Model\n",
    "print('Validate on KNN')\n",
    "print(classification_report(validate.actual, validate.knn_predicted))"
   ]
  },
  {
   "cell_type": "markdown",
   "id": "4cfa823e-5017-4fb2-bd9f-1771d2ccd0a9",
   "metadata": {},
   "source": [
    "- Through Validate our Logistic Regression model shows overfitting, our decision tree model looks like it stays the most consistent."
   ]
  },
  {
   "cell_type": "code",
   "execution_count": 138,
   "id": "e0e8fc93-cbcc-4c6e-a4b8-0089c9751e59",
   "metadata": {},
   "outputs": [],
   "source": [
    "# Assign the predicitons to the results df\n",
    "test['dtc_predicted'] = dtc.predict(X_test)"
   ]
  },
  {
   "cell_type": "code",
   "execution_count": 139,
   "id": "1e159d93-3ac2-4e2e-8ac8-5a95e0c7ddc9",
   "metadata": {},
   "outputs": [
    {
     "name": "stdout",
     "output_type": "stream",
     "text": [
      "Test on Decision Tree Model\n",
      "                  precision    recall  f1-score   support\n",
      "\n",
      "             C++       0.00      0.00      0.00         2\n",
      "            HTML       0.00      0.00      0.00         2\n",
      "      JavaScript       0.00      0.00      0.00         2\n",
      "Jupyter Notebook       0.00      0.00      0.00         1\n",
      "    Not Top_five       0.31      1.00      0.47         4\n",
      "          Python       0.00      0.00      0.00         2\n",
      "\n",
      "        accuracy                           0.31        13\n",
      "       macro avg       0.05      0.17      0.08        13\n",
      "    weighted avg       0.09      0.31      0.14        13\n",
      "\n"
     ]
    }
   ],
   "source": [
    "# Show the scores for test on the KNN Model\n",
    "print('Test on Decision Tree Model')\n",
    "print(classification_report(test.actual, test.dtc_predicted))"
   ]
  },
  {
   "cell_type": "markdown",
   "id": "ea644990-442c-495f-a3ab-0df5eef8513c",
   "metadata": {},
   "source": [
    "- The Decision Tree showed the the best performance consistently staying well above baseline. In Test the Decision Tree performed 17 % above baseline"
   ]
  },
  {
   "cell_type": "code",
   "execution_count": 140,
   "id": "a47a5761-5ae5-491c-a040-fd7692f88e56",
   "metadata": {},
   "outputs": [
    {
     "data": {
      "image/png": "[encoded data removed]",
      "text/plain": [
       "<Figure size 1800x1440 with 1 Axes>"
      ]
     },
     "metadata": {
      "needs_background": "light"
     },
     "output_type": "display_data"
    }
   ],
   "source": [
    "df = pd.DataFrame(X[0].T.todense(), index= tfidf.get_feature_names(), columns=[\"TF-IDF\"]).sort_values('TF-IDF', ascending=False)\n",
    "plt.figure(figsize=(25,20))\n",
    "plot_tree(dtc, feature_names = df.index, class_names=y)\n",
    "plt.show()"
   ]
  },
  {
   "cell_type": "code",
   "execution_count": 141,
   "id": "1efd1279-128c-4313-b598-99b3fb596192",
   "metadata": {},
   "outputs": [
    {
     "data": {
      "text/html": [
       "<div>\n",
       "<style scoped>\n",
       "    .dataframe tbody tr th:only-of-type {\n",
       "        vertical-align: middle;\n",
       "    }\n",
       "\n",
       "    .dataframe tbody tr th {\n",
       "        vertical-align: top;\n",
       "    }\n",
       "\n",
       "    .dataframe thead th {\n",
       "        text-align: right;\n",
       "    }\n",
       "</style>\n",
       "<table border=\"1\" class=\"dataframe\">\n",
       "  <thead>\n",
       "    <tr style=\"text-align: right;\">\n",
       "      <th></th>\n",
       "      <th>actual</th>\n",
       "      <th>lm_predicted</th>\n",
       "      <th>dtc_predicted</th>\n",
       "      <th>rf_predicted</th>\n",
       "      <th>knn_predicted</th>\n",
       "    </tr>\n",
       "  </thead>\n",
       "  <tbody>\n",
       "    <tr>\n",
       "      <th>26</th>\n",
       "      <td>JavaScript</td>\n",
       "      <td>JavaScript</td>\n",
       "      <td>Not Top_five</td>\n",
       "      <td>JavaScript</td>\n",
       "      <td>JavaScript</td>\n",
       "    </tr>\n",
       "    <tr>\n",
       "      <th>76</th>\n",
       "      <td>JavaScript</td>\n",
       "      <td>JavaScript</td>\n",
       "      <td>Not Top_five</td>\n",
       "      <td>JavaScript</td>\n",
       "      <td>JavaScript</td>\n",
       "    </tr>\n",
       "    <tr>\n",
       "      <th>12</th>\n",
       "      <td>Not Top_five</td>\n",
       "      <td>Not Top_five</td>\n",
       "      <td>Not Top_five</td>\n",
       "      <td>Not Top_five</td>\n",
       "      <td>Python</td>\n",
       "    </tr>\n",
       "    <tr>\n",
       "      <th>8</th>\n",
       "      <td>Not Top_five</td>\n",
       "      <td>Not Top_five</td>\n",
       "      <td>Not Top_five</td>\n",
       "      <td>Not Top_five</td>\n",
       "      <td>JavaScript</td>\n",
       "    </tr>\n",
       "    <tr>\n",
       "      <th>107</th>\n",
       "      <td>HTML</td>\n",
       "      <td>HTML</td>\n",
       "      <td>Not Top_five</td>\n",
       "      <td>Not Top_five</td>\n",
       "      <td>HTML</td>\n",
       "    </tr>\n",
       "    <tr>\n",
       "      <th>2</th>\n",
       "      <td>JavaScript</td>\n",
       "      <td>JavaScript</td>\n",
       "      <td>Not Top_five</td>\n",
       "      <td>JavaScript</td>\n",
       "      <td>JavaScript</td>\n",
       "    </tr>\n",
       "    <tr>\n",
       "      <th>20</th>\n",
       "      <td>Python</td>\n",
       "      <td>Python</td>\n",
       "      <td>Not Top_five</td>\n",
       "      <td>Python</td>\n",
       "      <td>Python</td>\n",
       "    </tr>\n",
       "    <tr>\n",
       "      <th>50</th>\n",
       "      <td>Jupyter Notebook</td>\n",
       "      <td>Jupyter Notebook</td>\n",
       "      <td>Not Top_five</td>\n",
       "      <td>Not Top_five</td>\n",
       "      <td>Jupyter Notebook</td>\n",
       "    </tr>\n",
       "    <tr>\n",
       "      <th>78</th>\n",
       "      <td>HTML</td>\n",
       "      <td>HTML</td>\n",
       "      <td>Not Top_five</td>\n",
       "      <td>HTML</td>\n",
       "      <td>HTML</td>\n",
       "    </tr>\n",
       "    <tr>\n",
       "      <th>46</th>\n",
       "      <td>Python</td>\n",
       "      <td>Python</td>\n",
       "      <td>Not Top_five</td>\n",
       "      <td>Not Top_five</td>\n",
       "      <td>Python</td>\n",
       "    </tr>\n",
       "    <tr>\n",
       "      <th>3</th>\n",
       "      <td>Python</td>\n",
       "      <td>Python</td>\n",
       "      <td>Not Top_five</td>\n",
       "      <td>Python</td>\n",
       "      <td>Python</td>\n",
       "    </tr>\n",
       "    <tr>\n",
       "      <th>56</th>\n",
       "      <td>Python</td>\n",
       "      <td>Python</td>\n",
       "      <td>Not Top_five</td>\n",
       "      <td>Python</td>\n",
       "      <td>Python</td>\n",
       "    </tr>\n",
       "    <tr>\n",
       "      <th>110</th>\n",
       "      <td>HTML</td>\n",
       "      <td>HTML</td>\n",
       "      <td>Not Top_five</td>\n",
       "      <td>HTML</td>\n",
       "      <td>HTML</td>\n",
       "    </tr>\n",
       "    <tr>\n",
       "      <th>58</th>\n",
       "      <td>Jupyter Notebook</td>\n",
       "      <td>Not Top_five</td>\n",
       "      <td>Not Top_five</td>\n",
       "      <td>Not Top_five</td>\n",
       "      <td>Not Top_five</td>\n",
       "    </tr>\n",
       "    <tr>\n",
       "      <th>4</th>\n",
       "      <td>JavaScript</td>\n",
       "      <td>JavaScript</td>\n",
       "      <td>Not Top_five</td>\n",
       "      <td>JavaScript</td>\n",
       "      <td>JavaScript</td>\n",
       "    </tr>\n",
       "    <tr>\n",
       "      <th>63</th>\n",
       "      <td>HTML</td>\n",
       "      <td>HTML</td>\n",
       "      <td>Not Top_five</td>\n",
       "      <td>Not Top_five</td>\n",
       "      <td>Python</td>\n",
       "    </tr>\n",
       "    <tr>\n",
       "      <th>17</th>\n",
       "      <td>JavaScript</td>\n",
       "      <td>JavaScript</td>\n",
       "      <td>Not Top_five</td>\n",
       "      <td>Not Top_five</td>\n",
       "      <td>C++</td>\n",
       "    </tr>\n",
       "    <tr>\n",
       "      <th>123</th>\n",
       "      <td>C++</td>\n",
       "      <td>C++</td>\n",
       "      <td>Not Top_five</td>\n",
       "      <td>Not Top_five</td>\n",
       "      <td>Not Top_five</td>\n",
       "    </tr>\n",
       "    <tr>\n",
       "      <th>85</th>\n",
       "      <td>Jupyter Notebook</td>\n",
       "      <td>Not Top_five</td>\n",
       "      <td>Not Top_five</td>\n",
       "      <td>Not Top_five</td>\n",
       "      <td>HTML</td>\n",
       "    </tr>\n",
       "    <tr>\n",
       "      <th>55</th>\n",
       "      <td>Python</td>\n",
       "      <td>Python</td>\n",
       "      <td>Not Top_five</td>\n",
       "      <td>Not Top_five</td>\n",
       "      <td>Jupyter Notebook</td>\n",
       "    </tr>\n",
       "    <tr>\n",
       "      <th>37</th>\n",
       "      <td>Not Top_five</td>\n",
       "      <td>Not Top_five</td>\n",
       "      <td>Not Top_five</td>\n",
       "      <td>Not Top_five</td>\n",
       "      <td>JavaScript</td>\n",
       "    </tr>\n",
       "    <tr>\n",
       "      <th>25</th>\n",
       "      <td>JavaScript</td>\n",
       "      <td>Not Top_five</td>\n",
       "      <td>Not Top_five</td>\n",
       "      <td>JavaScript</td>\n",
       "      <td>Not Top_five</td>\n",
       "    </tr>\n",
       "    <tr>\n",
       "      <th>99</th>\n",
       "      <td>Not Top_five</td>\n",
       "      <td>Not Top_five</td>\n",
       "      <td>Not Top_five</td>\n",
       "      <td>Not Top_five</td>\n",
       "      <td>Not Top_five</td>\n",
       "    </tr>\n",
       "    <tr>\n",
       "      <th>48</th>\n",
       "      <td>JavaScript</td>\n",
       "      <td>JavaScript</td>\n",
       "      <td>Not Top_five</td>\n",
       "      <td>Not Top_five</td>\n",
       "      <td>JavaScript</td>\n",
       "    </tr>\n",
       "    <tr>\n",
       "      <th>79</th>\n",
       "      <td>C++</td>\n",
       "      <td>C++</td>\n",
       "      <td>C++</td>\n",
       "      <td>Not Top_five</td>\n",
       "      <td>Not Top_five</td>\n",
       "    </tr>\n",
       "    <tr>\n",
       "      <th>43</th>\n",
       "      <td>JavaScript</td>\n",
       "      <td>JavaScript</td>\n",
       "      <td>Not Top_five</td>\n",
       "      <td>JavaScript</td>\n",
       "      <td>Python</td>\n",
       "    </tr>\n",
       "    <tr>\n",
       "      <th>39</th>\n",
       "      <td>Not Top_five</td>\n",
       "      <td>Not Top_five</td>\n",
       "      <td>Not Top_five</td>\n",
       "      <td>Not Top_five</td>\n",
       "      <td>Not Top_five</td>\n",
       "    </tr>\n",
       "    <tr>\n",
       "      <th>27</th>\n",
       "      <td>C++</td>\n",
       "      <td>C++</td>\n",
       "      <td>Not Top_five</td>\n",
       "      <td>C++</td>\n",
       "      <td>Not Top_five</td>\n",
       "    </tr>\n",
       "    <tr>\n",
       "      <th>6</th>\n",
       "      <td>C++</td>\n",
       "      <td>C++</td>\n",
       "      <td>Not Top_five</td>\n",
       "      <td>Not Top_five</td>\n",
       "      <td>C++</td>\n",
       "    </tr>\n",
       "    <tr>\n",
       "      <th>44</th>\n",
       "      <td>Not Top_five</td>\n",
       "      <td>Not Top_five</td>\n",
       "      <td>Not Top_five</td>\n",
       "      <td>Not Top_five</td>\n",
       "      <td>C++</td>\n",
       "    </tr>\n",
       "    <tr>\n",
       "      <th>36</th>\n",
       "      <td>Python</td>\n",
       "      <td>Python</td>\n",
       "      <td>Not Top_five</td>\n",
       "      <td>Not Top_five</td>\n",
       "      <td>JavaScript</td>\n",
       "    </tr>\n",
       "    <tr>\n",
       "      <th>74</th>\n",
       "      <td>Python</td>\n",
       "      <td>Python</td>\n",
       "      <td>Not Top_five</td>\n",
       "      <td>Not Top_five</td>\n",
       "      <td>Python</td>\n",
       "    </tr>\n",
       "    <tr>\n",
       "      <th>38</th>\n",
       "      <td>JavaScript</td>\n",
       "      <td>JavaScript</td>\n",
       "      <td>Not Top_five</td>\n",
       "      <td>JavaScript</td>\n",
       "      <td>JavaScript</td>\n",
       "    </tr>\n",
       "    <tr>\n",
       "      <th>52</th>\n",
       "      <td>Not Top_five</td>\n",
       "      <td>Not Top_five</td>\n",
       "      <td>Not Top_five</td>\n",
       "      <td>Not Top_five</td>\n",
       "      <td>Not Top_five</td>\n",
       "    </tr>\n",
       "    <tr>\n",
       "      <th>66</th>\n",
       "      <td>Python</td>\n",
       "      <td>Python</td>\n",
       "      <td>Not Top_five</td>\n",
       "      <td>Not Top_five</td>\n",
       "      <td>Python</td>\n",
       "    </tr>\n",
       "    <tr>\n",
       "      <th>113</th>\n",
       "      <td>HTML</td>\n",
       "      <td>HTML</td>\n",
       "      <td>Not Top_five</td>\n",
       "      <td>Not Top_five</td>\n",
       "      <td>HTML</td>\n",
       "    </tr>\n",
       "    <tr>\n",
       "      <th>92</th>\n",
       "      <td>Python</td>\n",
       "      <td>Python</td>\n",
       "      <td>Not Top_five</td>\n",
       "      <td>Python</td>\n",
       "      <td>Not Top_five</td>\n",
       "    </tr>\n",
       "    <tr>\n",
       "      <th>15</th>\n",
       "      <td>Not Top_five</td>\n",
       "      <td>Not Top_five</td>\n",
       "      <td>Not Top_five</td>\n",
       "      <td>Not Top_five</td>\n",
       "      <td>C++</td>\n",
       "    </tr>\n",
       "    <tr>\n",
       "      <th>16</th>\n",
       "      <td>Python</td>\n",
       "      <td>Python</td>\n",
       "      <td>Not Top_five</td>\n",
       "      <td>Not Top_five</td>\n",
       "      <td>Python</td>\n",
       "    </tr>\n",
       "    <tr>\n",
       "      <th>53</th>\n",
       "      <td>Not Top_five</td>\n",
       "      <td>Not Top_five</td>\n",
       "      <td>Not Top_five</td>\n",
       "      <td>Not Top_five</td>\n",
       "      <td>Not Top_five</td>\n",
       "    </tr>\n",
       "    <tr>\n",
       "      <th>35</th>\n",
       "      <td>JavaScript</td>\n",
       "      <td>JavaScript</td>\n",
       "      <td>Not Top_five</td>\n",
       "      <td>Not Top_five</td>\n",
       "      <td>Not Top_five</td>\n",
       "    </tr>\n",
       "    <tr>\n",
       "      <th>22</th>\n",
       "      <td>Not Top_five</td>\n",
       "      <td>Not Top_five</td>\n",
       "      <td>Not Top_five</td>\n",
       "      <td>Not Top_five</td>\n",
       "      <td>C++</td>\n",
       "    </tr>\n",
       "    <tr>\n",
       "      <th>84</th>\n",
       "      <td>JavaScript</td>\n",
       "      <td>JavaScript</td>\n",
       "      <td>Not Top_five</td>\n",
       "      <td>JavaScript</td>\n",
       "      <td>HTML</td>\n",
       "    </tr>\n",
       "    <tr>\n",
       "      <th>18</th>\n",
       "      <td>Not Top_five</td>\n",
       "      <td>Not Top_five</td>\n",
       "      <td>Not Top_five</td>\n",
       "      <td>Not Top_five</td>\n",
       "      <td>HTML</td>\n",
       "    </tr>\n",
       "    <tr>\n",
       "      <th>112</th>\n",
       "      <td>HTML</td>\n",
       "      <td>HTML</td>\n",
       "      <td>Not Top_five</td>\n",
       "      <td>JavaScript</td>\n",
       "      <td>HTML</td>\n",
       "    </tr>\n",
       "    <tr>\n",
       "      <th>23</th>\n",
       "      <td>Not Top_five</td>\n",
       "      <td>Not Top_five</td>\n",
       "      <td>Not Top_five</td>\n",
       "      <td>Not Top_five</td>\n",
       "      <td>JavaScript</td>\n",
       "    </tr>\n",
       "    <tr>\n",
       "      <th>42</th>\n",
       "      <td>Not Top_five</td>\n",
       "      <td>Not Top_five</td>\n",
       "      <td>Not Top_five</td>\n",
       "      <td>Not Top_five</td>\n",
       "      <td>Not Top_five</td>\n",
       "    </tr>\n",
       "    <tr>\n",
       "      <th>97</th>\n",
       "      <td>JavaScript</td>\n",
       "      <td>JavaScript</td>\n",
       "      <td>Not Top_five</td>\n",
       "      <td>Not Top_five</td>\n",
       "      <td>C++</td>\n",
       "    </tr>\n",
       "    <tr>\n",
       "      <th>68</th>\n",
       "      <td>Not Top_five</td>\n",
       "      <td>Not Top_five</td>\n",
       "      <td>Not Top_five</td>\n",
       "      <td>Not Top_five</td>\n",
       "      <td>HTML</td>\n",
       "    </tr>\n",
       "    <tr>\n",
       "      <th>51</th>\n",
       "      <td>Python</td>\n",
       "      <td>Python</td>\n",
       "      <td>Not Top_five</td>\n",
       "      <td>Python</td>\n",
       "      <td>HTML</td>\n",
       "    </tr>\n",
       "    <tr>\n",
       "      <th>28</th>\n",
       "      <td>Not Top_five</td>\n",
       "      <td>Not Top_five</td>\n",
       "      <td>Not Top_five</td>\n",
       "      <td>Not Top_five</td>\n",
       "      <td>Not Top_five</td>\n",
       "    </tr>\n",
       "    <tr>\n",
       "      <th>73</th>\n",
       "      <td>Jupyter Notebook</td>\n",
       "      <td>Not Top_five</td>\n",
       "      <td>Not Top_five</td>\n",
       "      <td>Not Top_five</td>\n",
       "      <td>Jupyter Notebook</td>\n",
       "    </tr>\n",
       "    <tr>\n",
       "      <th>67</th>\n",
       "      <td>Jupyter Notebook</td>\n",
       "      <td>Jupyter Notebook</td>\n",
       "      <td>Not Top_five</td>\n",
       "      <td>Not Top_five</td>\n",
       "      <td>Jupyter Notebook</td>\n",
       "    </tr>\n",
       "    <tr>\n",
       "      <th>31</th>\n",
       "      <td>Not Top_five</td>\n",
       "      <td>Not Top_five</td>\n",
       "      <td>Not Top_five</td>\n",
       "      <td>Not Top_five</td>\n",
       "      <td>JavaScript</td>\n",
       "    </tr>\n",
       "    <tr>\n",
       "      <th>106</th>\n",
       "      <td>HTML</td>\n",
       "      <td>HTML</td>\n",
       "      <td>Not Top_five</td>\n",
       "      <td>Not Top_five</td>\n",
       "      <td>HTML</td>\n",
       "    </tr>\n",
       "    <tr>\n",
       "      <th>98</th>\n",
       "      <td>Not Top_five</td>\n",
       "      <td>Not Top_five</td>\n",
       "      <td>Not Top_five</td>\n",
       "      <td>Not Top_five</td>\n",
       "      <td>Not Top_five</td>\n",
       "    </tr>\n",
       "    <tr>\n",
       "      <th>118</th>\n",
       "      <td>C++</td>\n",
       "      <td>C++</td>\n",
       "      <td>Not Top_five</td>\n",
       "      <td>Not Top_five</td>\n",
       "      <td>C++</td>\n",
       "    </tr>\n",
       "    <tr>\n",
       "      <th>60</th>\n",
       "      <td>Not Top_five</td>\n",
       "      <td>Not Top_five</td>\n",
       "      <td>Not Top_five</td>\n",
       "      <td>Not Top_five</td>\n",
       "      <td>Not Top_five</td>\n",
       "    </tr>\n",
       "    <tr>\n",
       "      <th>5</th>\n",
       "      <td>JavaScript</td>\n",
       "      <td>JavaScript</td>\n",
       "      <td>Not Top_five</td>\n",
       "      <td>JavaScript</td>\n",
       "      <td>JavaScript</td>\n",
       "    </tr>\n",
       "    <tr>\n",
       "      <th>104</th>\n",
       "      <td>HTML</td>\n",
       "      <td>HTML</td>\n",
       "      <td>Not Top_five</td>\n",
       "      <td>JavaScript</td>\n",
       "      <td>HTML</td>\n",
       "    </tr>\n",
       "    <tr>\n",
       "      <th>82</th>\n",
       "      <td>Not Top_five</td>\n",
       "      <td>Not Top_five</td>\n",
       "      <td>Not Top_five</td>\n",
       "      <td>Not Top_five</td>\n",
       "      <td>Not Top_five</td>\n",
       "    </tr>\n",
       "    <tr>\n",
       "      <th>54</th>\n",
       "      <td>Jupyter Notebook</td>\n",
       "      <td>Jupyter Notebook</td>\n",
       "      <td>Not Top_five</td>\n",
       "      <td>Not Top_five</td>\n",
       "      <td>Jupyter Notebook</td>\n",
       "    </tr>\n",
       "    <tr>\n",
       "      <th>96</th>\n",
       "      <td>JavaScript</td>\n",
       "      <td>JavaScript</td>\n",
       "      <td>Not Top_five</td>\n",
       "      <td>JavaScript</td>\n",
       "      <td>HTML</td>\n",
       "    </tr>\n",
       "    <tr>\n",
       "      <th>120</th>\n",
       "      <td>C++</td>\n",
       "      <td>C++</td>\n",
       "      <td>C++</td>\n",
       "      <td>Not Top_five</td>\n",
       "      <td>C++</td>\n",
       "    </tr>\n",
       "    <tr>\n",
       "      <th>11</th>\n",
       "      <td>Python</td>\n",
       "      <td>Python</td>\n",
       "      <td>Not Top_five</td>\n",
       "      <td>Not Top_five</td>\n",
       "      <td>HTML</td>\n",
       "    </tr>\n",
       "    <tr>\n",
       "      <th>75</th>\n",
       "      <td>C++</td>\n",
       "      <td>C++</td>\n",
       "      <td>C++</td>\n",
       "      <td>Not Top_five</td>\n",
       "      <td>C++</td>\n",
       "    </tr>\n",
       "    <tr>\n",
       "      <th>34</th>\n",
       "      <td>HTML</td>\n",
       "      <td>HTML</td>\n",
       "      <td>Not Top_five</td>\n",
       "      <td>Not Top_five</td>\n",
       "      <td>HTML</td>\n",
       "    </tr>\n",
       "    <tr>\n",
       "      <th>83</th>\n",
       "      <td>JavaScript</td>\n",
       "      <td>JavaScript</td>\n",
       "      <td>Not Top_five</td>\n",
       "      <td>JavaScript</td>\n",
       "      <td>HTML</td>\n",
       "    </tr>\n",
       "    <tr>\n",
       "      <th>93</th>\n",
       "      <td>Jupyter Notebook</td>\n",
       "      <td>Jupyter Notebook</td>\n",
       "      <td>Not Top_five</td>\n",
       "      <td>Not Top_five</td>\n",
       "      <td>Jupyter Notebook</td>\n",
       "    </tr>\n",
       "    <tr>\n",
       "      <th>116</th>\n",
       "      <td>C++</td>\n",
       "      <td>C++</td>\n",
       "      <td>Not Top_five</td>\n",
       "      <td>Not Top_five</td>\n",
       "      <td>C++</td>\n",
       "    </tr>\n",
       "    <tr>\n",
       "      <th>94</th>\n",
       "      <td>JavaScript</td>\n",
       "      <td>JavaScript</td>\n",
       "      <td>Not Top_five</td>\n",
       "      <td>JavaScript</td>\n",
       "      <td>JavaScript</td>\n",
       "    </tr>\n",
       "    <tr>\n",
       "      <th>109</th>\n",
       "      <td>HTML</td>\n",
       "      <td>HTML</td>\n",
       "      <td>Not Top_five</td>\n",
       "      <td>Not Top_five</td>\n",
       "      <td>HTML</td>\n",
       "    </tr>\n",
       "    <tr>\n",
       "      <th>100</th>\n",
       "      <td>Not Top_five</td>\n",
       "      <td>Not Top_five</td>\n",
       "      <td>Not Top_five</td>\n",
       "      <td>Not Top_five</td>\n",
       "      <td>Python</td>\n",
       "    </tr>\n",
       "    <tr>\n",
       "      <th>87</th>\n",
       "      <td>Not Top_five</td>\n",
       "      <td>Not Top_five</td>\n",
       "      <td>Not Top_five</td>\n",
       "      <td>Not Top_five</td>\n",
       "      <td>HTML</td>\n",
       "    </tr>\n",
       "    <tr>\n",
       "      <th>105</th>\n",
       "      <td>HTML</td>\n",
       "      <td>HTML</td>\n",
       "      <td>Not Top_five</td>\n",
       "      <td>Not Top_five</td>\n",
       "      <td>HTML</td>\n",
       "    </tr>\n",
       "    <tr>\n",
       "      <th>9</th>\n",
       "      <td>Not Top_five</td>\n",
       "      <td>Not Top_five</td>\n",
       "      <td>Not Top_five</td>\n",
       "      <td>Not Top_five</td>\n",
       "      <td>Not Top_five</td>\n",
       "    </tr>\n",
       "    <tr>\n",
       "      <th>61</th>\n",
       "      <td>Not Top_five</td>\n",
       "      <td>Not Top_five</td>\n",
       "      <td>Not Top_five</td>\n",
       "      <td>Not Top_five</td>\n",
       "      <td>Not Top_five</td>\n",
       "    </tr>\n",
       "    <tr>\n",
       "      <th>90</th>\n",
       "      <td>JavaScript</td>\n",
       "      <td>JavaScript</td>\n",
       "      <td>Not Top_five</td>\n",
       "      <td>JavaScript</td>\n",
       "      <td>JavaScript</td>\n",
       "    </tr>\n",
       "    <tr>\n",
       "      <th>72</th>\n",
       "      <td>Jupyter Notebook</td>\n",
       "      <td>Jupyter Notebook</td>\n",
       "      <td>Not Top_five</td>\n",
       "      <td>Not Top_five</td>\n",
       "      <td>Python</td>\n",
       "    </tr>\n",
       "    <tr>\n",
       "      <th>102</th>\n",
       "      <td>HTML</td>\n",
       "      <td>HTML</td>\n",
       "      <td>Not Top_five</td>\n",
       "      <td>Not Top_five</td>\n",
       "      <td>HTML</td>\n",
       "    </tr>\n",
       "    <tr>\n",
       "      <th>119</th>\n",
       "      <td>C++</td>\n",
       "      <td>C++</td>\n",
       "      <td>Not Top_five</td>\n",
       "      <td>C++</td>\n",
       "      <td>C++</td>\n",
       "    </tr>\n",
       "    <tr>\n",
       "      <th>45</th>\n",
       "      <td>C++</td>\n",
       "      <td>C++</td>\n",
       "      <td>Not Top_five</td>\n",
       "      <td>Not Top_five</td>\n",
       "      <td>Not Top_five</td>\n",
       "    </tr>\n",
       "    <tr>\n",
       "      <th>70</th>\n",
       "      <td>Python</td>\n",
       "      <td>Python</td>\n",
       "      <td>Not Top_five</td>\n",
       "      <td>Not Top_five</td>\n",
       "      <td>C++</td>\n",
       "    </tr>\n",
       "    <tr>\n",
       "      <th>57</th>\n",
       "      <td>Not Top_five</td>\n",
       "      <td>Not Top_five</td>\n",
       "      <td>Not Top_five</td>\n",
       "      <td>Not Top_five</td>\n",
       "      <td>HTML</td>\n",
       "    </tr>\n",
       "    <tr>\n",
       "      <th>13</th>\n",
       "      <td>Python</td>\n",
       "      <td>Python</td>\n",
       "      <td>Not Top_five</td>\n",
       "      <td>Not Top_five</td>\n",
       "      <td>C++</td>\n",
       "    </tr>\n",
       "    <tr>\n",
       "      <th>14</th>\n",
       "      <td>JavaScript</td>\n",
       "      <td>JavaScript</td>\n",
       "      <td>Not Top_five</td>\n",
       "      <td>JavaScript</td>\n",
       "      <td>JavaScript</td>\n",
       "    </tr>\n",
       "    <tr>\n",
       "      <th>117</th>\n",
       "      <td>C++</td>\n",
       "      <td>C++</td>\n",
       "      <td>Not Top_five</td>\n",
       "      <td>Not Top_five</td>\n",
       "      <td>C++</td>\n",
       "    </tr>\n",
       "    <tr>\n",
       "      <th>89</th>\n",
       "      <td>Not Top_five</td>\n",
       "      <td>Not Top_five</td>\n",
       "      <td>Not Top_five</td>\n",
       "      <td>Not Top_five</td>\n",
       "      <td>Not Top_five</td>\n",
       "    </tr>\n",
       "  </tbody>\n",
       "</table>\n",
       "</div>"
      ],
      "text/plain": [
       "               actual      lm_predicted dtc_predicted  rf_predicted  \\\n",
       "26         JavaScript        JavaScript  Not Top_five    JavaScript   \n",
       "76         JavaScript        JavaScript  Not Top_five    JavaScript   \n",
       "12       Not Top_five      Not Top_five  Not Top_five  Not Top_five   \n",
       "8        Not Top_five      Not Top_five  Not Top_five  Not Top_five   \n",
       "107              HTML              HTML  Not Top_five  Not Top_five   \n",
       "2          JavaScript        JavaScript  Not Top_five    JavaScript   \n",
       "20             Python            Python  Not Top_five        Python   \n",
       "50   Jupyter Notebook  Jupyter Notebook  Not Top_five  Not Top_five   \n",
       "78               HTML              HTML  Not Top_five          HTML   \n",
       "46             Python            Python  Not Top_five  Not Top_five   \n",
       "3              Python            Python  Not Top_five        Python   \n",
       "56             Python            Python  Not Top_five        Python   \n",
       "110              HTML              HTML  Not Top_five          HTML   \n",
       "58   Jupyter Notebook      Not Top_five  Not Top_five  Not Top_five   \n",
       "4          JavaScript        JavaScript  Not Top_five    JavaScript   \n",
       "63               HTML              HTML  Not Top_five  Not Top_five   \n",
       "17         JavaScript        JavaScript  Not Top_five  Not Top_five   \n",
       "123               C++               C++  Not Top_five  Not Top_five   \n",
       "85   Jupyter Notebook      Not Top_five  Not Top_five  Not Top_five   \n",
       "55             Python            Python  Not Top_five  Not Top_five   \n",
       "37       Not Top_five      Not Top_five  Not Top_five  Not Top_five   \n",
       "25         JavaScript      Not Top_five  Not Top_five    JavaScript   \n",
       "99       Not Top_five      Not Top_five  Not Top_five  Not Top_five   \n",
       "48         JavaScript        JavaScript  Not Top_five  Not Top_five   \n",
       "79                C++               C++           C++  Not Top_five   \n",
       "43         JavaScript        JavaScript  Not Top_five    JavaScript   \n",
       "39       Not Top_five      Not Top_five  Not Top_five  Not Top_five   \n",
       "27                C++               C++  Not Top_five           C++   \n",
       "6                 C++               C++  Not Top_five  Not Top_five   \n",
       "44       Not Top_five      Not Top_five  Not Top_five  Not Top_five   \n",
       "36             Python            Python  Not Top_five  Not Top_five   \n",
       "74             Python            Python  Not Top_five  Not Top_five   \n",
       "38         JavaScript        JavaScript  Not Top_five    JavaScript   \n",
       "52       Not Top_five      Not Top_five  Not Top_five  Not Top_five   \n",
       "66             Python            Python  Not Top_five  Not Top_five   \n",
       "113              HTML              HTML  Not Top_five  Not Top_five   \n",
       "92             Python            Python  Not Top_five        Python   \n",
       "15       Not Top_five      Not Top_five  Not Top_five  Not Top_five   \n",
       "16             Python            Python  Not Top_five  Not Top_five   \n",
       "53       Not Top_five      Not Top_five  Not Top_five  Not Top_five   \n",
       "35         JavaScript        JavaScript  Not Top_five  Not Top_five   \n",
       "22       Not Top_five      Not Top_five  Not Top_five  Not Top_five   \n",
       "84         JavaScript        JavaScript  Not Top_five    JavaScript   \n",
       "18       Not Top_five      Not Top_five  Not Top_five  Not Top_five   \n",
       "112              HTML              HTML  Not Top_five    JavaScript   \n",
       "23       Not Top_five      Not Top_five  Not Top_five  Not Top_five   \n",
       "42       Not Top_five      Not Top_five  Not Top_five  Not Top_five   \n",
       "97         JavaScript        JavaScript  Not Top_five  Not Top_five   \n",
       "68       Not Top_five      Not Top_five  Not Top_five  Not Top_five   \n",
       "51             Python            Python  Not Top_five        Python   \n",
       "28       Not Top_five      Not Top_five  Not Top_five  Not Top_five   \n",
       "73   Jupyter Notebook      Not Top_five  Not Top_five  Not Top_five   \n",
       "67   Jupyter Notebook  Jupyter Notebook  Not Top_five  Not Top_five   \n",
       "31       Not Top_five      Not Top_five  Not Top_five  Not Top_five   \n",
       "106              HTML              HTML  Not Top_five  Not Top_five   \n",
       "98       Not Top_five      Not Top_five  Not Top_five  Not Top_five   \n",
       "118               C++               C++  Not Top_five  Not Top_five   \n",
       "60       Not Top_five      Not Top_five  Not Top_five  Not Top_five   \n",
       "5          JavaScript        JavaScript  Not Top_five    JavaScript   \n",
       "104              HTML              HTML  Not Top_five    JavaScript   \n",
       "82       Not Top_five      Not Top_five  Not Top_five  Not Top_five   \n",
       "54   Jupyter Notebook  Jupyter Notebook  Not Top_five  Not Top_five   \n",
       "96         JavaScript        JavaScript  Not Top_five    JavaScript   \n",
       "120               C++               C++           C++  Not Top_five   \n",
       "11             Python            Python  Not Top_five  Not Top_five   \n",
       "75                C++               C++           C++  Not Top_five   \n",
       "34               HTML              HTML  Not Top_five  Not Top_five   \n",
       "83         JavaScript        JavaScript  Not Top_five    JavaScript   \n",
       "93   Jupyter Notebook  Jupyter Notebook  Not Top_five  Not Top_five   \n",
       "116               C++               C++  Not Top_five  Not Top_five   \n",
       "94         JavaScript        JavaScript  Not Top_five    JavaScript   \n",
       "109              HTML              HTML  Not Top_five  Not Top_five   \n",
       "100      Not Top_five      Not Top_five  Not Top_five  Not Top_five   \n",
       "87       Not Top_five      Not Top_five  Not Top_five  Not Top_five   \n",
       "105              HTML              HTML  Not Top_five  Not Top_five   \n",
       "9        Not Top_five      Not Top_five  Not Top_five  Not Top_five   \n",
       "61       Not Top_five      Not Top_five  Not Top_five  Not Top_five   \n",
       "90         JavaScript        JavaScript  Not Top_five    JavaScript   \n",
       "72   Jupyter Notebook  Jupyter Notebook  Not Top_five  Not Top_five   \n",
       "102              HTML              HTML  Not Top_five  Not Top_five   \n",
       "119               C++               C++  Not Top_five           C++   \n",
       "45                C++               C++  Not Top_five  Not Top_five   \n",
       "70             Python            Python  Not Top_five  Not Top_five   \n",
       "57       Not Top_five      Not Top_five  Not Top_five  Not Top_five   \n",
       "13             Python            Python  Not Top_five  Not Top_five   \n",
       "14         JavaScript        JavaScript  Not Top_five    JavaScript   \n",
       "117               C++               C++  Not Top_five  Not Top_five   \n",
       "89       Not Top_five      Not Top_five  Not Top_five  Not Top_five   \n",
       "\n",
       "        knn_predicted  \n",
       "26         JavaScript  \n",
       "76         JavaScript  \n",
       "12             Python  \n",
       "8          JavaScript  \n",
       "107              HTML  \n",
       "2          JavaScript  \n",
       "20             Python  \n",
       "50   Jupyter Notebook  \n",
       "78               HTML  \n",
       "46             Python  \n",
       "3              Python  \n",
       "56             Python  \n",
       "110              HTML  \n",
       "58       Not Top_five  \n",
       "4          JavaScript  \n",
       "63             Python  \n",
       "17                C++  \n",
       "123      Not Top_five  \n",
       "85               HTML  \n",
       "55   Jupyter Notebook  \n",
       "37         JavaScript  \n",
       "25       Not Top_five  \n",
       "99       Not Top_five  \n",
       "48         JavaScript  \n",
       "79       Not Top_five  \n",
       "43             Python  \n",
       "39       Not Top_five  \n",
       "27       Not Top_five  \n",
       "6                 C++  \n",
       "44                C++  \n",
       "36         JavaScript  \n",
       "74             Python  \n",
       "38         JavaScript  \n",
       "52       Not Top_five  \n",
       "66             Python  \n",
       "113              HTML  \n",
       "92       Not Top_five  \n",
       "15                C++  \n",
       "16             Python  \n",
       "53       Not Top_five  \n",
       "35       Not Top_five  \n",
       "22                C++  \n",
       "84               HTML  \n",
       "18               HTML  \n",
       "112              HTML  \n",
       "23         JavaScript  \n",
       "42       Not Top_five  \n",
       "97                C++  \n",
       "68               HTML  \n",
       "51               HTML  \n",
       "28       Not Top_five  \n",
       "73   Jupyter Notebook  \n",
       "67   Jupyter Notebook  \n",
       "31         JavaScript  \n",
       "106              HTML  \n",
       "98       Not Top_five  \n",
       "118               C++  \n",
       "60       Not Top_five  \n",
       "5          JavaScript  \n",
       "104              HTML  \n",
       "82       Not Top_five  \n",
       "54   Jupyter Notebook  \n",
       "96               HTML  \n",
       "120               C++  \n",
       "11               HTML  \n",
       "75                C++  \n",
       "34               HTML  \n",
       "83               HTML  \n",
       "93   Jupyter Notebook  \n",
       "116               C++  \n",
       "94         JavaScript  \n",
       "109              HTML  \n",
       "100            Python  \n",
       "87               HTML  \n",
       "105              HTML  \n",
       "9        Not Top_five  \n",
       "61       Not Top_five  \n",
       "90         JavaScript  \n",
       "72             Python  \n",
       "102              HTML  \n",
       "119               C++  \n",
       "45       Not Top_five  \n",
       "70                C++  \n",
       "57               HTML  \n",
       "13                C++  \n",
       "14         JavaScript  \n",
       "117               C++  \n",
       "89       Not Top_five  "
      ]
     },
     "execution_count": 141,
     "metadata": {},
     "output_type": "execute_result"
    }
   ],
   "source": [
    "train"
   ]
  },
  {
   "cell_type": "code",
   "execution_count": 142,
   "id": "bc071b7c-d406-41c8-9da4-644dbfaadf3b",
   "metadata": {},
   "outputs": [
    {
     "data": {
      "text/html": [
       "<div>\n",
       "<style scoped>\n",
       "    .dataframe tbody tr th:only-of-type {\n",
       "        vertical-align: middle;\n",
       "    }\n",
       "\n",
       "    .dataframe tbody tr th {\n",
       "        vertical-align: top;\n",
       "    }\n",
       "\n",
       "    .dataframe thead th {\n",
       "        text-align: right;\n",
       "    }\n",
       "</style>\n",
       "<table border=\"1\" class=\"dataframe\">\n",
       "  <thead>\n",
       "    <tr style=\"text-align: right;\">\n",
       "      <th></th>\n",
       "      <th>actual</th>\n",
       "      <th>lm_predicted</th>\n",
       "      <th>dtc_predicted</th>\n",
       "      <th>rf_predicted</th>\n",
       "      <th>knn_predicted</th>\n",
       "    </tr>\n",
       "  </thead>\n",
       "  <tbody>\n",
       "    <tr>\n",
       "      <th>71</th>\n",
       "      <td>Jupyter Notebook</td>\n",
       "      <td>Not Top_five</td>\n",
       "      <td>Not Top_five</td>\n",
       "      <td>Not Top_five</td>\n",
       "      <td>Jupyter Notebook</td>\n",
       "    </tr>\n",
       "    <tr>\n",
       "      <th>49</th>\n",
       "      <td>Not Top_five</td>\n",
       "      <td>Not Top_five</td>\n",
       "      <td>Not Top_five</td>\n",
       "      <td>Not Top_five</td>\n",
       "      <td>HTML</td>\n",
       "    </tr>\n",
       "    <tr>\n",
       "      <th>101</th>\n",
       "      <td>HTML</td>\n",
       "      <td>Not Top_five</td>\n",
       "      <td>Not Top_five</td>\n",
       "      <td>Not Top_five</td>\n",
       "      <td>HTML</td>\n",
       "    </tr>\n",
       "    <tr>\n",
       "      <th>88</th>\n",
       "      <td>Python</td>\n",
       "      <td>Not Top_five</td>\n",
       "      <td>Not Top_five</td>\n",
       "      <td>Not Top_five</td>\n",
       "      <td>C++</td>\n",
       "    </tr>\n",
       "    <tr>\n",
       "      <th>91</th>\n",
       "      <td>Not Top_five</td>\n",
       "      <td>Not Top_five</td>\n",
       "      <td>Not Top_five</td>\n",
       "      <td>JavaScript</td>\n",
       "      <td>Python</td>\n",
       "    </tr>\n",
       "    <tr>\n",
       "      <th>21</th>\n",
       "      <td>Not Top_five</td>\n",
       "      <td>Not Top_five</td>\n",
       "      <td>Not Top_five</td>\n",
       "      <td>Not Top_five</td>\n",
       "      <td>Python</td>\n",
       "    </tr>\n",
       "    <tr>\n",
       "      <th>77</th>\n",
       "      <td>HTML</td>\n",
       "      <td>Not Top_five</td>\n",
       "      <td>Not Top_five</td>\n",
       "      <td>Not Top_five</td>\n",
       "      <td>Not Top_five</td>\n",
       "    </tr>\n",
       "    <tr>\n",
       "      <th>62</th>\n",
       "      <td>Python</td>\n",
       "      <td>Not Top_five</td>\n",
       "      <td>Not Top_five</td>\n",
       "      <td>Not Top_five</td>\n",
       "      <td>HTML</td>\n",
       "    </tr>\n",
       "    <tr>\n",
       "      <th>111</th>\n",
       "      <td>HTML</td>\n",
       "      <td>HTML</td>\n",
       "      <td>Not Top_five</td>\n",
       "      <td>Not Top_five</td>\n",
       "      <td>HTML</td>\n",
       "    </tr>\n",
       "    <tr>\n",
       "      <th>29</th>\n",
       "      <td>JavaScript</td>\n",
       "      <td>Not Top_five</td>\n",
       "      <td>Not Top_five</td>\n",
       "      <td>Not Top_five</td>\n",
       "      <td>JavaScript</td>\n",
       "    </tr>\n",
       "    <tr>\n",
       "      <th>86</th>\n",
       "      <td>JavaScript</td>\n",
       "      <td>Not Top_five</td>\n",
       "      <td>Not Top_five</td>\n",
       "      <td>JavaScript</td>\n",
       "      <td>JavaScript</td>\n",
       "    </tr>\n",
       "    <tr>\n",
       "      <th>95</th>\n",
       "      <td>Python</td>\n",
       "      <td>JavaScript</td>\n",
       "      <td>Not Top_five</td>\n",
       "      <td>Not Top_five</td>\n",
       "      <td>HTML</td>\n",
       "    </tr>\n",
       "    <tr>\n",
       "      <th>115</th>\n",
       "      <td>C++</td>\n",
       "      <td>Not Top_five</td>\n",
       "      <td>Not Top_five</td>\n",
       "      <td>Not Top_five</td>\n",
       "      <td>JavaScript</td>\n",
       "    </tr>\n",
       "    <tr>\n",
       "      <th>69</th>\n",
       "      <td>Python</td>\n",
       "      <td>Not Top_five</td>\n",
       "      <td>Not Top_five</td>\n",
       "      <td>Not Top_five</td>\n",
       "      <td>Not Top_five</td>\n",
       "    </tr>\n",
       "    <tr>\n",
       "      <th>33</th>\n",
       "      <td>C++</td>\n",
       "      <td>Not Top_five</td>\n",
       "      <td>Not Top_five</td>\n",
       "      <td>Not Top_five</td>\n",
       "      <td>Not Top_five</td>\n",
       "    </tr>\n",
       "    <tr>\n",
       "      <th>32</th>\n",
       "      <td>Not Top_five</td>\n",
       "      <td>Not Top_five</td>\n",
       "      <td>Not Top_five</td>\n",
       "      <td>Not Top_five</td>\n",
       "      <td>Not Top_five</td>\n",
       "    </tr>\n",
       "    <tr>\n",
       "      <th>24</th>\n",
       "      <td>JavaScript</td>\n",
       "      <td>Not Top_five</td>\n",
       "      <td>Not Top_five</td>\n",
       "      <td>Not Top_five</td>\n",
       "      <td>Python</td>\n",
       "    </tr>\n",
       "    <tr>\n",
       "      <th>81</th>\n",
       "      <td>Not Top_five</td>\n",
       "      <td>Not Top_five</td>\n",
       "      <td>Not Top_five</td>\n",
       "      <td>Not Top_five</td>\n",
       "      <td>HTML</td>\n",
       "    </tr>\n",
       "    <tr>\n",
       "      <th>122</th>\n",
       "      <td>C++</td>\n",
       "      <td>Not Top_five</td>\n",
       "      <td>Not Top_five</td>\n",
       "      <td>Not Top_five</td>\n",
       "      <td>C++</td>\n",
       "    </tr>\n",
       "    <tr>\n",
       "      <th>80</th>\n",
       "      <td>Not Top_five</td>\n",
       "      <td>Not Top_five</td>\n",
       "      <td>Not Top_five</td>\n",
       "      <td>Not Top_five</td>\n",
       "      <td>JavaScript</td>\n",
       "    </tr>\n",
       "    <tr>\n",
       "      <th>40</th>\n",
       "      <td>Not Top_five</td>\n",
       "      <td>Not Top_five</td>\n",
       "      <td>Not Top_five</td>\n",
       "      <td>Not Top_five</td>\n",
       "      <td>JavaScript</td>\n",
       "    </tr>\n",
       "    <tr>\n",
       "      <th>47</th>\n",
       "      <td>JavaScript</td>\n",
       "      <td>JavaScript</td>\n",
       "      <td>Not Top_five</td>\n",
       "      <td>Not Top_five</td>\n",
       "      <td>JavaScript</td>\n",
       "    </tr>\n",
       "    <tr>\n",
       "      <th>65</th>\n",
       "      <td>Jupyter Notebook</td>\n",
       "      <td>Not Top_five</td>\n",
       "      <td>Not Top_five</td>\n",
       "      <td>Not Top_five</td>\n",
       "      <td>Jupyter Notebook</td>\n",
       "    </tr>\n",
       "  </tbody>\n",
       "</table>\n",
       "</div>"
      ],
      "text/plain": [
       "               actual  lm_predicted dtc_predicted  rf_predicted  \\\n",
       "71   Jupyter Notebook  Not Top_five  Not Top_five  Not Top_five   \n",
       "49       Not Top_five  Not Top_five  Not Top_five  Not Top_five   \n",
       "101              HTML  Not Top_five  Not Top_five  Not Top_five   \n",
       "88             Python  Not Top_five  Not Top_five  Not Top_five   \n",
       "91       Not Top_five  Not Top_five  Not Top_five    JavaScript   \n",
       "21       Not Top_five  Not Top_five  Not Top_five  Not Top_five   \n",
       "77               HTML  Not Top_five  Not Top_five  Not Top_five   \n",
       "62             Python  Not Top_five  Not Top_five  Not Top_five   \n",
       "111              HTML          HTML  Not Top_five  Not Top_five   \n",
       "29         JavaScript  Not Top_five  Not Top_five  Not Top_five   \n",
       "86         JavaScript  Not Top_five  Not Top_five    JavaScript   \n",
       "95             Python    JavaScript  Not Top_five  Not Top_five   \n",
       "115               C++  Not Top_five  Not Top_five  Not Top_five   \n",
       "69             Python  Not Top_five  Not Top_five  Not Top_five   \n",
       "33                C++  Not Top_five  Not Top_five  Not Top_five   \n",
       "32       Not Top_five  Not Top_five  Not Top_five  Not Top_five   \n",
       "24         JavaScript  Not Top_five  Not Top_five  Not Top_five   \n",
       "81       Not Top_five  Not Top_five  Not Top_five  Not Top_five   \n",
       "122               C++  Not Top_five  Not Top_five  Not Top_five   \n",
       "80       Not Top_five  Not Top_five  Not Top_five  Not Top_five   \n",
       "40       Not Top_five  Not Top_five  Not Top_five  Not Top_five   \n",
       "47         JavaScript    JavaScript  Not Top_five  Not Top_five   \n",
       "65   Jupyter Notebook  Not Top_five  Not Top_five  Not Top_five   \n",
       "\n",
       "        knn_predicted  \n",
       "71   Jupyter Notebook  \n",
       "49               HTML  \n",
       "101              HTML  \n",
       "88                C++  \n",
       "91             Python  \n",
       "21             Python  \n",
       "77       Not Top_five  \n",
       "62               HTML  \n",
       "111              HTML  \n",
       "29         JavaScript  \n",
       "86         JavaScript  \n",
       "95               HTML  \n",
       "115        JavaScript  \n",
       "69       Not Top_five  \n",
       "33       Not Top_five  \n",
       "32       Not Top_five  \n",
       "24             Python  \n",
       "81               HTML  \n",
       "122               C++  \n",
       "80         JavaScript  \n",
       "40         JavaScript  \n",
       "47         JavaScript  \n",
       "65   Jupyter Notebook  "
      ]
     },
     "execution_count": 142,
     "metadata": {},
     "output_type": "execute_result"
    }
   ],
   "source": [
    "validate"
   ]
  },
  {
   "cell_type": "code",
   "execution_count": 143,
   "id": "42a5291f-3d1a-461b-915a-a7ebed92ff5b",
   "metadata": {},
   "outputs": [
    {
     "data": {
      "text/html": [
       "<div>\n",
       "<style scoped>\n",
       "    .dataframe tbody tr th:only-of-type {\n",
       "        vertical-align: middle;\n",
       "    }\n",
       "\n",
       "    .dataframe tbody tr th {\n",
       "        vertical-align: top;\n",
       "    }\n",
       "\n",
       "    .dataframe thead th {\n",
       "        text-align: right;\n",
       "    }\n",
       "</style>\n",
       "<table border=\"1\" class=\"dataframe\">\n",
       "  <thead>\n",
       "    <tr style=\"text-align: right;\">\n",
       "      <th></th>\n",
       "      <th>actual</th>\n",
       "      <th>knn_predicted</th>\n",
       "      <th>dtc_predicted</th>\n",
       "    </tr>\n",
       "  </thead>\n",
       "  <tbody>\n",
       "    <tr>\n",
       "      <th>114</th>\n",
       "      <td>C++</td>\n",
       "      <td>C++</td>\n",
       "      <td>Not Top_five</td>\n",
       "    </tr>\n",
       "    <tr>\n",
       "      <th>103</th>\n",
       "      <td>HTML</td>\n",
       "      <td>HTML</td>\n",
       "      <td>Not Top_five</td>\n",
       "    </tr>\n",
       "    <tr>\n",
       "      <th>0</th>\n",
       "      <td>JavaScript</td>\n",
       "      <td>JavaScript</td>\n",
       "      <td>Not Top_five</td>\n",
       "    </tr>\n",
       "    <tr>\n",
       "      <th>108</th>\n",
       "      <td>HTML</td>\n",
       "      <td>HTML</td>\n",
       "      <td>Not Top_five</td>\n",
       "    </tr>\n",
       "    <tr>\n",
       "      <th>64</th>\n",
       "      <td>Jupyter Notebook</td>\n",
       "      <td>Not Top_five</td>\n",
       "      <td>Not Top_five</td>\n",
       "    </tr>\n",
       "    <tr>\n",
       "      <th>30</th>\n",
       "      <td>Python</td>\n",
       "      <td>C++</td>\n",
       "      <td>Not Top_five</td>\n",
       "    </tr>\n",
       "    <tr>\n",
       "      <th>19</th>\n",
       "      <td>Python</td>\n",
       "      <td>HTML</td>\n",
       "      <td>Not Top_five</td>\n",
       "    </tr>\n",
       "    <tr>\n",
       "      <th>7</th>\n",
       "      <td>Not Top_five</td>\n",
       "      <td>C++</td>\n",
       "      <td>Not Top_five</td>\n",
       "    </tr>\n",
       "    <tr>\n",
       "      <th>1</th>\n",
       "      <td>Not Top_five</td>\n",
       "      <td>C++</td>\n",
       "      <td>Not Top_five</td>\n",
       "    </tr>\n",
       "    <tr>\n",
       "      <th>10</th>\n",
       "      <td>JavaScript</td>\n",
       "      <td>JavaScript</td>\n",
       "      <td>Not Top_five</td>\n",
       "    </tr>\n",
       "    <tr>\n",
       "      <th>121</th>\n",
       "      <td>C++</td>\n",
       "      <td>C++</td>\n",
       "      <td>Not Top_five</td>\n",
       "    </tr>\n",
       "    <tr>\n",
       "      <th>41</th>\n",
       "      <td>Not Top_five</td>\n",
       "      <td>Not Top_five</td>\n",
       "      <td>Not Top_five</td>\n",
       "    </tr>\n",
       "    <tr>\n",
       "      <th>59</th>\n",
       "      <td>Not Top_five</td>\n",
       "      <td>Not Top_five</td>\n",
       "      <td>Not Top_five</td>\n",
       "    </tr>\n",
       "  </tbody>\n",
       "</table>\n",
       "</div>"
      ],
      "text/plain": [
       "               actual knn_predicted dtc_predicted\n",
       "114               C++           C++  Not Top_five\n",
       "103              HTML          HTML  Not Top_five\n",
       "0          JavaScript    JavaScript  Not Top_five\n",
       "108              HTML          HTML  Not Top_five\n",
       "64   Jupyter Notebook  Not Top_five  Not Top_five\n",
       "30             Python           C++  Not Top_five\n",
       "19             Python          HTML  Not Top_five\n",
       "7        Not Top_five           C++  Not Top_five\n",
       "1        Not Top_five           C++  Not Top_five\n",
       "10         JavaScript    JavaScript  Not Top_five\n",
       "121               C++           C++  Not Top_five\n",
       "41       Not Top_five  Not Top_five  Not Top_five\n",
       "59       Not Top_five  Not Top_five  Not Top_five"
      ]
     },
     "execution_count": 143,
     "metadata": {},
     "output_type": "execute_result"
    }
   ],
   "source": [
    "test"
   ]
  },
  {
   "cell_type": "code",
   "execution_count": null,
   "id": "d97bfda9-9442-4cb8-8f43-7bf85b7a676c",
   "metadata": {},
   "outputs": [],
   "source": []
  },
  {
   "cell_type": "code",
   "execution_count": null,
   "id": "a650b5a4-f3c9-4e14-b824-cde9cd1a18c1",
   "metadata": {},
   "outputs": [],
   "source": []
  },
  {
   "cell_type": "code",
   "execution_count": null,
   "id": "09f2144f-f9ec-4eec-93e1-78bb3318f83a",
   "metadata": {},
   "outputs": [],
   "source": []
  },
  {
   "cell_type": "code",
   "execution_count": null,
   "id": "ad68a3c9-42cd-42d1-96b4-8dbba0a25981",
   "metadata": {},
   "outputs": [],
   "source": []
  }
 ],
 "metadata": {
  "kernelspec": {
   "display_name": "Python 3 (ipykernel)",
   "language": "python",
   "name": "python3"
  },
  "language_info": {
   "codemirror_mode": {
    "name": "ipython",
    "version": 3
   },
   "file_extension": ".py",
   "mimetype": "text/x-python",
   "name": "python",
   "nbconvert_exporter": "python",
   "pygments_lexer": "ipython3",
   "version": "3.9.7"
  }
 },
 "nbformat": 4,
 "nbformat_minor": 5
}
