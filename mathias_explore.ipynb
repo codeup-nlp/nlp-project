{
 "cells": [
  {
   "cell_type": "markdown",
   "id": "9a8dad9a-d2b4-44c9-a677-32346b58f66b",
   "metadata": {
    "tags": []
   },
   "source": [
    "# Most forked Computational Neuroscience repositories\n",
    "As of May 12 2022 at 4:41 pm CST"
   ]
  },
  {
   "cell_type": "code",
   "execution_count": 1,
   "id": "871609ef-fa97-49cf-900d-aa77225cbfc3",
   "metadata": {
    "tags": []
   },
   "outputs": [],
   "source": [
    "cnl = [\"NeuromatchAcademy/course-content\",\n",
    "\"cnrl/cns-project-template\",\n",
    "\"translationalneuromodeling/tapas\",\n",
    "\"ContextLab/computational-neuroscience\",\n",
    "\"computational-neuroscience/Computational-Neuroscience-UW\",\n",
    "\"neurolib-dev/neurolib\",\n",
    "\"simetenn/uncertainpy\",\n",
    "\"CompCogNeuro/sims\",\n",
    "\"compmem/compsy\",\n",
    "\"conorhoughton/COMS30127\",\n",
    "\"ashumeow/Computational-NeuroScience\",\n",
    "\"kuz/Computational-Neuroscience-Course\",\n",
    "\"INCF/neuroshapes\",\n",
    "\"CompCogNeuro/ed4\",\n",
    "\"alisharifi2000/CS-SBU-ComputationalNeuroScience2021-projects\",\n",
    "\"karnigili/Computational-Neuroscience\",\n",
    "\"robclewley/compneuro\",\n",
    "\"btel/python-in-neuroscience-tutorials\",\n",
    "\"neurodebian/neurodebian\",\n",
    "\"alfredcai/Coursera-Computational-NeuroScience\",\n",
    "\"neurodata/brainlit\",\n",
    "\"patrickmineault/xcorr-notebooks\",\n",
    "\"ITNG/ModelingNeuralDynamics\",\n",
    "\"CNS-OIST/a310_cns_2018\",\n",
    "\"rougier/Neurosciences\"]"
   ]
  },
  {
   "cell_type": "code",
   "execution_count": 2,
   "id": "310ca965-8c56-41e9-9741-4b1fdf54234c",
   "metadata": {
    "tags": []
   },
   "outputs": [],
   "source": [
    "REPOS = [ \n",
    "\"ccxt/ccxt\",\n",
    "\"openssl/openssl\",\n",
    "\"HelloZeroNet/ZeroNet\",\n",
    "\"freqtrade/freqtrade\",\n",
    "\"amark/gun\",\n",
    "\"brix/crypto-js\",\n",
    "\"google/tink\",\n",
    "\"jedisct1/libsodium\",\n",
    "\"krzyzanowskim/CryptoSwift\",\n",
    "\"cryptomator/cryptomator\",\n",
    "\"bitwiseshiftleft/sjcl\",\n",
    "\"ctf-wiki/ctf-wiki\",\n",
    "\"StockSharp/StockSharp\",\n",
    "\"pyca/cryptography\",\n",
    "\"digitalbazaar/forge\",\n",
    "\"aws/s2n-tls\",\n",
    "\"hummingbot/hummingbot\",\n",
    "\"google/end-to-end\",\n",
    "\"PrivateBin/PrivateBin\",\n",
    "\"CryptoSignal/Crypto-Signal\",\n",
    "\"jesse-ai/jesse\",\n",
    "\"trustwallet/assets\",\n",
    "\"Mbed-TLS/mbedtls\",\n",
    "\"bitpay/wallet\",\n",
    "\"Haehnchen/crypto-trading-bot\",\n",
    "\n",
    "\"NASAWorldWind/WebWorldWind\", \n",
    "\"r-spacex/SpaceX-API\", \n",
    "\"nasa/fprime\", \n",
    "\"NASAWorldWind/WorldWindJava\", \n",
    "\"nasa-gibs/worldview\", \n",
    "\"nasa/apod-api\", \n",
    "\"chrislgarry/Apollo-11\", \n",
    "\"nasa/NASA-3D-Resources\", \n",
    "\"nasa/astrobee\", \n",
    "\"bloominstituteoftechnology/nasa-photo-of-the-day\", \n",
    "\"nasa/Open-Source-Catalog\", \n",
    "\"nasa/CrisisMappingToolkit\",\n",
    "\"nasa/code-nasa-gov\", \n",
    "\"nasa/earthdata-search\",\n",
    "\"NASAWorldWind/WorldWindAndroid\", \n",
    "\"spaceship-prompt/spaceship-prompt\",\n",
    "\"rt-bishop/Look4Sat\", \n",
    "\"nasa-jpl/COVID-19-respirators\",\n",
    "\"jakiestfu/himawari.js\", \n",
    "\"orbitalindex/awesome-space\", \n",
    "\"CelestiaProject/Celestia\", \n",
    "\"trehn/termtrack\", \n",
    "\"barrosfilipe/Rocket-Lab-API\", \n",
    "\"Trinitui/Rocket-Lab-API-Reborn\", \n",
    "\"Onnamission/SpaceX-Analytics\", \n",
    "\n",
    "\"NeuromatchAcademy/course-content\",\n",
    "\"cnrl/cns-project-template\",\n",
    "\"translationalneuromodeling/tapas\",\n",
    "\"ContextLab/computational-neuroscience\",\n",
    "\"computational-neuroscience/Computational-Neuroscience-UW\",\n",
    "\"neurolib-dev/neurolib\",\n",
    "\"simetenn/uncertainpy\",\n",
    "\"CompCogNeuro/sims\",\n",
    "\"compmem/compsy\",\n",
    "\"conorhoughton/COMS30127\",\n",
    "\"ashumeow/Computational-NeuroScience\",\n",
    "\"kuz/Computational-Neuroscience-Course\",\n",
    "\"INCF/neuroshapes\",\n",
    "\"CompCogNeuro/ed4\",\n",
    "\"alisharifi2000/CS-SBU-ComputationalNeuroScience2021-projects\",\n",
    "\"karnigili/Computational-Neuroscience\",\n",
    "\"robclewley/compneuro\",\n",
    "\"btel/python-in-neuroscience-tutorials\",\n",
    "\"neurodebian/neurodebian\",\n",
    "\"alfredcai/Coursera-Computational-NeuroScience\",\n",
    "\"neurodata/brainlit\",\n",
    "\"patrickmineault/xcorr-notebooks\",\n",
    "\"ITNG/ModelingNeuralDynamics\",\n",
    "\"CNS-OIST/a310_cns_2018\",\n",
    "\"rougier/Neurosciences\",\n",
    "\n",
    "\"ossu/computer-science\",\n",
    "\"hyperledger-archives/education-cryptomoji\",\n",
    "\"DataONEorg/Education\",\n",
    "\"data-edu/data-science-in-education\",\n",
    "\"yrgo/awesome-educational-games\", \n",
    "\"AgoraIO-Usecase/eEducation\",\n",
    "\"WikiEducationFoundation/WikiEduDashboard\",\n",
    "\"puppetlabs/education-builds\",\n",
    "\"sugarlabs/musicblocks\",\n",
    "\"microsoft/Web-Dev-For-Beginners\",\n",
    "\"jakemdrew/EducationDataNC\",\n",
    "\"shama/letswritecode\",\n",
    "\"ossu/math\",\n",
    "\"CTFd/CTFd\",\n",
    "\"anton-liauchuk/educational-platform\",\n",
    "\"Akshima-Ghai/OneEducationalWebsiteForAll\",\n",
    "\"llSourcell/Watch-Me-Build-an-Education-Startup\",\n",
    "\"tecladocode/rest-apis-flask-python\",\n",
    "\"psi4/psi4numpy\",\n",
    "\"unstructuredstudio/zubhub\",\n",
    "\"zero-to-mastery/start-here-guidelines\",\n",
    "\"getify/Functional-Light-JS\",\n",
    "\"arschles/go-in-5-minutes\",\n",
    "\"mikesprague/udacity-nanodegrees\",\n",
    "\"microsoft/Industry-Accelerator-Education\",\n",
    "]"
   ]
  },
  {
   "cell_type": "code",
   "execution_count": 3,
   "id": "241de6e8-2d69-41b7-aa4f-3584a3c33dfe",
   "metadata": {},
   "outputs": [],
   "source": [
    "# len(set(REPOS))"
   ]
  },
  {
   "cell_type": "code",
   "execution_count": 4,
   "id": "bc160b9b-ddef-4c6b-8fcc-705207e2c7a1",
   "metadata": {},
   "outputs": [],
   "source": [
    "import unicodedata\n",
    "import re\n",
    "import json\n",
    "import os\n",
    "\n",
    "import nltk\n",
    "from nltk.tokenize.toktok import ToktokTokenizer\n",
    "from nltk.corpus import stopwords\n",
    "\n",
    "import pandas as pd\n",
    "import wrangle\n",
    "\n",
    "pd.options.display.max_colwidth = 100\n",
    "pd.options.display.max_columns = None\n",
    "pd.options.display.max_rows = None\n",
    "\n",
    "import warnings\n",
    "warnings.filterwarnings('ignore')"
   ]
  },
  {
   "cell_type": "markdown",
   "id": "6d8ce9a1-1cd6-4120-9571-6bd52d52c4da",
   "metadata": {
    "tags": []
   },
   "source": [
    "## Acquire"
   ]
  },
  {
   "cell_type": "code",
   "execution_count": 5,
   "id": "138cba7d-aa2c-4afc-9250-0906e1f681be",
   "metadata": {},
   "outputs": [],
   "source": [
    "data = pd.read_json('data.json')"
   ]
  },
  {
   "cell_type": "code",
   "execution_count": 6,
   "id": "3786f2d9-9afb-4af0-bdbb-05395394bad4",
   "metadata": {},
   "outputs": [
    {
     "data": {
      "text/plain": [
       "(124, 3)"
      ]
     },
     "execution_count": 6,
     "metadata": {},
     "output_type": "execute_result"
    }
   ],
   "source": [
    "data.shape"
   ]
  },
  {
   "cell_type": "code",
   "execution_count": 7,
   "id": "7b130281-cb8d-4198-b3e7-8859507feb62",
   "metadata": {},
   "outputs": [],
   "source": [
    "# url_re = re.compile(r'https?://', re.IGNORECASE)\n",
    "\n",
    "# def is_url(word):\n",
    "#     return url_re.search(word) is not None\n",
    "\n",
    "\n",
    "# def keep_row(row):\n",
    "#     return not is_url(row['text'])"
   ]
  },
  {
   "cell_type": "code",
   "execution_count": 8,
   "id": "6eff6277-c5e7-48ed-8e10-d7b38a03f0c5",
   "metadata": {},
   "outputs": [],
   "source": [
    "# [is_url(text) for text in data.readme_contents[0].split()]"
   ]
  },
  {
   "cell_type": "code",
   "execution_count": 9,
   "id": "f2191160-b49d-45e0-b4c5-baf0b34ebe57",
   "metadata": {},
   "outputs": [],
   "source": [
    "# [re.search(r'https?://', text) for text in data.readme_contents[0].split()]"
   ]
  },
  {
   "cell_type": "code",
   "execution_count": 10,
   "id": "2a66e7b7-443f-4eab-9865-c2800881bf9b",
   "metadata": {},
   "outputs": [],
   "source": [
    "# remove urls\n",
    "#data['clean_text'] = [' '.join([text for text in readme.split() if re.search(r'https?://', text) is None]) for readme in data.readme_contents]"
   ]
  },
  {
   "cell_type": "markdown",
   "id": "d7fda146-508f-426a-9b85-fa2039d04463",
   "metadata": {
    "tags": []
   },
   "source": [
    "## Prepare"
   ]
  },
  {
   "cell_type": "code",
   "execution_count": 11,
   "id": "a7341ae9-6c7f-4a91-9985-50c5aea775d0",
   "metadata": {},
   "outputs": [],
   "source": [
    "def remove_url(instr):\n",
    "    '''\n",
    "    This removes urls from readme's\n",
    "    '''\n",
    "    instr = ' '.join([text for text in instr.split() if re.search(r'https?://', text) is None])\n",
    "    return instr"
   ]
  },
  {
   "cell_type": "code",
   "execution_count": 12,
   "id": "018e5d91-c5e2-4167-a4b8-b7e9f1da41ce",
   "metadata": {},
   "outputs": [],
   "source": [
    "data['clean_text'] = [remove_url(readme) for readme in data.readme_contents]"
   ]
  },
  {
   "cell_type": "code",
   "execution_count": 13,
   "id": "cd706882-78e2-4676-a93f-db2a90916445",
   "metadata": {},
   "outputs": [],
   "source": [
    "def basic_clean(instr):\n",
    "    '''\n",
    "    Clean our data by making everything lowercase, normalize unicode characters, and removing unwanted characters\n",
    "    '''\n",
    "    # Lower case\n",
    "    instr = instr.lower()\n",
    "    # Normalize\n",
    "    instr = unicodedata.normalize('NFKD' , instr).encode('ascii','ignore').decode('utf-8', 'ignore')\n",
    "    # remove unwanted characters\n",
    "    instr = re.sub(f\"[^a-z0-9'\\s]\", '', instr)\n",
    "    # Return the cleaned string\n",
    "    return instr"
   ]
  },
  {
   "cell_type": "code",
   "execution_count": 14,
   "id": "b2b4532b-6fd3-40de-9c8e-e697fb8dcfff",
   "metadata": {},
   "outputs": [],
   "source": [
    "data.clean_text = [basic_clean(readme) for readme in data.clean_text]"
   ]
  },
  {
   "cell_type": "code",
   "execution_count": 15,
   "id": "e72c61f0-9d9b-41a3-9fcf-d2ffac726b1c",
   "metadata": {},
   "outputs": [],
   "source": [
    "def tokenize(instr):\n",
    "    '''\n",
    "    Tokenize the target string. We breakup words and puctuation into descrete units\n",
    "    '''\n",
    "    \n",
    "    tokenizer = ToktokTokenizer()\n",
    "    \n",
    "    instr = tokenizer.tokenize(instr, return_str = True)\n",
    "    \n",
    "    return instr"
   ]
  },
  {
   "cell_type": "code",
   "execution_count": 16,
   "id": "58cb3366-bed8-49e9-99d1-1c571cd41306",
   "metadata": {},
   "outputs": [],
   "source": [
    "data.clean_text = [tokenize(readme) for readme in data.clean_text]"
   ]
  },
  {
   "cell_type": "code",
   "execution_count": 17,
   "id": "9737f19c-b210-4939-9357-eb55210a6fa0",
   "metadata": {},
   "outputs": [],
   "source": [
    "# def stem(instr):\n",
    "#     '''\n",
    "#     '''\n",
    "    \n",
    "#     ps = nltk.porter.PorterStemmer()\n",
    "    \n",
    "#     stems = [ps.stem(word) for word in instr.split()]\n",
    "    \n",
    "#     instr = ' '.join(stems)\n",
    "    \n",
    "#     return instr"
   ]
  },
  {
   "cell_type": "code",
   "execution_count": 18,
   "id": "2287ccc9-571f-4445-a130-ddacb51dd69d",
   "metadata": {},
   "outputs": [],
   "source": [
    "# data['stem'] = [stem(readme) for readme in data.clean]"
   ]
  },
  {
   "cell_type": "code",
   "execution_count": 19,
   "id": "049a7be7-863f-4c16-a60c-33f95650ebf2",
   "metadata": {},
   "outputs": [],
   "source": [
    "def lemmatize(instr):\n",
    "    '''\n",
    "    \n",
    "    '''\n",
    "    \n",
    "    wnl = nltk.stem.WordNetLemmatizer()\n",
    "    \n",
    "    lemmas = [wnl.lemmatize(word) for word in instr.split()]\n",
    "    \n",
    "    instr = ' '.join(lemmas)\n",
    "    \n",
    "    return instr"
   ]
  },
  {
   "cell_type": "code",
   "execution_count": 20,
   "id": "3daa1a32-e12d-4546-a3d9-6f60b1aa1dae",
   "metadata": {},
   "outputs": [],
   "source": [
    "data.clean_text = [lemmatize(readme) for readme in data.clean_text]"
   ]
  },
  {
   "cell_type": "code",
   "execution_count": 21,
   "id": "71f02e0d-f64e-4d59-8c92-c32aa1d7be25",
   "metadata": {},
   "outputs": [],
   "source": [
    "def remove_stopwords(instr, extra_words = [], exclude_words= []):\n",
    "    '''\n",
    "    \n",
    "    '''\n",
    "    \n",
    "    stopword_list = stopwords.words('english')\n",
    "    \n",
    "    if exclude_words: \n",
    "        for word in exclude_words:\n",
    "            stopword_list.remove(word)\n",
    "    \n",
    "    if extra_words:\n",
    "        for word in extra_words:\n",
    "            stopword_list.append(word)\n",
    "    \n",
    "    words = instr.split()\n",
    "    \n",
    "    filtered_words = [w for w in words if w not in stopword_list]\n",
    "    \n",
    "    words_removed = ' '.join(filtered_words)\n",
    "    \n",
    "    return words_removed"
   ]
  },
  {
   "cell_type": "code",
   "execution_count": 22,
   "id": "7c4e6e9e-81f8-481b-9f7f-89e858e6dffe",
   "metadata": {},
   "outputs": [],
   "source": [
    "data.clean_text = [remove_stopwords(readme) for readme in data.clean_text]"
   ]
  },
  {
   "cell_type": "code",
   "execution_count": 23,
   "id": "5ca92522-d380-4496-8e5d-7f5b2c64df02",
   "metadata": {},
   "outputs": [],
   "source": [
    "# def clean(text: str) -> list:\n",
    "#     'A simple function to cleanup text data'\n",
    "#     wnl = nltk.stem.WordNetLemmatizer()\n",
    "#     stopwords = set(nltk.corpus.stopwords.words('english'))\n",
    "#     text = (text.encode('ascii', 'ignore')\n",
    "#              .decode('utf-8', 'ignore')\n",
    "#              .lower())\n",
    "#     words = re.sub(r'[^\\w\\s]', '', text).split() # tokenization\n",
    "#     return [wnl.lemmatize(word) for word in words if word not in stopwords]\n",
    "\n",
    "# data['clean_text'] = data.readme_contents.apply(clean).apply(' '.join)"
   ]
  },
  {
   "cell_type": "markdown",
   "id": "6bd00617-8505-40c1-9f4d-cefadd410692",
   "metadata": {
    "tags": []
   },
   "source": [
    "## Explore"
   ]
  },
  {
   "cell_type": "code",
   "execution_count": 24,
   "id": "d33fb942-b502-41fc-be6e-880d9764fa4a",
   "metadata": {},
   "outputs": [],
   "source": [
    "# labels = pd.concat([data.language.value_counts(dropna=False), data.language.value_counts(normalize=True)], axis=1)\n",
    "# labels.columns = ['n', 'percent']\n",
    "# #labels"
   ]
  },
  {
   "cell_type": "code",
   "execution_count": 25,
   "id": "a69a37b1-faa2-4e23-936e-a7c01da1a41e",
   "metadata": {},
   "outputs": [],
   "source": [
    "#data.language.value_counts(dropna=False)"
   ]
  },
  {
   "cell_type": "code",
   "execution_count": 26,
   "id": "0cdc7147-08c0-4e56-a8f3-a012c974b657",
   "metadata": {},
   "outputs": [],
   "source": [
    "#data[['repo']][data.language.isnull()]"
   ]
  },
  {
   "cell_type": "code",
   "execution_count": 27,
   "id": "4fe4dae7-0550-4b2e-a36e-123c175c8690",
   "metadata": {
    "tags": []
   },
   "outputs": [],
   "source": [
    "# lang_df = pd.DataFrame()\n",
    "# for lang in data.language.unique():\n",
    "#     lang_df[lang] = ' '.join(data.readme_contents[data.language == lang].dropna())"
   ]
  },
  {
   "cell_type": "code",
   "execution_count": 28,
   "id": "bc34253a-1d8f-45dd-88e7-5ba817609660",
   "metadata": {},
   "outputs": [],
   "source": [
    "# word_counts.sort_values(by='javascript_freq',ascending=False).head(10)"
   ]
  },
  {
   "cell_type": "code",
   "execution_count": 29,
   "id": "6bbc069c-5bec-465b-80f7-a82c29e4f488",
   "metadata": {},
   "outputs": [],
   "source": [
    "#sns.catplot(x='index',y='javascript_freq',data=jsf,kind='bar' )"
   ]
  },
  {
   "cell_type": "code",
   "execution_count": 30,
   "id": "8471026a-459b-4392-94bd-4e4bdcc026f1",
   "metadata": {},
   "outputs": [],
   "source": [
    "# jsf = pd.DataFrame(word_counts['javascript_freq'].sort_values(ascending=False).head(10)).reset_index()\n",
    "# jsf"
   ]
  },
  {
   "cell_type": "code",
   "execution_count": 31,
   "id": "fa3fe3c2-4544-47a8-b623-c7f7bd8d9a6d",
   "metadata": {},
   "outputs": [],
   "source": [
    "# top_five = data.language.value_counts(dropna=True).head(5).index\n",
    "# top_five"
   ]
  },
  {
   "cell_type": "code",
   "execution_count": 32,
   "id": "7b6bfbef-0c52-423a-8e0f-f5452b9013c0",
   "metadata": {},
   "outputs": [],
   "source": [
    "# pd.DataFrame(word_counts[lang].sort_values(ascending=False).reset_index()[lang] > 0).sum().values[0]"
   ]
  },
  {
   "cell_type": "code",
   "execution_count": 33,
   "id": "99a84f1d-5319-4b5d-8d45-65d7471daa30",
   "metadata": {},
   "outputs": [],
   "source": [
    "# unique words\n",
    "# len(set(data.clean_text[0].split()))"
   ]
  },
  {
   "cell_type": "code",
   "execution_count": 34,
   "id": "7340736f-e367-4aa7-be6a-650f88e8faa5",
   "metadata": {},
   "outputs": [],
   "source": [
    "# words\n",
    "# len(data.clean_text[0].split())"
   ]
  },
  {
   "cell_type": "code",
   "execution_count": 35,
   "id": "5baeed4e-7d06-4103-8d86-a0f29e44389a",
   "metadata": {},
   "outputs": [],
   "source": [
    "# word_counts.reset_index().pivot(index=word_counts.index,columns=word_counts.columns,values=word_counts.values)"
   ]
  },
  {
   "cell_type": "code",
   "execution_count": 36,
   "id": "9cec44e0-905f-4f79-8d99-1844299a61f4",
   "metadata": {},
   "outputs": [],
   "source": [
    "# word_counts['groff_freq'].sort_values(ascending=False).sum()"
   ]
  },
  {
   "cell_type": "code",
   "execution_count": 37,
   "id": "562981ef-eab6-4391-a456-08461926765a",
   "metadata": {},
   "outputs": [],
   "source": [
    "# (word_counts.javascript_freq != 0).sum()"
   ]
  },
  {
   "cell_type": "markdown",
   "id": "1ab31886-3da3-4550-b3e4-e0669f31d344",
   "metadata": {
    "tags": []
   },
   "source": [
    "##  Question 1 \n",
    "Do different programming languages use a different number of unique words?"
   ]
  },
  {
   "cell_type": "code",
   "execution_count": 38,
   "id": "4c71f7cc-afaf-4937-8879-a30dacb8ff52",
   "metadata": {
    "tags": []
   },
   "outputs": [],
   "source": [
    "javascript = ' '.join(data.clean_text[data.language == 'JavaScript'])\n",
    "c = ' '.join(data.clean_text[data.language == 'C'])\n",
    "jupyter_notebook = ' '.join(data.clean_text[data.language == 'Jupyter Notebook'])\n",
    "python = ' '.join(data.clean_text[data.language == 'Python'])\n",
    "cplusplus = ' '.join(data.clean_text[data.language == 'C++'])\n",
    "swift = ' '.join(data.clean_text[data.language == 'Swift'])\n",
    "java = ' '.join(data.clean_text[data.language == 'Java'])\n",
    "csharp = ' '.join(data.clean_text[data.language == 'C#'])\n",
    "php = ' '.join(data.clean_text[data.language == 'PHP'])\n",
    "typescript = ' '.join(data.clean_text[data.language == 'TypeScript'])\n",
    "assembly = ' '.join(data.clean_text[data.language == 'Assembly'])\n",
    "mathematica = ' '.join(data.clean_text[data.language == 'Mathematica'])\n",
    "css = ' '.join(data.clean_text[data.language == 'CSS'])\n",
    "kotlin = ' '.join(data.clean_text[data.language == 'Kotlin'])\n",
    "g_code = ' '.join(data.clean_text[data.language == 'G-code'])\n",
    "ruby = ' '.join(data.clean_text[data.language == 'Ruby'])\n",
    "r = ' '.join(data.clean_text[data.language == 'R'])\n",
    "tex = ' '.join(data.clean_text[data.language == 'TeX'])\n",
    "go = ' '.join(data.clean_text[data.language == 'Go'])\n",
    "groff = ' '.join(data.clean_text[data.language == 'Groff'])\n",
    "html = ' '.join(data.clean_text[data.language == 'HTML'])\n",
    "shell = ' '.join(data.clean_text[data.language == 'Shell'])\n",
    "objective_c = ' '.join(data.clean_text[data.language == 'Objective-C'])\n",
    "\n",
    "matlab = data.clean_text[data.language == 'MATLAB']\n",
    "matlab = matlab.append(data.clean_text[data.language == 'Matlab'])\n",
    "matlab = ' '.join(matlab)"
   ]
  },
  {
   "cell_type": "code",
   "execution_count": 39,
   "id": "fa677ee4-2bea-440f-b987-6eb00582aa2d",
   "metadata": {
    "tags": []
   },
   "outputs": [],
   "source": [
    "javascript_freq = pd.Series(javascript.split()).value_counts()\n",
    "c_freq = pd.Series(c.split()).value_counts()\n",
    "jupyter_notebook_freq = pd.Series(jupyter_notebook.split()).value_counts()\n",
    "python_freq = pd.Series(python.split()).value_counts()\n",
    "cplusplus_freq = pd.Series(cplusplus.split()).value_counts()\n",
    "swift_freq = pd.Series(swift.split()).value_counts()\n",
    "java_freq = pd.Series(java.split()).value_counts()\n",
    "csharp_freq = pd.Series(csharp.split()).value_counts()\n",
    "php_freq = pd.Series(php.split()).value_counts()\n",
    "typescript_freq = pd.Series(typescript.split()).value_counts()\n",
    "assembly_freq = pd.Series(assembly.split()).value_counts()\n",
    "mathematica_freq = pd.Series(mathematica.split()).value_counts()\n",
    "css_freq = pd.Series(css.split()).value_counts()\n",
    "kotlin_freq = pd.Series(kotlin.split()).value_counts()\n",
    "g_code_freq = pd.Series(g_code.split()).value_counts()\n",
    "ruby_freq = pd.Series(ruby.split()).value_counts()\n",
    "r_freq = pd.Series(r.split()).value_counts()\n",
    "tex_freq = pd.Series(tex.split()).value_counts()\n",
    "go_freq = pd.Series(go.split()).value_counts()\n",
    "groff_freq = pd.Series(groff.split()).value_counts()\n",
    "html_freq = pd.Series(html.split()).value_counts()\n",
    "shell_freq = pd.Series(shell.split()).value_counts()\n",
    "objective_c_freq = pd.Series(objective_c.split()).value_counts()\n",
    "matlab_freq = pd.Series(matlab.split()).value_counts()"
   ]
  },
  {
   "cell_type": "code",
   "execution_count": 40,
   "id": "ff81e0cd-eb08-431d-bd36-6a175fb45cf7",
   "metadata": {
    "tags": []
   },
   "outputs": [],
   "source": [
    "total_word_counts = (pd.concat([javascript_freq,\\\n",
    "                          c_freq,\\\n",
    "                          jupyter_notebook_freq,\\\n",
    "                          python_freq,\\\n",
    "                          tex_freq,\\\n",
    "                          cplusplus_freq,\\\n",
    "                          swift_freq,\\\n",
    "                          java_freq,\\\n",
    "                          csharp_freq,\\\n",
    "                          php_freq,\\\n",
    "                          typescript_freq,\\\n",
    "                          assembly_freq,\\\n",
    "                          mathematica_freq,\\\n",
    "                          css_freq,\\\n",
    "                          kotlin_freq,\\\n",
    "                          g_code_freq,\\\n",
    "                          ruby_freq,\\\n",
    "                          r_freq,\\\n",
    "                          go_freq,\\\n",
    "                          groff_freq,\\\n",
    "                          html_freq,\\\n",
    "                          shell_freq,\\\n",
    "                          matlab_freq],\\\n",
    "                        axis = 1, sort = True)\n",
    "               .set_axis(['javascript_freq',\n",
    "                          'c_freq',\n",
    "                          'jupyter_notebook_freq',\n",
    "                          'python_freq',\n",
    "                          'tex_freq',\n",
    "                          'cplusplus_freq',\n",
    "                          'swift_freq',\n",
    "                          'java_freq',\n",
    "                          'csharp_freq',\n",
    "                          'php_freq',\n",
    "                          'typescript_freq',\n",
    "                          'assembly_freq',\n",
    "                          'mathematica_freq',\n",
    "                          'css_freq',\n",
    "                          'kotlin_freq',\n",
    "                          'g_code_freq',\n",
    "                          'ruby_freq',\n",
    "                          'r_freq',\n",
    "                          'go_freq',\n",
    "                          'groff_freq',\n",
    "                          'html_freq',\n",
    "                          'shell_freq',\n",
    "                          'matlab_freq'\n",
    "                         ], axis =1, inplace = False)\n",
    "              .fillna(0)\n",
    "              .apply(lambda s:s.astype(int)))"
   ]
  },
  {
   "cell_type": "code",
   "execution_count": 41,
   "id": "8f564f06-fc35-4ca3-b257-c76d686ccf2e",
   "metadata": {},
   "outputs": [
    {
     "data": {
      "image/png": "[encoded data removed]",
      "text/plain": [
       "<Figure size 504x504 with 1 Axes>"
      ]
     },
     "metadata": {
      "needs_background": "light"
     },
     "output_type": "display_data"
    },
    {
     "data": {
      "image/png": "[encoded data removed]",
      "text/plain": [
       "<Figure size 504x504 with 1 Axes>"
      ]
     },
     "metadata": {
      "needs_background": "light"
     },
     "output_type": "display_data"
    },
    {
     "data": {
      "image/png": "[encoded data removed]",
      "text/plain": [
       "<Figure size 504x504 with 1 Axes>"
      ]
     },
     "metadata": {
      "needs_background": "light"
     },
     "output_type": "display_data"
    },
    {
     "data": {
      "image/png": "[encoded data removed]",
      "text/plain": [
       "<Figure size 504x504 with 1 Axes>"
      ]
     },
     "metadata": {
      "needs_background": "light"
     },
     "output_type": "display_data"
    },
    {
     "data": {
      "image/png": "[encoded data removed]",
      "text/plain": [
       "<Figure size 504x504 with 1 Axes>"
      ]
     },
     "metadata": {
      "needs_background": "light"
     },
     "output_type": "display_data"
    },
    {
     "data": {
      "image/png": "[encoded data removed]",
      "text/plain": [
       "<Figure size 504x504 with 1 Axes>"
      ]
     },
     "metadata": {
      "needs_background": "light"
     },
     "output_type": "display_data"
    },
    {
     "data": {
      "image/png": "[encoded data removed]",
      "text/plain": [
       "<Figure size 504x504 with 1 Axes>"
      ]
     },
     "metadata": {
      "needs_background": "light"
     },
     "output_type": "display_data"
    },
    {
     "data": {
      "image/png": "[encoded data removed]",
      "text/plain": [
       "<Figure size 504x504 with 1 Axes>"
      ]
     },
     "metadata": {
      "needs_background": "light"
     },
     "output_type": "display_data"
    },
    {
     "data": {
      "image/png": "[encoded data removed]",
      "text/plain": [
       "<Figure size 504x504 with 1 Axes>"
      ]
     },
     "metadata": {
      "needs_background": "light"
     },
     "output_type": "display_data"
    },
    {
     "data": {
      "image/png": "[encoded data removed]",
      "text/plain": [
       "<Figure size 504x504 with 1 Axes>"
      ]
     },
     "metadata": {
      "needs_background": "light"
     },
     "output_type": "display_data"
    },
    {
     "data": {
      "image/png": "[encoded data removed]",
      "text/plain": [
       "<Figure size 504x504 with 1 Axes>"
      ]
     },
     "metadata": {
      "needs_background": "light"
     },
     "output_type": "display_data"
    },
    {
     "data": {
      "image/png": "[encoded data removed]",
      "text/plain": [
       "<Figure size 504x504 with 1 Axes>"
      ]
     },
     "metadata": {
      "needs_background": "light"
     },
     "output_type": "display_data"
    },
    {
     "data": {
      "image/png": "[encoded data removed]",
      "text/plain": [
       "<Figure size 504x504 with 1 Axes>"
      ]
     },
     "metadata": {
      "needs_background": "light"
     },
     "output_type": "display_data"
    },
    {
     "data": {
      "image/png": "[encoded data removed]",
      "text/plain": [
       "<Figure size 504x504 with 1 Axes>"
      ]
     },
     "metadata": {
      "needs_background": "light"
     },
     "output_type": "display_data"
    },
    {
     "data": {
      "image/png": "[encoded data removed]",
      "text/plain": [
       "<Figure size 504x504 with 1 Axes>"
      ]
     },
     "metadata": {
      "needs_background": "light"
     },
     "output_type": "display_data"
    },
    {
     "data": {
      "image/png": "[encoded data removed]",
      "text/plain": [
       "<Figure size 504x504 with 1 Axes>"
      ]
     },
     "metadata": {
      "needs_background": "light"
     },
     "output_type": "display_data"
    },
    {
     "data": {
      "image/png": "[encoded data removed]",
      "text/plain": [
       "<Figure size 504x504 with 1 Axes>"
      ]
     },
     "metadata": {
      "needs_background": "light"
     },
     "output_type": "display_data"
    },
    {
     "data": {
      "image/png": "[encoded data removed]",
      "text/plain": [
       "<Figure size 504x504 with 1 Axes>"
      ]
     },
     "metadata": {
      "needs_background": "light"
     },
     "output_type": "display_data"
    },
    {
     "data": {
      "image/png": "[encoded data removed]",
      "text/plain": [
       "<Figure size 504x504 with 1 Axes>"
      ]
     },
     "metadata": {
      "needs_background": "light"
     },
     "output_type": "display_data"
    },
    {
     "data": {
      "image/png": "[encoded data removed]",
      "text/plain": [
       "<Figure size 504x504 with 1 Axes>"
      ]
     },
     "metadata": {
      "needs_background": "light"
     },
     "output_type": "display_data"
    },
    {
     "data": {
      "image/png": "[encoded data removed]",
      "text/plain": [
       "<Figure size 504x504 with 1 Axes>"
      ]
     },
     "metadata": {
      "needs_background": "light"
     },
     "output_type": "display_data"
    },
    {
     "data": {
      "image/png": "[encoded data removed]",
      "text/plain": [
       "<Figure size 504x504 with 1 Axes>"
      ]
     },
     "metadata": {
      "needs_background": "light"
     },
     "output_type": "display_data"
    },
    {
     "data": {
      "image/png": "[encoded data removed]",
      "text/plain": [
       "<Figure size 504x504 with 1 Axes>"
      ]
     },
     "metadata": {
      "needs_background": "light"
     },
     "output_type": "display_data"
    }
   ],
   "source": [
    "# Data Viz of each language top 10 words over all with overall unique word counts in title\n",
    "import seaborn as sns\n",
    "import matplotlib.pyplot as plt\n",
    "for lang in total_word_counts.columns:\n",
    "    count = pd.DataFrame(total_word_counts[lang].sort_values(ascending=False).reset_index()[lang] > 0).sum().values[0]\n",
    "    sns.catplot(x='index', y = lang,\n",
    "                  data = pd.DataFrame(total_word_counts[lang]\n",
    "                                      .sort_values(ascending=False).head(10)).reset_index(),kind='bar',height=7)\n",
    "    plt.title(f'{lang} Top 10\\nUnique Words: {count}')\n",
    "    plt.show()"
   ]
  },
  {
   "cell_type": "markdown",
   "id": "c07a3cae-a1da-4ab7-862c-b48ebe3e8eb0",
   "metadata": {},
   "source": [
    "## Question 2 \n",
    "Are counts per document and across the df different for each language?"
   ]
  },
  {
   "cell_type": "code",
   "execution_count": 42,
   "id": "d691d681-ada8-4088-814d-1038ff0cbd1a",
   "metadata": {},
   "outputs": [
    {
     "data": {
      "text/html": [
       "<div>\n",
       "<style scoped>\n",
       "    .dataframe tbody tr th:only-of-type {\n",
       "        vertical-align: middle;\n",
       "    }\n",
       "\n",
       "    .dataframe tbody tr th {\n",
       "        vertical-align: top;\n",
       "    }\n",
       "\n",
       "    .dataframe thead th {\n",
       "        text-align: right;\n",
       "    }\n",
       "</style>\n",
       "<table border=\"1\" class=\"dataframe\">\n",
       "  <thead>\n",
       "    <tr style=\"text-align: right;\">\n",
       "      <th></th>\n",
       "      <th>repo</th>\n",
       "      <th>language</th>\n",
       "      <th>readme_contents</th>\n",
       "      <th>clean_text</th>\n",
       "    </tr>\n",
       "  </thead>\n",
       "  <tbody>\n",
       "    <tr>\n",
       "      <th>0</th>\n",
       "      <td>ccxt/ccxt</td>\n",
       "      <td>JavaScript</td>\n",
       "      <td># CCXT – CryptoCurrency eXchange Trading Library\\n\\n[![Build Status](https://travis-ci.com/ccxt/...</td>\n",
       "      <td>ccxt cryptocurrency exchange trading library build npm supported twitter javascript python php l...</td>\n",
       "    </tr>\n",
       "    <tr>\n",
       "      <th>1</th>\n",
       "      <td>openssl/openssl</td>\n",
       "      <td>C</td>\n",
       "      <td>Engines\\n=======\\n\\nDeprecation Note\\n----------------\\n\\nThe ENGINE API was introduced in OpenS...</td>\n",
       "      <td>engine deprecation note engine api wa introduced openssl version 096 low level interface adding ...</td>\n",
       "    </tr>\n",
       "    <tr>\n",
       "      <th>2</th>\n",
       "      <td>HelloZeroNet/ZeroNet</td>\n",
       "      <td>JavaScript</td>\n",
       "      <td># ZeroNet [![Build Status](https://travis-ci.org/HelloZeroNet/ZeroNet.svg?branch=master)](https:...</td>\n",
       "      <td>zeronet build readmezhcnmd englishreadmemd bitcoin bittorrent 1 namecoin bit passwordless based ...</td>\n",
       "    </tr>\n",
       "    <tr>\n",
       "      <th>3</th>\n",
       "      <td>freqtrade/freqtrade</td>\n",
       "      <td>Python</td>\n",
       "      <td># ![freqtrade](https://raw.githubusercontent.com/freqtrade/freqtrade/develop/docs/assets/freqtra...</td>\n",
       "      <td>freqtrade coverage freqtrade free open source crypto trading bot written python designed support...</td>\n",
       "    </tr>\n",
       "    <tr>\n",
       "      <th>4</th>\n",
       "      <td>amark/gun</td>\n",
       "      <td>JavaScript</td>\n",
       "      <td>&lt;p id=\"readme\"&gt;&lt;a href=\"https://gun.eco/\"&gt;&lt;img width=\"40%\" src=\"https://cldup.com/TEy9yGh45l.svg...</td>\n",
       "      <td>p idreadmea width40 width50 alignright vspace25 gun tool let build community encrypted like open...</td>\n",
       "    </tr>\n",
       "  </tbody>\n",
       "</table>\n",
       "</div>"
      ],
      "text/plain": [
       "                   repo    language  \\\n",
       "0             ccxt/ccxt  JavaScript   \n",
       "1       openssl/openssl           C   \n",
       "2  HelloZeroNet/ZeroNet  JavaScript   \n",
       "3   freqtrade/freqtrade      Python   \n",
       "4             amark/gun  JavaScript   \n",
       "\n",
       "                                                                                       readme_contents  \\\n",
       "0  # CCXT – CryptoCurrency eXchange Trading Library\\n\\n[![Build Status](https://travis-ci.com/ccxt/...   \n",
       "1  Engines\\n=======\\n\\nDeprecation Note\\n----------------\\n\\nThe ENGINE API was introduced in OpenS...   \n",
       "2  # ZeroNet [![Build Status](https://travis-ci.org/HelloZeroNet/ZeroNet.svg?branch=master)](https:...   \n",
       "3  # ![freqtrade](https://raw.githubusercontent.com/freqtrade/freqtrade/develop/docs/assets/freqtra...   \n",
       "4  <p id=\"readme\"><a href=\"https://gun.eco/\"><img width=\"40%\" src=\"https://cldup.com/TEy9yGh45l.svg...   \n",
       "\n",
       "                                                                                            clean_text  \n",
       "0  ccxt cryptocurrency exchange trading library build npm supported twitter javascript python php l...  \n",
       "1  engine deprecation note engine api wa introduced openssl version 096 low level interface adding ...  \n",
       "2  zeronet build readmezhcnmd englishreadmemd bitcoin bittorrent 1 namecoin bit passwordless based ...  \n",
       "3  freqtrade coverage freqtrade free open source crypto trading bot written python designed support...  \n",
       "4  p idreadmea width40 width50 alignright vspace25 gun tool let build community encrypted like open...  "
      ]
     },
     "execution_count": 42,
     "metadata": {},
     "output_type": "execute_result"
    }
   ],
   "source": [
    "data.head()"
   ]
  },
  {
   "cell_type": "code",
   "execution_count": 43,
   "id": "0d2c17bf-3e4f-426f-8878-7535ddcd6d2c",
   "metadata": {},
   "outputs": [],
   "source": [
    "# Apply counts to each document\n",
    "data['word_counts'] = data.clean_text.apply(lambda x : len(x.split()))\n",
    "data['unique_word_counts'] = data.clean_text.apply(lambda x : len(set(x.split())))"
   ]
  },
  {
   "cell_type": "code",
   "execution_count": 44,
   "id": "3a004cfa-c031-4072-8180-44d8df00da71",
   "metadata": {},
   "outputs": [
    {
     "data": {
      "text/plain": [
       "language\n",
       "Swift               658.000000\n",
       "C#                  465.500000\n",
       "C                   428.800000\n",
       "Ruby                416.333333\n",
       "Objective-C         399.000000\n",
       "Java                398.666667\n",
       "MATLAB              383.000000\n",
       "TypeScript          362.000000\n",
       "Go                  357.000000\n",
       "C++                 288.375000\n",
       "JavaScript          282.708333\n",
       "Shell               251.000000\n",
       "Python              232.500000\n",
       "PHP                 226.000000\n",
       "HTML                215.588235\n",
       "R                   213.000000\n",
       "CSS                 174.000000\n",
       "Jupyter Notebook    131.727273\n",
       "G-code              118.000000\n",
       "Assembly            110.000000\n",
       "Kotlin              105.000000\n",
       "Mathematica          93.000000\n",
       "TeX                  45.000000\n",
       "Groff                40.000000\n",
       "Matlab               30.000000\n",
       "Name: unique_word_counts, dtype: float64"
      ]
     },
     "execution_count": 44,
     "metadata": {},
     "output_type": "execute_result"
    }
   ],
   "source": [
    "# Average unique word count per document for each language\n",
    "data.groupby('language').unique_word_counts.mean().sort_values(ascending=False)"
   ]
  },
  {
   "cell_type": "code",
   "execution_count": 45,
   "id": "9473739a-74ef-4dfa-b497-c6637ef6381f",
   "metadata": {},
   "outputs": [
    {
     "data": {
      "text/plain": [
       "language\n",
       "Swift               1607.000000\n",
       "C#                   951.000000\n",
       "Objective-C          930.000000\n",
       "C                    924.000000\n",
       "Ruby                 881.333333\n",
       "Java                 809.166667\n",
       "TypeScript           795.000000\n",
       "MATLAB               669.000000\n",
       "JavaScript           655.125000\n",
       "Go                   643.000000\n",
       "C++                  527.375000\n",
       "R                    512.000000\n",
       "Shell                444.500000\n",
       "HTML                 430.823529\n",
       "Python               428.350000\n",
       "PHP                  337.000000\n",
       "CSS                  296.000000\n",
       "Jupyter Notebook     232.090909\n",
       "G-code               184.000000\n",
       "Assembly             150.000000\n",
       "Mathematica          148.000000\n",
       "Kotlin               145.000000\n",
       "TeX                   57.000000\n",
       "Groff                 56.000000\n",
       "Matlab                33.000000\n",
       "Name: word_counts, dtype: float64"
      ]
     },
     "execution_count": 45,
     "metadata": {},
     "output_type": "execute_result"
    }
   ],
   "source": [
    "# Average word count per document for each language\n",
    "data.groupby('language').word_counts.mean().sort_values(ascending=False)"
   ]
  },
  {
   "cell_type": "code",
   "execution_count": 46,
   "id": "f5eb62ff-2b44-4b2d-8635-061102eaa833",
   "metadata": {},
   "outputs": [
    {
     "data": {
      "text/plain": [
       "javascript_freq          15723\n",
       "python_freq               8567\n",
       "cplusplus_freq            8438\n",
       "html_freq                 7324\n",
       "java_freq                 4855\n",
       "c_freq                    4620\n",
       "ruby_freq                 2644\n",
       "jupyter_notebook_freq     2553\n",
       "csharp_freq               1902\n",
       "swift_freq                1607\n",
       "typescript_freq           1590\n",
       "go_freq                   1286\n",
       "shell_freq                 889\n",
       "matlab_freq                702\n",
       "r_freq                     512\n",
       "php_freq                   337\n",
       "css_freq                   296\n",
       "g_code_freq                184\n",
       "assembly_freq              150\n",
       "mathematica_freq           148\n",
       "kotlin_freq                145\n",
       "tex_freq                   114\n",
       "groff_freq                  56\n",
       "dtype: int64"
      ]
     },
     "execution_count": 46,
     "metadata": {},
     "output_type": "execute_result"
    }
   ],
   "source": [
    "# Total word count across the dataframe per language\n",
    "total_word_counts.sum().sort_values(ascending=False)"
   ]
  },
  {
   "cell_type": "code",
   "execution_count": 47,
   "id": "a74f06e2-f069-4d22-8cd8-6a285deffdae",
   "metadata": {},
   "outputs": [
    {
     "data": {
      "text/plain": [
       "javascript_freq          3982\n",
       "python_freq              2878\n",
       "cplusplus_freq           2630\n",
       "html_freq                2219\n",
       "java_freq                1876\n",
       "c_freq                   1577\n",
       "ruby_freq                1121\n",
       "jupyter_notebook_freq    1075\n",
       "csharp_freq               886\n",
       "typescript_freq           669\n",
       "go_freq                   664\n",
       "swift_freq                658\n",
       "shell_freq                488\n",
       "matlab_freq               408\n",
       "php_freq                  226\n",
       "r_freq                    213\n",
       "css_freq                  174\n",
       "g_code_freq               118\n",
       "assembly_freq             110\n",
       "kotlin_freq               105\n",
       "mathematica_freq           93\n",
       "tex_freq                   88\n",
       "groff_freq                 40\n",
       "dtype: int64"
      ]
     },
     "execution_count": 47,
     "metadata": {},
     "output_type": "execute_result"
    }
   ],
   "source": [
    "# Total unique words across the dataframe per langauge\n",
    "(total_word_counts != 0).sum().sort_values(ascending=False)"
   ]
  },
  {
   "cell_type": "markdown",
   "id": "22bc96cb-01cd-4bfb-93f5-c1bfc7f7ede2",
   "metadata": {},
   "source": [
    "## Question 3"
   ]
  },
  {
   "cell_type": "markdown",
   "id": "df49ef80-e318-474f-bdab-1b5f381336fd",
   "metadata": {},
   "source": [
    "What am I doing with this modeling? "
   ]
  },
  {
   "cell_type": "code",
   "execution_count": 48,
   "id": "4dcbc177-4a16-4ccd-9a93-64add2bee880",
   "metadata": {},
   "outputs": [],
   "source": [
    "# data.head()"
   ]
  },
  {
   "cell_type": "code",
   "execution_count": 49,
   "id": "f3c95aa7-a0e9-4811-a915-4c06b5ebe0cc",
   "metadata": {},
   "outputs": [],
   "source": [
    "# def idf(word):\n",
    "#     n_occurences = sum([1 for doc in data.clean_text if word in doc])\n",
    "#     return len(data.clean_text) / n_occurences\n",
    "\n",
    "# unique_words_full_df = pd.Series(' '.join(data.clean_text).split()).unique()\n",
    "\n",
    "# (pd.DataFrame(dict(word=unique_words_full_df)).assign(idf=lambda df: df.word.apply(idf))\n",
    "# .set_index('word').sort_values(by='idf', ascending=False).head(10))"
   ]
  },
  {
   "cell_type": "code",
   "execution_count": 50,
   "id": "e395a5e4-dffe-4106-a92e-68ddf5573ce3",
   "metadata": {},
   "outputs": [],
   "source": [
    "# data[['repo','clean_text']].set_index('repo')"
   ]
  },
  {
   "cell_type": "code",
   "execution_count": 51,
   "id": "7c51acac-35aa-44ec-b802-9963fc04d270",
   "metadata": {},
   "outputs": [],
   "source": [
    "# tfs = []\n",
    "\n",
    "# # We'll caclulate the tf-idf value for every word across every document\n",
    "\n",
    "# # Start by iterating over all the documents\n",
    "# for doc, text in enumerate(data.clean_text):\n",
    "#     # We'll make a data frame that contains the tf for every word in every document\n",
    "#     df = (pd.Series(text.split())\n",
    "#           .value_counts()\n",
    "#           .reset_index()\n",
    "#           .set_axis(['word', 'raw_count'], axis=1, inplace=False)\n",
    "#           .assign(tf=lambda df: df.raw_count / df.shape[0])\n",
    "#           .drop(columns='raw_count')\n",
    "#           .assign(doc=data.repo[doc]))\n",
    "#     # Then add that data frame to our list\n",
    "#     tfs.append(df)\n",
    "\n",
    "# # We'll then concatenate all the tf values together.\n",
    "# word_df = (pd.concat(tfs)\n",
    "#  # calculate the idf value for each word\n",
    "#  .assign(idf=lambda df: df.word.apply(idf))\n",
    "#  # then use the if and idf values to calculate tf-idf \n",
    "#  .assign(tf_idf=lambda df: df.idf * df.tf)\n",
    "#  .drop(columns=['tf', 'idf'])\n",
    "#  .sort_values(by='tf_idf', ascending=False)\n",
    "#  .pipe(lambda df: pd.crosstab(df.doc, df.word, values=df.tf_idf, aggfunc=lambda x: x))\n",
    "#  .fillna(0))"
   ]
  },
  {
   "cell_type": "code",
   "execution_count": 52,
   "id": "37a5dfd7-8a8a-4f81-9ba5-b4aac6a22ea1",
   "metadata": {},
   "outputs": [],
   "source": [
    "# word_df.head()"
   ]
  },
  {
   "cell_type": "code",
   "execution_count": 53,
   "id": "3e13170d-66a1-40b5-b0a0-a217872d25aa",
   "metadata": {},
   "outputs": [],
   "source": [
    "# pd.DataFrame(tfidfs.todense(), columns=tfidf.get_feature_names())"
   ]
  },
  {
   "cell_type": "code",
   "execution_count": 54,
   "id": "1a3f96e8-42c9-4331-a207-277e95c77702",
   "metadata": {},
   "outputs": [],
   "source": [
    "# (data.language.value_counts() > 1)"
   ]
  },
  {
   "cell_type": "code",
   "execution_count": 55,
   "id": "3a4764f3-ba8d-48cd-94e7-0be3c110dee5",
   "metadata": {},
   "outputs": [],
   "source": [
    "\n",
    "\n",
    "# tfidf = TfidfVectorizer()\n",
    "# tfidfs = tfidf.fit_transform(data.clean_text)\n",
    "# # tfidfs"
   ]
  },
  {
   "cell_type": "code",
   "execution_count": 56,
   "id": "e751f7f0-4170-4966-8d53-27b40b2046c1",
   "metadata": {},
   "outputs": [],
   "source": [
    "# focus_lang = ['JavaScript','Python','HTML','C++','Jupyter Notebook','Java','C','Ruby','TeX','Shell','TypeScript','Go','C#']\n",
    "\n",
    "# model_me = data[data.language.isin(focus_lang)]\n",
    "# model_me['target_language'] = model_me.language.apply(lambda lang : lang if lang == \"JavaScript\" else \"Not JavaScript\")\n",
    "# model_me['word_counts'] = model_me.clean_text.apply(lambda x : len(x.split()))\n",
    "# model_me['unique_word_counts'] = model_me.clean_text.apply(lambda x : len(set(x.split())))"
   ]
  },
  {
   "cell_type": "markdown",
   "id": "282b7c2a-2824-4b8e-a5c9-feefdd7b367e",
   "metadata": {},
   "source": [
    "### SKLEARN Modeling"
   ]
  },
  {
   "cell_type": "code",
   "execution_count": 57,
   "id": "4360da7e-1f7c-4629-bc7a-5f3e183d7d72",
   "metadata": {},
   "outputs": [],
   "source": [
    "# We use the DummyClassifier from sklearn to create a baseline accuracy.\n",
    "from sklearn.dummy import DummyClassifier \n",
    "\n",
    "from sklearn.feature_extraction.text import TfidfVectorizer\n",
    "\n",
    "from sklearn.model_selection import train_test_split\n",
    "\n",
    "from sklearn.tree import DecisionTreeClassifier, plot_tree\n",
    "from sklearn.ensemble import RandomForestClassifier\n",
    "from sklearn.neighbors import KNeighborsClassifier\n",
    "from sklearn.linear_model import LogisticRegression\n",
    "\n",
    "from sklearn.metrics import classification_report, accuracy_score"
   ]
  },
  {
   "cell_type": "code",
   "execution_count": 58,
   "id": "5924cf6b-f028-4e5c-bb12-6e6612409eaa",
   "metadata": {},
   "outputs": [
    {
     "data": {
      "text/plain": [
       "Not Top_five        0.290323\n",
       "JavaScript          0.193548\n",
       "Python              0.161290\n",
       "HTML                0.137097\n",
       "C++                 0.129032\n",
       "Jupyter Notebook    0.088710\n",
       "Name: language, dtype: float64"
      ]
     },
     "execution_count": 58,
     "metadata": {},
     "output_type": "execute_result"
    }
   ],
   "source": [
    "top_five = ['JavaScript','Python','HTML','C++','Jupyter Notebook']\n",
    "model_me = data.copy()\n",
    "model_me['language'] = model_me.language.apply(lambda lang : lang if lang in top_five else \"Not Top_five\")\n",
    "model_me.language.value_counts(normalize=True)"
   ]
  },
  {
   "cell_type": "code",
   "execution_count": 59,
   "id": "b01688a7-8e0e-44e6-9838-d1b33ec9bc06",
   "metadata": {},
   "outputs": [
    {
     "name": "stdout",
     "output_type": "stream",
     "text": [
      "                  precision    recall  f1-score   support\n",
      "\n",
      "             C++       0.00      0.00      0.00        16\n",
      "            HTML       0.00      0.00      0.00        17\n",
      "      JavaScript       0.00      0.00      0.00        24\n",
      "Jupyter Notebook       0.00      0.00      0.00        11\n",
      "    Not Top_five       0.29      1.00      0.45        36\n",
      "          Python       0.00      0.00      0.00        20\n",
      "\n",
      "        accuracy                           0.29       124\n",
      "       macro avg       0.05      0.17      0.08       124\n",
      "    weighted avg       0.08      0.29      0.13       124\n",
      "\n"
     ]
    }
   ],
   "source": [
    "# Setting a baseline of 'Not JavaScript'\n",
    "\n",
    "# Here we create and fit the model\n",
    "dummy = DummyClassifier(strategy='most_frequent', random_state = 1729)\n",
    "dummy.fit(model_me[model_me.columns[model_me.columns != 'language']], model_me.language)   \n",
    "\n",
    "# Here we create our prediction\n",
    "y_pred = dummy.predict(model_me[model_me.columns[model_me.columns != 'language']])\n",
    "\n",
    "# Check report for current baseline accuracy:\n",
    "print(classification_report(model_me.language, y_pred))"
   ]
  },
  {
   "cell_type": "code",
   "execution_count": 60,
   "id": "f08a99a5-e420-4322-91a9-66a62661a96f",
   "metadata": {},
   "outputs": [],
   "source": [
    "tfidf = TfidfVectorizer()\n",
    "\n",
    "X = tfidf.fit_transform(model_me.clean_text)\n",
    "y = model_me.language \n",
    "\n",
    "X_train_validate, X_test, y_train_validate, y_test = train_test_split(X, y, stratify=y, test_size=.)\n",
    "X_train, X_validate, y_train, y_validate = train_test_split(X_train_validate, y_train_validate, stratify=y_train_validate, test_size=.2)"
   ]
  },
  {
   "cell_type": "code",
   "execution_count": 61,
   "id": "7deda8de-b066-4ff7-af78-c5587b8b4130",
   "metadata": {},
   "outputs": [],
   "source": [
    "train = pd.DataFrame(dict(actual=y_train))\n",
    "validate = pd.DataFrame(dict(actual=y_validate))\n",
    "test = pd.DataFrame(dict(actual=y_test))"
   ]
  },
  {
   "cell_type": "code",
   "execution_count": 62,
   "id": "f998cd8b-7e64-47dd-a778-c21863de1bff",
   "metadata": {},
   "outputs": [
    {
     "data": {
      "text/plain": [
       "((79, 1), (20, 1), (25, 1))"
      ]
     },
     "execution_count": 62,
     "metadata": {},
     "output_type": "execute_result"
    }
   ],
   "source": [
    "train.shape, validate.shape, test.shape"
   ]
  },
  {
   "cell_type": "code",
   "execution_count": 63,
   "id": "aea230e8-8aaa-4ac9-b884-827ad82506c3",
   "metadata": {},
   "outputs": [],
   "source": [
    "lm = LogisticRegression().fit(X_train, y_train)\n",
    "\n",
    "dtc = DecisionTreeClassifier(max_depth=3, random_state=1729).fit(X_train, y_train)\n",
    "\n",
    "rf = RandomForestClassifier(min_samples_leaf=3,\n",
    "                            max_depth=3, \n",
    "                            random_state=1729).fit(X_train,y_train)\n",
    "\n",
    "knn = KNeighborsClassifier(n_neighbors=4).fit(X_train,y_train)\n"
   ]
  },
  {
   "cell_type": "code",
   "execution_count": 64,
   "id": "c809d874-1e42-4bb3-9ffb-87ac239590f8",
   "metadata": {},
   "outputs": [],
   "source": [
    "train['lm_predicted'] = lm.predict(X_train)\n",
    "train['dtc_predicted'] = dtc.predict(X_train)\n",
    "train['rf_predicted'] = rf.predict(X_train)\n",
    "train['knn_predicted'] = knn.predict(X_train)"
   ]
  },
  {
   "cell_type": "code",
   "execution_count": 65,
   "id": "5db24395-cf91-4191-b1c6-4ba8196a4811",
   "metadata": {},
   "outputs": [
    {
     "name": "stdout",
     "output_type": "stream",
     "text": [
      "Logistic Regression\n",
      "                  precision    recall  f1-score   support\n",
      "\n",
      "             C++       1.00      1.00      1.00        11\n",
      "            HTML       1.00      0.90      0.95        10\n",
      "      JavaScript       1.00      1.00      1.00        15\n",
      "Jupyter Notebook       1.00      0.29      0.44         7\n",
      "    Not Top_five       0.79      1.00      0.88        23\n",
      "          Python       1.00      1.00      1.00        13\n",
      "\n",
      "        accuracy                           0.92        79\n",
      "       macro avg       0.97      0.86      0.88        79\n",
      "    weighted avg       0.94      0.92      0.91        79\n",
      "\n"
     ]
    }
   ],
   "source": [
    "print('Logistic Regression')\n",
    "print(classification_report(train.actual, train.lm_predicted))"
   ]
  },
  {
   "cell_type": "code",
   "execution_count": 66,
   "id": "f9e45c87-40d9-4c57-b948-0c5e35ab0fba",
   "metadata": {},
   "outputs": [
    {
     "name": "stdout",
     "output_type": "stream",
     "text": [
      "Decision Tree\n",
      "                  precision    recall  f1-score   support\n",
      "\n",
      "             C++       0.00      0.00      0.00        11\n",
      "            HTML       1.00      0.60      0.75        10\n",
      "      JavaScript       1.00      0.47      0.64        15\n",
      "Jupyter Notebook       0.86      0.86      0.86         7\n",
      "    Not Top_five       0.39      1.00      0.56        23\n",
      "          Python       0.00      0.00      0.00        13\n",
      "\n",
      "        accuracy                           0.53        79\n",
      "       macro avg       0.54      0.49      0.47        79\n",
      "    weighted avg       0.51      0.53      0.46        79\n",
      "\n"
     ]
    }
   ],
   "source": [
    "print('Decision Tree')\n",
    "print(classification_report(train.actual, train.dtc_predicted))"
   ]
  },
  {
   "cell_type": "code",
   "execution_count": 67,
   "id": "a72fb44b-68f3-4733-bbae-c17d1133791d",
   "metadata": {},
   "outputs": [
    {
     "name": "stdout",
     "output_type": "stream",
     "text": [
      "Random Forest\n",
      "                  precision    recall  f1-score   support\n",
      "\n",
      "             C++       1.00      0.27      0.43        11\n",
      "            HTML       1.00      0.70      0.82        10\n",
      "      JavaScript       1.00      0.80      0.89        15\n",
      "Jupyter Notebook       0.00      0.00      0.00         7\n",
      "    Not Top_five       0.47      1.00      0.64        23\n",
      "          Python       1.00      0.62      0.76        13\n",
      "\n",
      "        accuracy                           0.67        79\n",
      "       macro avg       0.74      0.56      0.59        79\n",
      "    weighted avg       0.76      0.67      0.64        79\n",
      "\n"
     ]
    }
   ],
   "source": [
    "print('Random Forest')\n",
    "print(classification_report(train.actual, train.rf_predicted))"
   ]
  },
  {
   "cell_type": "code",
   "execution_count": 68,
   "id": "caf89d4e-3bfe-467f-ac8d-0e355b9c355f",
   "metadata": {},
   "outputs": [
    {
     "name": "stdout",
     "output_type": "stream",
     "text": [
      "KNN\n",
      "                  precision    recall  f1-score   support\n",
      "\n",
      "             C++       0.73      0.73      0.73        11\n",
      "            HTML       0.53      1.00      0.69        10\n",
      "      JavaScript       0.71      0.80      0.75        15\n",
      "Jupyter Notebook       1.00      0.57      0.73         7\n",
      "    Not Top_five       0.73      0.48      0.58        23\n",
      "          Python       0.69      0.69      0.69        13\n",
      "\n",
      "        accuracy                           0.68        79\n",
      "       macro avg       0.73      0.71      0.69        79\n",
      "    weighted avg       0.72      0.68      0.68        79\n",
      "\n"
     ]
    }
   ],
   "source": [
    "print('KNN')\n",
    "print(classification_report(train.actual, train.knn_predicted))"
   ]
  },
  {
   "cell_type": "code",
   "execution_count": 69,
   "id": "69d62e23-0f25-44a0-bd7a-30ec5a02da08",
   "metadata": {},
   "outputs": [],
   "source": [
    "validate['lm_predicted'] = lm.predict(X_validate)\n",
    "validate['dtc_predicted'] = dtc.predict(X_validate)\n",
    "validate['rf_predicted'] = rf.predict(X_validate)\n",
    "validate['knn_predicted'] = knn.predict(X_validate)"
   ]
  },
  {
   "cell_type": "code",
   "execution_count": 70,
   "id": "37c5c7ee-5e1d-4d69-8f80-c3b6c803f027",
   "metadata": {},
   "outputs": [
    {
     "name": "stdout",
     "output_type": "stream",
     "text": [
      "                  precision    recall  f1-score   support\n",
      "\n",
      "             C++       0.00      0.00      0.00         2\n",
      "            HTML       0.00      0.00      0.00         3\n",
      "      JavaScript       1.00      0.25      0.40         4\n",
      "Jupyter Notebook       0.00      0.00      0.00         2\n",
      "    Not Top_five       0.32      1.00      0.48         6\n",
      "          Python       0.00      0.00      0.00         3\n",
      "\n",
      "        accuracy                           0.35        20\n",
      "       macro avg       0.22      0.21      0.15        20\n",
      "    weighted avg       0.29      0.35      0.22        20\n",
      "\n"
     ]
    }
   ],
   "source": [
    "print(classification_report(validate.actual, validate.lm_predicted))"
   ]
  },
  {
   "cell_type": "code",
   "execution_count": 71,
   "id": "424453a8-93b7-4757-ae2b-94cccc0604c1",
   "metadata": {},
   "outputs": [
    {
     "name": "stdout",
     "output_type": "stream",
     "text": [
      "                  precision    recall  f1-score   support\n",
      "\n",
      "             C++       0.00      0.00      0.00         2\n",
      "            HTML       0.00      0.00      0.00         3\n",
      "      JavaScript       1.00      0.25      0.40         4\n",
      "Jupyter Notebook       1.00      1.00      1.00         2\n",
      "    Not Top_five       0.35      1.00      0.52         6\n",
      "          Python       0.00      0.00      0.00         3\n",
      "\n",
      "        accuracy                           0.45        20\n",
      "       macro avg       0.39      0.38      0.32        20\n",
      "    weighted avg       0.41      0.45      0.34        20\n",
      "\n"
     ]
    }
   ],
   "source": [
    "print(classification_report(validate.actual, validate.dtc_predicted))"
   ]
  },
  {
   "cell_type": "code",
   "execution_count": 72,
   "id": "708df06f-7af2-4d86-a166-b290c8e0814e",
   "metadata": {},
   "outputs": [
    {
     "name": "stdout",
     "output_type": "stream",
     "text": [
      "                  precision    recall  f1-score   support\n",
      "\n",
      "             C++       0.00      0.00      0.00         2\n",
      "            HTML       0.00      0.00      0.00         3\n",
      "      JavaScript       0.00      0.00      0.00         4\n",
      "Jupyter Notebook       0.00      0.00      0.00         2\n",
      "    Not Top_five       0.30      1.00      0.46         6\n",
      "          Python       0.00      0.00      0.00         3\n",
      "\n",
      "        accuracy                           0.30        20\n",
      "       macro avg       0.05      0.17      0.08        20\n",
      "    weighted avg       0.09      0.30      0.14        20\n",
      "\n"
     ]
    }
   ],
   "source": [
    "print(classification_report(validate.actual, validate.rf_predicted))"
   ]
  },
  {
   "cell_type": "code",
   "execution_count": 73,
   "id": "d7c5e808-1ed7-46bb-8e72-e7109318e09e",
   "metadata": {},
   "outputs": [
    {
     "name": "stdout",
     "output_type": "stream",
     "text": [
      "                  precision    recall  f1-score   support\n",
      "\n",
      "             C++       0.50      0.50      0.50         2\n",
      "            HTML       0.25      0.33      0.29         3\n",
      "      JavaScript       0.50      0.25      0.33         4\n",
      "Jupyter Notebook       1.00      1.00      1.00         2\n",
      "    Not Top_five       0.38      0.50      0.43         6\n",
      "          Python       0.50      0.33      0.40         3\n",
      "\n",
      "        accuracy                           0.45        20\n",
      "       macro avg       0.52      0.49      0.49        20\n",
      "    weighted avg       0.47      0.45      0.45        20\n",
      "\n"
     ]
    }
   ],
   "source": [
    "print(classification_report(validate.actual, validate.knn_predicted))"
   ]
  },
  {
   "cell_type": "code",
   "execution_count": 74,
   "id": "e0e8fc93-cbcc-4c6e-a4b8-0089c9751e59",
   "metadata": {},
   "outputs": [],
   "source": [
    "test['knn_predicted'] = knn.predict(X_test)"
   ]
  },
  {
   "cell_type": "code",
   "execution_count": 75,
   "id": "1e159d93-3ac2-4e2e-8ac8-5a95e0c7ddc9",
   "metadata": {},
   "outputs": [
    {
     "name": "stdout",
     "output_type": "stream",
     "text": [
      "                  precision    recall  f1-score   support\n",
      "\n",
      "             C++       0.00      0.00      0.00         3\n",
      "            HTML       0.67      1.00      0.80         4\n",
      "      JavaScript       0.17      0.20      0.18         5\n",
      "Jupyter Notebook       0.00      0.00      0.00         2\n",
      "    Not Top_five       0.57      0.57      0.57         7\n",
      "          Python       0.00      0.00      0.00         4\n",
      "\n",
      "        accuracy                           0.36        25\n",
      "       macro avg       0.23      0.30      0.26        25\n",
      "    weighted avg       0.30      0.36      0.32        25\n",
      "\n"
     ]
    }
   ],
   "source": [
    "print(classification_report(test.actual, test.knn_predicted))"
   ]
  },
  {
   "cell_type": "code",
   "execution_count": null,
   "id": "42a5291f-3d1a-461b-915a-a7ebed92ff5b",
   "metadata": {},
   "outputs": [],
   "source": []
  },
  {
   "cell_type": "code",
   "execution_count": null,
   "id": "bc071b7c-d406-41c8-9da4-644dbfaadf3b",
   "metadata": {},
   "outputs": [],
   "source": []
  }
 ],
 "metadata": {
  "kernelspec": {
   "display_name": "Python 3 (ipykernel)",
   "language": "python",
   "name": "python3"
  },
  "language_info": {
   "codemirror_mode": {
    "name": "ipython",
    "version": 3
   },
   "file_extension": ".py",
   "mimetype": "text/x-python",
   "name": "python",
   "nbconvert_exporter": "python",
   "pygments_lexer": "ipython3",
   "version": "3.9.7"
  }
 },
 "nbformat": 4,
 "nbformat_minor": 5
}
