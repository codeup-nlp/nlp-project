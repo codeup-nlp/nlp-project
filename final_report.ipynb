{
 "cells": [
  {
   "cell_type": "markdown",
   "id": "80e5a268",
   "metadata": {},
   "source": [
    "# Github README.md Prediction of Main Programming Language(s) \n",
    "\n",
    "<u>A Natural Language Processing Approach</u>\n",
    "\n",
    "\n",
    "Mathias Boissevain | Stephen Kipkurui | Braeden Wright | Craig Calzado \n",
    "\n",
    "May 17, 2022"
   ]
  },
  {
   "cell_type": "markdown",
   "id": "9b0c69dc",
   "metadata": {},
   "source": [
    "# Project Goal"
   ]
  },
  {
   "cell_type": "markdown",
   "id": "b3790382",
   "metadata": {},
   "source": [
    "**For this project we are building a model that can predict the main programming language of a repository, given the text of the README file. We will use 100 different README files from repositories available on GitHub, and use Natural Language Processing on the text within to build our model.**"
   ]
  },
  {
   "cell_type": "markdown",
   "id": "8eb8e9cd",
   "metadata": {},
   "source": [
    "__________\n",
    "\n",
    "# Executive Summary\n",
    "\n",
    "___________\n",
    "***We explored the data and discovered:***\n",
    "\n",
    "- \n",
    "- \n",
    "- \n",
    "\n",
    "***Recommandations:***\n",
    "- \n",
    "- \n",
    "- \n",
    "- \n",
    "\n",
    "***Next Step:***\n",
    "- \n",
    "- \n",
    "-\n"
   ]
  },
  {
   "cell_type": "markdown",
   "id": "19239d9d",
   "metadata": {},
   "source": [
    "# Planning\n",
    "- Setup repository environment (.gitignore, README.md)\n",
    "- __Acquire Data:__\n",
    "    - Import base_acquire.py function that scraps slightly over 100 Github repositories and returns raw data. \n",
    "- __Prepare Data:__\n",
    "    - Perform basic clean of data\n",
    "    - Tokenize data\n",
    "    - Perform data stemming\n",
    "    - Lemmatize the data\n",
    "    - Removes Stopwords\n",
    "    - Split the data into train, validate and test\n",
    "       \n",
    "- __Explore Data:__\n",
    "    - Using Natural Language Processing (NLP) methodologies to further investigate the project goals.\n",
    "    - Create Visualizations\n",
    "    - Create and test Models \n",
    "    - Summarize findings\n",
    "    \n",
    "- __Deliverables:__\n",
    "    - This Github repository\n",
    "    - Powerpoint slides <a>https://docs.google.com/presentation/d/1uqp20l36bEUZK94Rtpab25Aq80QhSghQ1nXXIlHlKcU/edit#slide=id.p</a>\n",
    "    - Stakeholders --> interested general public."
   ]
  },
  {
   "cell_type": "markdown",
   "id": "4026136b",
   "metadata": {},
   "source": [
    "### Import required libraries"
   ]
  },
  {
   "cell_type": "code",
   "execution_count": 13,
   "id": "dcda9f3a",
   "metadata": {},
   "outputs": [],
   "source": [
    "import libraries "
   ]
  },
  {
   "cell_type": "markdown",
   "id": "54297e4d",
   "metadata": {},
   "source": [
    "# Acquire raw data"
   ]
  },
  {
   "cell_type": "markdown",
   "id": "81758e73",
   "metadata": {},
   "source": [
    "**We acquired the data from repositories found on GitHub, and pulled them into a dataframe using web scrapping and functions from our acquire.py file and saved the data in a .json file**"
   ]
  },
  {
   "cell_type": "code",
   "execution_count": 25,
   "id": "e2e26ab8",
   "metadata": {},
   "outputs": [
    {
     "data": {
      "text/html": [
       "<div>\n",
       "<style scoped>\n",
       "    .dataframe tbody tr th:only-of-type {\n",
       "        vertical-align: middle;\n",
       "    }\n",
       "\n",
       "    .dataframe tbody tr th {\n",
       "        vertical-align: top;\n",
       "    }\n",
       "\n",
       "    .dataframe thead th {\n",
       "        text-align: right;\n",
       "    }\n",
       "</style>\n",
       "<table border=\"1\" class=\"dataframe\">\n",
       "  <thead>\n",
       "    <tr style=\"text-align: right;\">\n",
       "      <th></th>\n",
       "      <th>repo</th>\n",
       "      <th>language</th>\n",
       "      <th>readme_contents</th>\n",
       "    </tr>\n",
       "  </thead>\n",
       "  <tbody>\n",
       "    <tr>\n",
       "      <th>0</th>\n",
       "      <td>ccxt/ccxt</td>\n",
       "      <td>JavaScript</td>\n",
       "      <td># CCXT – CryptoCurrency eXchange Trading Libra...</td>\n",
       "    </tr>\n",
       "    <tr>\n",
       "      <th>1</th>\n",
       "      <td>openssl/openssl</td>\n",
       "      <td>C</td>\n",
       "      <td>Engines\\n=======\\n\\nDeprecation Note\\n--------...</td>\n",
       "    </tr>\n",
       "    <tr>\n",
       "      <th>2</th>\n",
       "      <td>HelloZeroNet/ZeroNet</td>\n",
       "      <td>JavaScript</td>\n",
       "      <td># ZeroNet [![Build Status](https://travis-ci.o...</td>\n",
       "    </tr>\n",
       "    <tr>\n",
       "      <th>3</th>\n",
       "      <td>freqtrade/freqtrade</td>\n",
       "      <td>Python</td>\n",
       "      <td># ![freqtrade](https://raw.githubusercontent.c...</td>\n",
       "    </tr>\n",
       "    <tr>\n",
       "      <th>4</th>\n",
       "      <td>amark/gun</td>\n",
       "      <td>JavaScript</td>\n",
       "      <td>&lt;p id=\"readme\"&gt;&lt;a href=\"https://gun.eco/\"&gt;&lt;img...</td>\n",
       "    </tr>\n",
       "  </tbody>\n",
       "</table>\n",
       "</div>"
      ],
      "text/plain": [
       "                   repo    language  \\\n",
       "0             ccxt/ccxt  JavaScript   \n",
       "1       openssl/openssl           C   \n",
       "2  HelloZeroNet/ZeroNet  JavaScript   \n",
       "3   freqtrade/freqtrade      Python   \n",
       "4             amark/gun  JavaScript   \n",
       "\n",
       "                                     readme_contents  \n",
       "0  # CCXT – CryptoCurrency eXchange Trading Libra...  \n",
       "1  Engines\\n=======\\n\\nDeprecation Note\\n--------...  \n",
       "2  # ZeroNet [![Build Status](https://travis-ci.o...  \n",
       "3  # ![freqtrade](https://raw.githubusercontent.c...  \n",
       "4  <p id=\"readme\"><a href=\"https://gun.eco/\"><img...  "
      ]
     },
     "execution_count": 25,
     "metadata": {},
     "output_type": "execute_result"
    }
   ],
   "source": [
    "# Pull dataframe\n",
    "\n",
    "data = pd.read_json('data.json')\n",
    "data.head()"
   ]
  },
  {
   "cell_type": "markdown",
   "id": "1ccbd454",
   "metadata": {},
   "source": [
    "### Data Dictionary"
   ]
  },
  {
   "cell_type": "markdown",
   "id": "5516f2ff",
   "metadata": {},
   "source": [
    "| Feature | Datatype | Explanation |\n",
    "| --- | --- | --- |\n",
    "| dummy data to be updated | -abc- | .843 |\n",
    "| dummy data to be updated | -abc- | .843 |\n",
    "| dummy data to be updated | -abc- | .843 |\n",
    "| dummy data to be updated | -abc- | .843 |\n",
    "| dummy data to be updated | -abc- | .843 |\n",
    "| dummy data to be updated | -abc- | .843 |\n",
    "| dummy data to be updated | -abc- | .843 |\n",
    "| dummy data to be updated | -abc- | .843 |\n",
    "| dummy data to be updated | -abc- | .843 |"
   ]
  },
  {
   "cell_type": "markdown",
   "id": "251d0cda",
   "metadata": {},
   "source": [
    "# Data Wrangle"
   ]
  },
  {
   "cell_type": "code",
   "execution_count": 32,
   "id": "8025a559",
   "metadata": {},
   "outputs": [
    {
     "data": {
      "text/html": [
       "<div>\n",
       "<style scoped>\n",
       "    .dataframe tbody tr th:only-of-type {\n",
       "        vertical-align: middle;\n",
       "    }\n",
       "\n",
       "    .dataframe tbody tr th {\n",
       "        vertical-align: top;\n",
       "    }\n",
       "\n",
       "    .dataframe thead th {\n",
       "        text-align: right;\n",
       "    }\n",
       "</style>\n",
       "<table border=\"1\" class=\"dataframe\">\n",
       "  <thead>\n",
       "    <tr style=\"text-align: right;\">\n",
       "      <th></th>\n",
       "      <th>language</th>\n",
       "      <th>readme_contents</th>\n",
       "      <th>clean</th>\n",
       "      <th>stemmed</th>\n",
       "      <th>lemmatized</th>\n",
       "    </tr>\n",
       "  </thead>\n",
       "  <tbody>\n",
       "    <tr>\n",
       "      <th>0</th>\n",
       "      <td>JavaScript</td>\n",
       "      <td># CCXT – CryptoCurrency eXchange Trading Libra...</td>\n",
       "      <td>ccxt cryptocurrency exchange trading library b...</td>\n",
       "      <td>ccxt cryptocurr exchang trade librari build st...</td>\n",
       "      <td>ccxt cryptocurrency exchange trading library b...</td>\n",
       "    </tr>\n",
       "    <tr>\n",
       "      <th>1</th>\n",
       "      <td>C</td>\n",
       "      <td>Engines\\n=======\\n\\nDeprecation Note\\n--------...</td>\n",
       "      <td>engines deprecation note engine api introduced...</td>\n",
       "      <td>engin deprec note engin api wa introduc openss...</td>\n",
       "      <td>engine deprecation note engine api wa introduc...</td>\n",
       "    </tr>\n",
       "    <tr>\n",
       "      <th>2</th>\n",
       "      <td>JavaScript</td>\n",
       "      <td># ZeroNet [![Build Status](https://travis-ci.o...</td>\n",
       "      <td>zeronet build statushttpstravisciorghellozeron...</td>\n",
       "      <td>zeronet build statushttpstravisciorghellozeron...</td>\n",
       "      <td>zeronet build statushttpstravisciorghellozeron...</td>\n",
       "    </tr>\n",
       "  </tbody>\n",
       "</table>\n",
       "</div>"
      ],
      "text/plain": [
       "     language                                    readme_contents  \\\n",
       "0  JavaScript  # CCXT – CryptoCurrency eXchange Trading Libra...   \n",
       "1           C  Engines\\n=======\\n\\nDeprecation Note\\n--------...   \n",
       "2  JavaScript  # ZeroNet [![Build Status](https://travis-ci.o...   \n",
       "\n",
       "                                               clean  \\\n",
       "0  ccxt cryptocurrency exchange trading library b...   \n",
       "1  engines deprecation note engine api introduced...   \n",
       "2  zeronet build statushttpstravisciorghellozeron...   \n",
       "\n",
       "                                             stemmed  \\\n",
       "0  ccxt cryptocurr exchang trade librari build st...   \n",
       "1  engin deprec note engin api wa introduc openss...   \n",
       "2  zeronet build statushttpstravisciorghellozeron...   \n",
       "\n",
       "                                          lemmatized  \n",
       "0  ccxt cryptocurrency exchange trading library b...  \n",
       "1  engine deprecation note engine api wa introduc...  \n",
       "2  zeronet build statushttpstravisciorghellozeron...  "
      ]
     },
     "execution_count": 32,
     "metadata": {},
     "output_type": "execute_result"
    }
   ],
   "source": [
    "# Apply prepare article data function to the raw data to create clean, stemmed and lemmatized columns\n",
    "\n",
    "prep_article_data(data, 'readme_contents', extra_words = [''], exclude_words = ['']).head(3)"
   ]
  },
  {
   "cell_type": "markdown",
   "id": "cc515c8d",
   "metadata": {},
   "source": [
    "Original data contained 1,133,237 characters and after wrangling the final explore Github repositories contained 773640- a difference of 359,597. "
   ]
  },
  {
   "cell_type": "code",
   "execution_count": 53,
   "id": "660cb87c",
   "metadata": {},
   "outputs": [
    {
     "name": "stdout",
     "output_type": "stream",
     "text": [
      "Original Data Size: 1133237 \n",
      "Cleaned Data Size: 773640\n"
     ]
    }
   ],
   "source": [
    "# Original vs cleaned data\n",
    "\n",
    "original_data_len = data['readme_contents'].str.len().sum()\n",
    "cleaned_data_len = data['clean'].str.len().sum()\n",
    "print(f\"Original Data Size: {original_data_len} \\nCleaned Data Size: {cleaned_data_len}\")"
   ]
  },
  {
   "cell_type": "markdown",
   "id": "5c3fc8e2",
   "metadata": {},
   "source": [
    "#### Data Info summary"
   ]
  },
  {
   "cell_type": "code",
   "execution_count": 51,
   "id": "60957d0a",
   "metadata": {},
   "outputs": [
    {
     "name": "stdout",
     "output_type": "stream",
     "text": [
      "<class 'pandas.core.frame.DataFrame'>\n",
      "RangeIndex: 132 entries, 0 to 131\n",
      "Data columns (total 6 columns):\n",
      " #   Column           Non-Null Count  Dtype \n",
      "---  ------           --------------  ----- \n",
      " 0   repo             132 non-null    object\n",
      " 1   language         132 non-null    object\n",
      " 2   readme_contents  132 non-null    object\n",
      " 3   clean            132 non-null    object\n",
      " 4   stemmed          132 non-null    object\n",
      " 5   lemmatized       132 non-null    object\n",
      "dtypes: object(6)\n",
      "memory usage: 6.3+ KB\n"
     ]
    }
   ],
   "source": [
    "data.info()"
   ]
  },
  {
   "cell_type": "markdown",
   "id": "db38fb14",
   "metadata": {},
   "source": [
    "### Split the data"
   ]
  },
  {
   "cell_type": "code",
   "execution_count": null,
   "id": "c0d34e00",
   "metadata": {},
   "outputs": [],
   "source": []
  },
  {
   "cell_type": "code",
   "execution_count": null,
   "id": "91cd4012",
   "metadata": {},
   "outputs": [],
   "source": []
  },
  {
   "cell_type": "code",
   "execution_count": null,
   "id": "855325e5",
   "metadata": {},
   "outputs": [],
   "source": []
  },
  {
   "cell_type": "markdown",
   "id": "1ae1c3e1",
   "metadata": {},
   "source": [
    "# Data Exploration "
   ]
  },
  {
   "cell_type": "markdown",
   "id": "75ae5b25",
   "metadata": {},
   "source": [
    "### Initial Questions\n",
    "- What are the most common words in READMEs?\n",
    "\n",
    "- Does the length of the README vary by programming language?\n",
    "\n",
    "- Do different programming languages use a different number of unique words?\n",
    "\n",
    "- Are there any words that uniquely identify a programming language?\n",
    "--------\n",
    "--------\n",
    "## What are the most common words in READMEs?"
   ]
  },
  {
   "cell_type": "markdown",
   "id": "129996b7",
   "metadata": {},
   "source": []
  },
  {
   "cell_type": "code",
   "execution_count": null,
   "id": "21eeb2ff",
   "metadata": {},
   "outputs": [],
   "source": []
  },
  {
   "cell_type": "code",
   "execution_count": null,
   "id": "aea49166",
   "metadata": {},
   "outputs": [],
   "source": []
  },
  {
   "cell_type": "code",
   "execution_count": null,
   "id": "d84e58d5",
   "metadata": {},
   "outputs": [],
   "source": []
  },
  {
   "cell_type": "markdown",
   "id": "1f8b2330",
   "metadata": {},
   "source": [
    "**Takeaways:**\n",
    "* tbd\n",
    "-----------\n",
    "## Does the length of the README vary by programming language?"
   ]
  },
  {
   "cell_type": "code",
   "execution_count": null,
   "id": "51d33b35",
   "metadata": {},
   "outputs": [],
   "source": []
  },
  {
   "cell_type": "code",
   "execution_count": null,
   "id": "2f7f7b76",
   "metadata": {},
   "outputs": [],
   "source": []
  },
  {
   "cell_type": "code",
   "execution_count": null,
   "id": "3676f646",
   "metadata": {},
   "outputs": [],
   "source": []
  },
  {
   "cell_type": "markdown",
   "id": "dabd319a",
   "metadata": {},
   "source": [
    "**Takeaways:**\n",
    "* tbd\n",
    "-----------\n",
    "## Do different programming languages use a different number of unique words?"
   ]
  },
  {
   "cell_type": "code",
   "execution_count": null,
   "id": "dde9c6e7",
   "metadata": {},
   "outputs": [],
   "source": []
  },
  {
   "cell_type": "code",
   "execution_count": null,
   "id": "4a5ad533",
   "metadata": {},
   "outputs": [],
   "source": []
  },
  {
   "cell_type": "code",
   "execution_count": null,
   "id": "d5479bb5",
   "metadata": {},
   "outputs": [],
   "source": []
  },
  {
   "cell_type": "markdown",
   "id": "fd716a2d",
   "metadata": {},
   "source": [
    "**Takeaways:**\n",
    "* tbd\n",
    "-----------\n",
    "## Are there any words that uniquely identify a programming language?"
   ]
  },
  {
   "cell_type": "code",
   "execution_count": null,
   "id": "5c0cc3db",
   "metadata": {},
   "outputs": [],
   "source": []
  },
  {
   "cell_type": "code",
   "execution_count": null,
   "id": "1ab60470",
   "metadata": {},
   "outputs": [],
   "source": []
  },
  {
   "cell_type": "code",
   "execution_count": null,
   "id": "367ea850",
   "metadata": {},
   "outputs": [],
   "source": []
  },
  {
   "cell_type": "code",
   "execution_count": null,
   "id": "08e8ce76",
   "metadata": {},
   "outputs": [],
   "source": []
  },
  {
   "cell_type": "markdown",
   "id": "140d2f66",
   "metadata": {},
   "source": [
    "**Takeaways:**\n",
    "* tbd\n",
    "-----------\n",
    "# Conclusion "
   ]
  },
  {
   "cell_type": "markdown",
   "id": "0f06fc29",
   "metadata": {},
   "source": [
    "# Key Findings From Exploration"
   ]
  },
  {
   "cell_type": "markdown",
   "id": "a1633b71",
   "metadata": {},
   "source": []
  },
  {
   "cell_type": "markdown",
   "id": "d99d1b3f",
   "metadata": {},
   "source": [
    "# Recommendation"
   ]
  },
  {
   "cell_type": "markdown",
   "id": "29277ce7",
   "metadata": {},
   "source": [
    "* tbd\n",
    "* tbd\n",
    "* tbd"
   ]
  },
  {
   "cell_type": "markdown",
   "id": "c1a15d0e",
   "metadata": {},
   "source": [
    "# Next Step"
   ]
  },
  {
   "cell_type": "markdown",
   "id": "9d25c58d",
   "metadata": {},
   "source": [
    "* TBD\n",
    "* TBD\n"
   ]
  },
  {
   "cell_type": "code",
   "execution_count": null,
   "id": "c1df8108",
   "metadata": {},
   "outputs": [],
   "source": []
  }
 ],
 "metadata": {
  "kernelspec": {
   "display_name": "Python 3 (ipykernel)",
   "language": "python",
   "name": "python3"
  },
  "language_info": {
   "codemirror_mode": {
    "name": "ipython",
    "version": 3
   },
   "file_extension": ".py",
   "mimetype": "text/x-python",
   "name": "python",
   "nbconvert_exporter": "python",
   "pygments_lexer": "ipython3",
   "version": "3.9.7"
  }
 },
 "nbformat": 4,
 "nbformat_minor": 5
}
