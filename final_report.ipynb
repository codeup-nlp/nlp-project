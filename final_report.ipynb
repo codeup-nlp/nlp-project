{
 "cells": [
  {
   "cell_type": "markdown",
   "id": "80e5a268",
   "metadata": {},
   "source": [
    "# Categorizing Coding Languages with README Files\n",
    "Mathias Boissevain | Stephen Kipkurui | Braeden Wright | Craig Calzado \n",
    "\n",
    "May 17, 2022"
   ]
  },
  {
   "cell_type": "markdown",
   "id": "9b0c69dc",
   "metadata": {},
   "source": [
    "# Project Goal"
   ]
  },
  {
   "cell_type": "markdown",
   "id": "b3790382",
   "metadata": {},
   "source": [
    "**For this project we are building a model that can predict the main programming language of a repository, given the text of the README file. We will use 100 different README files from repositories available on GitHub, and use Natural Language Processing on the text within to build our model.**"
   ]
  },
  {
   "cell_type": "markdown",
   "id": "8eb8e9cd",
   "metadata": {},
   "source": [
    "__________\n",
    "\n",
    "# Executive Summary\n",
    "\n",
    "___________\n",
    "***We explored the data and discovered:***\n",
    "\n",
    "- \n",
    "- \n",
    "- \n",
    "\n",
    "***Recommandations:***\n",
    "- \n",
    "- \n",
    "- \n",
    "- \n",
    "\n",
    "***Next Step:***\n",
    "- \n",
    "- \n",
    "-\n"
   ]
  },
  {
   "cell_type": "markdown",
   "id": "e31aba63",
   "metadata": {},
   "source": [
    "# Planning\n",
    "- Setup repository environment (.gitignore, README.md)\n",
    "- __Acquire Data:__\n",
    "    - Import base_acquire.py function that scraps slightly over 100 Github repositories and returns raw data. \n",
    "- __Prepare Data:__\n",
    "    - Perform basic clean of data\n",
    "    - Tokenize data\n",
    "    - Perform data stemming\n",
    "    - Lemmatize the data\n",
    "    - Removes Stopwords\n",
    "    - Split the data into train, validate and test\n",
    "       \n",
    "- __Explore Data:__\n",
    "    - Using Natural Language Processing (NLP) methodologies to further investigate the project goals.\n",
    "    - Create Visualizations\n",
    "    - Create and test Models \n",
    "    - Summarize findings\n",
    "    \n",
    "- __Deliverables:__\n",
    "    - This Github repository\n",
    "    - Powerpoint slides <a>https://docs.google.com/presentation/d/1uqp20l36bEUZK94Rtpab25Aq80QhSghQ1nXXIlHlKcU/edit#slide=id.p</a>\n",
    "    - Stakeholders --> anyone/ public"
   ]
  },
  {
   "cell_type": "markdown",
   "id": "a20eb471",
   "metadata": {},
   "source": [
    "## Import Menagerie"
   ]
  },
  {
   "cell_type": "code",
   "execution_count": 8,
   "id": "dcda9f3a",
   "metadata": {},
   "outputs": [],
   "source": [
    "# Basics\n",
    "import numpy as np\n",
    "import pandas as pd\n",
    "import nltk\n",
    "import re\n",
    "import os\n",
    "import json\n",
    "\n",
    "# Visuals\n",
    "import matplotlib.pyplot as plt\n",
    "import seaborn as sns\n",
    "\n",
    "# Speciality\n",
    "from typing import Dict, List, Optional, Union, cast\n",
    "import requests\n",
    "from pprint import pprint\n",
    "from sklearn.feature_extraction.text import CountVectorizer\n",
    "\n",
    "\n",
    "# Custom\n",
    "import base_acquire\n",
    "import wrangle\n",
    "\n",
    "# Make sure we can see the full scale of the data\n",
    "pd.set_option('display.max_columns', None)\n",
    "pd.set_option('display.max_rows', None)\n",
    "\n",
    "# plotting defaults\n",
    "plt.rc('figure', figsize=(11, 5))\n",
    "plt.style.use('seaborn-whitegrid')\n",
    "plt.rc('font', size=16)"
   ]
  },
  {
   "cell_type": "markdown",
   "id": "54297e4d",
   "metadata": {},
   "source": [
    "# Acquire the data"
   ]
  },
  {
   "cell_type": "markdown",
   "id": "81758e73",
   "metadata": {},
   "source": [
    "**We acquired the data from repositories found on GitHub, and pulled them into a dataframe using web scrapping and functions from our acquire.py file and saved the data in a .json file**"
   ]
  },
  {
   "cell_type": "code",
   "execution_count": null,
   "id": "e2e26ab8",
   "metadata": {},
   "outputs": [],
   "source": [
    "# Pull dataframe"
   ]
  },
  {
   "cell_type": "markdown",
   "id": "251d0cda",
   "metadata": {},
   "source": [
    "# Data Wrangle"
   ]
  },
  {
   "cell_type": "markdown",
   "id": "db38fb14",
   "metadata": {},
   "source": [
    "* tbd\n",
    "* tbd                     \n",
    "* Download cleaned data to a .json"
   ]
  },
  {
   "cell_type": "markdown",
   "id": "1ae1c3e1",
   "metadata": {},
   "source": [
    "# Data Exploration "
   ]
  },
  {
   "cell_type": "markdown",
   "id": "75ae5b25",
   "metadata": {},
   "source": [
    "### Initial Questions\n",
    "- What are the most common words in READMEs?\n",
    "\n",
    "- Does the length of the README vary by programming language?\n",
    "\n",
    "- Do different programming languages use a different number of unique words?\n",
    "\n",
    "- Are there any words that uniquely identify a programming language?\n",
    "--------\n",
    "--------\n",
    "## What are the most common words in READMEs?"
   ]
  },
  {
   "cell_type": "markdown",
   "id": "129996b7",
   "metadata": {},
   "source": []
  },
  {
   "cell_type": "code",
   "execution_count": null,
   "id": "21eeb2ff",
   "metadata": {},
   "outputs": [],
   "source": []
  },
  {
   "cell_type": "code",
   "execution_count": null,
   "id": "aea49166",
   "metadata": {},
   "outputs": [],
   "source": []
  },
  {
   "cell_type": "code",
   "execution_count": null,
   "id": "d84e58d5",
   "metadata": {},
   "outputs": [],
   "source": []
  },
  {
   "cell_type": "markdown",
   "id": "1f8b2330",
   "metadata": {},
   "source": [
    "**Takeaways:**\n",
    "* tbd\n",
    "-----------\n",
    "## Does the length of the README vary by programming language?"
   ]
  },
  {
   "cell_type": "code",
   "execution_count": null,
   "id": "51d33b35",
   "metadata": {},
   "outputs": [],
   "source": []
  },
  {
   "cell_type": "code",
   "execution_count": null,
   "id": "2f7f7b76",
   "metadata": {},
   "outputs": [],
   "source": []
  },
  {
   "cell_type": "code",
   "execution_count": null,
   "id": "3676f646",
   "metadata": {},
   "outputs": [],
   "source": []
  },
  {
   "cell_type": "markdown",
   "id": "dabd319a",
   "metadata": {},
   "source": [
    "**Takeaways:**\n",
    "* tbd\n",
    "-----------\n",
    "## Do different programming languages use a different number of unique words?"
   ]
  },
  {
   "cell_type": "code",
   "execution_count": null,
   "id": "dde9c6e7",
   "metadata": {},
   "outputs": [],
   "source": []
  },
  {
   "cell_type": "code",
   "execution_count": null,
   "id": "4a5ad533",
   "metadata": {},
   "outputs": [],
   "source": []
  },
  {
   "cell_type": "code",
   "execution_count": null,
   "id": "d5479bb5",
   "metadata": {},
   "outputs": [],
   "source": []
  },
  {
   "cell_type": "markdown",
   "id": "fd716a2d",
   "metadata": {},
   "source": [
    "**Takeaways:**\n",
    "* tbd\n",
    "-----------\n",
    "## Are there any words that uniquely identify a programming language?"
   ]
  },
  {
   "cell_type": "code",
   "execution_count": null,
   "id": "5c0cc3db",
   "metadata": {},
   "outputs": [],
   "source": []
  },
  {
   "cell_type": "code",
   "execution_count": null,
   "id": "1ab60470",
   "metadata": {},
   "outputs": [],
   "source": []
  },
  {
   "cell_type": "code",
   "execution_count": null,
   "id": "367ea850",
   "metadata": {},
   "outputs": [],
   "source": []
  },
  {
   "cell_type": "code",
   "execution_count": null,
   "id": "08e8ce76",
   "metadata": {},
   "outputs": [],
   "source": []
  },
  {
   "cell_type": "markdown",
   "id": "140d2f66",
   "metadata": {},
   "source": [
    "**Takeaways:**\n",
    "* tbd\n",
    "-----------\n",
    "# Conclusion "
   ]
  },
  {
   "cell_type": "markdown",
   "id": "0f06fc29",
   "metadata": {},
   "source": [
    "# Key Findings From Exploration"
   ]
  },
  {
   "cell_type": "markdown",
   "id": "a1633b71",
   "metadata": {},
   "source": []
  },
  {
   "cell_type": "markdown",
   "id": "d99d1b3f",
   "metadata": {},
   "source": [
    "# Recommendation"
   ]
  },
  {
   "cell_type": "markdown",
   "id": "29277ce7",
   "metadata": {},
   "source": [
    "* tbd\n",
    "* tbd\n",
    "* tbd"
   ]
  },
  {
   "cell_type": "markdown",
   "id": "c1a15d0e",
   "metadata": {},
   "source": [
    "# Next Step"
   ]
  },
  {
   "cell_type": "markdown",
   "id": "9d25c58d",
   "metadata": {},
   "source": [
    "* TBD\n",
    "* TBD\n"
   ]
  },
  {
   "cell_type": "code",
   "execution_count": null,
   "id": "c1df8108",
   "metadata": {},
   "outputs": [],
   "source": []
  }
 ],
 "metadata": {
  "kernelspec": {
   "display_name": "Python 3 (ipykernel)",
   "language": "python",
   "name": "python3"
  },
  "language_info": {
   "codemirror_mode": {
    "name": "ipython",
    "version": 3
   },
   "file_extension": ".py",
   "mimetype": "text/x-python",
   "name": "python",
   "nbconvert_exporter": "python",
   "pygments_lexer": "ipython3",
   "version": "3.9.7"
  }
 },
 "nbformat": 4,
 "nbformat_minor": 5
}
