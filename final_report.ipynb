{
 "cells": [
  {
   "cell_type": "markdown",
   "id": "80e5a268",
   "metadata": {},
   "source": [
    "# Categorizing Coding Languages with README Files\n",
    "Mathias Boissevain | Stephen Kipkurui | Braeden Wright | Craig Calzado "
   ]
  },
  {
   "cell_type": "markdown",
   "id": "9b0c69dc",
   "metadata": {},
   "source": [
    "# Project Goal"
   ]
  },
  {
   "cell_type": "markdown",
   "id": "b3790382",
   "metadata": {},
   "source": [
    "**For this project we are building a model that can predict the main programming language of a repository, given the text of the README file. We will use 100 different README files from repositories available on GitHub, and use Natural Language Processing on the text within to build our model.  We will fisrt attempt to determine if the repo represents one of the top (3,5,?) coding languages used overall, then using a seperate model we will narrow down which language is most likely being used(all based on what is written in the README file)**"
   ]
  },
  {
   "cell_type": "markdown",
   "id": "8eb8e9cd",
   "metadata": {},
   "source": [
    "# Planning\n",
    "* Setup repository environment (.gitignore, README.md)\n",
    "* Make sure the .json/.csv file containing the dataset is accessible\n",
    "* Import and test our acquire and wrangle functions\n",
    "\n",
    "\n",
    "\n",
    "# Executive Summary\n",
    "***We explored the data and discovered:***\n",
    "\n",
    "\n",
    "\n",
    "***Recommandations:***\n",
    "\n",
    "\n",
    "\n",
    "***Next Step:***\n",
    "- Acquire a larger random sample of github repositories for increased accuracy on model\n",
    "- Identify different features to further access README file(such as if there is a graphic in the README)\n",
    "- \n",
    "--------------\n",
    "## Import Menagerie"
   ]
  },
  {
   "cell_type": "code",
   "execution_count": 2,
   "id": "110027b6",
   "metadata": {},
   "outputs": [],
   "source": [
    "# Basics\n",
    "import numpy as np\n",
    "import pandas as pd\n",
    "import nltk\n",
    "import re\n",
    "import os\n",
    "import json\n",
    "\n",
    "# Visuals\n",
    "import matplotlib.pyplot as plt\n",
    "import seaborn as sns\n",
    "\n",
    "# Speciality\n",
    "from typing import Dict, List, Optional, Union, cast\n",
    "import requests\n",
    "from pprint import pprint\n",
    "from sklearn.feature_extraction.text import CountVectorizer\n",
    "\n",
    "\n",
    "# Custom\n",
    "import base_acquire\n",
    "import wrangle\n",
    "\n",
    "# Make sure we can see the full scale of the data\n",
    "pd.set_option('display.max_columns', None)\n",
    "pd.set_option('display.max_rows', None)\n",
    "\n",
    "# plotting defaults\n",
    "plt.rc('figure', figsize=(11, 5))\n",
    "plt.style.use('seaborn-whitegrid')\n",
    "plt.rc('font', size=16)"
   ]
  },
  {
   "cell_type": "markdown",
   "id": "54297e4d",
   "metadata": {},
   "source": [
    "# Acquire the data"
   ]
  },
  {
   "cell_type": "markdown",
   "id": "81758e73",
   "metadata": {},
   "source": [
    "**We acquired the data from repositories found on GitHub, and pulled them into a dataframe using web scrapping and functions from our acquire.py file and saved the data in a .json file**"
   ]
  },
  {
   "cell_type": "code",
   "execution_count": 7,
   "id": "e2e26ab8",
   "metadata": {},
   "outputs": [
    {
     "name": "stdout",
     "output_type": "stream",
     "text": [
      "Reading data from json file...\n"
     ]
    },
    {
     "data": {
      "text/html": [
       "<div>\n",
       "<style scoped>\n",
       "    .dataframe tbody tr th:only-of-type {\n",
       "        vertical-align: middle;\n",
       "    }\n",
       "\n",
       "    .dataframe tbody tr th {\n",
       "        vertical-align: top;\n",
       "    }\n",
       "\n",
       "    .dataframe thead th {\n",
       "        text-align: right;\n",
       "    }\n",
       "</style>\n",
       "<table border=\"1\" class=\"dataframe\">\n",
       "  <thead>\n",
       "    <tr style=\"text-align: right;\">\n",
       "      <th></th>\n",
       "      <th>repo</th>\n",
       "      <th>language</th>\n",
       "      <th>readme_contents</th>\n",
       "    </tr>\n",
       "  </thead>\n",
       "  <tbody>\n",
       "    <tr>\n",
       "      <th>0</th>\n",
       "      <td>ccxt/ccxt</td>\n",
       "      <td>JavaScript</td>\n",
       "      <td># CCXT – CryptoCurrency eXchange Trading Libra...</td>\n",
       "    </tr>\n",
       "    <tr>\n",
       "      <th>1</th>\n",
       "      <td>openssl/openssl</td>\n",
       "      <td>C</td>\n",
       "      <td>Engines\\n=======\\n\\nDeprecation Note\\n--------...</td>\n",
       "    </tr>\n",
       "    <tr>\n",
       "      <th>2</th>\n",
       "      <td>HelloZeroNet/ZeroNet</td>\n",
       "      <td>JavaScript</td>\n",
       "      <td># ZeroNet [![Build Status](https://travis-ci.o...</td>\n",
       "    </tr>\n",
       "    <tr>\n",
       "      <th>3</th>\n",
       "      <td>freqtrade/freqtrade</td>\n",
       "      <td>Python</td>\n",
       "      <td># ![freqtrade](https://raw.githubusercontent.c...</td>\n",
       "    </tr>\n",
       "    <tr>\n",
       "      <th>4</th>\n",
       "      <td>amark/gun</td>\n",
       "      <td>JavaScript</td>\n",
       "      <td>&lt;p id=\"readme\"&gt;&lt;a href=\"https://gun.eco/\"&gt;&lt;img...</td>\n",
       "    </tr>\n",
       "  </tbody>\n",
       "</table>\n",
       "</div>"
      ],
      "text/plain": [
       "                   repo    language  \\\n",
       "0             ccxt/ccxt  JavaScript   \n",
       "1       openssl/openssl           C   \n",
       "2  HelloZeroNet/ZeroNet  JavaScript   \n",
       "3   freqtrade/freqtrade      Python   \n",
       "4             amark/gun  JavaScript   \n",
       "\n",
       "                                     readme_contents  \n",
       "0  # CCXT – CryptoCurrency eXchange Trading Libra...  \n",
       "1  Engines\\n=======\\n\\nDeprecation Note\\n--------...  \n",
       "2  # ZeroNet [![Build Status](https://travis-ci.o...  \n",
       "3  # ![freqtrade](https://raw.githubusercontent.c...  \n",
       "4  <p id=\"readme\"><a href=\"https://gun.eco/\"><img...  "
      ]
     },
     "execution_count": 7,
     "metadata": {},
     "output_type": "execute_result"
    }
   ],
   "source": [
    "# Pull dataframe\n",
    "if os.path.exists('data.json'):\n",
    "    print('Reading data from json file...')\n",
    "    df = pd.read_json('data.json')\n",
    "else:\n",
    "    print('Scrapping data from Github...')\n",
    "    df = pd.DataFrame(base_acquire.scrape_github_data())\n",
    "    # download cleaned data to a .json\n",
    "    df.to_json('data.json')\n",
    "    \n",
    "df.head()"
   ]
  },
  {
   "cell_type": "code",
   "execution_count": null,
   "id": "ded0eba3",
   "metadata": {},
   "outputs": [],
   "source": []
  },
  {
   "cell_type": "markdown",
   "id": "251d0cda",
   "metadata": {},
   "source": [
    "# Data Wrangle"
   ]
  },
  {
   "cell_type": "markdown",
   "id": "db38fb14",
   "metadata": {},
   "source": [
    "* Using publicly available repositories from Github, \n",
    "* Using function from wrangle.py, cleaned the data                     \n",
    "* Download cleaned data to a .json"
   ]
  },
  {
   "cell_type": "markdown",
   "id": "1ae1c3e1",
   "metadata": {},
   "source": [
    "# Data Exploration "
   ]
  },
  {
   "cell_type": "markdown",
   "id": "75ae5b25",
   "metadata": {},
   "source": [
    "### Initial Questions\n",
    "- What are the most common words in READMEs?\n",
    "\n",
    "- Does the length of the README vary by programming language?\n",
    "\n",
    "- Do different programming languages use a different number of unique words?\n",
    "\n",
    "- Are there any words that uniquely identify a programming language?\n",
    "--------\n",
    "--------\n",
    "## What are the most common words in READMEs?"
   ]
  },
  {
   "cell_type": "markdown",
   "id": "129996b7",
   "metadata": {},
   "source": []
  },
  {
   "cell_type": "code",
   "execution_count": null,
   "id": "b843b588",
   "metadata": {},
   "outputs": [],
   "source": []
  },
  {
   "cell_type": "code",
   "execution_count": null,
   "id": "43f01a63",
   "metadata": {},
   "outputs": [],
   "source": []
  },
  {
   "cell_type": "code",
   "execution_count": null,
   "id": "67ec44ae",
   "metadata": {},
   "outputs": [],
   "source": []
  },
  {
   "cell_type": "markdown",
   "id": "97de8494",
   "metadata": {},
   "source": [
    "**Takeaways:**\n",
    "* tbd\n",
    "-----------\n",
    "## Does the length of the README vary by programming language?"
   ]
  },
  {
   "cell_type": "code",
   "execution_count": null,
   "id": "2ae41118",
   "metadata": {},
   "outputs": [],
   "source": []
  },
  {
   "cell_type": "code",
   "execution_count": null,
   "id": "f1928065",
   "metadata": {},
   "outputs": [],
   "source": []
  },
  {
   "cell_type": "code",
   "execution_count": null,
   "id": "7944e3f4",
   "metadata": {},
   "outputs": [],
   "source": []
  },
  {
   "cell_type": "markdown",
   "id": "0a890cae",
   "metadata": {},
   "source": [
    "**Takeaways:**\n",
    "* tbd\n",
    "-----------\n",
    "## Do different programming languages use a different number of unique words?"
   ]
  },
  {
   "cell_type": "code",
   "execution_count": null,
   "id": "704cd7f7",
   "metadata": {},
   "outputs": [],
   "source": []
  },
  {
   "cell_type": "code",
   "execution_count": null,
   "id": "d71fdbed",
   "metadata": {},
   "outputs": [],
   "source": []
  },
  {
   "cell_type": "code",
   "execution_count": null,
   "id": "609abe6b",
   "metadata": {},
   "outputs": [],
   "source": []
  },
  {
   "cell_type": "markdown",
   "id": "fa3c0494",
   "metadata": {},
   "source": [
    "**Takeaways:**\n",
    "* tbd\n",
    "-----------\n",
    "## Are there any words that uniquely identify a programming language?"
   ]
  },
  {
   "cell_type": "code",
   "execution_count": null,
   "id": "97bda78d",
   "metadata": {},
   "outputs": [],
   "source": []
  },
  {
   "cell_type": "code",
   "execution_count": null,
   "id": "c012278d",
   "metadata": {},
   "outputs": [],
   "source": []
  },
  {
   "cell_type": "code",
   "execution_count": null,
   "id": "0fd3ac66",
   "metadata": {},
   "outputs": [],
   "source": []
  },
  {
   "cell_type": "code",
   "execution_count": null,
   "id": "944a0692",
   "metadata": {},
   "outputs": [],
   "source": []
  },
  {
   "cell_type": "markdown",
   "id": "140d2f66",
   "metadata": {},
   "source": [
    "**Takeaways:**\n",
    "* tbd\n",
    "-----------\n",
    "# Conclusion "
   ]
  },
  {
   "cell_type": "markdown",
   "id": "0f06fc29",
   "metadata": {},
   "source": [
    "# Key Findings From Exploration"
   ]
  },
  {
   "cell_type": "markdown",
   "id": "a1633b71",
   "metadata": {},
   "source": []
  },
  {
   "cell_type": "markdown",
   "id": "d99d1b3f",
   "metadata": {},
   "source": [
    "# Recommendation"
   ]
  },
  {
   "cell_type": "markdown",
   "id": "29277ce7",
   "metadata": {},
   "source": [
    "* tbd\n",
    "* tbd\n",
    "* tbd"
   ]
  },
  {
   "cell_type": "markdown",
   "id": "c1a15d0e",
   "metadata": {},
   "source": [
    "# Next Step"
   ]
  },
  {
   "cell_type": "markdown",
   "id": "9d25c58d",
   "metadata": {},
   "source": [
    "* TBD\n",
    "* TBD\n"
   ]
  },
  {
   "cell_type": "code",
   "execution_count": null,
   "id": "c1df8108",
   "metadata": {},
   "outputs": [],
   "source": []
  }
 ],
 "metadata": {
  "kernelspec": {
   "display_name": "Python 3 (ipykernel)",
   "language": "python",
   "name": "python3"
  },
  "language_info": {
   "codemirror_mode": {
    "name": "ipython",
    "version": 3
   },
   "file_extension": ".py",
   "mimetype": "text/x-python",
   "name": "python",
   "nbconvert_exporter": "python",
   "pygments_lexer": "ipython3",
   "version": "3.9.7"
  }
 },
 "nbformat": 4,
 "nbformat_minor": 5
}
