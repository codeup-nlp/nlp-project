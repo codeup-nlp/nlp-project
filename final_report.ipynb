{
 "cells": [
  {
   "cell_type": "markdown",
   "id": "80e5a268",
   "metadata": {},
   "source": [
    "# Categorizing Coding Languages with README Files\n",
    "Mathias Boissevain | Stephen Kipkurui | Braeden Wright | Craig Calzado "
   ]
  },
  {
   "cell_type": "markdown",
   "id": "9b0c69dc",
   "metadata": {},
   "source": [
    "# Project Goal"
   ]
  },
  {
   "cell_type": "markdown",
   "id": "b3790382",
   "metadata": {},
   "source": [
    "**For this project we are building a model that can predict the main programming language of a repository, given the text of the README file. We will use 100 different README files from repositories available on GitHub, and use Natural Language Processing on the text within to build our model.  We will fisrt attempt to determine if the repo represents one of the top (3,5,?) coding languages used overall, then using a seperate model we will narrow down which language is most likely being used(all based on what is written in the README file)**"
   ]
  },
  {
   "cell_type": "markdown",
   "id": "8eb8e9cd",
   "metadata": {},
   "source": [
    "# Planning\n",
    "* Setup repository environment (.gitignore, README.md)\n",
    "* Make sure the .json/.csv file containing the dataset is accessible\n",
    "* Import and test our acquire and wrangle functions\n",
    "\n",
    "\n",
    "\n",
    "# Executive Summary\n",
    "***We explored the data and discovered:***\n",
    "\n",
    "\n",
    "\n",
    "***Recommandations:***\n",
    "\n",
    "\n",
    "\n",
    "***Next Step:***\n",
    "- Acquire a larger random sample of github repositories for increased accuracy on model\n",
    "- Identify different features to further access README file(such as if there is a graphic in the README)\n",
    "- \n",
    "--------------\n",
    "## Import Menagerie"
   ]
  },
  {
   "cell_type": "code",
   "execution_count": 1,
   "id": "110027b6",
   "metadata": {},
   "outputs": [],
   "source": [
    "# Basics\n",
    "import numpy as np\n",
    "import pandas as pd\n",
    "import nltk\n",
    "import re\n",
    "import os\n",
    "import json\n",
    "\n",
    "# Visuals\n",
    "import matplotlib.pyplot as plt\n",
    "import seaborn as sns\n",
    "\n",
    "# Speciality\n",
    "from typing import Dict, List, Optional, Union, cast\n",
    "import requests\n",
    "from pprint import pprint\n",
    "from sklearn.feature_extraction.text import CountVectorizer\n",
    "\n",
    "\n",
    "# Custom\n",
    "import base_acquire\n",
    "import wrangle\n",
    "\n",
    "# Make sure we can see the full scale of the data\n",
    "pd.set_option('display.max_columns', None)\n",
    "pd.set_option('display.max_rows', None)\n",
    "\n",
    "# plotting defaults\n",
    "plt.rc('figure', figsize=(11, 5))\n",
    "plt.style.use('seaborn-whitegrid')\n",
    "plt.rc('font', size=16)"
   ]
  },
  {
   "cell_type": "markdown",
   "id": "54297e4d",
   "metadata": {},
   "source": [
    "# Acquire the data"
   ]
  },
  {
   "cell_type": "markdown",
   "id": "81758e73",
   "metadata": {},
   "source": [
    "**We acquired the data from repositories found on GitHub, and pulled them into a dataframe using web scrapping and functions from our acquire.py file and saved the data in a .json file**"
   ]
  },
  {
   "cell_type": "code",
   "execution_count": 2,
   "id": "e2e26ab8",
   "metadata": {},
   "outputs": [
    {
     "name": "stdout",
     "output_type": "stream",
     "text": [
      "Reading data from json file...\n"
     ]
    },
    {
     "data": {
      "text/html": [
       "<div>\n",
       "<style scoped>\n",
       "    .dataframe tbody tr th:only-of-type {\n",
       "        vertical-align: middle;\n",
       "    }\n",
       "\n",
       "    .dataframe tbody tr th {\n",
       "        vertical-align: top;\n",
       "    }\n",
       "\n",
       "    .dataframe thead th {\n",
       "        text-align: right;\n",
       "    }\n",
       "</style>\n",
       "<table border=\"1\" class=\"dataframe\">\n",
       "  <thead>\n",
       "    <tr style=\"text-align: right;\">\n",
       "      <th></th>\n",
       "      <th>repo</th>\n",
       "      <th>language</th>\n",
       "      <th>readme_contents</th>\n",
       "    </tr>\n",
       "  </thead>\n",
       "  <tbody>\n",
       "    <tr>\n",
       "      <th>0</th>\n",
       "      <td>ccxt/ccxt</td>\n",
       "      <td>JavaScript</td>\n",
       "      <td># CCXT – CryptoCurrency eXchange Trading Libra...</td>\n",
       "    </tr>\n",
       "    <tr>\n",
       "      <th>1</th>\n",
       "      <td>openssl/openssl</td>\n",
       "      <td>C</td>\n",
       "      <td>Engines\\n=======\\n\\nDeprecation Note\\n--------...</td>\n",
       "    </tr>\n",
       "    <tr>\n",
       "      <th>2</th>\n",
       "      <td>HelloZeroNet/ZeroNet</td>\n",
       "      <td>JavaScript</td>\n",
       "      <td># ZeroNet [![Build Status](https://travis-ci.o...</td>\n",
       "    </tr>\n",
       "    <tr>\n",
       "      <th>3</th>\n",
       "      <td>freqtrade/freqtrade</td>\n",
       "      <td>Python</td>\n",
       "      <td># ![freqtrade](https://raw.githubusercontent.c...</td>\n",
       "    </tr>\n",
       "    <tr>\n",
       "      <th>4</th>\n",
       "      <td>amark/gun</td>\n",
       "      <td>JavaScript</td>\n",
       "      <td>&lt;p id=\"readme\"&gt;&lt;a href=\"https://gun.eco/\"&gt;&lt;img...</td>\n",
       "    </tr>\n",
       "  </tbody>\n",
       "</table>\n",
       "</div>"
      ],
      "text/plain": [
       "                   repo    language  \\\n",
       "0             ccxt/ccxt  JavaScript   \n",
       "1       openssl/openssl           C   \n",
       "2  HelloZeroNet/ZeroNet  JavaScript   \n",
       "3   freqtrade/freqtrade      Python   \n",
       "4             amark/gun  JavaScript   \n",
       "\n",
       "                                     readme_contents  \n",
       "0  # CCXT – CryptoCurrency eXchange Trading Libra...  \n",
       "1  Engines\\n=======\\n\\nDeprecation Note\\n--------...  \n",
       "2  # ZeroNet [![Build Status](https://travis-ci.o...  \n",
       "3  # ![freqtrade](https://raw.githubusercontent.c...  \n",
       "4  <p id=\"readme\"><a href=\"https://gun.eco/\"><img...  "
      ]
     },
     "execution_count": 2,
     "metadata": {},
     "output_type": "execute_result"
    }
   ],
   "source": [
    "# Pull dataframe\n",
    "if os.path.exists('data.json'):\n",
    "    print('Reading data from json file...')\n",
    "    df = pd.read_json('data.json')\n",
    "else:\n",
    "    print('Scrapping data from Github...')\n",
    "    df = pd.DataFrame(base_acquire.scrape_github_data())\n",
    "    # download cleaned data to a .json\n",
    "    df.to_json('data.json')\n",
    "    \n",
    "df.head()"
   ]
  },
  {
   "cell_type": "code",
   "execution_count": 3,
   "id": "ded0eba3",
   "metadata": {},
   "outputs": [
    {
     "data": {
      "text/html": [
       "<div>\n",
       "<style scoped>\n",
       "    .dataframe tbody tr th:only-of-type {\n",
       "        vertical-align: middle;\n",
       "    }\n",
       "\n",
       "    .dataframe tbody tr th {\n",
       "        vertical-align: top;\n",
       "    }\n",
       "\n",
       "    .dataframe thead th {\n",
       "        text-align: right;\n",
       "    }\n",
       "</style>\n",
       "<table border=\"1\" class=\"dataframe\">\n",
       "  <thead>\n",
       "    <tr style=\"text-align: right;\">\n",
       "      <th></th>\n",
       "      <th>repo</th>\n",
       "      <th>language</th>\n",
       "      <th>readme_contents</th>\n",
       "      <th>clean_text</th>\n",
       "      <th>text_length</th>\n",
       "    </tr>\n",
       "  </thead>\n",
       "  <tbody>\n",
       "    <tr>\n",
       "      <th>0</th>\n",
       "      <td>ccxt/ccxt</td>\n",
       "      <td>javascript</td>\n",
       "      <td># CCXT – CryptoCurrency eXchange Trading Libra...</td>\n",
       "      <td>ccxt cryptocurrency exchange trading library b...</td>\n",
       "      <td>53807</td>\n",
       "    </tr>\n",
       "    <tr>\n",
       "      <th>1</th>\n",
       "      <td>openssl/openssl</td>\n",
       "      <td>c</td>\n",
       "      <td>Engines\\n=======\\n\\nDeprecation Note\\n--------...</td>\n",
       "      <td>engine deprecation note engine api introduced ...</td>\n",
       "      <td>10357</td>\n",
       "    </tr>\n",
       "    <tr>\n",
       "      <th>2</th>\n",
       "      <td>HelloZeroNet/ZeroNet</td>\n",
       "      <td>javascript</td>\n",
       "      <td># ZeroNet [![Build Status](https://travis-ci.o...</td>\n",
       "      <td>zeronet build statushttpstravisciorghellozeron...</td>\n",
       "      <td>3866</td>\n",
       "    </tr>\n",
       "    <tr>\n",
       "      <th>3</th>\n",
       "      <td>freqtrade/freqtrade</td>\n",
       "      <td>python</td>\n",
       "      <td># ![freqtrade](https://raw.githubusercontent.c...</td>\n",
       "      <td>freqtradehttpsrawgithubusercontentcomfreqtrade...</td>\n",
       "      <td>7995</td>\n",
       "    </tr>\n",
       "    <tr>\n",
       "      <th>4</th>\n",
       "      <td>amark/gun</td>\n",
       "      <td>javascript</td>\n",
       "      <td>&lt;p id=\"readme\"&gt;&lt;a href=\"https://gun.eco/\"&gt;&lt;img...</td>\n",
       "      <td>p idreadmea hrefhttpsgunecoimg width40 srchttp...</td>\n",
       "      <td>14774</td>\n",
       "    </tr>\n",
       "  </tbody>\n",
       "</table>\n",
       "</div>"
      ],
      "text/plain": [
       "                   repo    language  \\\n",
       "0             ccxt/ccxt  javascript   \n",
       "1       openssl/openssl           c   \n",
       "2  HelloZeroNet/ZeroNet  javascript   \n",
       "3   freqtrade/freqtrade      python   \n",
       "4             amark/gun  javascript   \n",
       "\n",
       "                                     readme_contents  \\\n",
       "0  # CCXT – CryptoCurrency eXchange Trading Libra...   \n",
       "1  Engines\\n=======\\n\\nDeprecation Note\\n--------...   \n",
       "2  # ZeroNet [![Build Status](https://travis-ci.o...   \n",
       "3  # ![freqtrade](https://raw.githubusercontent.c...   \n",
       "4  <p id=\"readme\"><a href=\"https://gun.eco/\"><img...   \n",
       "\n",
       "                                          clean_text  text_length  \n",
       "0  ccxt cryptocurrency exchange trading library b...        53807  \n",
       "1  engine deprecation note engine api introduced ...        10357  \n",
       "2  zeronet build statushttpstravisciorghellozeron...         3866  \n",
       "3  freqtradehttpsrawgithubusercontentcomfreqtrade...         7995  \n",
       "4  p idreadmea hrefhttpsgunecoimg width40 srchttp...        14774  "
      ]
     },
     "execution_count": 3,
     "metadata": {},
     "output_type": "execute_result"
    }
   ],
   "source": [
    "# Clean the README text\n",
    "df['clean_text'] = df['readme_contents'].apply(wrangle.clean).apply(' '.join)\n",
    "df['language'] = df['language'].str.lower()\n",
    "\n",
    "# Feature Engineer README length\n",
    "df['text_length'] = df.clean_text.apply(len)\n",
    "df.head()"
   ]
  },
  {
   "cell_type": "code",
   "execution_count": null,
   "id": "f0b33a3d",
   "metadata": {},
   "outputs": [],
   "source": []
  },
  {
   "cell_type": "markdown",
   "id": "251d0cda",
   "metadata": {},
   "source": [
    "# Data Wrangle"
   ]
  },
  {
   "cell_type": "markdown",
   "id": "db38fb14",
   "metadata": {},
   "source": [
    "* Using publicly available repositories from Github, \n",
    "* Using function from wrangle.py, cleaned the data                     \n",
    "* Download cleaned data to a .json"
   ]
  },
  {
   "cell_type": "markdown",
   "id": "1ae1c3e1",
   "metadata": {},
   "source": [
    "# Data Exploration "
   ]
  },
  {
   "cell_type": "markdown",
   "id": "75ae5b25",
   "metadata": {},
   "source": [
    "### Initial Questions\n",
    "- What are the most common words in READMEs?\n",
    "\n",
    "- Does the length of the README vary by programming language?\n",
    "\n",
    "- Do different programming languages use a different number of unique words?\n",
    "\n",
    "- Are there any words that uniquely identify a programming language?\n",
    "--------\n",
    "--------\n",
    "## What are the most common words in READMEs?"
   ]
  },
  {
   "cell_type": "code",
   "execution_count": 4,
   "id": "b6bd08b2",
   "metadata": {},
   "outputs": [],
   "source": [
    "# Set up word counts dataframe\n",
    "all_text = ' '.join(df.clean_text)\n",
    "javascript_text = ' '.join(df[df.language == 'javascript'].clean_text)\n",
    "python_text = ' '.join(df[df.language == 'python'].clean_text)\n",
    "html_text = ' '.join(df[df.language == 'html'].clean_text)\n",
    "cplusplus_text = ' '.join(df[df.language == 'c++'].clean_text)\n",
    "java_text = ' '.join(df[df.language == 'java'].clean_text)"
   ]
  },
  {
   "cell_type": "code",
   "execution_count": 5,
   "id": "b843b588",
   "metadata": {},
   "outputs": [],
   "source": [
    "all_text = wrangle.clean(all_text)\n",
    "javascript_text = wrangle.clean(javascript_text)\n",
    "python_text = wrangle.clean(python_text)\n",
    "html_text = wrangle.clean(html_text)\n",
    "cplusplus_text = wrangle.clean(cplusplus_text)\n",
    "java_text = wrangle.clean(java_text)"
   ]
  },
  {
   "cell_type": "code",
   "execution_count": 6,
   "id": "43f01a63",
   "metadata": {},
   "outputs": [],
   "source": [
    "all_freq = pd.Series(str(all_text).split()).value_counts()\n",
    "javascript_freq = pd.Series(str(javascript_text).split()).value_counts()\n",
    "python_freq = pd.Series(str(python_text).split()).value_counts()\n",
    "html_freq = pd.Series(str(html_text).split()).value_counts()\n",
    "cplusplus_freq = pd.Series(str(cplusplus_text).split()).value_counts()\n",
    "java_freq = pd.Series(str(java_text).split()).value_counts()"
   ]
  },
  {
   "cell_type": "code",
   "execution_count": 8,
   "id": "67ec44ae",
   "metadata": {},
   "outputs": [],
   "source": [
    "word_counts = pd.concat([all_freq, javascript_freq, python_freq, html_freq, cplusplus_freq, java_freq], sort=True, axis=1)\n",
    "word_counts.columns = ['all', 'javascript', 'python', 'html', 'c++', 'java']\n",
    "word_counts = word_counts.fillna(0).apply(lambda s: s.astype(int))"
   ]
  },
  {
   "cell_type": "code",
   "execution_count": 13,
   "id": "cb305f06",
   "metadata": {},
   "outputs": [
    {
     "data": {
      "text/html": [
       "<div>\n",
       "<style scoped>\n",
       "    .dataframe tbody tr th:only-of-type {\n",
       "        vertical-align: middle;\n",
       "    }\n",
       "\n",
       "    .dataframe tbody tr th {\n",
       "        vertical-align: top;\n",
       "    }\n",
       "\n",
       "    .dataframe thead th {\n",
       "        text-align: right;\n",
       "    }\n",
       "</style>\n",
       "<table border=\"1\" class=\"dataframe\">\n",
       "  <thead>\n",
       "    <tr style=\"text-align: right;\">\n",
       "      <th></th>\n",
       "      <th>all</th>\n",
       "      <th>javascript</th>\n",
       "      <th>python</th>\n",
       "      <th>html</th>\n",
       "      <th>c++</th>\n",
       "      <th>java</th>\n",
       "    </tr>\n",
       "  </thead>\n",
       "  <tbody>\n",
       "    <tr>\n",
       "      <th>'data',</th>\n",
       "      <td>623</td>\n",
       "      <td>73</td>\n",
       "      <td>63</td>\n",
       "      <td>266</td>\n",
       "      <td>31</td>\n",
       "      <td>18</td>\n",
       "    </tr>\n",
       "    <tr>\n",
       "      <th>'version',</th>\n",
       "      <td>410</td>\n",
       "      <td>179</td>\n",
       "      <td>19</td>\n",
       "      <td>25</td>\n",
       "      <td>43</td>\n",
       "      <td>16</td>\n",
       "    </tr>\n",
       "    <tr>\n",
       "      <th>'use',</th>\n",
       "      <td>401</td>\n",
       "      <td>91</td>\n",
       "      <td>61</td>\n",
       "      <td>28</td>\n",
       "      <td>52</td>\n",
       "      <td>14</td>\n",
       "    </tr>\n",
       "    <tr>\n",
       "      <th>'run',</th>\n",
       "      <td>343</td>\n",
       "      <td>106</td>\n",
       "      <td>34</td>\n",
       "      <td>24</td>\n",
       "      <td>41</td>\n",
       "      <td>16</td>\n",
       "    </tr>\n",
       "    <tr>\n",
       "      <th>'code',</th>\n",
       "      <td>333</td>\n",
       "      <td>61</td>\n",
       "      <td>37</td>\n",
       "      <td>44</td>\n",
       "      <td>70</td>\n",
       "      <td>11</td>\n",
       "    </tr>\n",
       "    <tr>\n",
       "      <th>'project',</th>\n",
       "      <td>316</td>\n",
       "      <td>59</td>\n",
       "      <td>68</td>\n",
       "      <td>54</td>\n",
       "      <td>34</td>\n",
       "      <td>8</td>\n",
       "    </tr>\n",
       "    <tr>\n",
       "      <th>'build',</th>\n",
       "      <td>309</td>\n",
       "      <td>65</td>\n",
       "      <td>11</td>\n",
       "      <td>5</td>\n",
       "      <td>87</td>\n",
       "      <td>12</td>\n",
       "    </tr>\n",
       "    <tr>\n",
       "      <th>'using',</th>\n",
       "      <td>299</td>\n",
       "      <td>78</td>\n",
       "      <td>34</td>\n",
       "      <td>34</td>\n",
       "      <td>26</td>\n",
       "      <td>10</td>\n",
       "    </tr>\n",
       "    <tr>\n",
       "      <th>'install',</th>\n",
       "      <td>295</td>\n",
       "      <td>85</td>\n",
       "      <td>68</td>\n",
       "      <td>15</td>\n",
       "      <td>58</td>\n",
       "      <td>4</td>\n",
       "    </tr>\n",
       "    <tr>\n",
       "      <th>'file',</th>\n",
       "      <td>292</td>\n",
       "      <td>60</td>\n",
       "      <td>26</td>\n",
       "      <td>39</td>\n",
       "      <td>39</td>\n",
       "      <td>14</td>\n",
       "    </tr>\n",
       "    <tr>\n",
       "      <th>'api',</th>\n",
       "      <td>279</td>\n",
       "      <td>183</td>\n",
       "      <td>19</td>\n",
       "      <td>14</td>\n",
       "      <td>4</td>\n",
       "      <td>19</td>\n",
       "    </tr>\n",
       "    <tr>\n",
       "      <th>'source',</th>\n",
       "      <td>266</td>\n",
       "      <td>20</td>\n",
       "      <td>34</td>\n",
       "      <td>49</td>\n",
       "      <td>38</td>\n",
       "      <td>34</td>\n",
       "    </tr>\n",
       "    <tr>\n",
       "      <th>'var',</th>\n",
       "      <td>247</td>\n",
       "      <td>239</td>\n",
       "      <td>0</td>\n",
       "      <td>1</td>\n",
       "      <td>0</td>\n",
       "      <td>2</td>\n",
       "    </tr>\n",
       "    <tr>\n",
       "      <th>'test',</th>\n",
       "      <td>228</td>\n",
       "      <td>57</td>\n",
       "      <td>19</td>\n",
       "      <td>21</td>\n",
       "      <td>59</td>\n",
       "      <td>12</td>\n",
       "    </tr>\n",
       "    <tr>\n",
       "      <th>'1',</th>\n",
       "      <td>228</td>\n",
       "      <td>60</td>\n",
       "      <td>41</td>\n",
       "      <td>39</td>\n",
       "      <td>20</td>\n",
       "      <td>15</td>\n",
       "    </tr>\n",
       "    <tr>\n",
       "      <th>'img',</th>\n",
       "      <td>222</td>\n",
       "      <td>23</td>\n",
       "      <td>58</td>\n",
       "      <td>8</td>\n",
       "      <td>3</td>\n",
       "      <td>5</td>\n",
       "    </tr>\n",
       "    <tr>\n",
       "      <th>'key',</th>\n",
       "      <td>202</td>\n",
       "      <td>109</td>\n",
       "      <td>6</td>\n",
       "      <td>4</td>\n",
       "      <td>5</td>\n",
       "      <td>7</td>\n",
       "    </tr>\n",
       "    <tr>\n",
       "      <th>'make',</th>\n",
       "      <td>191</td>\n",
       "      <td>35</td>\n",
       "      <td>21</td>\n",
       "      <td>33</td>\n",
       "      <td>24</td>\n",
       "      <td>3</td>\n",
       "    </tr>\n",
       "    <tr>\n",
       "      <th>'see',</th>\n",
       "      <td>188</td>\n",
       "      <td>32</td>\n",
       "      <td>19</td>\n",
       "      <td>19</td>\n",
       "      <td>47</td>\n",
       "      <td>5</td>\n",
       "    </tr>\n",
       "    <tr>\n",
       "      <th>'also',</th>\n",
       "      <td>187</td>\n",
       "      <td>42</td>\n",
       "      <td>24</td>\n",
       "      <td>20</td>\n",
       "      <td>32</td>\n",
       "      <td>10</td>\n",
       "    </tr>\n",
       "    <tr>\n",
       "      <th>'please',</th>\n",
       "      <td>187</td>\n",
       "      <td>29</td>\n",
       "      <td>26</td>\n",
       "      <td>28</td>\n",
       "      <td>31</td>\n",
       "      <td>7</td>\n",
       "    </tr>\n",
       "    <tr>\n",
       "      <th>'python',</th>\n",
       "      <td>184</td>\n",
       "      <td>20</td>\n",
       "      <td>69</td>\n",
       "      <td>4</td>\n",
       "      <td>17</td>\n",
       "      <td>0</td>\n",
       "    </tr>\n",
       "    <tr>\n",
       "      <th>'new',</th>\n",
       "      <td>178</td>\n",
       "      <td>38</td>\n",
       "      <td>29</td>\n",
       "      <td>33</td>\n",
       "      <td>13</td>\n",
       "      <td>24</td>\n",
       "    </tr>\n",
       "    <tr>\n",
       "      <th>'open',</th>\n",
       "      <td>176</td>\n",
       "      <td>20</td>\n",
       "      <td>29</td>\n",
       "      <td>23</td>\n",
       "      <td>20</td>\n",
       "      <td>8</td>\n",
       "    </tr>\n",
       "    <tr>\n",
       "      <th>'type',</th>\n",
       "      <td>170</td>\n",
       "      <td>69</td>\n",
       "      <td>6</td>\n",
       "      <td>18</td>\n",
       "      <td>12</td>\n",
       "      <td>31</td>\n",
       "    </tr>\n",
       "  </tbody>\n",
       "</table>\n",
       "</div>"
      ],
      "text/plain": [
       "            all  javascript  python  html  c++  java\n",
       "'data',     623          73      63   266   31    18\n",
       "'version',  410         179      19    25   43    16\n",
       "'use',      401          91      61    28   52    14\n",
       "'run',      343         106      34    24   41    16\n",
       "'code',     333          61      37    44   70    11\n",
       "'project',  316          59      68    54   34     8\n",
       "'build',    309          65      11     5   87    12\n",
       "'using',    299          78      34    34   26    10\n",
       "'install',  295          85      68    15   58     4\n",
       "'file',     292          60      26    39   39    14\n",
       "'api',      279         183      19    14    4    19\n",
       "'source',   266          20      34    49   38    34\n",
       "'var',      247         239       0     1    0     2\n",
       "'test',     228          57      19    21   59    12\n",
       "'1',        228          60      41    39   20    15\n",
       "'img',      222          23      58     8    3     5\n",
       "'key',      202         109       6     4    5     7\n",
       "'make',     191          35      21    33   24     3\n",
       "'see',      188          32      19    19   47     5\n",
       "'also',     187          42      24    20   32    10\n",
       "'please',   187          29      26    28   31     7\n",
       "'python',   184          20      69     4   17     0\n",
       "'new',      178          38      29    33   13    24\n",
       "'open',     176          20      29    23   20     8\n",
       "'type',     170          69       6    18   12    31"
      ]
     },
     "execution_count": 13,
     "metadata": {},
     "output_type": "execute_result"
    }
   ],
   "source": [
    "top_25 = word_counts.sort_values(by='all', ascending=False).head(25)\n",
    "top_25"
   ]
  },
  {
   "cell_type": "code",
   "execution_count": 17,
   "id": "596bf57f",
   "metadata": {},
   "outputs": [
    {
     "data": {
      "image/png": "[encoded data removed]",
      "text/plain": [
       "<Figure size 792x360 with 1 Axes>"
      ]
     },
     "metadata": {},
     "output_type": "display_data"
    }
   ],
   "source": [
    "# Visualize word distribution\n",
    "word_counts.sort_values(by='all', ascending=False)[['all', 'javascript', 'python', 'html']].head(9).plot.bar()\n",
    "plt.title('Words Used Most in README Files')\n",
    "plt.xlabel('Nine Most Common Words Used')\n",
    "plt.ylabel('Word Quantity')\n",
    "plt.show()"
   ]
  },
  {
   "cell_type": "markdown",
   "id": "97de8494",
   "metadata": {},
   "source": [
    "**Takeaways:**\n",
    "* While not common, there are two or 3 words that lean heavily towards one programing language over another. ('Data' for example makes the repo most likely HTML)\n",
    "-----------\n",
    "## Does the length of the README vary by programming language?"
   ]
  },
  {
   "cell_type": "code",
   "execution_count": 18,
   "id": "2ae41118",
   "metadata": {},
   "outputs": [
    {
     "data": {
      "text/plain": [
       "count      132.000000\n",
       "mean      5786.871212\n",
       "std       7012.838453\n",
       "min         67.000000\n",
       "25%       2029.750000\n",
       "50%       3799.000000\n",
       "75%       7329.250000\n",
       "max      53807.000000\n",
       "Name: text_length, dtype: float64"
      ]
     },
     "execution_count": 18,
     "metadata": {},
     "output_type": "execute_result"
    }
   ],
   "source": [
    "# Thankfully we've already feature engineeer a column containing the REAME length\n",
    "# We can quickly look into this one\n",
    "df.text_length.describe()"
   ]
  },
  {
   "cell_type": "code",
   "execution_count": 39,
   "id": "f1928065",
   "metadata": {},
   "outputs": [
    {
     "data": {
      "text/plain": [
       "Text(0.5, 0, '')"
      ]
     },
     "execution_count": 39,
     "metadata": {},
     "output_type": "execute_result"
    },
    {
     "data": {
      "image/png": "[encoded data removed]",
      "text/plain": [
       "<Figure size 792x360 with 1 Axes>"
      ]
     },
     "metadata": {},
     "output_type": "display_data"
    }
   ],
   "source": [
    "# Shortest 20 REAME(s)\n",
    "df.clean_text.apply(len).sort_values().head(20).plot.bar()\n",
    "plt.title('Word Counts for the 20 Shortest README Files')\n",
    "plt.xlabel('Repository (Index Number)')\n",
    "plt.ylabel('')"
   ]
  },
  {
   "cell_type": "code",
   "execution_count": 32,
   "id": "7944e3f4",
   "metadata": {},
   "outputs": [
    {
     "data": {
      "image/png": "[encoded data removed]",
      "text/plain": [
       "<Figure size 792x360 with 1 Axes>"
      ]
     },
     "metadata": {},
     "output_type": "display_data"
    }
   ],
   "source": [
    "# Longest 20 README(s)\n",
    "df.clean_text.apply(len).sort_values().tail(20).plot.bar()\n",
    "plt.title('Word Counts for the 20 Longest README Files')\n",
    "plt.xlabel('Repository (Index Number)')"
   ]
  },
  {
   "cell_type": "markdown",
   "id": "0a890cae",
   "metadata": {},
   "source": [
    "**Takeaways:**\n",
    "* Largest README sizes reach up to over 53,000 words but most of the larger README's average between 10,000 and 20,000\n",
    "* Smallest README sizes a much shorter, with the bottom 8 being less than 300 words long\n",
    "* The smaller README files average at about 600 words per file.\n",
    "-----------\n",
    "## Do different programming languages use a different number of unique words?"
   ]
  },
  {
   "cell_type": "code",
   "execution_count": 47,
   "id": "704cd7f7",
   "metadata": {},
   "outputs": [
    {
     "data": {
      "image/png": "[encoded data removed]",
      "text/plain": [
       "<Figure size 792x360 with 1 Axes>"
      ]
     },
     "metadata": {},
     "output_type": "display_data"
    }
   ],
   "source": [
    "sns.set_theme(style=\"darkgrid\")\n",
    "titanic = sns.load_dataset(\"titanic\")\n",
    "ax = sns.countplot(x=\"language\", data=df, palette=\"Set3\")\n",
    "ax.tick_params(axis='x', rotation=90)\n",
    "ax.set_xlabel('Programming Language (Readme.md)', size = 16)\n",
    "ax.set_ylabel('Count / Frequency', size = 16)\n",
    "ax.set_title(\"Programming Language Distribution\", size = 20)\n",
    "None"
   ]
  },
  {
   "cell_type": "code",
   "execution_count": null,
   "id": "d71fdbed",
   "metadata": {},
   "outputs": [],
   "source": []
  },
  {
   "cell_type": "code",
   "execution_count": null,
   "id": "609abe6b",
   "metadata": {},
   "outputs": [],
   "source": []
  },
  {
   "cell_type": "markdown",
   "id": "fa3c0494",
   "metadata": {},
   "source": [
    "**Takeaways:**\n",
    "* tbd\n",
    "-----------\n",
    "## Are there any words that uniquely identify a programming language?"
   ]
  },
  {
   "cell_type": "code",
   "execution_count": null,
   "id": "97bda78d",
   "metadata": {},
   "outputs": [],
   "source": []
  },
  {
   "cell_type": "code",
   "execution_count": null,
   "id": "c012278d",
   "metadata": {},
   "outputs": [],
   "source": []
  },
  {
   "cell_type": "code",
   "execution_count": null,
   "id": "0fd3ac66",
   "metadata": {},
   "outputs": [],
   "source": []
  },
  {
   "cell_type": "code",
   "execution_count": null,
   "id": "944a0692",
   "metadata": {},
   "outputs": [],
   "source": []
  },
  {
   "cell_type": "markdown",
   "id": "140d2f66",
   "metadata": {},
   "source": [
    "**Takeaways:**\n",
    "* tbd\n",
    "-----------\n",
    "# Conclusion "
   ]
  },
  {
   "cell_type": "markdown",
   "id": "0f06fc29",
   "metadata": {},
   "source": [
    "# Key Findings From Exploration"
   ]
  },
  {
   "cell_type": "markdown",
   "id": "a1633b71",
   "metadata": {},
   "source": []
  },
  {
   "cell_type": "markdown",
   "id": "d99d1b3f",
   "metadata": {},
   "source": [
    "# Recommendation"
   ]
  },
  {
   "cell_type": "markdown",
   "id": "29277ce7",
   "metadata": {},
   "source": [
    "* tbd\n",
    "* tbd\n",
    "* tbd"
   ]
  },
  {
   "cell_type": "markdown",
   "id": "c1a15d0e",
   "metadata": {},
   "source": [
    "# Next Step"
   ]
  },
  {
   "cell_type": "markdown",
   "id": "9d25c58d",
   "metadata": {},
   "source": [
    "* Acquire a larger random sample of github repositories for increased accuracy on model\n",
    "\n",
    "\n",
    "* Identify different features to further access README file\n",
    "    * graphic or visualization in the README\n",
    "    * Coding example in the README\n",
    "\n",
    "\n",
    "* (THIRD THING)"
   ]
  },
  {
   "cell_type": "code",
   "execution_count": null,
   "id": "c1df8108",
   "metadata": {},
   "outputs": [],
   "source": []
  }
 ],
 "metadata": {
  "kernelspec": {
   "display_name": "Python 3 (ipykernel)",
   "language": "python",
   "name": "python3"
  },
  "language_info": {
   "codemirror_mode": {
    "name": "ipython",
    "version": 3
   },
   "file_extension": ".py",
   "mimetype": "text/x-python",
   "name": "python",
   "nbconvert_exporter": "python",
   "pygments_lexer": "ipython3",
   "version": "3.9.7"
  }
 },
 "nbformat": 4,
 "nbformat_minor": 5
}
