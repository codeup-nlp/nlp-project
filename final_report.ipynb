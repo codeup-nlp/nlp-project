{
 "cells": [
  {
   "cell_type": "markdown",
   "id": "80e5a268",
   "metadata": {},
   "source": [
    "# Categorizing Coding Languages with README Files\n",
    "Mathias Boissevain | Stephen Kipkurui | Braeden Wright | Craig Calzado "
   ]
  },
  {
   "cell_type": "markdown",
   "id": "9b0c69dc",
   "metadata": {},
   "source": [
    "# Project Goal"
   ]
  },
  {
   "cell_type": "markdown",
   "id": "b3790382",
   "metadata": {},
   "source": [
    "**For this project we are building a model that can predict the main programming language of a repository, given the text of the README file. We will use 100 different README files from repositories available on GitHub, and use Natural Language Processing on the text within to build our model.  We will fisrt attempt to determine if the repo represents one of the top (3,5,?) coding languages used overall, then using a seperate model we will narrow down which language is most likely being used(all based on what is written in the README file)**"
   ]
  },
  {
   "cell_type": "markdown",
   "id": "8eb8e9cd",
   "metadata": {},
   "source": [
    "# Planning\n",
    "* Setup repository environment (.gitignore, README.md)\n",
    "* Make sure the .json/.csv file containing the dataset is accessible\n",
    "* Import and test our acquire and wrangle functions\n",
    "\n",
    "\n",
    "\n",
    "# Executive Summary\n",
    "***We explored the data and discovered:***\n",
    "\n",
    "\n",
    "\n",
    "***Recommandations:***\n",
    "\n",
    "\n",
    "\n",
    "***Next Step:***\n",
    "- Acquire a larger random sample of github repositories for increased accuracy on model\n",
    "- Identify different features to further access README file(such as if there is a graphic in the README)\n",
    "- \n",
    "--------------\n",
    "## Import Menagerie"
   ]
  },
  {
   "cell_type": "code",
   "execution_count": 1,
   "id": "110027b6",
   "metadata": {},
   "outputs": [],
   "source": [
    "# Basics\n",
    "import numpy as np\n",
    "import pandas as pd\n",
    "import nltk\n",
    "import re\n",
    "import os\n",
    "import json\n",
    "\n",
    "# Visuals\n",
    "import matplotlib.pyplot as plt\n",
    "import seaborn as sns\n",
    "\n",
    "# Speciality\n",
    "from typing import Dict, List, Optional, Union, cast\n",
    "import requests\n",
    "from pprint import pprint\n",
    "from sklearn.feature_extraction.text import CountVectorizer\n",
    "\n",
    "\n",
    "# Custom\n",
    "import base_acquire\n",
    "import wrangle\n",
    "\n",
    "# Make sure we can see the full scale of the data\n",
    "pd.set_option('display.max_columns', None)\n",
    "pd.set_option('display.max_rows', None)\n",
    "\n",
    "# plotting defaults\n",
    "plt.rc('figure', figsize=(11, 5))\n",
    "plt.style.use('seaborn-whitegrid')\n",
    "plt.rc('font', size=16)"
   ]
  },
  {
   "cell_type": "markdown",
   "id": "54297e4d",
   "metadata": {},
   "source": [
    "# Acquire the data"
   ]
  },
  {
   "cell_type": "markdown",
   "id": "81758e73",
   "metadata": {},
   "source": [
    "**We acquired the data from repositories found on GitHub, and pulled them into a dataframe using web scrapping and functions from our acquire.py file and saved the data in a .json file**"
   ]
  },
  {
   "cell_type": "code",
   "execution_count": 2,
   "id": "e2e26ab8",
   "metadata": {},
   "outputs": [
    {
     "name": "stdout",
     "output_type": "stream",
     "text": [
      "Reading data from json file...\n"
     ]
    },
    {
     "data": {
      "text/html": [
       "<div>\n",
       "<style scoped>\n",
       "    .dataframe tbody tr th:only-of-type {\n",
       "        vertical-align: middle;\n",
       "    }\n",
       "\n",
       "    .dataframe tbody tr th {\n",
       "        vertical-align: top;\n",
       "    }\n",
       "\n",
       "    .dataframe thead th {\n",
       "        text-align: right;\n",
       "    }\n",
       "</style>\n",
       "<table border=\"1\" class=\"dataframe\">\n",
       "  <thead>\n",
       "    <tr style=\"text-align: right;\">\n",
       "      <th></th>\n",
       "      <th>repo</th>\n",
       "      <th>language</th>\n",
       "      <th>readme_contents</th>\n",
       "    </tr>\n",
       "  </thead>\n",
       "  <tbody>\n",
       "    <tr>\n",
       "      <th>0</th>\n",
       "      <td>ccxt/ccxt</td>\n",
       "      <td>JavaScript</td>\n",
       "      <td># CCXT – CryptoCurrency eXchange Trading Libra...</td>\n",
       "    </tr>\n",
       "    <tr>\n",
       "      <th>1</th>\n",
       "      <td>openssl/openssl</td>\n",
       "      <td>C</td>\n",
       "      <td>Engines\\n=======\\n\\nDeprecation Note\\n--------...</td>\n",
       "    </tr>\n",
       "    <tr>\n",
       "      <th>2</th>\n",
       "      <td>HelloZeroNet/ZeroNet</td>\n",
       "      <td>JavaScript</td>\n",
       "      <td># ZeroNet [![Build Status](https://travis-ci.o...</td>\n",
       "    </tr>\n",
       "    <tr>\n",
       "      <th>3</th>\n",
       "      <td>freqtrade/freqtrade</td>\n",
       "      <td>Python</td>\n",
       "      <td># ![freqtrade](https://raw.githubusercontent.c...</td>\n",
       "    </tr>\n",
       "    <tr>\n",
       "      <th>4</th>\n",
       "      <td>amark/gun</td>\n",
       "      <td>JavaScript</td>\n",
       "      <td>&lt;p id=\"readme\"&gt;&lt;a href=\"https://gun.eco/\"&gt;&lt;img...</td>\n",
       "    </tr>\n",
       "  </tbody>\n",
       "</table>\n",
       "</div>"
      ],
      "text/plain": [
       "                   repo    language  \\\n",
       "0             ccxt/ccxt  JavaScript   \n",
       "1       openssl/openssl           C   \n",
       "2  HelloZeroNet/ZeroNet  JavaScript   \n",
       "3   freqtrade/freqtrade      Python   \n",
       "4             amark/gun  JavaScript   \n",
       "\n",
       "                                     readme_contents  \n",
       "0  # CCXT – CryptoCurrency eXchange Trading Libra...  \n",
       "1  Engines\\n=======\\n\\nDeprecation Note\\n--------...  \n",
       "2  # ZeroNet [![Build Status](https://travis-ci.o...  \n",
       "3  # ![freqtrade](https://raw.githubusercontent.c...  \n",
       "4  <p id=\"readme\"><a href=\"https://gun.eco/\"><img...  "
      ]
     },
     "execution_count": 2,
     "metadata": {},
     "output_type": "execute_result"
    }
   ],
   "source": [
    "# Pull dataframe\n",
    "if os.path.exists('data.json'):\n",
    "    print('Reading data from json file...')\n",
    "    df = pd.read_json('data.json')\n",
    "else:\n",
    "    print('Scrapping data from Github...')\n",
    "    df = pd.DataFrame(base_acquire.scrape_github_data())\n",
    "    # download cleaned data to a .json\n",
    "    df.to_json('data.json')\n",
    "    \n",
    "df.head()"
   ]
  },
  {
   "cell_type": "code",
   "execution_count": 3,
   "id": "ded0eba3",
   "metadata": {},
   "outputs": [
    {
     "data": {
      "text/html": [
       "<div>\n",
       "<style scoped>\n",
       "    .dataframe tbody tr th:only-of-type {\n",
       "        vertical-align: middle;\n",
       "    }\n",
       "\n",
       "    .dataframe tbody tr th {\n",
       "        vertical-align: top;\n",
       "    }\n",
       "\n",
       "    .dataframe thead th {\n",
       "        text-align: right;\n",
       "    }\n",
       "</style>\n",
       "<table border=\"1\" class=\"dataframe\">\n",
       "  <thead>\n",
       "    <tr style=\"text-align: right;\">\n",
       "      <th></th>\n",
       "      <th>repo</th>\n",
       "      <th>language</th>\n",
       "      <th>readme_contents</th>\n",
       "      <th>clean_text</th>\n",
       "      <th>text_length</th>\n",
       "    </tr>\n",
       "  </thead>\n",
       "  <tbody>\n",
       "    <tr>\n",
       "      <th>0</th>\n",
       "      <td>ccxt/ccxt</td>\n",
       "      <td>javascript</td>\n",
       "      <td># CCXT – CryptoCurrency eXchange Trading Libra...</td>\n",
       "      <td>ccxt cryptocurrency exchange trading library b...</td>\n",
       "      <td>53807</td>\n",
       "    </tr>\n",
       "    <tr>\n",
       "      <th>1</th>\n",
       "      <td>openssl/openssl</td>\n",
       "      <td>c</td>\n",
       "      <td>Engines\\n=======\\n\\nDeprecation Note\\n--------...</td>\n",
       "      <td>engine deprecation note engine api introduced ...</td>\n",
       "      <td>10357</td>\n",
       "    </tr>\n",
       "    <tr>\n",
       "      <th>2</th>\n",
       "      <td>HelloZeroNet/ZeroNet</td>\n",
       "      <td>javascript</td>\n",
       "      <td># ZeroNet [![Build Status](https://travis-ci.o...</td>\n",
       "      <td>zeronet build statushttpstravisciorghellozeron...</td>\n",
       "      <td>3866</td>\n",
       "    </tr>\n",
       "    <tr>\n",
       "      <th>3</th>\n",
       "      <td>freqtrade/freqtrade</td>\n",
       "      <td>python</td>\n",
       "      <td># ![freqtrade](https://raw.githubusercontent.c...</td>\n",
       "      <td>freqtradehttpsrawgithubusercontentcomfreqtrade...</td>\n",
       "      <td>7995</td>\n",
       "    </tr>\n",
       "    <tr>\n",
       "      <th>4</th>\n",
       "      <td>amark/gun</td>\n",
       "      <td>javascript</td>\n",
       "      <td>&lt;p id=\"readme\"&gt;&lt;a href=\"https://gun.eco/\"&gt;&lt;img...</td>\n",
       "      <td>p idreadmea hrefhttpsgunecoimg width40 srchttp...</td>\n",
       "      <td>14774</td>\n",
       "    </tr>\n",
       "  </tbody>\n",
       "</table>\n",
       "</div>"
      ],
      "text/plain": [
       "                   repo    language  \\\n",
       "0             ccxt/ccxt  javascript   \n",
       "1       openssl/openssl           c   \n",
       "2  HelloZeroNet/ZeroNet  javascript   \n",
       "3   freqtrade/freqtrade      python   \n",
       "4             amark/gun  javascript   \n",
       "\n",
       "                                     readme_contents  \\\n",
       "0  # CCXT – CryptoCurrency eXchange Trading Libra...   \n",
       "1  Engines\\n=======\\n\\nDeprecation Note\\n--------...   \n",
       "2  # ZeroNet [![Build Status](https://travis-ci.o...   \n",
       "3  # ![freqtrade](https://raw.githubusercontent.c...   \n",
       "4  <p id=\"readme\"><a href=\"https://gun.eco/\"><img...   \n",
       "\n",
       "                                          clean_text  text_length  \n",
       "0  ccxt cryptocurrency exchange trading library b...        53807  \n",
       "1  engine deprecation note engine api introduced ...        10357  \n",
       "2  zeronet build statushttpstravisciorghellozeron...         3866  \n",
       "3  freqtradehttpsrawgithubusercontentcomfreqtrade...         7995  \n",
       "4  p idreadmea hrefhttpsgunecoimg width40 srchttp...        14774  "
      ]
     },
     "execution_count": 3,
     "metadata": {},
     "output_type": "execute_result"
    }
   ],
   "source": [
    "# Clean the README text\n",
    "df['clean_text'] = df['readme_contents'].apply(wrangle.clean).apply(' '.join)\n",
    "df['language'] = df['language'].str.lower()\n",
    "\n",
    "# Feature Engineer README length\n",
    "df['text_length'] = df.clean_text.apply(len)\n",
    "df.head()"
   ]
  },
  {
   "cell_type": "code",
   "execution_count": null,
   "id": "f0b33a3d",
   "metadata": {},
   "outputs": [],
   "source": []
  },
  {
   "cell_type": "markdown",
   "id": "251d0cda",
   "metadata": {},
   "source": [
    "# Data Wrangle"
   ]
  },
  {
   "cell_type": "markdown",
   "id": "db38fb14",
   "metadata": {},
   "source": [
    "* Using publicly available repositories from Github, \n",
    "* Using function from wrangle.py, cleaned the data                     \n",
    "* Download cleaned data to a .json"
   ]
  },
  {
   "cell_type": "markdown",
   "id": "1ae1c3e1",
   "metadata": {},
   "source": [
    "# Data Exploration "
   ]
  },
  {
   "cell_type": "markdown",
   "id": "75ae5b25",
   "metadata": {},
   "source": [
    "### Initial Questions\n",
    "- What are the most common words in READMEs?\n",
    "\n",
    "- Does the length of the README vary by programming language?\n",
    "\n",
    "- Do different programming languages use a different number of unique words?\n",
    "\n",
    "- Are there any words that uniquely identify a programming language?\n",
    "--------\n",
    "--------\n",
    "## What are the most common words in READMEs?"
   ]
  },
  {
   "cell_type": "code",
   "execution_count": 4,
   "id": "b6bd08b2",
   "metadata": {},
   "outputs": [],
   "source": [
    "# Set up word counts dataframe\n",
    "all_text = ' '.join(df.clean_text)\n",
    "javascript_text = ' '.join(df[df.language == 'javascript'].clean_text)\n",
    "python_text = ' '.join(df[df.language == 'python'].clean_text)\n",
    "html_text = ' '.join(df[df.language == 'html'].clean_text)\n",
    "cplusplus_text = ' '.join(df[df.language == 'c++'].clean_text)\n",
    "java_text = ' '.join(df[df.language == 'java'].clean_text)"
   ]
  },
  {
   "cell_type": "code",
   "execution_count": 5,
   "id": "b843b588",
   "metadata": {},
   "outputs": [],
   "source": [
    "all_text = wrangle.clean(all_text)\n",
    "javascript_text = wrangle.clean(javascript_text)\n",
    "python_text = wrangle.clean(python_text)\n",
    "html_text = wrangle.clean(html_text)\n",
    "cplusplus_text = wrangle.clean(cplusplus_text)\n",
    "java_text = wrangle.clean(java_text)"
   ]
  },
  {
   "cell_type": "code",
   "execution_count": 6,
   "id": "43f01a63",
   "metadata": {},
   "outputs": [],
   "source": [
    "all_freq = pd.Series(str(all_text).split()).value_counts()\n",
    "javascript_freq = pd.Series(str(javascript_text).split()).value_counts()\n",
    "python_freq = pd.Series(str(python_text).split()).value_counts()\n",
    "html_freq = pd.Series(str(html_text).split()).value_counts()\n",
    "cplusplus_freq = pd.Series(str(cplusplus_text).split()).value_counts()\n",
    "java_freq = pd.Series(str(java_text).split()).value_counts()"
   ]
  },
  {
   "cell_type": "code",
   "execution_count": 8,
   "id": "67ec44ae",
   "metadata": {},
   "outputs": [],
   "source": [
    "word_counts = pd.concat([all_freq, javascript_freq, python_freq, html_freq, cplusplus_freq, java_freq], sort=True, axis=1)\n",
    "word_counts.columns = ['all', 'javascript', 'python', 'html', 'c++', 'java']\n",
    "word_counts = word_counts.fillna(0).apply(lambda s: s.astype(int))"
   ]
  },
  {
   "cell_type": "code",
   "execution_count": 13,
   "id": "cb305f06",
   "metadata": {},
   "outputs": [
    {
     "data": {
      "text/html": [
       "<div>\n",
       "<style scoped>\n",
       "    .dataframe tbody tr th:only-of-type {\n",
       "        vertical-align: middle;\n",
       "    }\n",
       "\n",
       "    .dataframe tbody tr th {\n",
       "        vertical-align: top;\n",
       "    }\n",
       "\n",
       "    .dataframe thead th {\n",
       "        text-align: right;\n",
       "    }\n",
       "</style>\n",
       "<table border=\"1\" class=\"dataframe\">\n",
       "  <thead>\n",
       "    <tr style=\"text-align: right;\">\n",
       "      <th></th>\n",
       "      <th>all</th>\n",
       "      <th>javascript</th>\n",
       "      <th>python</th>\n",
       "      <th>html</th>\n",
       "      <th>c++</th>\n",
       "      <th>java</th>\n",
       "    </tr>\n",
       "  </thead>\n",
       "  <tbody>\n",
       "    <tr>\n",
       "      <th>'data',</th>\n",
       "      <td>623</td>\n",
       "      <td>73</td>\n",
       "      <td>63</td>\n",
       "      <td>266</td>\n",
       "      <td>31</td>\n",
       "      <td>18</td>\n",
       "    </tr>\n",
       "    <tr>\n",
       "      <th>'version',</th>\n",
       "      <td>410</td>\n",
       "      <td>179</td>\n",
       "      <td>19</td>\n",
       "      <td>25</td>\n",
       "      <td>43</td>\n",
       "      <td>16</td>\n",
       "    </tr>\n",
       "    <tr>\n",
       "      <th>'use',</th>\n",
       "      <td>401</td>\n",
       "      <td>91</td>\n",
       "      <td>61</td>\n",
       "      <td>28</td>\n",
       "      <td>52</td>\n",
       "      <td>14</td>\n",
       "    </tr>\n",
       "    <tr>\n",
       "      <th>'run',</th>\n",
       "      <td>343</td>\n",
       "      <td>106</td>\n",
       "      <td>34</td>\n",
       "      <td>24</td>\n",
       "      <td>41</td>\n",
       "      <td>16</td>\n",
       "    </tr>\n",
       "    <tr>\n",
       "      <th>'code',</th>\n",
       "      <td>333</td>\n",
       "      <td>61</td>\n",
       "      <td>37</td>\n",
       "      <td>44</td>\n",
       "      <td>70</td>\n",
       "      <td>11</td>\n",
       "    </tr>\n",
       "    <tr>\n",
       "      <th>'project',</th>\n",
       "      <td>316</td>\n",
       "      <td>59</td>\n",
       "      <td>68</td>\n",
       "      <td>54</td>\n",
       "      <td>34</td>\n",
       "      <td>8</td>\n",
       "    </tr>\n",
       "    <tr>\n",
       "      <th>'build',</th>\n",
       "      <td>309</td>\n",
       "      <td>65</td>\n",
       "      <td>11</td>\n",
       "      <td>5</td>\n",
       "      <td>87</td>\n",
       "      <td>12</td>\n",
       "    </tr>\n",
       "    <tr>\n",
       "      <th>'using',</th>\n",
       "      <td>299</td>\n",
       "      <td>78</td>\n",
       "      <td>34</td>\n",
       "      <td>34</td>\n",
       "      <td>26</td>\n",
       "      <td>10</td>\n",
       "    </tr>\n",
       "    <tr>\n",
       "      <th>'install',</th>\n",
       "      <td>295</td>\n",
       "      <td>85</td>\n",
       "      <td>68</td>\n",
       "      <td>15</td>\n",
       "      <td>58</td>\n",
       "      <td>4</td>\n",
       "    </tr>\n",
       "    <tr>\n",
       "      <th>'file',</th>\n",
       "      <td>292</td>\n",
       "      <td>60</td>\n",
       "      <td>26</td>\n",
       "      <td>39</td>\n",
       "      <td>39</td>\n",
       "      <td>14</td>\n",
       "    </tr>\n",
       "    <tr>\n",
       "      <th>'api',</th>\n",
       "      <td>279</td>\n",
       "      <td>183</td>\n",
       "      <td>19</td>\n",
       "      <td>14</td>\n",
       "      <td>4</td>\n",
       "      <td>19</td>\n",
       "    </tr>\n",
       "    <tr>\n",
       "      <th>'source',</th>\n",
       "      <td>266</td>\n",
       "      <td>20</td>\n",
       "      <td>34</td>\n",
       "      <td>49</td>\n",
       "      <td>38</td>\n",
       "      <td>34</td>\n",
       "    </tr>\n",
       "    <tr>\n",
       "      <th>'var',</th>\n",
       "      <td>247</td>\n",
       "      <td>239</td>\n",
       "      <td>0</td>\n",
       "      <td>1</td>\n",
       "      <td>0</td>\n",
       "      <td>2</td>\n",
       "    </tr>\n",
       "    <tr>\n",
       "      <th>'test',</th>\n",
       "      <td>228</td>\n",
       "      <td>57</td>\n",
       "      <td>19</td>\n",
       "      <td>21</td>\n",
       "      <td>59</td>\n",
       "      <td>12</td>\n",
       "    </tr>\n",
       "    <tr>\n",
       "      <th>'1',</th>\n",
       "      <td>228</td>\n",
       "      <td>60</td>\n",
       "      <td>41</td>\n",
       "      <td>39</td>\n",
       "      <td>20</td>\n",
       "      <td>15</td>\n",
       "    </tr>\n",
       "    <tr>\n",
       "      <th>'img',</th>\n",
       "      <td>222</td>\n",
       "      <td>23</td>\n",
       "      <td>58</td>\n",
       "      <td>8</td>\n",
       "      <td>3</td>\n",
       "      <td>5</td>\n",
       "    </tr>\n",
       "    <tr>\n",
       "      <th>'key',</th>\n",
       "      <td>202</td>\n",
       "      <td>109</td>\n",
       "      <td>6</td>\n",
       "      <td>4</td>\n",
       "      <td>5</td>\n",
       "      <td>7</td>\n",
       "    </tr>\n",
       "    <tr>\n",
       "      <th>'make',</th>\n",
       "      <td>191</td>\n",
       "      <td>35</td>\n",
       "      <td>21</td>\n",
       "      <td>33</td>\n",
       "      <td>24</td>\n",
       "      <td>3</td>\n",
       "    </tr>\n",
       "    <tr>\n",
       "      <th>'see',</th>\n",
       "      <td>188</td>\n",
       "      <td>32</td>\n",
       "      <td>19</td>\n",
       "      <td>19</td>\n",
       "      <td>47</td>\n",
       "      <td>5</td>\n",
       "    </tr>\n",
       "    <tr>\n",
       "      <th>'also',</th>\n",
       "      <td>187</td>\n",
       "      <td>42</td>\n",
       "      <td>24</td>\n",
       "      <td>20</td>\n",
       "      <td>32</td>\n",
       "      <td>10</td>\n",
       "    </tr>\n",
       "    <tr>\n",
       "      <th>'please',</th>\n",
       "      <td>187</td>\n",
       "      <td>29</td>\n",
       "      <td>26</td>\n",
       "      <td>28</td>\n",
       "      <td>31</td>\n",
       "      <td>7</td>\n",
       "    </tr>\n",
       "    <tr>\n",
       "      <th>'python',</th>\n",
       "      <td>184</td>\n",
       "      <td>20</td>\n",
       "      <td>69</td>\n",
       "      <td>4</td>\n",
       "      <td>17</td>\n",
       "      <td>0</td>\n",
       "    </tr>\n",
       "    <tr>\n",
       "      <th>'new',</th>\n",
       "      <td>178</td>\n",
       "      <td>38</td>\n",
       "      <td>29</td>\n",
       "      <td>33</td>\n",
       "      <td>13</td>\n",
       "      <td>24</td>\n",
       "    </tr>\n",
       "    <tr>\n",
       "      <th>'open',</th>\n",
       "      <td>176</td>\n",
       "      <td>20</td>\n",
       "      <td>29</td>\n",
       "      <td>23</td>\n",
       "      <td>20</td>\n",
       "      <td>8</td>\n",
       "    </tr>\n",
       "    <tr>\n",
       "      <th>'type',</th>\n",
       "      <td>170</td>\n",
       "      <td>69</td>\n",
       "      <td>6</td>\n",
       "      <td>18</td>\n",
       "      <td>12</td>\n",
       "      <td>31</td>\n",
       "    </tr>\n",
       "  </tbody>\n",
       "</table>\n",
       "</div>"
      ],
      "text/plain": [
       "            all  javascript  python  html  c++  java\n",
       "'data',     623          73      63   266   31    18\n",
       "'version',  410         179      19    25   43    16\n",
       "'use',      401          91      61    28   52    14\n",
       "'run',      343         106      34    24   41    16\n",
       "'code',     333          61      37    44   70    11\n",
       "'project',  316          59      68    54   34     8\n",
       "'build',    309          65      11     5   87    12\n",
       "'using',    299          78      34    34   26    10\n",
       "'install',  295          85      68    15   58     4\n",
       "'file',     292          60      26    39   39    14\n",
       "'api',      279         183      19    14    4    19\n",
       "'source',   266          20      34    49   38    34\n",
       "'var',      247         239       0     1    0     2\n",
       "'test',     228          57      19    21   59    12\n",
       "'1',        228          60      41    39   20    15\n",
       "'img',      222          23      58     8    3     5\n",
       "'key',      202         109       6     4    5     7\n",
       "'make',     191          35      21    33   24     3\n",
       "'see',      188          32      19    19   47     5\n",
       "'also',     187          42      24    20   32    10\n",
       "'please',   187          29      26    28   31     7\n",
       "'python',   184          20      69     4   17     0\n",
       "'new',      178          38      29    33   13    24\n",
       "'open',     176          20      29    23   20     8\n",
       "'type',     170          69       6    18   12    31"
      ]
     },
     "execution_count": 13,
     "metadata": {},
     "output_type": "execute_result"
    }
   ],
   "source": [
    "top_25 = word_counts.sort_values(by='all', ascending=False).head(25)\n",
    "top_25"
   ]
  },
  {
   "cell_type": "code",
   "execution_count": 17,
   "id": "596bf57f",
   "metadata": {},
   "outputs": [
    {
     "data": {
      "image/png": "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\n",
      "text/plain": [
       "<Figure size 792x360 with 1 Axes>"
      ]
     },
     "metadata": {},
     "output_type": "display_data"
    }
   ],
   "source": [
    "# Visualize word distribution\n",
    "word_counts.sort_values(by='all', ascending=False)[['all', 'javascript', 'python', 'html']].head(9).plot.bar()\n",
    "plt.title('Words Used Most in README Files')\n",
    "plt.xlabel('Nine Most Common Words Used')\n",
    "plt.ylabel('Word Quantity')\n",
    "plt.show()"
   ]
  },
  {
   "cell_type": "markdown",
   "id": "97de8494",
   "metadata": {},
   "source": [
    "**Takeaways:**\n",
    "* While not common, there are two or 3 words that lean heavily towards one programing language over another. ('Data' for example makes the repo most likely HTML)\n",
    "-----------\n",
    "## Does the length of the README vary by programming language?"
   ]
  },
  {
   "cell_type": "code",
   "execution_count": 18,
   "id": "2ae41118",
   "metadata": {},
   "outputs": [
    {
     "data": {
      "text/plain": [
       "count      132.000000\n",
       "mean      5786.871212\n",
       "std       7012.838453\n",
       "min         67.000000\n",
       "25%       2029.750000\n",
       "50%       3799.000000\n",
       "75%       7329.250000\n",
       "max      53807.000000\n",
       "Name: text_length, dtype: float64"
      ]
     },
     "execution_count": 18,
     "metadata": {},
     "output_type": "execute_result"
    }
   ],
   "source": [
    "# Thankfully we've already feature engineeer a column containing the REAME length\n",
    "# We can quickly look into this one\n",
    "df.text_length.describe()"
   ]
  },
  {
   "cell_type": "code",
   "execution_count": 39,
   "id": "f1928065",
   "metadata": {},
   "outputs": [
    {
     "data": {
      "text/plain": [
       "Text(0.5, 0, '')"
      ]
     },
     "execution_count": 39,
     "metadata": {},
     "output_type": "execute_result"
    },
    {
     "data": {
      "image/png": "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\n",
      "text/plain": [
       "<Figure size 792x360 with 1 Axes>"
      ]
     },
     "metadata": {},
     "output_type": "display_data"
    }
   ],
   "source": [
    "# Shortest 20 REAME(s)\n",
    "df.clean_text.apply(len).sort_values().head(20).plot.bar()\n",
    "plt.title('Word Counts for the 20 Shortest README Files')\n",
    "plt.xlabel('Repository (Index Number)')\n",
    "plt.ylabel('')"
   ]
  },
  {
   "cell_type": "code",
   "execution_count": 32,
   "id": "7944e3f4",
   "metadata": {},
   "outputs": [
    {
     "data": {
      "image/png": "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\n",
      "text/plain": [
       "<Figure size 792x360 with 1 Axes>"
      ]
     },
     "metadata": {},
     "output_type": "display_data"
    }
   ],
   "source": [
    "# Longest 20 README(s)\n",
    "df.clean_text.apply(len).sort_values().tail(20).plot.bar()\n",
    "plt.title('Word Counts for the 20 Longest README Files')\n",
    "plt.xlabel('Repository (Index Number)')"
   ]
  },
  {
   "cell_type": "markdown",
   "id": "0a890cae",
   "metadata": {},
   "source": [
    "**Takeaways:**\n",
    "* Largest README sizes reach up to over 53,000 words but most of the larger README's average between 10,000 and 20,000\n",
    "* Smallest README sizes a much shorter, with the bottom 8 being less than 300 words long\n",
    "* The smaller README files average at about 600 words per file.\n",
    "-----------\n",
    "## Do different programming languages use a different number of unique words?"
   ]
  },
  {
   "cell_type": "code",
   "execution_count": 47,
   "id": "704cd7f7",
   "metadata": {},
   "outputs": [
    {
     "data": {
      "image/png": "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\n",
      "text/plain": [
       "<Figure size 792x360 with 1 Axes>"
      ]
     },
     "metadata": {},
     "output_type": "display_data"
    }
   ],
   "source": [
    "sns.set_theme(style=\"darkgrid\")\n",
    "titanic = sns.load_dataset(\"titanic\")\n",
    "ax = sns.countplot(x=\"language\", data=df, palette=\"Set3\")\n",
    "ax.tick_params(axis='x', rotation=90)\n",
    "ax.set_xlabel('Programming Language (Readme.md)', size = 16)\n",
    "ax.set_ylabel('Count / Frequency', size = 16)\n",
    "ax.set_title(\"Programming Language Distribution\", size = 20)\n",
    "None"
   ]
  },
  {
   "cell_type": "code",
   "execution_count": null,
   "id": "d71fdbed",
   "metadata": {},
   "outputs": [],
   "source": []
  },
  {
   "cell_type": "code",
   "execution_count": null,
   "id": "609abe6b",
   "metadata": {},
   "outputs": [],
   "source": []
  },
  {
   "cell_type": "markdown",
   "id": "fa3c0494",
   "metadata": {},
   "source": [
    "**Takeaways:**\n",
    "* tbd\n",
    "-----------\n",
    "## Are there any words that uniquely identify a programming language?"
   ]
  },
  {
   "cell_type": "code",
   "execution_count": 55,
   "id": "e029eddf",
   "metadata": {},
   "outputs": [
    {
     "data": {
      "text/html": [
       "<div>\n",
       "<style scoped>\n",
       "    .dataframe tbody tr th:only-of-type {\n",
       "        vertical-align: middle;\n",
       "    }\n",
       "\n",
       "    .dataframe tbody tr th {\n",
       "        vertical-align: top;\n",
       "    }\n",
       "\n",
       "    .dataframe thead th {\n",
       "        text-align: right;\n",
       "    }\n",
       "</style>\n",
       "<table border=\"1\" class=\"dataframe\">\n",
       "  <thead>\n",
       "    <tr style=\"text-align: right;\">\n",
       "      <th></th>\n",
       "      <th>all</th>\n",
       "      <th>javascript</th>\n",
       "      <th>python</th>\n",
       "      <th>html</th>\n",
       "      <th>c++</th>\n",
       "      <th>java</th>\n",
       "    </tr>\n",
       "  </thead>\n",
       "  <tbody>\n",
       "    <tr>\n",
       "      <th>'data',</th>\n",
       "      <td>623</td>\n",
       "      <td>73</td>\n",
       "      <td>63</td>\n",
       "      <td>266</td>\n",
       "      <td>31</td>\n",
       "      <td>18</td>\n",
       "    </tr>\n",
       "    <tr>\n",
       "      <th>'version',</th>\n",
       "      <td>410</td>\n",
       "      <td>179</td>\n",
       "      <td>19</td>\n",
       "      <td>25</td>\n",
       "      <td>43</td>\n",
       "      <td>16</td>\n",
       "    </tr>\n",
       "    <tr>\n",
       "      <th>'use',</th>\n",
       "      <td>401</td>\n",
       "      <td>91</td>\n",
       "      <td>61</td>\n",
       "      <td>28</td>\n",
       "      <td>52</td>\n",
       "      <td>14</td>\n",
       "    </tr>\n",
       "    <tr>\n",
       "      <th>'run',</th>\n",
       "      <td>343</td>\n",
       "      <td>106</td>\n",
       "      <td>34</td>\n",
       "      <td>24</td>\n",
       "      <td>41</td>\n",
       "      <td>16</td>\n",
       "    </tr>\n",
       "    <tr>\n",
       "      <th>'code',</th>\n",
       "      <td>333</td>\n",
       "      <td>61</td>\n",
       "      <td>37</td>\n",
       "      <td>44</td>\n",
       "      <td>70</td>\n",
       "      <td>11</td>\n",
       "    </tr>\n",
       "    <tr>\n",
       "      <th>'project',</th>\n",
       "      <td>316</td>\n",
       "      <td>59</td>\n",
       "      <td>68</td>\n",
       "      <td>54</td>\n",
       "      <td>34</td>\n",
       "      <td>8</td>\n",
       "    </tr>\n",
       "    <tr>\n",
       "      <th>'build',</th>\n",
       "      <td>309</td>\n",
       "      <td>65</td>\n",
       "      <td>11</td>\n",
       "      <td>5</td>\n",
       "      <td>87</td>\n",
       "      <td>12</td>\n",
       "    </tr>\n",
       "    <tr>\n",
       "      <th>'using',</th>\n",
       "      <td>299</td>\n",
       "      <td>78</td>\n",
       "      <td>34</td>\n",
       "      <td>34</td>\n",
       "      <td>26</td>\n",
       "      <td>10</td>\n",
       "    </tr>\n",
       "    <tr>\n",
       "      <th>'install',</th>\n",
       "      <td>295</td>\n",
       "      <td>85</td>\n",
       "      <td>68</td>\n",
       "      <td>15</td>\n",
       "      <td>58</td>\n",
       "      <td>4</td>\n",
       "    </tr>\n",
       "    <tr>\n",
       "      <th>'file',</th>\n",
       "      <td>292</td>\n",
       "      <td>60</td>\n",
       "      <td>26</td>\n",
       "      <td>39</td>\n",
       "      <td>39</td>\n",
       "      <td>14</td>\n",
       "    </tr>\n",
       "  </tbody>\n",
       "</table>\n",
       "</div>"
      ],
      "text/plain": [
       "            all  javascript  python  html  c++  java\n",
       "'data',     623          73      63   266   31    18\n",
       "'version',  410         179      19    25   43    16\n",
       "'use',      401          91      61    28   52    14\n",
       "'run',      343         106      34    24   41    16\n",
       "'code',     333          61      37    44   70    11\n",
       "'project',  316          59      68    54   34     8\n",
       "'build',    309          65      11     5   87    12\n",
       "'using',    299          78      34    34   26    10\n",
       "'install',  295          85      68    15   58     4\n",
       "'file',     292          60      26    39   39    14"
      ]
     },
     "execution_count": 55,
     "metadata": {},
     "output_type": "execute_result"
    }
   ],
   "source": [
    "# We did a review of the words and could not find any word that fit specifically to one language.\n",
    "word_counts.sort_values(by='all', ascending=False).head(10)"
   ]
  },
  {
   "cell_type": "code",
   "execution_count": 51,
   "id": "97bda78d",
   "metadata": {},
   "outputs": [
    {
     "data": {
      "image/png": "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\n",
      "text/plain": [
       "<Figure size 792x360 with 1 Axes>"
      ]
     },
     "metadata": {},
     "output_type": "display_data"
    }
   ],
   "source": [
    "# Visualize of our search efforts\n",
    "(word_counts\n",
    " .assign(p_javascript = word_counts.javascript / word_counts['all'],\n",
    "         p_python = word_counts.python / word_counts['all'],\n",
    "         p_html = word_counts.html / word_counts['all'],\n",
    "         p_c_plus_plus = word_counts['c++']/ word_counts['all'],\n",
    "         p_java = word_counts.java / word_counts['all']\n",
    "\n",
    "        ).sort_values(by = 'all')\n",
    " [['p_javascript', 'p_python', 'p_html', 'p_c_plus_plus', 'p_java']]\n",
    " .tail(10)\n",
    " .sort_values('p_python')\n",
    " .plot.barh(stacked = True))\n",
    "\n",
    "plt.title('Most Commond Word Distribution among Our Top 5 Languages', size = 20)\n",
    "plt.ylabel('Common Words', size = 16)\n",
    "plt.xlabel('Proportion', size = 16)\n",
    "plt.show()"
   ]
  },
  {
   "cell_type": "markdown",
   "id": "140d2f66",
   "metadata": {},
   "source": [
    "**Takeaways:**\n",
    "* While there are certainly language that dominate the use of one word (such as 'data' being mostly in HTML), there are no taletell words that immediately give away what programming language the README is associated with.\n",
    "-----------\n",
    "# Modeling "
   ]
  },
  {
   "cell_type": "code",
<<<<<<< HEAD
   "execution_count": 57,
   "id": "4ddf9864-edc2-4afc-9692-3973027bbbd7",
=======
   "execution_count": null,
   "id": "4cb6eec2",
>>>>>>> e35eeb96ee4ae8f0b2da81412e6bed569cc7fa28
   "metadata": {},
   "outputs": [],
   "source": [
    "# DummyClassifier from sklearn is used to create a baseline accuracy.\n",
    "from sklearn.dummy import DummyClassifier \n",
    "# TfidfVectorizer is used to create a sparce matrices of tf-idf scores to run through modeling\n",
    "from sklearn.feature_extraction.text import TfidfVectorizer\n",
    "# Import to split the data into train, test, split\n",
    "from sklearn.model_selection import train_test_split\n",
    "# Import to model the data\n",
    "from sklearn.tree import DecisionTreeClassifier, plot_tree\n",
    "from sklearn.ensemble import RandomForestClassifier\n",
    "from sklearn.neighbors import KNeighborsClassifier\n",
    "from sklearn.linear_model import LogisticRegression\n",
    "# Import to understand the data modeling scores\n",
    "from sklearn.metrics import classification_report, accuracy_score\n",
    "# Set Random State\n",
    "rs = 1729"
   ]
  },
  {
   "cell_type": "code",
<<<<<<< HEAD
   "execution_count": 58,
   "id": "59711226-a18c-4652-8cda-b675a6009ea6",
=======
   "execution_count": null,
   "id": "a0105947",
>>>>>>> e35eeb96ee4ae8f0b2da81412e6bed569cc7fa28
   "metadata": {},
   "outputs": [
    {
     "data": {
      "text/plain": [
       "Not Top_five        0.290323\n",
       "JavaScript          0.193548\n",
       "Python              0.161290\n",
       "HTML                0.137097\n",
       "C++                 0.129032\n",
       "Jupyter Notebook    0.088710\n",
       "Name: language, dtype: float64"
      ]
     },
     "execution_count": 58,
     "metadata": {},
     "output_type": "execute_result"
    }
   ],
   "source": [
    "# Create a list of top five languages by appearance in the dataset\n",
    "top_five = ['JavaScript','Python','HTML','C++','Jupyter Notebook']\n",
    "# Create a new version of our df to transform for modeling\n",
    "model_me = data.copy()\n",
    "# Rename the languages that are not in the top 5 \"not_top_five\"\n",
    "model_me['language'] = model_me.language.apply(lambda lang : lang if lang in top_five else \"not_top_five\")\n",
    "# show the distribution\n",
    "model_me.language.value_counts(normalize=True)"
   ]
  },
  {
   "cell_type": "markdown",
   "id": "8c547623-bc59-4deb-a019-fd6bb93b867d",
   "metadata": {},
   "source": [
    "- Our Data was relabeled so that languages that were not in our top 5 were binned into a seperate category. We will be predicting if a README file represents one of the top five frequently used languages or is not in the top five."
   ]
  },
  {
   "cell_type": "code",
<<<<<<< HEAD
   "execution_count": 59,
   "id": "ae386928-b7ac-462e-b895-9c5949001850",
=======
   "execution_count": null,
   "id": "48185f9b",
>>>>>>> e35eeb96ee4ae8f0b2da81412e6bed569cc7fa28
   "metadata": {},
   "outputs": [
    {
     "name": "stdout",
     "output_type": "stream",
     "text": [
      "                  precision    recall  f1-score   support\n",
      "\n",
      "             C++       0.00      0.00      0.00        16\n",
      "            HTML       0.00      0.00      0.00        17\n",
      "      JavaScript       0.00      0.00      0.00        24\n",
      "Jupyter Notebook       0.00      0.00      0.00        11\n",
      "    Not Top_five       0.29      1.00      0.45        36\n",
      "          Python       0.00      0.00      0.00        20\n",
      "\n",
      "        accuracy                           0.29       124\n",
      "       macro avg       0.05      0.17      0.08       124\n",
      "    weighted avg       0.08      0.29      0.13       124\n",
      "\n"
     ]
    }
   ],
   "source": [
    "# Setting a baseline of 'not_top_five'\n",
    "\n",
    "# Here we create and fit the model\n",
    "dummy = DummyClassifier(strategy='most_frequent', random_state = rs)\n",
    "dummy.fit(model_me[model_me.columns[model_me.columns != 'language']], model_me.language)   \n",
    "\n",
    "# Here we create our prediction\n",
    "y_pred = dummy.predict(model_me[model_me.columns[model_me.columns != 'language']])\n",
    "\n",
    "# Check report for current baseline accuracy:\n",
    "print(classification_report(model_me.language, y_pred))"
   ]
  },
  {
   "cell_type": "markdown",
   "id": "748aef23-701e-469f-ae50-8f1aa0243d1c",
   "metadata": {},
   "source": [
    "- For our baseline score 'not_top_five' was used at it is the most frequent occurance in our df."
   ]
  },
  {
   "cell_type": "code",
<<<<<<< HEAD
   "execution_count": 60,
   "id": "bd84bcce-4124-4861-b5f2-20c273bded57",
=======
   "execution_count": null,
   "id": "0510436c",
>>>>>>> e35eeb96ee4ae8f0b2da81412e6bed569cc7fa28
   "metadata": {},
   "outputs": [],
   "source": [
    "# Create the tf-idf model\n",
    "tfidf = TfidfVectorizer()\n",
    "# Fit the model and create the X, y variables for modeling\n",
    "X = tfidf.fit_transform(model_me.clean_text)\n",
    "y = model_me.language \n",
    "# Split the data into train (71%), validate (18.5%), test (10.5%) split\n",
    "X_train_validate, X_test, y_train_validate, y_test = train_test_split(X, y, stratify=y, test_size=.1, random_state = rs)\n",
    "X_train, X_validate, y_train, y_validate = train_test_split(X_train_validate, y_train_validate, stratify=y_train_validate, test_size=.2, random_state = rs)"
   ]
  },
  {
   "cell_type": "markdown",
   "id": "5bb39835-1031-49e2-91d7-e5e2458b15fd",
   "metadata": {},
   "source": [
    "- Term Frequency - Inverse Document Frequency or TF-IDF is the measure we will be using to run our models\n",
    "    - TF is how often the word appears in a document\n",
    "    - IDF is a measure of how many documents the word appears in\n",
    "    - TF-IDF is a combination of these two measures and gives us a good picture of the words present in each document and their weight\n",
    "- Variables are created with X being our TF-IDF scores and y being our target variable\n",
    "- The data is split for modeling with 71 % for Train, 18.5 for Validate, and 10.5 for Test."
   ]
  },
  {
   "cell_type": "code",
<<<<<<< HEAD
   "execution_count": 61,
   "id": "2843db15-5fcd-46b5-8753-653123e862dc",
=======
   "execution_count": null,
   "id": "da536fca",
>>>>>>> e35eeb96ee4ae8f0b2da81412e6bed569cc7fa28
   "metadata": {},
   "outputs": [],
   "source": [
    "# Create Result Dataframes to store actual and predictive scores from the models\n",
    "train = pd.DataFrame(dict(actual=y_train))\n",
    "validate = pd.DataFrame(dict(actual=y_validate))\n",
    "test = pd.DataFrame(dict(actual=y_test))"
   ]
  },
  {
   "cell_type": "code",
<<<<<<< HEAD
   "execution_count": 79,
   "id": "e287380e-b8a1-4933-b6bd-c370e7d4b154",
=======
   "execution_count": null,
   "id": "3608c13f",
>>>>>>> e35eeb96ee4ae8f0b2da81412e6bed569cc7fa28
   "metadata": {},
   "outputs": [],
   "source": [
    "# Create and fit each model\n",
    "lm = LogisticRegression(multi_class='multinomial',random_state=rs).fit(X_train, y_train)\n",
    "dtc = DecisionTreeClassifier(max_depth=3, random_state=rs).fit(X_train, y_train)\n",
    "rf = RandomForestClassifier(min_samples_leaf=3,max_depth=3, random_state=rs).fit(X_train,y_train)\n",
    "knn = KNeighborsClassifier().fit(X_train,y_train)"
   ]
  },
  {
   "cell_type": "markdown",
   "id": "57a1caf7-d297-4239-a68e-27d09c0dc964",
   "metadata": {},
   "source": [
    "- The models we used inherently support multiclass classification problems"
   ]
  },
  {
   "cell_type": "code",
<<<<<<< HEAD
   "execution_count": 80,
   "id": "8b88ce50-32c5-4d21-bee2-51dce92feae3",
=======
   "execution_count": null,
   "id": "d3dfd12e",
>>>>>>> e35eeb96ee4ae8f0b2da81412e6bed569cc7fa28
   "metadata": {},
   "outputs": [],
   "source": [
    "# Store the train predictions in our result df\n",
    "train['lm_predicted'] = lm.predict(X_train)\n",
    "train['dtc_predicted'] = dtc.predict(X_train)\n",
    "train['rf_predicted'] = rf.predict(X_train)\n",
    "train['knn_predicted'] = knn.predict(X_train)"
   ]
  },
  {
   "cell_type": "code",
<<<<<<< HEAD
   "execution_count": 81,
   "id": "f34b876f-100b-4974-b728-1555313a872a",
   "metadata": {},
   "outputs": [
    {
     "name": "stdout",
     "output_type": "stream",
     "text": [
      "Logistic Regression\n",
      "                  precision    recall  f1-score   support\n",
      "\n",
      "             C++       1.00      1.00      1.00        11\n",
      "            HTML       1.00      1.00      1.00        12\n",
      "      JavaScript       1.00      0.94      0.97        18\n",
      "Jupyter Notebook       1.00      0.62      0.77         8\n",
      "    Not Top_five       0.86      1.00      0.93        25\n",
      "          Python       1.00      1.00      1.00        14\n",
      "\n",
      "        accuracy                           0.95        88\n",
      "       macro avg       0.98      0.93      0.94        88\n",
      "    weighted avg       0.96      0.95      0.95        88\n",
      "\n"
     ]
    }
   ],
   "source": [
    "# Show the scores for train on the logistic regression model\n",
    "print('Logistic Regression')\n",
    "print(classification_report(train.actual, train.lm_predicted))"
   ]
  },
  {
   "cell_type": "code",
   "execution_count": 82,
   "id": "b0d7b7ae-c4f7-4fee-ae75-e4923c193c98",
   "metadata": {},
   "outputs": [
    {
     "name": "stdout",
     "output_type": "stream",
     "text": [
      "Decision Tree\n",
      "                  precision    recall  f1-score   support\n",
      "\n",
      "             C++       0.00      0.00      0.00        11\n",
      "            HTML       0.88      0.58      0.70        12\n",
      "      JavaScript       1.00      0.44      0.62        18\n",
      "Jupyter Notebook       1.00      0.75      0.86         8\n",
      "    Not Top_five       0.37      0.96      0.53        25\n",
      "          Python       1.00      0.07      0.13        14\n",
      "\n",
      "        accuracy                           0.52        88\n",
      "       macro avg       0.71      0.47      0.47        88\n",
      "    weighted avg       0.68      0.52      0.47        88\n",
      "\n"
     ]
    }
   ],
   "source": [
    "# Show the scores for train on the Decision Tree model\n",
    "print('Decision Tree')\n",
    "print(classification_report(train.actual, train.dtc_predicted))"
   ]
  },
  {
   "cell_type": "code",
   "execution_count": 83,
   "id": "f382f1fe-0f05-436d-a7cf-e97c1fc0ee75",
   "metadata": {},
   "outputs": [
    {
     "name": "stdout",
     "output_type": "stream",
     "text": [
      "Random Forest\n",
      "                  precision    recall  f1-score   support\n",
      "\n",
      "             C++       1.00      0.18      0.31        11\n",
      "            HTML       1.00      0.17      0.29        12\n",
      "      JavaScript       0.88      0.78      0.82        18\n",
      "Jupyter Notebook       0.00      0.00      0.00         8\n",
      "    Not Top_five       0.40      1.00      0.57        25\n",
      "          Python       1.00      0.36      0.53        14\n",
      "\n",
      "        accuracy                           0.55        88\n",
      "       macro avg       0.71      0.41      0.42        88\n",
      "    weighted avg       0.71      0.55      0.49        88\n",
      "\n"
     ]
    }
   ],
   "source": [
    "# Show the scores for train on the Random Forest Model\n",
    "print('Random Forest')\n",
    "print(classification_report(train.actual, train.rf_predicted))"
   ]
  },
  {
   "cell_type": "code",
   "execution_count": 84,
   "id": "7b1f0e46-3fdb-4a0f-a4de-99fb43105ea1",
   "metadata": {},
   "outputs": [
    {
     "name": "stdout",
     "output_type": "stream",
     "text": [
      "KNN\n",
      "                  precision    recall  f1-score   support\n",
      "\n",
      "             C++       0.50      0.64      0.56        11\n",
      "            HTML       0.52      0.92      0.67        12\n",
      "      JavaScript       0.67      0.56      0.61        18\n",
      "Jupyter Notebook       0.83      0.62      0.71         8\n",
      "    Not Top_five       0.60      0.48      0.53        25\n",
      "          Python       0.58      0.50      0.54        14\n",
      "\n",
      "        accuracy                           0.59        88\n",
      "       macro avg       0.62      0.62      0.60        88\n",
      "    weighted avg       0.61      0.59      0.59        88\n",
      "\n"
     ]
    }
   ],
   "source": [
    "# Show the scores for train on the KNN Model\n",
    "print('KNN')\n",
    "print(classification_report(train.actual, train.knn_predicted))"
   ]
  },
  {
   "cell_type": "markdown",
   "id": "7371e928-852b-4e63-af81-9ad8c88117f8",
   "metadata": {},
   "source": [
    "- In our train phase logistic regression performed far better than our other models"
   ]
  },
  {
   "cell_type": "code",
   "execution_count": 85,
   "id": "50e22099-8693-4a31-a7a8-aeb188a158be",
=======
   "execution_count": null,
   "id": "936a79a5",
>>>>>>> e35eeb96ee4ae8f0b2da81412e6bed569cc7fa28
   "metadata": {},
   "outputs": [],
   "source": [
    "# Assign the validate predictions to the results df\n",
    "validate['lm_predicted'] = lm.predict(X_validate)\n",
    "validate['dtc_predicted'] = dtc.predict(X_validate)\n",
    "validate['rf_predicted'] = rf.predict(X_validate)\n",
    "validate['knn_predicted'] = knn.predict(X_validate)"
   ]
  },
  {
   "cell_type": "code",
<<<<<<< HEAD
   "execution_count": 86,
   "id": "ed664d33-f8aa-4547-9ac5-a999dd580db7",
   "metadata": {},
   "outputs": [
    {
     "name": "stdout",
     "output_type": "stream",
     "text": [
      "Validate on Logistic Regression\n",
      "                  precision    recall  f1-score   support\n",
      "\n",
      "             C++       0.00      0.00      0.00         3\n",
      "            HTML       1.00      0.33      0.50         3\n",
      "      JavaScript       0.50      0.25      0.33         4\n",
      "Jupyter Notebook       0.00      0.00      0.00         2\n",
      "    Not Top_five       0.35      1.00      0.52         7\n",
      "          Python       0.00      0.00      0.00         4\n",
      "\n",
      "        accuracy                           0.39        23\n",
      "       macro avg       0.31      0.26      0.23        23\n",
      "    weighted avg       0.32      0.39      0.28        23\n",
      "\n"
     ]
    }
   ],
   "source": [
    "# Show the scores for validate on the Logistic Regression Model\n",
    "print('Validate on Logistic Regression')\n",
    "print(classification_report(validate.actual, validate.lm_predicted))"
   ]
  },
  {
   "cell_type": "code",
   "execution_count": 87,
   "id": "05bd3c36-1da3-4e49-9d28-d0b26cd07400",
   "metadata": {},
   "outputs": [
    {
     "name": "stdout",
     "output_type": "stream",
     "text": [
      "Validate on Decision Tree\n",
      "                  precision    recall  f1-score   support\n",
      "\n",
      "             C++       0.00      0.00      0.00         3\n",
      "            HTML       1.00      0.33      0.50         3\n",
      "      JavaScript       0.67      0.50      0.57         4\n",
      "Jupyter Notebook       0.67      1.00      0.80         2\n",
      "    Not Top_five       0.38      0.86      0.52         7\n",
      "          Python       0.00      0.00      0.00         4\n",
      "\n",
      "        accuracy                           0.48        23\n",
      "       macro avg       0.45      0.45      0.40        23\n",
      "    weighted avg       0.42      0.48      0.39        23\n",
      "\n"
     ]
    }
   ],
   "source": [
    "# Show the scores for validate on the Decision Tree Model\n",
    "print('Validate on Decision Tree')\n",
    "print(classification_report(validate.actual, validate.dtc_predicted))"
   ]
  },
  {
   "cell_type": "code",
   "execution_count": 88,
   "id": "e5b97efb-b5c7-4c8b-924d-0065d84e42b2",
   "metadata": {},
   "outputs": [
    {
     "name": "stdout",
     "output_type": "stream",
     "text": [
      "Validate on Random Forest\n",
      "                  precision    recall  f1-score   support\n",
      "\n",
      "             C++       0.00      0.00      0.00         3\n",
      "            HTML       0.00      0.00      0.00         3\n",
      "      JavaScript       0.50      0.25      0.33         4\n",
      "Jupyter Notebook       0.00      0.00      0.00         2\n",
      "    Not Top_five       0.29      0.86      0.43         7\n",
      "          Python       0.00      0.00      0.00         4\n",
      "\n",
      "        accuracy                           0.30        23\n",
      "       macro avg       0.13      0.18      0.13        23\n",
      "    weighted avg       0.17      0.30      0.19        23\n",
      "\n"
     ]
    }
   ],
   "source": [
    "# Show the scores for validate on the Random Forest Model\n",
    "print('Validate on Random Forest')\n",
    "print(classification_report(validate.actual, validate.rf_predicted))"
   ]
  },
  {
   "cell_type": "code",
   "execution_count": 89,
   "id": "d2d089d4-1cc9-4409-9664-c3fe2f1f089b",
   "metadata": {},
   "outputs": [
    {
     "name": "stdout",
     "output_type": "stream",
     "text": [
      "Validate on KNN\n",
      "                  precision    recall  f1-score   support\n",
      "\n",
      "             C++       0.50      0.33      0.40         3\n",
      "            HTML       0.33      0.67      0.44         3\n",
      "      JavaScript       0.50      0.75      0.60         4\n",
      "Jupyter Notebook       1.00      1.00      1.00         2\n",
      "    Not Top_five       0.25      0.14      0.18         7\n",
      "          Python       0.00      0.00      0.00         4\n",
      "\n",
      "        accuracy                           0.39        23\n",
      "       macro avg       0.43      0.48      0.44        23\n",
      "    weighted avg       0.36      0.39      0.36        23\n",
      "\n"
     ]
    }
   ],
   "source": [
    "#Show the scores for validate on the KNN Model\n",
    "print('Validate on KNN')\n",
    "print(classification_report(validate.actual, validate.knn_predicted))"
   ]
  },
  {
   "cell_type": "markdown",
   "id": "bed9e6be-8318-4bd5-adf9-ee281d742623",
   "metadata": {},
   "source": [
    "- Through Validate our Logistic Regression model shows overfitting, our decision tree model looks like it stays the most consistent."
   ]
  },
  {
   "cell_type": "code",
   "execution_count": 94,
   "id": "62068db1-14f4-46b6-bf0c-102fda6693aa",
=======
   "execution_count": null,
   "id": "7a0a0950",
>>>>>>> e35eeb96ee4ae8f0b2da81412e6bed569cc7fa28
   "metadata": {},
   "outputs": [],
   "source": [
    "# Assign the predicitons to the results df\n",
    "test['dtc_predicted'] = dtc.predict(X_test)"
   ]
  },
  {
   "cell_type": "code",
   "execution_count": 95,
   "id": "c107c657-b70f-4775-b116-f2aef8bc399c",
   "metadata": {},
   "outputs": [
    {
     "name": "stdout",
     "output_type": "stream",
     "text": [
      "Test on Decision Tree Model\n",
      "                  precision    recall  f1-score   support\n",
      "\n",
      "             C++       0.00      0.00      0.00         2\n",
      "            HTML       1.00      1.00      1.00         2\n",
      "      JavaScript       0.00      0.00      0.00         2\n",
      "Jupyter Notebook       0.00      0.00      0.00         1\n",
      "    Not Top_five       0.36      1.00      0.53         4\n",
      "          Python       0.00      0.00      0.00         2\n",
      "\n",
      "        accuracy                           0.46        13\n",
      "       macro avg       0.23      0.33      0.26        13\n",
      "    weighted avg       0.27      0.46      0.32        13\n",
      "\n"
     ]
    }
   ],
   "source": [
    "# Show the scores for test on the KNN Model\n",
    "print('Test on Decision Tree Model')\n",
    "print(classification_report(test.actual, test.dtc_predicted))"
   ]
  },
  {
   "cell_type": "markdown",
   "id": "29c190ae-5e6c-479f-99d9-85b3ffa0da9e",
   "metadata": {},
   "source": [
    "- The Decision Tree showed the the best performance consistently staying well above baseline. In Test the Decision Tree performed 17 % above baseline"
   ]
  },
  {
   "cell_type": "code",
   "execution_count": 98,
   "id": "86fa93c9-6708-4457-8b44-55d387642c62",
   "metadata": {},
   "outputs": [
    {
     "data": {
      "image/png": "iVBORw0KGgoAAAANSUhEUgAABYEAAARNCAYAAAAEko/OAAAAOXRFWHRTb2Z0d2FyZQBNYXRwbG90bGliIHZlcnNpb24zLjQuMywgaHR0cHM6Ly9tYXRwbG90bGliLm9yZy/MnkTPAAAACXBIWXMAAAsTAAALEwEAmpwYAAEAAElEQVR4nOzdd3iW1f3H8feBDJZsJIISQBwVUXBUsfYHIsgWUSkVF4I4UFxU66gCThAcrSIqigqoFUVBcLQOFJBoqavOKgLiZCiggkCA8/sj8NSYEFbgSZ68X9d1rqs5z7nv+3MH1JNvT84JMUYkSZIkSZIkSampXLIDSJIkSZIkSZJ2HIvAkiRJkiRJkpTCLAJLkiRJkiRJUgqzCCxJkiRJkiRJKcwisCRJkiRJkiSlMIvAkiRJkiRJkpTCLAJLkiRJkiRJUgqzCCxJkiRJkiRJKcwisCRJkiRJkiSlMIvAkiRJkiRJkpTCLAJLkiRJkiRJUgqzCCxJkiRJkiRJKcwisCRJkiRJkiSlMIvAkiRJkiRJkpTCLAJLkiRJkiRJUgqzCCxJkiRJkiRJKcwisCRJkiRJkiSlMIvAkiRJkiRJkpTCLAJLkiRJkiRJUgqzCCxJkiRJkiRJKcwisCRJkiRJkiSlMIvAkiRJkiRJkpTCLAJLkiRJkiRJUgqzCCxJkiRJkiRJKcwisCRJkiRJkiSlMIvAkiRJkiRJkpTCLAJLkiRJkiRJUgqzCCxJkiRJkiRJKcwisCRJkiRJkiSlMIvAkiRJkiRJkpTCLAJLkiRJkiRJUgqzCCxJkiRJkiRJKcwisCRJkiRJkiSlMIvAkiRJkiRJkpTCLAJLkiRJkiRJUgqzCCxJkiRJkiRJKcwisCRJkiRJkiSlMIvAkiRJkiRJkpTCLAJLkiRJkiRJUgqzCCxJkiRJkiRJKcwisCRJkiRJkiSlMIvAkiRJkiRJkpTCLAJLkiRJkiRJUgqzCCxJkiRJkiRJKcwisCRJkiRJkiSlMIvAkiRJkiRJkpTCLAJLkiRJkiRJUgqzCCxJkiRJkiRJKcwisCRJkiRJkiSlMIvAkiRJkiRJkpTCLAJLkiRJkiRJUgqzCCxJkiRJkiRJKcwisCRJkiRJkiSlMIvAkiRJkiRJkpTCLAJLkiRJkiRJUgqzCCxJkiRJkiRJKcwisCRJkiRJkiSlMIvAkiRJkiRJkpTCLAJLkiRJkiRJUgqzCCxJkiRJkiRJKcwisCRJkiRJkiSlMIvAkiRJkiRJkpTCLAJLkiRJkiRJUgqzCCxJkiRJkiRJKcwisCRJkiRJkiSlMIvAkiRJkiRJkpTCLAJLkiRJkiRJUgqzCCxJkiRJkiRJKcwisCRJkiRJkiSlMIvAkiRJkiRJkpTCLAJLkiRJkiRJUgqzCCxJkiRJkiRJKcwisCRJkiRJkiSlMIvAkiRJkiRJkpTCLAJLkiRJkiRJUgqzCCxJkiRJkiRJKcwisCRJkiRJkiSlMIvAkiRJkiRJkpTCLAJLkiRJkiRJUgqzCCxJkiRJkiRJKcwisCRJkiRJkiSlMIvAkiRJkiRJkpTCLAJLkiRJkiRJUgqzCCxJkiRJkiRJKcwisCRJkiRJkiSlMIvAkiRJkiRJkpTCLAJLkiRJkiRJUgqzCCxJkiRJkiRJKcwisCRJkiRJkiSlMIvAkiRJkiRJkpTCLAJLkiRJkiRJUgqzCCxJkiRJkiRJKcwisCRJkiRJkiSlMIvAkiRJkiRJkpTCLAJLkiRJkiRJUgqzCCxJkiRJkiRJKcwisCRJkiRJkiSlMIvAkiRJkiRJkpTCLAJLkiRJkiRJUgqzCCxJkiRJkiRJKcwisCRJkiRJkiSlMIvAkiRJkiRJkpTC0pIdQJIkSdrZKlas+O2qVavqJjuHpJ2jQoUKC3/++eesZOeQJClZQowx2RkkSZKknSqEEJ0HS2VHCIEYY0h2DkmSksXtICRJkiRJkiQphVkEliRJkiRJkqQUZhFYkiRJkiRJklKYRWBJkiRJkiRJSmEWgSVJkiRJkiQphVkEliRJklLICSecQO3atVm0aFG+/jVr1tC0aVOaN2/O2rVrAWjdujUhBEIIXH/99Ymxv+z/devQocMmn3322WcTQuCUU04p8NnPP//MwIED2W233ahYsSItW7Zk+vTpBcatX7+eG264gYYNG1KhQgUOPPBAJk6cWGBcWlpaItN99923xd+fZNjSd9+Ue+65h3322YfMzEz22Wcf7r777kLHPfnkkzRv3pwKFSqQnZ3N9ddfz/r16wuMGzNmDC1atKBKlSpkZWXRpUsX3nrrrW1+P0mSVPJZBJYkSZJSyMiRI1m3bh0DBgzI13/99dfz3//+l/vvv5+0tLREf6dOncjJyeGMM85I9N11113k5OTka7feeisAxx57bKHPnTVrFg8//DBVq1Yt9PMzzjiDMWPGcN111zF16lR222032rdvzzvvvJNv3JVXXsl1113HBRdcwHPPPcfhhx9Ojx49eO655/KNe+2113jyySe3+PuSTFv67oW5++67Offcc+nRowfPP/88PXr0oH///txzzz35xj333HOceOKJHHbYYTz33HNceOGFXH/99Vx11VX5xo0aNYq+ffty5JFHMmnSJEaOHMnXX39NmzZtmD9/fjG+tSRJKlFijDabzWaz2Ww2W5lqedPg1HX//fdHIE6aNCnGGON//vOfmJ6eHi+99NJ841q1ahVPP/30Lbpnnz59YkZGRvzuu+8KfLZmzZrYtGnTeOONN8bs7Ox48skn5/v8rbfeikAcO3Zsoi83Nzfuvffe8bjjjkv0LVy4MGZkZMRrr7023/Vt2rSJzZs3L/DcefPmRSCOHj16i96hKMuWLYuLFi3a7vv82pa+e2HWrFkTa9euHfv06ZOv/4wzzoi1a9eOubm5ib4DDzwwtmnTJt+4IUOGxIyMjLhw4cJE3+GHHx5btmyZb9ycOXMiEO+4446tfr/SYsM/80n/d4/NZrPZbMlqrgSWJEmSUkyfPn1o27Yt/fv35/vvv6dv3740aNCAIUOGbNP9fv75Zx5//HG6du1KzZo1C3w+fPhw1q1bx8CBAwu9fsqUKaSnp3PiiScm+tLS0vjjH//Ic889R25uLgDPP/88a9asoVevXvmuP+WUU3jnnXf44osvtin/pqxdu5apU6fSs2dPsrKyeO2114r1/rDl716YnJwclixZUuD7ceqpp7JkyRJycnIAWLBgAe+++26h49asWcM//vGPRF9ubi7Vq1fPN27j1zHGbXlFSZJUClgEliRJklLQvffey/Llyzn00EOZPXs2o0ePpmLFitt0ryeffJIff/yR008/vcBnn332Gddffz133XUXGRkZhV7/wQcf0Lhx4wLPb9q0KatXr2bu3LmJcRUqVKBx48YFxgF8+OGH25T/19566y0uuugi6tevT7du3Vi0aBF33nknbdu2TYyJMbJ27drNtsL23P2lLX33TV27ceyvr4X/fT82Na5Ro0ZUqlQp3/etf//+vPDCC4wbN47ly5ezYMECBgwYwG677cZJJ51U5LtIkqTSyyKwJEmSlIIaNWrEueeey9y5czn55JM56qijtvleY8eOZdddd6Vjx44FPjvnnHM4/vjji7z/0qVLC6w+BRKrir///vvEuGrVqhFCKHLctvjqq68YNmwY+++/PwcffDAvv/wyl1xyCZ9//jnTpk2jb9++VKlSJTH+oYceIj09fbOtT58+RT53S999U9cCBa4v7PtW2DiAGjVq5HtGnz59GDVqFP369aN69epkZ2fzxhtvMG3aNGrXrl3ku0iSpNIrbfNDJEmSJJU2y5Yt4+GHHyaEQE5ODj///PM2rQT++uuvefHFF7nwwgvzHSgHMH78eGbPns3HH39c5D1ijAUKuxv7t2Xc1ho8eDDXXXcdWVlZ9OrVi4cffpgDDzywyGu6du3K7NmzN3vvzRVOt+edNo4p7PotHffr5zz55JMMGDCAAQMG0KlTJ5YvX87w4cPp0KEDM2bMYPfdd99sLkmSVPpYBJYkSZJS0MCBA/npp5+YMmUK3bt3Z9CgQdx8881bfZ/x48ezfv36AltB/PTTT1xyySX8+c9/pkKFCixbtgyA9evXk5uby7Jly6hSpQppaWnUrFmz0P18N65g3biytWbNmixbtqxA4fTX47bWLrvsQkZGBitXrmTZsmWFPuPXatasSbVq1TZ773Lliv7lyi19901du3FsVlZWon/jyt5fft9+ec9fWrZsWeLzGCPnnHMOPXv2ZPjw4Ykxbdq0ITs7m2HDhnHHHXcU+T6SJKl0cjsISZIkKcW89NJLjBkzhptuuonOnTtz6aWXctttt/H2229v9b3Gjh3LgQceWGDl7JIlS1i8eDFXXnklNWrUSLQvvviCCRMmUKNGDZ5//nkgb6/auXPnsmrVqnz3+PDDD/PtAdy0aVNWrVrFvHnzCowD2G+//bY6P+QVxL/99ltuvvlmPv74Y4466iiys7O5/PLLee+99wq9pri2g9jSd9/UtRvH/vpa+N/3Y1Pj5s+fz8qVKxPjFi5cyOLFiznooIPyjatatSpNmjTho48+KvJdJElS6WURWJIkSUohK1eupF+/fvzud7+jf//+AFxzzTU0btyYfv36sW7dui2+17///W8++OCDQg+Ey8rKYtq0aQVa3bp1adu2LdOmTaNly5YAHHvsseTm5vLEE08krl+7di2PPfYYHTp0ID09HYAOHTqQkZHBI488ku9Z48ePp3nz5uyxxx5b/f3YqFq1avTr148ZM2bw2Wef0bdvX5544gkOOOAADjzwQG6++eZ8e+du3A5ic23w4MFFPndL370wLVu2pHbt2oV+P+rUqZP4/jZo0IADDzyw0HEZGRm0b98eyNsfODMzk3//+9/5xi1btoxPP/2U+vXrF/kukiSp9HI7CEmSJCmFXHXVVXz11Vc888wzie0OMjMzuffeeznqqKO4/fbbGThw4Bbda+zYsaSlpdGrV68Cn1WoUIHWrVsX2l+3bt18nzVv3pyePXtywQUXsHr1aho2bMioUaOYN28ejz76aGLcrrvuysUXX8z1119P5cqVadGiBY899hgvv/wyzzzzzNZ9I4rQqFEjBg0axKBBg5g5cyZjx47lpptuYu+99+a4444DoFatWtSqVWu7n7Wl7w7QpEkTsrOzeemllwBIT0/nuuuuo3///tSrV482bdrw8ssvM2bMGEaNGpVvj+Ybb7yRLl26cO6559KzZ0/efvttrr/+ei655BJ23XVXIO/vQd++fRk1ahS1atVK7Ak8YsQIVqxYkfg/DSRJUgqKMdpsNpvNZrPZbGWq5U2DU8/rr78ey5UrF4cMGVLo5/369YuVKlWKc+fOjTHG2KpVq3j66acXOnbNmjWxdu3asUuXLluVITs7O5588skF+leuXBkvvvjiWLdu3ZiZmRkPO+yw+MorrxQYt3bt2njdddfFPfbYI2ZkZMRmzZrFJ554otBnzZs3LwJx9OjRW5WxMKtWrYpLly7d7vsUZkvfPTs7O7Zq1apA/6hRo+Jee+0VMzIy4l577RXvuuuuQp8zceLEeMABB8SMjIy4xx57xGuvvTauXbs235g1a9bE2267LTZr1ixWrlw57rrrrrF9+/YxJyenWN61pNrwz3zS/91js9lsNluyWohx+07alSRJkkqbEEJ0HgytW7cmOzub+++/n/Llyxd5UFpJs27dOubPn0+TJk0YPXo0Z555ZrIjqQQLIRBjLD1/wSVJKmbuCSxJkiSVYWPHjiU9PZ0bbrgh2VG2SmZmJk2aNEl2DEmSpFLBlcCSJEkqc1wJnOe///0vP/74IwD169dnt912S3KiLffmm2+y8c+wYcOG1K5dO8mJVJK5EliSVNZZBJYkSVKZYxFYKlssAkuSyjq3g5AkSZIkSZKkFGYRWJIkSdJO8eCDDxJCYM6cOVt9bevWrTnyyCN3QKpNu+eee9hnn33IzMxkn3324e67797ia8eMGUOLFi2oUqUKWVlZdOnShbfeeivfmPfff5+zzz6bQw45hMzMzFJ1MJ8kSSpdLAJLkiRJ2ik6d+5MTk4Oe+yxx1Zfe9ddd3HvvffugFSFu/vuuzn33HPp0aMHzz//PD169KB///7cc889m7121KhR9O3blyOPPJJJkyYxcuRIvv76a9q0acP8+fMT4958802effZZdt99dw499NAd+DaSJKmsc09gSZIklTnuCayi5ObmUq9ePY499ljuv//+RH+fPn2YMmUK33zzDWlpaZu8vmXLloQQmDVrVqLvs88+o0mTJtxxxx2cf/75AKxfv55y5fLW5QwePJghQ4bg38sdwz2BJUllnSuBJUmSJG23Rx99lH333ZcKFSrQrFkzJk+eTOvWrendu3diTGHbQTRs2JBTTjmF8ePHs/fee1OlShWOPPJI3nvvvXz335nbQeTk5LBkyRJ69eqVr//UU09lyZIl5OTkFHl9bm4u1atXz9e38etfFnk3FoAlSZJ2NGcdkiRJkrbLiy++yMknn8y+++7LxIkT+dOf/sRFF13EJ598skXXT58+nb/+9a/ceOON/P3vf2fFihV069aNtWvXbnWWtWvXbratW7euyHt88MEHADRt2jRf/8avP/zwwyKv79+/Py+88ALjxo1j+fLlLFiwgAEDBrDbbrtx0kknbfU7SZIkba9N/w6TJEmSJG2BQYMGsd9++/HUU08lDjdr1qwZBx988BZd/+OPP/Luu+9So0YNALKysjj00EP517/+xRFHHLHFOebPn0+jRo02Oy47Ozvf3ry/tnTpUoACq3lr1qwJwPfff1/k/fv06cP69evp168fp512GgCNGzdm2rRp1K5de7P5JEmSiptFYEmSJEnbbN26dcyePZsrrrgiUQAGOOigg7aoIAt5e+huLABDXgEZYMGCBVtVBK5Xrx6zZ8/e7LjMzMwiP9+4ZcMv32drPPnkkwwYMIABAwbQqVMnli9fzvDhw+nQoQMzZsxg991336b7SpIkbSuLwJIkSZK22ZIlS8jNzWXXXXct8FndunW36B4bV9hutLFIu2rVqq3KkpGRQfPmzTc7bnPF3Y15li5dSlZWVqJ/4wrgX+f9pRgj55xzDj179mT48OGJ/jZt2pCdnc2wYcO44447NptRkiSpOLknsCRJkqRtVrt2bdLT01m0aFGBzxYuXLhTs8yfP5/09PTNtj333LPI+2xq79+NX++3336bvHbhwoUsXryYgw46KF9/1apVadKkCR999NG2vJokSdJ2cSWwJEmSpG1Wvnx5Dj30UCZOnMjgwYMTq2zffPNN5s2bx//93//ttCzFtR1Ey5YtqV27No888ght2rRJ9I8fP546derQsmXLTV5bo0YNMjMz+fe//52vf9myZXz66ad069Zts/kkSZKKm0VgSZIkSdtlyJAhtGvXju7du3PWWWexZMkSBg8eTFZWFuXK7bxfPszIyOCQQw7Z7vukp6dz3XXX0b9/f+rVq0ebNm14+eWXGTNmDKNGjSIt7X8/RvXt25eHHnqItWvXAnkF5r59+zJq1Chq1aqV2BN4xIgRrFixgv79+yeuXblyJc8++yzwv1XGTzzxBJC32rioFceSJElbwyKwJEmSpO3Stm1bHn74YYYMGUL37t1p0qQJt9xyC9deey3VqlVLdrxtcs455wBw6623MmzYMLKzsxk5ciRnn312vnHr1q1j3bp1+fpuv/129tprL8aMGcPo0aOpXLkyLVq0YMaMGRx22GGJcYsWLaJHjx75rt349aBBgxg8ePAOeDNJklQWhY0n30qSJEllRQghOg/esRYsWMDee+/N6NGjOfXUU5MdR2VcCIEYY9EnAkqSlMIsAkuSJKnMsQhcvH7++WcuueQS2rZtS+3atfnss88YNmwYq1ev5oMPPqBy5crJjqgyziKwJKmsczsISZIkSdulfPnyfPPNN5x33nl89913VKtWjTZt2nDzzTdbAJYkSSoBXAksSZKkMseVwFLZ4kpgSVJZt/OO6pUkSZIkSZIk7XQWgSVJkiSVer1792b33XdPdoxtMmbMGFq0aEGVKlXIysqiS5cuvPXWWwXGTZ48mZYtW1K9enVq167NUUcdxcsvv5yExJIkqbSxCCxJkiRJSTJq1Cj69u3LkUceyaRJkxg5ciRff/01bdq0Yf78+Ylxzz77LN27d6dBgwY89thjPPDAA5QvX54OHTrwr3/9K3kvIEmSSgUPhpMkSZKkJBk7diwtW7bkjjvuSPQ1b96cJk2aMHXqVM4//3wAxo0bR/369XnkkUcoX748AG3atKFWrVpMmDCB3/72t0nJL0mSSgdXAkuSJEkq4JNPPqF79+7suuuuVKhQgQYNGtCjRw/Wr18PwA8//MD555/Pb37zGypXrky9evU47rjj+OSTT/Ld58EHHySEwMyZMzn++OMTWx4MHz4cyFvh2rx5cypXrszhhx/Oe++9l+/61q1bJ1bJNm3alAoVKnDAAQfwz3/+c7PvsGLFCi677DIaNmxIRkYGjRs3ZujQofzyUMCffvqJAQMG0KBBAzIzM6lbty5t27Yt8B47Sm5uLtWrV8/Xt/HrX+bMzc1ll112SRSAASpVqkRmZiYecihJkjbHlcCSJEmSCujSpQvVq1dn1KhR1K5dm6+++opnnnkmUXD88ccfyc3NZfDgwWRlZbF8+XLGjh3L4YcfzkcffUTdunXz3e+MM87gjDPOoH///kyYMIHLLruMZcuWMXXqVK688koqVarEpZdemigk/7LYOWfOHC655BKGDBlCtWrVuOWWW+jSpQtvv/02TZs2LTT/2rVr6dChAx9++CFXX301zZo1Y9asWQwaNIilS5cybNgwAC655BImT57MjTfeyF577cWSJUuYOXMmy5cvL/L7s27dui0qvqalFf0jV//+/Tn77LMZN24cxx57LMuXL+fyyy9nt91246STTkqMO+uss+jUqRMjRoygT58+5ObmJt7hzDPP3GwOSZJUxsUYbTabzWaz2Wy2MtXypsHalMWLF0cgTp48eYuvWbt2bVyzZk3ca6+94m233Zbof+CBByIQr7vuukRfbm5u3HXXXWNGRkb8/PPPE/0TJ06MQHzttdcSfa1atYpAfOONNxJ9K1asiHXq1Ik9e/ZM9J1++umxfv36ia/Hjh0bgfjqq6/my3nttdfGjIyMuGTJkhhjjE2bNo0XX3zxFr/nRtnZ2RHYbJs3b95m7zV69OiYmZmZuKZx48bx448/LjBuypQpsVq1aolxderUibNmzdrq7GXRhn/mk/7vHpvNZrPZktVcCSxJkiQpn1q1atG4cWMuv/xyFi1aROvWrWnSpEmBcU899RQjRozgo48+YunSpYn+jz/+uMDY9u3bJ/53Wloae+65JytWrKBBgwaJ/n333ReABQsWcMQRRyT6GzRokG/P20qVKtGlSxdeeumlTb7D888/T3Z2NkcccQRr165N9Hfo0IFrrrmGN954g06dOnHooYfy4IMPUqdOHdq1a0eLFi3yrULelClTprB69erNjqtXr16Rnz/55JMMGDCAAQMG0KlTJ5YvX87w4cPp0KEDM2bMYPfddwdg1qxZnHLKKRx//PGcdNJJ5ObmMmrUKLp27crLL7/MAQccsNkskiSp7LIILEmSJCmfEAIvvPACgwYN4rLLLmPp0qU0btyYP//5z5x11llA3l6+J5xwAv379+cvf/kLtWrVoly5cpx55pmsWrWqwD1r1KiR7+uMjAwyMjIK9AEFrt91110L3K9u3bp88803m3yHRYsW8fnnn5Oenl7o59999x0Ad9xxB3Xr1uXee+/lyiuvpGbNmvTu3Zvrr7+eihUrbvL+++23HzFu33YQMUbOOeccevbsmdgjGfIOfMvOzmbYsGGJA+MuuOACmjdvzpgxYxLjjjnmGJo2bcpVV13FlClTNptFkiSVXRaBJUmSJBXQuHFjxo0bx/r163nnnXf461//ytlnn02jRo1o164djzzyCK1ateLOO+/Md93G4mpxWrRoUYG+hQsXsttuu23ymlq1atGoUSMmTJhQ6OeNGjUCoEqVKgwdOpShQ4cyb948HnvsMf7yl79QoUIFbrjhhk3ef8899+Tzzz/fbPZ58+bRsGHDQj9buHAhixcv5qCDDsrXX7VqVZo0acJHH32U6Hv//ffp379/vnFpaWkccMABvP3225vNIUmSyjaLwJIkSZI2qVy5chx00EHccccdjB07lvfff5927dqxcuVKMjMz8419/vnn+fLLL4s9w4IFC5g9ezaHHnooACtXrmTq1Km0adNmk9d06NCBiRMnUqVKlcQ2E5vTqFEjLr/8ciZMmMD7779f5Nji2A6iRo0aZGZm8u9//ztf/7Jly/j000/p1q1boi8rK6vAuNzcXN555x3q16+/2RySJKlsswgsSZIkKZ///Oc/XHjhhfTs2ZMmTZqwbt06HnzwQdLT0znqqKMA6NixI2effTbXXnstRx55JO+++y433XTTDilI1q1bl549e3LttddSrVo1RowYwdKlS/nLX/6yyWtOPvlkHnjgAY4++mgGDhzIgQceyJo1a5gzZw5PP/00U6dOJTMzk5YtW3LsscfSrFkzqlSpwquvvsq7775L3759i8zUrFmz7X6vzMxM+vbty6hRo6hVq1ZiT+ARI0awYsWKfCt/zzvvPC677DJOO+00evXqldgTeM6cOQwdOnS7s0iSpNRmEViSJElSPllZWTRo0IBbb72VL7/8kgoVKtCsWTOeeeYZmjdvDsCZZ57JV199xejRo7npppto1qwZf//737n22muLPU+TJk245JJLuOqqq5g7dy577703Tz/9NPvvv/8mr0lPT+cf//gHQ4cO5d5772XevHlUqVKFJk2a0KlTp8Rewf/3f//HhAkTGDp0KGvXrmXPPffkr3/9K+edd16xv0dhbr/9dvbaay/GjBnD6NGjqVy5Mi1atGDGjBkcdthhiXGXXnopdevW5W9/+xs9e/YkLS2Npk2b8uyzz9KxY8edklWSJJVeYUsOM5AkSZJSSQghOg8uHVq3bs3atWuZOXNmsqOoFAshEGMMyc4hSVKylEt2AEmSJEmSJEnSjmMRWJIkSZIkSZJSmNtBSJIkqcxxOwipbHE7CElSWedKYEmSJEmSJElKYRaBJUmSJEmSJCmFWQSWJEmSdpBXXnmFEAIvvvhisqNsk969exNCIITAmWeemej/8ccf+dOf/sRRRx1FtWrVCCHwyiuvFHqPq666ivbt21O7dm1CCDz44IPblenWW2+la9eu1KtXjxACgwcPLjDmm2++4YorruCQQw6hWrVq1KlTh7Zt2zJz5sxtfu6UKVPo1asX++yzD+XKlaN169abHDtmzBhatGhBlSpVyMrKokuXLrz11lvb/OzJkyfTsmVLqlevTu3atTnqqKN4+eWXt+leTzzxBCeccALZ2dlUrFiRffbZh6uuuoqffvop37j58+cn/ux/3ZYtW7ZNz96WvwuPPvooIQR23333Ap+lpaUlMt13333blEmSpLLCIrAkSZKkTWrRogU5OTlceeWVib7vvvuO+++/n3LlynHMMccUef3f/vY3Vq5cSZcuXYolz+jRo1m0aBHHHXfcJse8+eabPProo3Tp0oXHH3+cBx98kMzMTFq1asWzzz67Tc+dNGkS77zzDr/97W9p0KDBJseNGjWKvn37cuSRRzJp0iRGjhzJ119/TZs2bZg/f/5WP/fZZ5+le/fuNGjQgMcee4wHHniA8uXL06FDB/71r39t9f1GjBgBwA033MBzzz3Hueeey1133UX79u1Zv359gfFXXHEFOTk5+douu+yy1c+Frf+7sGzZMi6++GKysrIK/fy1117jySef3KYskiSVNWnJDiBJkiSp5KpatSqHH354vr7s7GyWLl0K5K12fuKJJzZ5/fLlyylXrhzz58/noYce2u48H3zwAeXK5a1lGTVqVKFjjjzySD799FPS09MTfe3bt2f//fdn2LBhdOrUaaufO3r06MRzi1oFPHbsWFq2bMkdd9yR6GvevDlNmjRh6tSpnH/++Vv13HHjxlG/fn0eeeQRypcvD0CbNm2oVasWEyZM4Le//e1W3W/KlCnUqVMn8XXr1q2pVasWp512Gq+++ipHHXVUvvGNGzcu8Oe/rbb278Jll13GgQceyG677VboavrDDjtsmwrrkiSVRa4EliRJkjZ45JFHCCHw0UcfFfjsqKOO4ne/+x0AMUYuu+wymjdvTtWqVRPbDcyePXuzz2jYsGGhWxgU9uvxr7zyCm3atGGXXXahSpUqdOzYkQ8//HCb3q04hRC2eOzGwmlx2ZL7Va9ePV8BGPK2DjjwwAP58ssvd9hzAXJzc6levXqBPJD392Zr5ebmsssuuyQKwACVKlUiMzNzm+73ywLwRocccgjANn9vttTW/F147bXXGD9+PCNHjtyBiSRJKjssAkuSJEkbHHfcceyyyy6MGzcuX/+XX37J9OnTOfXUUwFYv34933zzDQMHDmTy5MmMHTuWPffckyOPPJL333+/WLI888wztG3blqpVqzJ+/HjGjx/P0qVL+f3vf89XX31V5LXr169n7dq1m23bUkQsrXJzc3n99df5zW9+s0Of079/f1544QXGjRvH8uXLWbBgAQMGDGC33XbjpJNO2ur7nXXWWXzyySeMGDGC77//noULFzJw4ECAfPs0b48ZM2YAFPq9ueKKK0hLS6NatWp069aNDz74oFieWZTc3FzOOussLr30Upo0abLDnydJUlngdhCSJEnSBpUqVeL444/n4Ycf5oYbbkiseH344YdJS0vjD3/4AwDly5fPVyhev3497dq1Y+7cudx3333cfvvt253lggsuoFWrVkyaNCnR17p1a/bcc09uvfVWbrnllk1e26dPny36dfsHHniA3r17b3fW0uC6667jiy++YPz48Tv0OX369GH9+vX069eP0047DcjbUmHatGnUrl17q+93zDHHMGnSJE455RQuvfRSIG817/PPP18sBe1vvvmGa665hrZt2yZWBANkZmZy9tlnc8wxx1CnTh0++ugjbrrpJo444ghmz57N3nvvvd3P3pRhw4axevVqrrjiih32DEmSyhqLwJIkSdIvnHrqqTz00EO8+uqrib1fH374YTp37kzNmjUT41599VWuv/563n33XRYvXpzo/+Wv7W+rTz/9lLlz53LVVVexdu3aRH+VKlU44ogjEis3N2Xw4MFbtPdso0aNtjtraTBhwgSuv/56rrnmGn7/+9/v0Gc9+eSTDBgwgAEDBtCpUyeWL1/O8OHD6dChAzNmzGD33XffqvvNmjWLU045heOPP56TTjqJ3NxcRo0aRdeuXXn55Zc54IADtjnrihUrOO6440hLSyuwFcluu+3G3Xffnfj697//PR07dqRp06bceOONBcYXlzlz5nDDDTfw1FNPUaFChR3yDEmSyiKLwJIkSdIvHHXUUdSvX59x48bRunVr3n33Xd577z2GDBmSGPPOO+/Qvn17jjvuOO677z7q1q1L+fLlufrqq/n555+3O8OiRYsA6Nu3L3379i3weePGjYu8vkGDBltUbCyOgnVJ949//INTTz2Vs846q9C9mItTjJFzzjmHnj17Mnz48ER/mzZtyM7OZtiwYfkOjNsSF1xwAc2bN2fMmDGJvmOOOYamTZty1VVXMWXKlG3Kunr1arp3786cOXOYMWMG9evX3+w1e+yxB0ceeeQW7X29rS644ALatGnD4YcfzrJlywBYs2YNMUaWLVtGhQoVLA5LkrQNLAJLkiRJv1CuXDlOPvlk7rnnHkaOHMm4ceOoUaMGnTt3Tox54oknqFevHo8++mi+Q9J++umnzRZWK1SowOrVq/P1ff/99/m+rlWrFgA33XQTbdu2LXCPzMzMIp/hdhB5pk+fTvfu3enevTt33XXXDn/ewoULWbx4MQcddFC+/qpVq9KkSZNCDxzcnPfff5/+/fvn60tLS+OAAw7g7bff3qaca9eupWfPnuTk5PDSSy+x3377bfG1McatOhhwa3344Yd8/vnn1KhRo8BnNWrUYODAgYwYMWKHPV+SpFRlEViSJEn6lVNPPZWbb76Zp556ikcffZSePXuSkZGR+HzlypVkZmbmK4Z98MEH5OTkcOSRRxZ57+zsbN577718fU8//XS+r/fZZx8aNmzIBx98wOWXX77V+d0OAv71r3/RpUsXjjrqKMaNG0e5cjv+TOwaNWqQmZnJv//973z9y5Yt49NPP6Vbt25bfc+srKwC98vNzeWdd97ZotW7v7Z+/XpOPfVU/vGPf/DMM8/w29/+douvXbBgAa+99ho9evTY6uduqb///e+sWrUqX9/QoUN58803efzxx9ljjz122LMlSUplFoElSZKkX9l///1p3rw5l156KV9//TWnnnpqvs87duzIbbfdxgUXXMBxxx3HZ599xuDBg8nOzt7svf/4xz9y5plnMmTIEI488kjeeustxo4dm29MCIGRI0fSrVs31qxZQ8+ePalVqxbffvsts2bNonHjxlx44YWbfEbDhg1p2LDhNr37lnruuedYsWIFH3zwAZC3R/KSJUuoU6cOrVq1Sox79dVXWbx4cWLf5H//+99UqVKFypUr07Fjx8S41q1bM3/+fObPn1/kc//973/nG/Phhx/yxBNPAHDiiScC8N///pcOHTpQs2ZNLr30Ut5888189zj88MMT/3vw4MEMGTKEefPmFfk9+/zzzxPbIGx8l43PbdWqFXXq1CEzM5O+ffsyatQoatWqldgTeMSIEaxYsSLfit5XXnmFo446arOrsc877zwuu+wyTjvtNHr16pXYE3jOnDkMHTo0MW7+/Pk0atSIQYMGFbntxfnnn8/f//53rrrqKipVqsTrr7+e+Gz33XdPbCMycOBA1q9fzxFHHEHt2rX5+OOPGTp0KOXLly9wYNvGv2+vvPLKJp8LW/Z34Zd/Nhs9+OCDZGZmJvboliRJ2yDGaLPZbDabzWazlamWNw0u2i233BKB2Lhx40I/v+uuu2Ljxo1jZmZm3H///eNjjz0WTz/99NiqVavEmGnTpkUgvvDCC4m+devWxSFDhsQGDRrEihUrxmOOOSbOmTMnAvGBBx7I94xZs2bFzp07x+rVq8fMzMyYnZ0d//jHP8acnJzN5i8Ov36fX8rOzo5Agfbr8a1atSp0XHZ2dr5xhxxySDzssMO2KFNh9/vln+kDDzywyTG//rP/05/+FDMzM+PSpUuLfG5R95w2bVpi3Jo1a+Jtt90WmzVrFitXrhx33XXX2L59+wJ/ZlOnTo1AfO655zb7zg899FA8+OCDY9WqVWPNmjXj73//+/jss8/mG/P+++9HII4aNarIe23qzw2IgwYNSoy7//774yGHHBKrV68e09LSYlZWVuzVq1f85JNPCtyzdu3asWfPnpt9jy39u/Brp59+eqxfv36hn82bNy8CcfTo0UXeY8Ofe9L/3WOz2Ww2W7JaiDEWe2FZkiRJKslCCNF58Ob17t2befPm8dJLL1GuXLkdtqXCihUrqFGjBuPHj+cPf/jDDnnGphxxxBE0b958p+wZ/EtXXnklTz/9NO+9916x7LF77733ctVVV/H5559TqVKlYki4ZT755BP22Wcf3njjja3aWqI4rFu3jvnz59OkSRNGjx7NmWeeucmxIQRijDtuM2NJkkq4Hb8xliRJkqRSa/r06aSnp3PWWWftsGfMmjWLPffcM7Gdw86ycuVK3n33Xf785z/v1OdC3tYIV155ZbEdsvbqq69y8cUX79QC8MbntmvXbqcXgCHvgMQmTZrs9OdKklQauRJYkiRJZY4rgbfM/PnzWbJkCQB16tTZoj2PpZ3lzTffZOM/xw0bNqR27dqbHOtKYElSWWcRWJIkSWWORWCpbLEILEkq69wOQpIkSZIkSZJSmEVgSZIkSZIkSUphFoElSZIkSZIkKYVZBJYkSZIkSZKkFJaW7ACSJEnSzlahQoWFIYS6yc4haeeoUKHCwmRnkCQpmYKnIkuSJEnanBBCc2AKcCdwc/QHiZ0mhBCAC4DLgONijLOTHEmSJJUyFoElSZIkFSmE0AV4AOgfY3w82XnKqhDCscB9wDkxxieTnUeSJJUeFoElSZIkbVIIYQBwBXB8jPH1ZOcp60IIBwOTgduBW1yRLUmStoRFYEmSJEkFhBDKA7cBbYHOMcZ5SY6kDUIIewBTgRxgQIwxN8mRJElSCWcRWJIkSVI+IYQqwKNAReDEGOOy5CbSr4UQdgEeA8oDf4gxLk9yJEmSVIKVS3YASZIkSSVHCKE+MB1YCHS0AFwyxRh/BI4F5gCvhRCykxxJkiSVYBaBJUmSJAEQQmgOvE7eCtN+bjNQssUY1wLnk3dY3KwQwqFJjiRJkkoot4OQJEmSRAihC/AA0D/G+Hiy82jrhBC6kVcMPjvG+GSy80iSpJIlLdkBJEmSJCVXCGEAcCXQNcb4erLzaOvFGCeHEL4EJocQGgO3RFf8SJKkDVwJLEmSJJVRIYTywK1AO6BzjHFekiNpO4UQ9gCmAjnAALf0kCRJYBFYkiRJKpNCCFWAR4GKwIkeAJc6Qgi7kLevc3ngDzHG5UmOJEmSksyD4SRJkqQyJoRQH5gOLAQ6WgBOLTHGH4FjgTnAzBBCdpIjSZKkJLMILEmSJJUhIYTmwOvABKCf2wWkphjjWuB84H5gVgjh0CRHkiRJSeR2EJIkSVIZEULoDDwI9I8xPp7kONpJQgjdgPuAs2KMTyU7jyRJ2vnSkh1AkiRJ0o4XQjgfuAroGmN8Pdl5tPPEGCeHEL4EJocQ9gRuia4GkiSpTHElsCRJkpTCQgjlgVuBdkDnGOO8JEdSkoQQ9gCeAWYBA9wKRJKkssMisCRJkpSiQghVgEeBSsAJHgCnEEJV4DHyzof5Q4xxeZIjSZKkncCD4SRJkqQUFEKoD0wHFgEdLQALIMb4A9AV+AyYGULITnIkSZK0E1gEliRJklJMCKE5kANMAM6MMa5JbiKVJDHGtcB5wBhgVgjh0CRHkiRJO5jbQUiSJEkpJITQGXgQ6B9jfDzJcVTChRC6AfcBZ8UYn0p2HkmStGOkJTuAJEmSpOIRQjgfuAroGmN8Pdl5VPLFGCeHEL4EJocQ9gRuia4UkiQp5bgSWJIkSSrlQgjlgVuBY4BOMcZ5SY6kUiaE0ACYCswCzt+wZYQkSUoRFoElSZKkUiyEUAV4BKgMnOABcNpWIYSqwGNAAP6w4RA5SZKUAjwYTpIkSSqlQgj1genAYqCjBWBtjw1F367AXOC1EEJ2kiNJkqRiYhFYkiRJKoVCCM2BHGACcGaMcU1yEykVbNgG4jxgDDArhHBokiNJkqRi4HYQkiRJUikTQugMPAicF2OckOQ4SlEhhG7AfcBZMcankp1HkiRtu7RkB5AkSZK05UII5wNXAcfGGHOSnUepK8Y4OYTwJTA5hNAYuDW6ikiSpFLJlcCSJElSKRBCKA/cArQHOscY5yY5ksqIEEIDYCowCzh/w5YRkiSpFLEILEmSJJVwIYQqwCNAZeAED4DTzhZCqAo8BgTgDxsOkZMkSaWEB8NJkiRJJVgIoT4wHVgMdLQArGTYUPTtCswFXtuwOliSJJUSFoElSZKkEiqEcCCQAzwOnBljXJPkSCrDNmwDcR4wBsgJIRyS5EiSJGkLuR2EJEmSVAKFEDoBD5K3B+uEJMeR8gkhHAeMBs6KMT6V5DiSJGkz0pIdQJIkSVJ+IYTzgauAbjHGnGTnkX4txjgphPAFMDmE0Bi4NbrCSJKkEsuVwJIkSVIJEUIoD9wCtAc6xxjnJjmSVKQNewNPBWaRt2p9bZIjSZKkQlgEliRJkkqAEEIV4BGgMnBijHFpkiNJWySEUBV4DAjAHzYcIidJkkoQD4aTJEmSkiyEUA+YDiwGOloAVmmyoejbFZgHzNywOliSJJUgFoElSZKkJAohHAi8DjwOnBljXJPkSNJW27ANRH/yDjPMCSEcktxEkiTpl9wOQpIkSUqSEEIn4CHgvBjjhGTnkYpDCOE4YDRwVozxqSTHkSRJQFqyA0iSJEllUQjhPOAvwLExxpxk55GKS4xxUgjhS2ByCKExcGt09ZEkSUnlSmBJkiRpJwohlAduAdoDnWOMc5McSdohNuwNPBWYBZy/YcsISZKUBBaBJUmSpJ0khFAFeASoDJzoAXBKdSGEqsDGrU7+sOEQOUmStJN5MJwkSZK0E4QQ6gHTgcVARwvAKgs2FH27APOAmRtWB0uSpJ3MIrAkSZK0g4UQDgReBx4HzowxrklyJGmn2bANRH/gQSAnhHBIchNJklT2uB2EJEmStAOFEDoBD5G3J+pjyc4jJVMI4ThgNNAvxjgpuWkkSSo70pIdQJIkSUpVIYTzgL8Ax8YYc5KdR0q2GOOkEMKXwOQQwp7ArdGVSZIk7XCuBJYkSZKKWQihPHAL0B7oHGOcm+RIUomyYW/gZ4CZwIANW0ZIkqQdxCKwJEmSVIxCCFWAR4DKwIkeACcVLoRQFZiw4cs/bDhETpIk7QAeDCdJkiQVkxBCPWA6sAToaAFY2rQNRd8uwDxg5obVwZIkaQewCCxJkiQVgxDCgcDrwONA3xjjmiRHkkq8DdtA9AceBHJCCIckN5EkSanJ7SAkSZKk7RRC6EReEWtAjPGxJMeRSqUQwnHAaKBfjHFSctNIkpRa0pIdQJIkSSrNQgjnAX8BusUYc5KdRyqtYoyTQghfApNDCI2B26KrliRJKhauBJYkSZK2QQihPDAC6AB0jjHOTXIkKSVs2Bv4GWAmeavr1yY5kiRJpZ5FYEmSJGkrhRCqAA8DuwAneACcVLxCCFWBCRu+/MOGQ+QkSdI28mA4SZIkaSuEEOoB04HvgA4WgKXit6Ho2wWYD8zcsDpYkiRtI4vAkiRJ0hYKIRwIvA48DvSNMa5JciQpZW3YBuJc4CEgJ4RwSJIjSZJUarkdhCRJkrQFQgidyCtGnR9jfCzZeaSyJITQHbgX6BdjnJTkOJIklTppyQ4gSZIklXQhhP7A1UC3GOOsZOeRypoY41MhhC+BSSGExsBt0RVNkiRtMVcCS5IkSZsQQigPjAA6AJ1jjHOTHEkq0zbsDfwMMBMYsGHLCEmStBkWgSVJkqRChBCqAA8DuwAneACcVDKEEKqSty/3eqDnhkPkJElSETwYTpIkSfqVEEI94FXgO6CDBWCp5NhQ9O0MfA7M3LA6WJIkFcEisCRJkvQLIYQDgdeBiUDfGOOaJEeS9CsbtoE4l7zDGnNCCIckOZIkSSWa20FIkiRJG4QQOgJjgfNjjI8lO4+kzQshdAfuBfrFGCclOY4kSSVSWrIDSJIkSSVBCKE/cDXQLcY4K9l5JG2ZGONTIYQvgUkhhMbAbdHVTpIk5eNKYEmSJJVpIYTywAigA9A5xjg3yZEkbYMQQjYwFZgJDNiwZYQkScIisCRJksqwEEJl4BFgF+AED4CTSrcQQjVgArAe6LnhEDlJkso8D4aTJElSmRRCqAdMB74HOlgAlkq/GONyoDPwOTAzhNAgyZEkSSoRLAJLkiSpzAkhHAi8DkwE+sQY1yQ5kqRismEbiHOBh4CcEMLBSY4kSVLSuR2EJEmSypQQQkdgLHB+jPGxZOeRtOOEELoD9wJnxhgnJzuPJEnJkpbsAJIkSdLOEkLoD1wNdIsxzkp2Hkk7VozxqRDCl8CkEMKewG3RlVCSpDLIlcCSJElKeSGE8sBwoBPQOcb4WZIjSdqJQgjZwFRgBnDBhi0jJEkqMywCS5IkKaWFECoDjwC7ACd4AJxUNoUQqgETgPVAzxjjD0mOJEnSTuPBcJIkSUpZIYR6wHTge6CDBWCp7IoxLge6AJ8DM0MIDZIcSZKkncYisCRJklJSCOEA4HVgItAnxrgmyZEkJVmMMRc4F3gIyAkhHJzkSJIk7RRuByFJkqSUE0LoSF6RZ0CM8bFk55FU8oQQugP3AmfGGCcnO48kSTtSWrIDSJIkScUphHAucA1wXIxxVrLzSCqZYoxPhRC+BCaFEPYEbouukpIkpShXAkuSJCklhBDKA8OBTkDnGONnSY4kqRQIIWQDU4EZwAUxxrVJjiRJUrGzCCxJkqRSL4RQGXgE2AU4wQPgJG2NEEI1YAKwHugZY/whyZEkSSpWHgwnSZKkUi2EUA+YDnwPdLAALGlrxRiXA12Az4GZIYQ9khxJkqRiZRFYkiRJpVYI4QAgB5gI9IkxrklyJEmlVIwxFziXvEMlc0IIByc5kiRJxcbtICRJklQqhRA6AmOBATHGvyc7j6TUEULoDtwLnBljnJzsPJIkba+0ZAeQJEmStlYI4VzgGqBbjHFWsvNISi0xxqdCCF8Ck0IIjYHboyuoJEmlmCuBJUmSVGqEEMoDw4FOQOcY42dJjiQphYUQsoFnyNt3/IIY49okR5IkaZtYBJYkSVKpEEKoDDwMVAOO9wA4STtDCKEaMAFYD/SMMf6Q5EiSJG01D4aTJElSiRdCqAe8CiwF2lsAlrSzxBiXA12Az4GZIYQ9khxJkqStZhFYkiRJJVoI4QAgB3gS6BNjXJPkSJLKmBhjLnAueYdR5oQQDk5yJEmStorbQUiSJKnECiF0IK/ockGM8e/JziNJIYTjgXuAM2OMk5OdR5KkLZGW7ACSJElSYUII5wLXAMfFGGclO48kAcQYnwwhfAFMCiE0Bm6Prq6SJJVwrgSWJElSiRJCKA/cDHQGOscYP0tyJEkqIISQDTxD3n7lF8YY1yY5kiRJm2QRWJIkSSVGCKEy8DBQDTjeA+AklWQhhGrABGAd8McY4w9JjiRJUqE8GE6SJEklQgihHnkr6pYC7S0ASyrpYozLgS7AF8DMEMIeSY4kSVKhLAJLkiQp6UIIBwA5wFNAnxjjmiRHkqQtEmPMBc4h7xDLnBDCwUmOJElSAW4HIUmSpKQKIXQgr3hyQYzx78nOI0nbKoRwPHAPcGaMcXKy80iStFFasgNIkiSp7AohnAtcA3SPMb6W7DyStD1ijE+GEL4AJoUQGgF/ja68kiSVAK4EliRJ0k4XQigP3Ax0BjrHGD9LciRJKjYhhGzgGfL2Ob8wxrg2yZEkSWWcRWBJkiTtVCGEysDDQDXgeA+Ak5SKQgjVgMeBtcAfY4w/JDmSJKkM82A4SZIk7TQhhN3IWxm3DGhvAVhSqooxLifvtx2+AGaEEPZIciRJUhlmEViSJEk7RQjhAOB14CngjBjjmiRHkqQdKsaYC5wDjANyQggHJzmSJKmMcjsISZIk7XAhhA7AWPL2xnw02XkkaWcLIRwP3AP0jTE+new8kqSyJS3ZASRJkpTaQgjnAtcA3WOMryU7jyQlQ4zxyRDCl8CkEEJj4K/RVVmSpJ3ElcCSJEnaIUII5YGbydsTs3OM8bMkR5KkpAshZAPPkLc/+oUxxrVJjiRJKgMsAkuSJKnYhRAqAw8D1YATYozfJzmSJJUYIYRqwOPAWqBnjPHHJEeSJKU4D4aTJElSsQoh7EbeCrdlQHsLwJKUX4xxOXm/JfEFMDOEsEeSI0mSUpxFYEmSJBWbEMIBwOvAU8AZMcY1SY4kSSVSjDEXOAcYB+SEEA5KciRJUgpzOwhJkiQVixBCB2AseXtcPprsPJJUWoQQTgDuBvrGGJ9Odh5JUupJS3YASZIklX4hhHOBQUD3GONryc4jSaVJjHFiCOELYFIIoTHw1+iKLUlSMXIlsCRJkrZZCKE8cDPQBegcY5yT5EiSVGqFELKBZ4BXgItijGuTm0iSlCosAkuSJGmbhBAqA+OB6sAJHgAnSdsvhFANeBxYC/SMMf6Y5EiSpBTgwXCSJEnaaiGE3YBXgeVAewvAklQ8YozLgc7AF8DMEMLuSY4kSUoBFoElSZK0VUIIzYDXgUnAGTHGNclNJEmpJcaYC5wDjANeDyEclORIkqRSzu0gJEmStMVCCB2AscCFMcZHk51HklJdCOEE4G6gb4zx6WTnkSSVTmnJDiBJkqTSIYRwDjAY6B5jfC3JcSSpTIgxTgwhfAFMCiE0Av4WXc0lSdpKrgSWJElSkUII5YFhQFegc4xxTpIjSVKZE0JoCDwDTAMuijGuTW4iSVJpYhFYkiRJmxRCqAyMB2oAx3sAnCQlTwihGvA4kAv8Mcb4Y5IjSZJKCQ+GkyRJUqFCCLsBrwI/AMdYAJak5IoxLgc6A18BM0IIuyc5kiSplLAILEmSpAJCCM2A14FJQO8Y45rkJpIkAcQYc4GzgYeB10MIByU5kiSpFHA7CEmSJOUTQugAjAUujDE+muw8kqTChRBOAO4G+sQYpyQ7jySp5EpLdgBJkiSVHCGEc4DBQPcY42tJjiNJKkKMcWII4UvgqRBCY+Bv0ZVekqRCuBJYkiRJhBDKA8OArkDnGOOcJEeSJG2hEEJD4BngZeDiGOPa5CaSJJU0FoElSZLKuBBCZWA8UAM43gPgJKn0CSFUAx4HcoE/xhh/THIkSVIJ4sFwkiRJZVgIYTfgFeAH4BgLwJJUOsUYlwOdga+AGSGE3ZMcSZJUglgEliRJKqNCCM2A14HJQO8Y45okR5IkbYcYYy5wNvAwkBNCOCjJkSRJJYTbQUiSJJVBIYT2wDjgwhjjo8nOI0kqXiGEE4C7gT4xxinJziNJSq60ZAeQJEnSzhVCOAcYTN7+vzOTHEeStAPEGCeGEL4EngohNIox/i3ZmSRJyeNKYEmSpDIihFAOuBnoCnSOMc5JciRJ0g4WQmgIPAO8DFwcY1yb3ESSpGSwCCxJklQGhBAqAeOBmuStAPYAOEkqI0II1YHHgTXAH2OMPyY3kSRpZ/NgOEmSpBQXQtgNeBX4ETjGArAklS0xxmVAJ+ArYEYIYffkJpIk7WwWgSVJklJYCKEZ8DrwNNA7xrgmyZEkSUkQY8wFzgYeBnJCCAclOZIkaSdyOwhJkqQUFUJoD4wDLooxPpLsPJKkkiGEcAJwN9Anxjgl2XkkSTteWrIDSJIkqfiFEM4GhpC3/+/MZOeRJJUcMcaJIYQvgadCCI1ijH9LdiZJ0o7lSmBJkqQUEkIoB9wMdAU6xxjnJDmSJKmECiE0BJ4BXgYujjGuTW4iSdKOYhFYkiQpRYQQKgHjgVpAdw+AkyRtTgihOvA4sAb4Y4zxx+QmkiTtCB4MJ0mSlAJCCFnAq8BPwDEWgCVJWyLGuAzoBHwNzAgh7J7cRJKkHcEisCRJUikXQtgfeB14Gjg9xrg6yZEkSaVIjDEXOAt4BMgJIbRIciRJUjFzOwhJkqRSLITQHhgHXBRjfCTZeSRJpVsI4QRgFNA3xjgl2XkkScUjLdkBJEmStG1CCGcDQ4DjY4wzk51HklT6xRgnhhC+BJ4KITSKMf4t2ZkkSdvPlcCSJEmlTAihHHAz0BXoHGOck+RIkqQUE0JoCDwDvAxcHGNcm9xEkqTtYRFYkiSpFAkhVALGA7XIWwH8XZIjSZJSVAihOvA4sBo4Kcb4Y3ITSZK2lQfDSZIklRIhhCzgFeAn4BgLwJKkHSnGuAzoBHwDzAgh7J7cRJKkbWURWJIkqRQIIewPvA5MAU6PMa5OciRJUhkQY8wFzgIeAXJCCC2SHEmStA3cDkKSJKmECyG0B8YBF8UYH0l2HklS2RRCOBEYBfSJMU5Jdh5J0pZLS3YASZIkbVoI4WxgCHn7/85Mdh5JUtkVY3wihPAF8FQIoVGM8W/JziRJ2jKuBJYkSSqBQgjlgGHAsUDnGOOcJEeSJAmAEEJD4BngJeDiGOO65CaSJG2ORWBJkqQSJoRQCRgP1CJvBbAHwEmSSpQQQnXgcWA18McY40/JTSRJKooHw0mSJJUgIYQs4BXgJ+AYC8CSpJIoxrgM6AR8A8wIIeye3ESSpKJYBJYkSSohQgj7A68DU4HTY4yrkxxJkqRNijHmAmcBjwI5IYQWSY4kSdoEt4OQJEkqAUIIx5C3BcRFMcZHkp1HkqStEUI4ERgFnBFjnJrsPJKk/FwJLEmSlGQhhLOAseTt/2sBWJJU6sQYnwC6APeGEC5Idh5JUn6uBJYkSUqSEEI5YBhwLNA5xjgnyZEkSdouIYSGwDPAS8DFMcZ1yU0kSQKLwJIkSUkRQqhE3vYPtchbAewBcJKklBBCqA48AfwMnBRj/Cm5iSRJbgchSZK0k4UQsoBXgBXAMRaAJUmpJMa4DOgIfAvMCCHsntxEkiSLwJIkSTtRCGF/4HVgKnBajHF1kiNJklTsYoy5wFnAo0BOCKFFkiNJUpnmdhCSJEk7SQjhGPK2gLg4xvhwsvNIkrQzhBBOBO4C+sQYpyY7jySVRa4EliRJ2glCCGcBY4ETLABLksqSGOMTQFfg3hDCgGTnkaSyyJXAkiRJO1AIoRwwDOgGdI4xfprkSJIkJUUIoRHwDPAieb8Vsy7JkSSpzLAILEmStIOEECoB44DawPEeACdJKutCCNWBJ4CfgZNijD8lN5EklQ1uByFJkrQDhBCygFeAlcAxFoAlSYIY4zKgI7AQmBFCqJ/cRJJUNlgEliRJKmYhhP2B14GpwGkxxtVJjiRJUokRY8wF+gF/B14PITRPbiJJSn1uByFJklSMQgjHAOPJ2+vQA+AkSSpCCOFE4C6gT4xxarLzSFKqciWwJElSMQkhnAWMBU6wACxJ0ubFGJ8AugL3hhAGJDuPJKUqVwJLkiRtpxBCOWAocBzQOcb4aXITSZJUuoQQGgHPAC+S99s065IcSZJSikVgSZKk7RBCqASMA2oDx3sAnCRJ2yaEUB14AvgZOCnG+FNyE0lS6nA7CEmSpG0UQsgCXgFWAsdYAJYkadvFGJcBHYGFwPQQQv3kJpKk1GERWJIkaRuEEPYHXifvV1dPizGuTnIkSZJKvRhjLtAPeAx4PYTQPLmJJCk1uB2EJEnSVgohtAMeJm/PQg+AkyRpBwghnAjcBZwRY3wm2XkkqTRzJbAkSdJWCCH0I28P4BMsAEuStOPEGJ8AjgVGhxAGJDuPJJVmrgSWJEnaAiGEcsBQ4Digc4zx0+QmkiSpbAghNCJv+6UXgEtijOuSHEmSSh2LwJIkSZsRQqhE3urfOkB3D4CTJGnnCiFUB54AfgZOijH+lNxEklS6uB2EJElSEUIIWcArwEqgnQVgSZJ2vhjjMqAjsBCYHkKon9xEklS6WASWJEnahBBCUyCHvF9BPS3GuDrJkSRJKrNijLlAP+AxICeE0Dy5iSSp9HA7CEmSpEKEENoBD5O39+D4ZOeRJEn/E0LoAYwEzogxPpPsPJJU0rkSWJIk6VdCCP3I2wP4BAvAkiSVPDHGx4FjgdEhhPOTnUeSSjpXAkuSJG0QQigHDAW6A51ijJ8mOZIkSSpCCKEReds2vUDeb++sS3IkSSqRLAJLkiQBIYRKwFhgV6C7B8BJklQ6hBCqA0+Qd4hrrxjjT8lNJEklj9tBSJKkMi+EkAVMA34G2lkAliSp9IgxLgM6AouA6SGE+slNJEklj0VgSZJUpoUQmgI5wLPAaTHG1UmOJEmStlKMMRfoBzwG5IQQmic3kSSVLG4HIUmSyqwQQjvgYfL2EPQAOEmSUkAIoQcwEjgjxvhMsvNIUkngSmBJklQmhRD6AeOAEy0AS5KUOmKMjwPHAqNDCOcnO48klQSuBJYkSWVKCKEccBNwPNApxvhpkiNJkqQdIITQCHgGeIG83/pZl+RIkpQ0FoElSVKZEUKoBIwFdgW6ewCcJEmpLYRQHXgCWAn0ijH+lNxEkpQcbgchSZLKhBBCFjANWAW0swAsSVLqizEuAzoCi4DpIYT6yU0kSclhEViSJKW8EEJTIAd4Fjg1xrg6yZEkSdJOEmPMBfoBE4CcEMKBSY4kSTudRWBJkpQyQgj1QgiZv+prR94K4KtjjEOie2FJklTmxDxDgYHACyGETr/8PISQ7iphSanMIrAkSUoJIYQAvAQ0/UVfP2AccGKMcXyyskmSpJIhxvg4cCxwXwjh/F98tCcwM4RQPjnJJGnHsggsSZJSxdFALvB2CKFcCGEYcCnw+xjj9ORGkyRJJUWM8XXgd0D/EMLtIYTyMcaPyds3uFPRV0tS6WQRWJIkpYrzgTuBiuTt+XcE0DLG+GlSU0mSpBInxjiPvLlCM+CpEEIV8uYR5xd5oSSVUhaBJUlSqRdCaAj8HniBvP1/VwFtY4zfJTOXJEkquWKMy4COwGJgOjATaB5C2DuZuSRpR7AILEmSUsE5wFTgZeBZ4FSgWgjhhBDCHklNJkmSSpwNh8n2AGoCZ5L3W0SvAlOA/snMJkk7QvCAbEmSVJqFECoA32z4chxQHmgN1AdmAFfFGP+TnHSSJKkkCiH8BhgK/B/wLfAKeb9JdDqQBtSLMf6UtICSVMxcCSxJkkq7PwPVyfuBrREwFzgNqBVj7GoBWJIk/VqM8aMYYzegNtAL+ARoTN58Yhfg6iTGk6Ri50pgSZJUqoUQsoF9gJdijOuSnUeSJJVeIYTyQCvg8xjjZ8nOI0nFxSKwJEmSJEmSJKWwtGQHkCSVDBUrVvx21apVdZOdQ9LOUaFChYU///xzVrJzSJJSg3NJacs4B1OyuBJYkgRACCH63wSp7AghEGMMyc4hSUoNziWlLeMcTMniwXCSJEmSJEmSlMIsAkuSJEmSJElSCrMILEmSJEmSJEkpzCKwJEmSJEmSJKUwi8CSJEmSJEmSlMIsAkuSJEmSJElSCrMILElKeSeccAK1a9dm0aJF+frXrFlD06ZNad68OWvXrgWgdevWhBAIIXD99dcnxv6y/9etQ4cOm3z22WefTQiBU045pdDPP/zwQ0488URq1apFxYoV2WeffbjzzjsTnz/44IObfG4IgW+//TYxNi0tLdF/3333bdP3amf5+eefGThwILvtthsVK1akZcuWTJ8+fYuvv+eee9hnn33IzMxkn3324e677y503JNPPknz5s2pUKEC2dnZXH/99axfvz7fmKK+v0OHDt2u95QkSTtWcczzXnnllULnAdWrV893zzfffJMOHTpQv359KlSoQFZWFp07d+aNN97IN27w4MGbnFtUqFAhMe7HH3/kD3/4A02aNKFy5cpUr16dww47jEceeaTAezrPK/w511xzDU2aNCEzM5O6devStWvXxJ83bPrP4rjjjtve15RKnbRkB5AkaUcbOXIkv/nNbxgwYACPPfZYov/666/nv//9L2+88QZpaf/7T2KnTp24+uqr2WOPPRJ9d911Fz/88EO+++bk5HDJJZdw7LHHFvrcWbNm8fDDD1O1atVCP//Xv/7F0UcfTZs2bRgzZgxVq1blk08+4eeff06M6dy5Mzk5OfmuizHStWtXGjduTFZWVqL/tdde4+uvv+b444/fgu9Kcp1xxhn84x//YPjw4TRq1IiRI0fSvn17cnJyaN68eZHX3n333fTv358rr7ySo48+mpdeeon+/fsTQuDss89OjHvuuec48cQT6devH7fddhtvv/02V155JStWrOCmm25KjPv19xfy/s6MHz+erl27Fts7S5Kk4lcc87yN/va3v3HooYcmvv7ldQDLli2jSZMm9O7dm912241FixZx22238fvf/57XXnstce2ZZ55ZYJHAihUr6NChQ75545o1a0hLS+OKK66gYcOGrF69mscee4yTTz6ZxYsXc+GFFybGOs/LP89bs2YNxxxzDAsWLODKK6/kN7/5DYsXL+af//xngf/DH2DmzJmUL18+8XXNmjWL7X2lUiPGaLPZbDbbhv8kpK77778/AnHSpEkxxhj/85//xPT09HjppZfmG9eqVat4+umnb9E9+/TpEzMyMuJ3331X4LM1a9bEpk2bxhtvvDFmZ2fHk08+Od/n69ati/vuu2887rjjtvpdpk+fHoF45513Fvhs3rx5EYijR4/e6vv+2rJly+KiRYu2+z6/9tZbb0Ugjh07NtGXm5sb9957781+P9asWRNr164d+/Tpk6//jDPOiLVr1465ubmJvgMPPDC2adMm37ghQ4bEjIyMuHDhwiKfs+eee8ZDDjlkS1+pVNrwz3zS/91js9lsttRoyZxLbu88b9q0aRGIL7zwwlY/e/ny5TEjIyOef/75RY4bO3ZsBOLUqVM3e8/DDz887r///gX6nef9b553ww03xF122SUuWLCgyHsOGjQoAvmuTTbnYLZkNbeDkCSVCX369KFt27b079+f77//nr59+9KgQQOGDBmyTff7+eefefzxx+natWuhKwmGDx/OunXrGDhwYKHXT5s2jY8//phLLrlkq5/90EMPkZGRwR//+MetvnZz1q5dy9SpU+nZsydZWVm89tprxf6MKVOmkJ6ezoknnpjoS0tL449//CPPPfccubm5m7w2JyeHJUuW0KtXr3z9p556KkuWLEms6l2wYAHvvvtuoePWrFnDP/7xj00+Y+bMmXz22Wecfvrp2/J6kiRpJyvued7W2GWXXahQoQLp6elFjnvooYeoW7cu7du33+w9a9euvdn7bYtUmecBjBo1ih49ehS6oltS4SwCS5LKjHvvvZfly5dz6KGHMnv2bEaPHk3FihW36V5PPvkkP/74Y6GFws8++4zrr7+eu+66i4yMjEKv3zjpXrVqFYcddhjp6ensuuuuXHDBBfm2g/i1jcXnLl26UKtWrW3KXpi33nqLiy66iPr169OtWzcWLVrEnXfeSdu2bRNjYoysXbt2s62wX8H7pQ8++IDGjRsX+N43bdqU1atXM3fu3CKv3Tj219dC3h7LRY1r1KgRlSpVSowrzMYi+0knnVTke0iSpJKjOOZ5vXr1onz58tSuXZuTTz6ZL774otBx69evZ+3atXz55ZdccMEFAPTr12+T9/3yyy+ZNm0aJ598coEtJuB/c6zvv/+e+++/n3/84x/btFBgU1JtnrdgwQK+/PJLGjduTL9+/ahatSoVKlTg6KOP5p133in03rvvvjvly5cnOzubK664glWrVhX5HlIqsggsSSozGjVqxLnnnsvcuXM5+eSTOeqoo7b5XmPHjmXXXXelY8eOBT4755xzOP7444u8/9dffw1Az549ad++PS+88AKXXnop9913H+ecc84mr5s0aRI//PBDsaxS/eqrrxg2bBj7778/Bx98MC+//DKXXHIJn3/+OdOmTaNv375UqVIlMf6hhx4iPT19s61Pnz5FPnfp0qUFDlqB/+3N9v333xd5LVDg+l9fu6lxADVq1NjkM1atWsXjjz9O586di7XILkmSdqztmedVq1aNgQMHcv/99/Pyyy9z1VVX8cILL3DEEUewZMmSAuP/8Ic/kJ6ezh577MHjjz/Oc889x29+85tN3n/cuHGsX79+k/O3kSNHkp6eTq1atTj33HP529/+tslDhbdUKs/zNs6jhw0bxty5c3nsscd49NFHWbx4MUcffTTfffdd4tomTZowdOhQxo4dy3PPPUePHj245ZZb6N69e5HvIaUiD4aTJJUZy5Yt4+GHHyaEQE5ODj///PM2rQT++uuvefHFF7nwwgsLrOYYP348s2fP5uOPPy7yHhtXUZxyyilce+21QN6J1evXr+eKK65g8ODBNGrUqMB1Dz30EHXq1KFTp05bnfuXBg8ezHXXXUdWVha9evXi4Ycf5sADDyzymq5duzJ79uzN3rt27dpFfh5jJIRQaP/mbBxT2PVbOq6o50yaNInly5fTu3fvzWaRJEklx/bM81q0aEGLFi0SX7dq1YpWrVrx29/+ljvvvJPBgwfnG3/zzTfz5z//mS+++IKRI0fSqVMnXnzxRQ455JBC7z927FhatGjBAQccUOjnPXv25PDDD2fJkiU8/fTTnHfeeQUOQtsaqT7P2ziPrlSpElOmTKFSpUoAHHLIITRp0oQ777yTQYMGARQoph9zzDHsscceXHTRRbzyyiu0bt16s7mkVGERWJJUZgwcOJCffvqJKVOm0L17dwYNGsTNN9+81fcZP358oas5fvrpJy655BL+/Oc/U6FCBZYtWwbkTVRzc3NZtmwZVapUIS0tLbHKtF27dvnuccwxx3D55ZfzwQcfFCgCf/PNN7z44osMGDCg0F8l3Bq77LILGRkZrFy5kmXLlrFs2bJNTto3qlmzJtWqVdvsvcuVK/oXjWrWrFnor1duXP1R1GnNGz9bunQpWVlZif6NK0M2fv7Lcb+2bNmyTT5j7Nix1KlTp9AV3pIkqeQqrnneRgcddBB77713oYXRxo0b07hxYw499FC6dOnC/vvvz1/+8heef/75AmP/9a9/8fHHH3P77bdv8ll16tShTp06AHTo0IGVK1fypz/9iT59+mzT3sCpPs/bOI/+3e9+lygAA+yxxx7su+++vPfee0VmPOmkk7jooouYPXu2RWCVKW4HIUkqE1566SXGjBnDTTfdROfOnbn00ku57bbbePvtt7f6XmPHjuXAAw8ssKJiyZIlLF68mCuvvJIaNWok2hdffMGECROoUaNG4oeDjXub/XoyvnEFRGH7lI0fP55169YVy1YQAwcO5Ntvv+Xmm2/m448/5qijjiI7O5vLL798kxPn4vo1waZNmzJ37twC7/jhhx9SoUIFGjduXOS1G8f++lqA/fbbr8hx8+fPZ+XKlYlxv/Ttt9/yz3/+k169eu2Qw1gkSdKOUZzzvF/aXOEUICMjgwMOOIA5c+YU+vlDDz1EWlpagcPOinLIIYfw008/sXDhwq3Ku1Gqz/M27jm8qRXHW7rf7+b+bKWUE2O02Ww2m23DfxJS04oVK2KjRo3i7373u7h+/foYY4yrVq2Ke++9dzz44IPj2rVrE2NbtWoVTz/99E3ea/bs2RGIt956a4HPfv755zht2rQCrW7durFt27Zx2rRpccmSJTHGGJcsWRIzMzPjeeedl+8eN954YwwhxHnz5hW4//777x8POOCAIt913rx5EYijR48uctyvzZ07Nw4ePDjuueeeEYgHHHBAHDZsWPzuu+8SY5YsWRJnz5692VZY9l96++23IxDHjRuX6MvNzY377rtvPO6444q8ds2aNbF27dqxb9+++fr79u0b69SpE3NzcxN9Bx54YDz66KPzjbvuuutiRkZGXLhwYYF7Dx8+PALxrbfeKjJDqtjwz3zS/91js9lsttRoyZpLFuc875dmz54dy5UrF6+99trNPj87Ozsec8wxBT5bvXp1rFmzZjz22GO3/IVijCeeeGKsUqVKXL16db5+53n/m+edeOKJcdddd40//fRTou/zzz+PGRkZcfDgwUU+59Zbb41AnD59epHjdhTnYLZktaQHsNlsNlvJaKlcBL7oootiRkZG/PDDD/P1v/LKKzGEEEeMGJHo29wPBwMGDIhpaWnx22+/3eLnZ2dnx5NPPrlA/+DBg2P58uXjFVdcEV944YV40003xQoVKhSY+MYY45tvvhmBeMsttxT5rG394eCXZsyYEfv16xerV68en3rqqW2+T1F69uwZa9SoEe+777744osvxhNOOCFmZmbGt99+O9+4PffcM7Zp0yZf36hRo2IIIV599dVx2rRp8eqrr44hhHj33XfnG/fMM8/EEEI855xz4rRp0+Ktt94aMzMz4+WXX15opmbNmsVmzZoV63uWZP4AYrPZbLbibMmaSxbHPK9Xr17xqquuik8++WR86aWX4vDhw2OtWrVidnZ24v/AjzHGs846K15++eXxiSeeiK+88kp86KGH4qGHHhozMjIKLShOnDgxAnHixImFZr/77rtj79694/jx4+Mrr7wSJ06cGHv27BmBOHTo0ALjnef9zwcffBArV64cW7VqFZ9++uk4YcKE2LRp05iVlRUXLVqUGNe8efN46623xmeffTY+++yz8aKLLoppaWmxS5cuO+Tdt4RzMFuyWtID2Gw2m61ktFQtAr/++uuxXLlycciQIYV+3q9fv1ipUqU4d+7cGGPRReCNqxO2dtK4qSLw+vXr4y233BL33HPPmJ6eHhs0aBAHDRqUb5XDRhdccMEWFZ+L44eDjVatWhWXLl263fcpzMqVK+PFF18c69atGzMzM+Nhhx0WX3nllQLjsrOzY6tWrQr0jxo1Ku61114xIyMj7rXXXvGuu+4q9DkTJ06MBxxwQMzIyIh77LFHvPbaa/OtCNrorbfeikC+HxRTnT+A2Gw2m604WzLmksU1z7vxxhtjs2bNYtWqVWNaWlrcY4894llnnRW/+eabfOPuv//+2LJly1izZs2YmZkZGzduHE866aT4n//8p9DnH3vssbFmzZoFVvRu9Nprr8WOHTvGrKysmJGREevVqxePPvroOHXq1ELHO8/L74033oitW7eOFStWjFWrVo3du3ePc+bMyTemZ8+esXHjxrFixYoxMzMz7rfffvH666/f5J/JzuAczJasFmLc/AmNkqTUF0KI/jcBWrduTXZ2Nvfffz/ly5cvVXuFrVu3jvnz59OkSRNGjx7NmWeemexIKsFCCMQYS89fcElSiVYa5pLO81QSOAdTsngwnCRJvzJ27FjS09O54YYbkh1lq2RmZtKkSZNkx5AkSSqxnOdJKqtcCSxJAkrH6o2d4b///S8//vgjAPXr12e33XZLcqIt9+abb7Lxz7Bhw4bUrl07yYlUkrkKRZJUnErDXNJ5nkoC52BKFovAkiSgdEzcJRUffwCRJBUn55LSlnEOpmRxOwhJkiRJkiRJSmEWgSVJ2gkefPBBQgjMmTNnq69t3bo1Rx555A5ItWn33HMP++yzD5mZmeyzzz7cfffdW3ztmDFjaNGiBVWqVCErK4suXbrw1ltvFRj3/vvv065dOypXrkytWrU444wz+P777/ON+cc//kGbNm3IysoiMzOT3XffnZ49e/LRRx9t9ztKkiQVl7Iy15s5cyZnnHEGzZo1Iy0tjYYNG25y7BNPPEGLFi2oUKECWVlZnHfeefzwww8Fxs2YMYOjjz6a2rVrU61aNQ4//HCeeOKJbX01SZtgEViSpJ2gc+fO5OTksMcee2z1tXfddRf33nvvDkhVuLvvvptzzz2XHj168Pzzz9OjRw/69+/PPffcs9lrR40aRd++fTnyyCOZNGkSI0eO5Ouvv6ZNmzbMnz8/Me6rr76idevWrFmzhokTJzJy5EhefPFFunbtyi9/lfT777/n4IMP5s477+Sf//wnN910E++99x6HH344CxYs2BGvL0mStNXKylzvpZdeYvr06ey3337st99+mxz36KOP0qNHDw444AAmT57MoEGDeOSRRzjuuOPyzfXeeecd2rVrRwiBBx54gAkTJpCdnU2PHj146qmniuV9JeVxT2BJEuA+bsqTm5tLvXr1OPbYY7n//vsT/X369GHKlCl88803pKWlbfL6li1bEkJg1qxZib7PPvuMJk2acMcdd3D++ecDcNFFFzF27FjmzZtHtWrVAJg+fTqtWrVi0qRJdOvWbZPP+O9//8u+++7LiBEjGDhw4Pa+cpnlfnSSpOLkXLJ02N653vr16ylXLm89Ye/evXnllVfy/R/9GzVp0oR69eoxffr0RN+ECRPo2bMnU6dOpXPnzgBcccUV3HrrrXz33XdUqVIl8YzGjRtzyCGHpOSKYOdgShZXAkuStJ0effRR9t13XypUqECzZs2YPHkyrVu3pnfv3okxhf2KYMOGDTnllFMYP348e++9N1WqVOHII4/kvffey3f/nfkrgjk5OSxZsoRevXrl6z/11FNZsmQJOTk5RV6fm5tL9erV8/Vt/PqXPxg+/fTTdO7cOVEABvi///s/GjRowNNPP13kMzaehp2enr6515EkSdpuzvX+Z2MBuChLlizhs88+SxR6N+rUqRMAkyZNSvTl5uaSnp5OpUqV8j1jl112wf9TQSpeFoElSdoOL774IieffDL77rsvEydO5E9/+hMXXXQRn3zyyRZdP336dP76179y44038ve//50VK1bQrVs31q5du9VZ1q5du9m2bt26Iu/xwQcfANC0adN8/Ru//vDDD4u8vn///rzwwguMGzeO5cuXs2DBAgYMGMBuu+3GSSedBMDKlSuZP39+gWdsfE5hz1i3bh1r1qxhzpw5nHvuudSrVy9xP0mSpB3Fud7WK1++PAAZGRn5+tPT0wkh8P777yf6evfuTYyRgQMHsnDhQr7//ntGjBjBJ598woABA7Y7i6T/2fQaf0mStFmDBg1iv/3246mnniKEvN/qatasGQcffPAWXf/jjz/y7rvvUqNGDQCysrI49NBD+de//sURRxyxxTnmz59Po0aNNjsuOzu70F/Z22jp0qUABVbz1qxZE6DAwW2/1qdPH9avX0+/fv047bTTAGjcuDHTpk1LrOBdtmwZMcYCz9j4nM8++6xA/2GHHcabb74J5P164csvv0ydOnWKzCJJkrS9nOttvRo1alCnTh1ycnK4+OKLE/2vv/46McZ8z9h///15+eWXOf7447n99tsBqFy5MhMmTKB169bbnUXS/1gEliRpG61bt47Zs2dzxRVXJH4oADjooIO2aJIOeXvobvyhAPJ+qABYsGDBVv1gUK9ePWbPnr3ZcZmZmUV+vvHX7n75PlvjySefZMCAAQwYMIBOnTqxfPlyhg8fTocOHZgxYwa77757kc/Y1K/9jRs3jh9++IG5c+cyYsQIjj76aGbOnFnkidSSJEnbw7netrvwwgu55pprGDlyJCeddBJz586lf//+lC9fPt+WEp988gknnHACBx10EKNHjyY9PZ1HH32Uk046iaeffpq2bdvu0JxSWWIRWJKkbbRkyRJyc3PZddddC3xWt27dLbrHxlUXG22cuK9atWqrsmRkZNC8efPNjtvchH9jnqVLl5KVlZXo37hi49d5fynGyDnnnEPPnj0ZPnx4or9NmzZkZ2czbNgw7rjjDmrUqEEIIbES5ZeWLl1a6DN+85vfAHkrgjt27EjDhg0ZOnQod999d5HvI0mStK2c6227Sy+9lAULFnDhhRdy/vnnk5aWxnnnnUfFihWpWrVqYtyVV15JxYoVeeqppxIH0rVr14758+dz8cUXF9g/WdK2c09gSZK2Ue3atUlPT2fRokUFPlu4cOFOzTJ//nzS09M32/bcc88i77Op/eA2fr3ffvtt8tqFCxeyePFiDjrooHz9VatWpUmTJnz00UcAVKpUiYYNGxa659yHH35Y5DMg79cXmzRpku/gFUmSpOLmXG/bZWRkcM8997BkyRLeffddFi5cyPDhw/n000/zHYL3/vvv06xZs0QBeKODDz6Yjz/+uFiySMrjSmBJkrZR+fLlOfTQQ5k4cSKDBw9OrLx48803mTdvHv/3f/+307IU168ItmzZktq1a/PII4/Qpk2bRP/48eOpU6cOLVu23OS1NWrUIDMzk3//+9/5+pctW8ann35Kt27dEn3HHntsYouHjatBZs6cyeeff86xxx5bZMaFCxfy8ccfc/LJJxc5TpIkaXs419t+1atXT+w/fPfdd7N69Wr69OmT+DwrK4t3332X3Nxc0tPTE/2zZ8+mXr16xZpFKussAkuStB2GDBlCu3bt6N69O2eddRZLlixh8ODBZGVl5dvvbEfLyMjgkEMO2e77pKenc91119G/f3/q1atHmzZtePnllxkzZgyjRo3Kt0qjb9++PPTQQ4nTrTMzM+nbty+jRo2iVq1aiT2BR4wYwYoVK+jfv3/i2ksvvZTx48dz7LHHcsUVV7Bs2TIuu+wyWrZsma8I3L17dw466CAOOOAAqlatyieffMJtt91GWloaAwcO3O73lSRJKopzvf/N9QAWL17Mq6++CsDnn3/OypUreeKJJwA49NBDyc7OBuCFF17g/fffZ//992fVqlX885//5K677uKOO+7Id6bDeeedxx/+8Ae6devGueeeS3p6Oo888givvvoqt9xyy3a/r6T/sQgsSdJ2aNu2LQ8//DBDhgyhe/fuNGnShFtuuYVrr72WatWqJTveNjnnnHMAuPXWWxk2bBjZ2dmMHDmSs88+O9+4devWsW7dunx9t99+O3vttRdjxoxh9OjRVK5cmRYtWjBjxgwOO+ywxLj69eszbdo0Lr74Yrp3706FChXo1q0bI0aMyLeX3eGHH86ECRO45ZZbWLNmDXvssQetW7fmiiuu8FA4SZK0wznXyz/X++CDD+jRo0e+vo1fP/DAA/Tu3RvIK1o/8sgjfPzxx6xfv54WLVowadIkunbtWuDaKVOmMGzYMHr37s26devYa6+9GDduHKecckpxvrZU5oVNncItSSpbQgjR/yYUjwULFrD33nszevRoTj311GTHkQoVQiDGuGOPBpcklRllaS7pXE/bwzmYksUisCQJKFsT9+L0888/c8kll9C2bVtq167NZ599xrBhw1i9ejUffPABlStXTnZEqVD+ACJJKk6pOpd0rqfi5hxMyeJ2EJIkbYfy5cvzzTffcN555/Hdd99RrVo12rRpw8033+wPBZIkSaWccz1JqcKVwJIkIHVXb0gqnKtQJEnFybmktGWcgylZdt5RlpIkSZIkSZKknc4isCRJKah3797svvvuyY6x1UIIm2xDhw7NN/aJJ56gRYsWVKhQgaysLM477zx++OGHJCWXJElKrtI6/wMYNWoU++67L5mZmTRo0IC//OUvrFmzJtmxpJTinsCSJKnEyMnJKdA3cuRIxo8fT9euXRN9jz76KL169eK0005j6NChzJ07lyuvvJKPPvqIl156iRD8DTtJkqTS4KabbuKqq67ioosuomPHjrz11lsMHjyYr776igceeCDZ8aSUYRFYkiSVGIcffniBvlNOOYVDDjmEpk2bJvquvvpqfv/73/PQQw8l+mrVqkXPnj159tln6dy5807JK0mSpG23atUqbrzxRk499VRuvfVWANq1a0cIgT//+c8MHDiQ/fffP8kppdTgdhCSJG2BTz75hO7du7PrrrtSoUIFGjRoQI8ePVi/fj0AP/zwA+effz6/+c1vqFy5MvXq1eO4447jk08+yXefBx98kBACM2fO5Pjjj6dKlSpkZWUxfPhwAJ599lmaN29O5cqVOfzww3nvvffyXd+6dWuOPPJIJk2aRNOmTalQoQIHHHAA//znPzf7DitWrOCyyy6jYcOGZGRk0LhxY4YOHcovD3H56aefGDBgAA0aNCAzM5O6devStm3bAu+xs8ycOZPPPvuM008/PdG3ZMkSPvvsswKF3k6dOgEwadKknRlRkiSlKOd/O37+9/777/PTTz8l5nEbbfx68uTJOzyDVFa4EliSpC3QpUsXqlevzqhRo6hduzZfffUVzzzzTGIC/eOPP5Kbm8vgwYPJyspi+fLljB07lsMPP5yPPvqIunXr5rvfGWecwRlnnEH//v2ZMGECl112GcuWLWPq1KlceeWVVKpUiUsvvTTxg0T58uUT186ZM4dLLrmEIUOGUK1aNW655Ra6dOnC22+/nW+17C+tXbuWDh068OGHH3L11VfTrFkzZs2axaBBg1i6dCnDhg0D4JJLLmHy5MnceOON7LXXXixZsoSZM2eyfPnyIr8/69atY0tOBE9L27qpx0MPPURGRgYnnXRSom/j9yIjIyPf2PT0dEIIvP/++1v1DEmSpMI4/9vx879Nzes2fu28TipGMUabzWaz2Tb8J0GFWbx4cQTi5MmTt/iatWvXxjVr1sS99tor3nbbbYn+Bx54IALxuuuuS/Tl5ubGXXfdNWZkZMTPP/880T9x4sQIxNdeey3R16pVqwjEN954I9G3YsWKWKdOndizZ89E3+mnnx7r16+f+Hrs2LERiK+++mq+nNdee23MyMiIS5YsiTHG2LRp03jxxRdv8XtulJ2dHYHNtnnz5m3xPX/++edYrVq12L179wKf1alTJ/bo0SNf3yuvvBKBuPfee291/rJowz/zSf93j81ms9lSo6XaXNL53+YVx/zvxx9/jOXKlYuXXnppvv4HH3wwAvGYY47Z6lwlnXMwW7KaK4ElSdqMWrVq0bhxYy6//HIWLVpE69atadKkSYFxTz31FCNGjOCjjz5i6dKlif6PP/64wNj27dsn/ndaWhp77rknK1asoEGDBon+fffdF4AFCxZwxBFHJPobNGjAb3/728TXlSpVokuXLrz00kubfIfnn3+e7OxsjjjiCNauXZvo79ChA9dccw1vvPEGnTp14tBDD+XBBx+kTp06tGvXjhYtWuRbhbIpU6ZMYfXq1ZsdV69evc2O2WjSpEksX76c3r17F/jswgsv5JprrmHkyJGcdNJJzJ07l/79+1O+fHnKlXO3K0mStH2c/+2c+V+VKlXo06cPI0eO5KCDDqJDhw68/fbbXHnllc7rpGJmEViSpM0IIfDCCy8waNAgLrvsMpYuXUrjxo3585//zFlnnQXk7eV2wgkn0L9/f/7yl79Qq1YtypUrx5lnnsmqVasK3LNGjRr5vs7IyNjkr8H9+vpdd921wP3q1q3LN998s8l3WLRoEZ9//jnp6emFfv7dd98BcMcdd1C3bl3uvfderrzySmrWrEnv3r25/vrrqVix4ibvv99++xFj8W4HMXbsWOrUqUPHjh0LfHbppZeyYMECLrzwQs4//3zS0tI477zzqFixIlWrVt3iZ0iSJBXG+d/Om//dcsstfPfdd/Tq1YsYIxUqVODaa6/l5ptvZrfddtvs/SVtGYvAkiRtgcaNGzNu3DjWr1/PO++8w1//+lfOPvtsGjVqRLt27XjkkUdo1aoVd955Z77rNk6ui9OiRYsK9C1cuLDISXKtWrVo1KgREyZMKPTzRo0aAXmrMYYOHcrQoUOZN28ejz32GH/5y1+oUKECN9xwwybvv+eee/L5559vNvu8efNo2LDhZsd9++23/POf/+T8888v9AeXjIwM7rnnHoYNG8aCBQvYfffd2WWXXahduzYXXnjhZu8vSZK0Oc7/ds78r2rVqjz55JMsXryYb7/9loYNG7Jy5Uouu+wyjjzyyM3eX9KWsQgsSdJWKFeuHAcddBB33HEHY8eO5f3336ddu3asXLmSzMzMfGOff/55vvzyy2LPsGDBAmbPns2hhx4KwMqVK5k6dSpt2rTZ5DUdOnRg4sSJVKlSJfFrhpvTqFEjLr/8ciZMmLDZQzmKezuI8ePHs27dOk4//fQix1WvXp3q1asDcPfdd/P/7N15nE7l/8fx18cyM2Q3tsjYVRLahQYJLUKSSrKWaFOSorKkqHzr24JWsrQTUUiyl1ZLWiVL9f2VpfDNPvj8/rhn5ts0ZjUzZ+ae9/PxuB4Prvuc67zv4Zpz7uu+znUOHjxIr1690nUMERERkfTQ9d+xZfX1X7ly5ShXrhwADz30ENHR0XTu3Dld+4pI2jQILCIikoavvvqK22+/nS5dulCrVi2OHDnCyy+/TOHChWnRogUAF198MX379mXkyJE0bdqUtWvXMnr0aCpXrpzleSpUqECXLl0YOXIkJUuWZOzYsezcuZP77rsvxX26du3KpEmTuPDCCxk4cCANGjTg0KFDbNiwgdmzZ/Puu+8SGRlJ48aNufzyy6lfvz7FihVj6dKlrF27lt69e6eaqX79+ln6HqdMmUL9+vVp1KjRMV//4IMP+PrrrznttNM4cOAACxYsYPz48Tz99NPpmmksIiIikhpd/+Xc9d8bb7zBn3/+Sd26ddm5cyczZ87kjTfeYMaMGRQvXjxLjiEiGgQWERFJU8WKFalatSqPP/44v/76K1FRUdSvX5/33nuPhg0bAtCnTx/+85//8MILLzB69Gjq16/P66+/zsiRI7M8T61atbjzzjsZOnQoGzdupE6dOsyePZvTTjstxX0KFy7M+++/z5gxY3j++efZtGkTxYoVo1atWlxyySWJSy5ccMEFvPnmm4wZM4bDhw9Ts2ZNnnzySW6++eYsfx8pWb16NevWrWPs2LEpbhMREcGrr77K999/z9GjR2nUqBGzZs2iXbt2OZZTREREwpeu/3Lu+s/MGD9+PD/99BOFChWicePGLFmyhCZNmuTI8UXyC0vPIt4iIhL+zMx1Tsj9mjdvzuHDh1mxYkXQUSSPMzPc3YLOISIi4UHXktlH13/hRddgEpQCQQcQERERERERERERkeyjQWARERERERERERGRMKblIEREBNAtfCL5jW5FFBGRrKRrSZH00TWYBEUzgUVERERERERERETCmAaBRURERERERERERMKYBoFFRCRHLVmyBDNj4cKFQUfJlB49emBmmBl9+vRJrP/rr7+46667aNGiBSVLlsTMWLJkyTHbGDp0KG3atCE6Ohoz4+WXXz6uTI8//jjt2rXjxBNPxMwYPnz4MbebPHkyV155JdWqVcPM6NGjx3Edd86cOVx77bXUrVuXAgUK0Lx58xS3XbZsGY0bN6ZIkSJUqlSJO++8k/3792f62O+88w6NGzemVKlSREdH06JFCxYtWpSptqZPn06nTp2IiYmhSJEi1K1bl6FDh7Jnz54k223evDnx3/6fZdeuXZk6dmb+L7z22muYGVWqVEn2WqFChRIzvfjii5nKJCIiktuF6/UkwJ9//kmvXr0oW7YsJ5xwAq1atWLdunWZPlZWX3fu2LGDm2++mWrVqlGkSBFq1arF4MGD+euvvzLd5nPPPUfdunWJjIykbt26PPvss8eV8e2336Zhw4ZERUURExPDqFGjOHr0aKbbS891bJ8+fRL/TZs2bXpc+UWyiwaBRUREMqhRo0asXLmSIUOGJNb98ccfvPTSSxQoUIDWrVunuv9TTz3Fvn37uOyyy7IkzwsvvMC2bdvo0KFDqttNmzaNDRs20KpVK0qVKnXcx501axZr1qzhnHPOoWrVqilut2bNGtq0aUOlSpV49913efDBB5k0aRK9evXK1HHnzp1Lx44dqVq1Km+88QaTJk2iYMGCtG3bls8++yzD7Y0dOxaAhx56iHnz5tGvXz/Gjx9PmzZtjvmB4d5772XlypVJSvHixTP1XjL6f2HXrl3ccccdVKxY8Zivf/TRR7z99tuZyiIiIiI551jXk0ePHuWyyy5j4cKFjBs3jhkzZhAXF0eLFi34z3/+k6njZOV1p7vTrl073nrrLe69917mzp1L//79eeaZZ7juuusy1eazzz5Lv3796Ny5M/Pnz6dz587079+f5557LlPtzZs3jyuvvJJzzz2XefPmcfvttzNq1CiGDh2aqfbSex07ZMgQVq5cSaNGjTJ1HJEc4e4qKioqKirxp4Tst3jxYgf8gw8+yJHjZbXu3bt7bGxssvqjR48m/jnhPS5evPiYbRw5csTd3Tdt2uSAT5o06bgyJbTn7g74sGHD0twuJibGu3fvnmXHjY2NPebPxd29ffv2XqdOHY+Li0usmzx5sgO+evXqDB/36quv9ipVqvjhw4cT6/bs2eORkZE+cODADLe3bdu2ZHVTpkxxwBctWpRYl/Dv9cILL2T4GCnJ6P+FG264wVu3bu3du3f3ypUrH3Ob9OaM7/OB/+5RUVFRUQmPklPXku7hez05c+ZMB3zZsmWJdbt27fLSpUv7gAEDMnWsrLzu/P777x3w5557Lkn9fffd52bmu3fvzlB7hw4d8ujoaO/Vq1eS+p49e3p0dHSSa8f0atCggbds2TJJ3YgRIzwiIsK3bt2a4fYyeh0bGxvrTZo0SbVNXYOpBFU0E1hERFL16quvYmZ89913yV5r0aIFTZo0AUJfKt599900bNiQEiVKUK5cOVq1asXnn3+e5jGqVat2zCUMjnXL2pIlS2jZsiXFixenWLFiXHzxxXz77beZem9ZySz9D/gtUCBrT7/pbS+I4x46dIj58+dz1VVXUahQocT6q666ioiICObMmZPh48bFxVG8eHEKFiyYWFe0aFEiIyNxz/hTycuVK5es7qyzzgLg119/zXB7GZGRf5OPPvqIadOmMW7cuGxMJCIikvV0PZk+s2fPpkqVKjRr1iyxrmTJkrRr147Zs2dnqs2svP6Li4sDSHZHWWbvMFu5ciU7duzg2muvTVLfrVs3duzYwcqVKzPU3s8//8zatWuP2d6hQ4d4//33M9RedlzHigRJg8AiIpKqDh06ULx4caZOnZqk/tdff2XZsmV069YNCN2+9ttvvzFw4EDeeecdpkyZQs2aNWnatClff/11lmR57733aNWqFSVKlGDatGlMmzaNnTt30qxZszRvkTt69CiHDx9Os2RmEFFS9tNPP3Hw4EHq1auXpD4qKoqaNWtm6gPXjTfeyPr16xk7dix//vknW7duZeDAgQDJ1tXLrOXLlwNwyimnJHvt3nvvpVChQpQsWZL27dvzzTffZMkxUxMXF8eNN97IoEGDqFWrVrYfT0REJCvpejJ9vvnmm2TXTAD16tVj06ZNx/U8haxQr149LrjgAh566CHWrFnDnj17WLFiBU8++SR9+vShRIkSGWov4Rrqn+854e8ZvU5Mqb3q1atTtGjRDLeXHdexIkHSILCIiKSqaNGiXHHFFbzyyitJLmhfeeUVChUqxFVXXQVAwYIFmTp1Kt26daNFixa0adOGcePGccEFF2TZA6puu+02YmNjmTVrFu3bt6dDhw7Mnz8fCD0cLTW9evWicOHCaZbJkydnSVYJ2blzJ3DsGSJlypThzz//zHCbrVu3ZtasWYwaNYqyZctSsWJFpk2bxvz58485aJtRv/32Gw888ACtWrVKnBEMEBkZSd++fXnuuedYvHgxjz32GF999RXnn38+69evP+7jpuaRRx7h4MGD3Hvvvdl6HBERkeyg68n02blzZ4rXTO6e6QfRZhUzY+7cuVSrVo1GjRpRvHhxmjVrRosWLZgwYUKG20vpOrFMmTIAGb5OTO26s3Tp0lnaXmavY0WCVCjtTUREJL/r1q0bkydPZunSpTRv3hwIXbRfeumliRdpAEuXLmXUqFGsXbuW7du3J9b//bb9zPrxxx/ZuHEjQ4cO5fDhw4n1xYoV4/zzz0+cuZmS4cOHc8stt6R5nOrVqx93VvmfhA96x1ouI7OzZD7++GOuu+46rrjiCq655hri4uKYMGEC7dq1Y9GiRZx++umZzrt37146dOhAoUKFkt06WqlSpSRPq27WrBkXX3wx9erV4+GHHz7up22nZMOGDTz00EPMnDmTqKiobDmGiIhIdtP1ZNrcPUuvmbKau9OzZ09WrVrFSy+9RO3atVm9ejXDhw+nb9++GR6oT+06MbP5UmovMz/D7LiOFQmSBoFFRCRNLVq0oHLlykydOpXmzZuzdu1a1q1bx4gRIxK3SXhybocOHXjxxRepUKECBQsW5P7778+SW9e2bdsGQO/evendu3ey12vUqJHq/lWrVqVKlSppHicrPmDI/yR8qEuYSfF3O3fupGrVqhlu87bbbqNhw4ZMnDgxsa5169bUq1ePoUOHZnp9toMHD9KxY0c2bNjA8uXLqVy5cpr7nHTSSTRt2jRdaxVm1m233UbLli0577zzEmcAHTp0KHFGUFRUlAaHRUQk19P1ZNrKlCmT4jWTmWV67d2s8t577/HWW2+xePHixIH8Zs2aUapUKbp3706/fv0488wz093e368TK1asmFifMMP2718OZLS9f9q1a1eWtpfZ61iRIGkQWERE0lSgQAG6du3Kc889x7hx45g6dSqlS5fm0ksvTdxm+vTpnHjiibz22mtJvi3fs2dPmhfCUVFRHDx4MEndP2+vKlu2LACjR4+mVatWydqIjIxM9Ri9evVK1615kyZNokePHmluJ+lTs2ZNIiMjk62ZduDAATZu3Mg111yT4Ta//vpr+vfvn6SuUKFCnH766axevTpTOQ8fPkyXLl1YuXIlH374Iaeeemq6901p1k5W+fbbb9myZQulS5dO9lrp0qUZOHAgY8eOzbbji4iIZAVdT6atXr16LFy4MFn9t99+S/Xq1SlSpEiG28xKCesyn3HGGUnqEwZ+v/vuuwwNAv997d+/DwInXDdm5Hrsn+2dd955ifWbN29m3759GW4vO65jRYKkQWAREUmXbt268eijjzJz5kxee+01unTpQkREROLr+/btIzIyMskF+zfffMPKlStp2rRpqm3HxMSwbt26JHX/fAJy3bp1qVatGt988w333HNPhvNrOYhgRERE0LZtW9566y0eeOCBxCcrT58+nYMHD9KuXbsMt1mxYkW++OKLJHVxcXGsWbMmXbN3/+no0aN069aN999/n/fee49zzjkn3fv+/PPPfPTRR3Tu3DnDx02v119/nQMHDiSpGzNmDF9++SVvvfUWJ510UrYdW0REJCvpejJ1l19+OZMmTWLFihWJ7/e///0vc+bM4frrr89Um1kpYaD2iy++oGXLlon1n332GUCGr8MaN25MdHQ0r776apL2pk2bRrly5WjcuHGG2qtatSoNGjTg1VdfpVevXknai4iIoE2bNhlqLzuuY0WCpEFgERFJl9NOO42GDRsyaNAg/u///i/xKc4JLr74Yp544gluu+02OnTowE8//cTw4cOJiYlJs+2rr76aPn36MGLECJo2bcqqVauYMmVKkm3MjHHjxtG+fXsOHTpEly5dKFu2LL///jsff/wxNWrU4Pbbb0/xGNWqVaNatWqZeu/pNW/ePPbu3Zv4ZOKlS5eyY8cOypUrR2xsbOJ2S5cuZfv27Ynr3H3xxRcUK1aME044gYsvvjhxu+bNm7N582Y2b96c6nG/+OKLJNt8++23TJ8+HYArr7wySX3CTIZ9+/axZcuWxO0uueQSihYtCoQ+4IwYMYJNmzal+jPbsmVL4jIICe8lob3Y2FjKlSuX2F7jxo25+uqr6devH5s3b2bQoEFcffXVNGzYMLG9JUuW0KJFizRnz9x8883cfffdXH/99Vx77bWJawJv2LCBMWPGJG63efNmqlevzrBhwxg+fHiK7d1yyy28/vrrDB06lKJFi/LJJ58kvlalSpXE2z4HDhzI0aNHOf/884mOjub7779nzJgxFCxYMNkD2xL+vy1ZsiTF40L6/i/8fSZLgpdffpnIyMjEWzFFRETyAl1Ppu7yyy+ncePGdO3alUcffZRSpUoxevRozIy77rrrmFmy4loD0nfd2bFjR4YMGUK3bt0YNmxY4prAI0eOpGHDhlxwwQWJ2/bo0YPJkyenunZu4cKFefDBB+nfvz8nnngiLVu2ZNGiRUycOJEJEyYkDrpC+q9PH374YS677DL69etHly5dWL16NaNGjeLOO++kfPnyidu9/PLL9OzZM8nSFseS3utYkTzB3VVUVFRUVOJPCan717/+5YDXqFHjmK+PHz/ea9So4ZGRkX7aaaf5G2+84d27d/fY2NjEbRYvXuyAf/DBB4l1R44c8REjRnjVqlW9SJEi3rp1a9+wYYMDPmnSpCTH+Pjjj/3SSy/1UqVKeWRkpMfExPjVV1/tK1euTDN/Vvjn+/m7mJgYB5KVf24fGxt7zO1iYmKSbHfWWWf5ueeem65Mx2rvn/+mw4YNS3G7TZs2JW531113eWRkpO/cuTPV406aNCnF9hYvXpxk2yVLlvh5553nkZGRXr58eR8wYIDv27cvyTbvvvuuAz5v3rw03/PkyZP9zDPP9BIlSniZMmW8WbNmPnfu3CTbfP311w74hAkTUm0rpX83wIcNG5a43UsvveRnnXWWlypVygsVKuQVK1b0a6+91tevX5+szejoaO/SpUua7yO9/xf+qXv37l65cuVjvrZp0yYH/IUXXki1jfj/H4H/7lFRUVFRCY+SnmtJd11Puqd+PfnHH394jx49vHTp0l6kSBG/8MILfe3atcm2y+prjfRed27evNm7d+/uVatW9aioKK9Zs6bffvvt/scffyTZ7sorr/QKFSqk2Z67+4QJE7x27doeERHhtWvX9vHjxyfbJr3Xp+7uM2bM8NNPP90jIiL8pJNO8pEjR/rhw4eTbPPMM8844N9++22a7aXnOjZBbGysN2nSJNX2dA2mElQxdz3RUEREwMxc54S09ejRg02bNvHhhx9SoEABChQokC3H2bt3L6VLl2batGlcddVV2XKMlJx//vk0bNiQ8ePH5+hxhwwZwuzZs1m3bl2WrLH7/PPPM3ToULZs2ZI4yzknrF+/nrp16/Lpp59maGmJrHDkyBE2b95MrVq1eOGFF+jTp0+K25oZ7p59ixmLiEi+omvJ9Dve68msvtbIjuvOypUrc/vtt3P33XdnSXtZfX167bXXsmvXLubOnZsl7R09epSjR49y4YUXcuTIEVasWJHitroGk6BkzydXERGRMLZs2TIKFy7MjTfemG3H+Pjjj6lZs2aS5Rxywr59+1i7di2DBw/O0eNC6HbFIUOGZNlD1pYuXcodd9yRowPACce96KKLcnwAGEIPtKlVq1aOH1dEREQy5niuJ7P6WiOrrzt//PFHDhw4kOxBvpmVHdeny5Yt47777suy9m688UYKFy7MsmXLsqxNkaymmcAiIgJo9kZ6bd68mR07dgBQrly5dK1RJ5JTvvzySxL6cbVq1YiOjk5xW81CERGRrKRryfTT9WT42bJlS+K6y8WLF6du3bopbqtrMAmKBoFFRATQhbtIfqMPICIikpV0LSmSProGk6BoOQgRERERERERERGRMKZBYBEREREREREREZEwpkFgERERERERERERkTCmQWARERERERERERGRMFYo6AAiIpI7REVFbTWzCkHnEJGcERUVtTXoDCIiEj50LSmSProGk6CYnt4pIiKSfcysIDANOAHo5O5xAUfK9cwsCngP+Anoq0eNi4iISH5gZucCbwC1c9s1o5l9BDzl7m8EnUVEMkfLQYiIiGQTMzNgHFARuCq3XcznVu5+AOgANADGBJtGREREJMcMBv6VS68ZxwCD469vRSQP0iCwiIhI9nkYOBO4PH5gU9LJ3f8CLgEuNbN7gs4jIiIikp3M7GSgCfBS0FlS8B4QCbQKOoiIZI4GgUVERLKBmd0NXA5cHD+gKRnk7n8ArYEbzOymoPOIiIiIZKNBwDh33xd0kGNx96PAI4C+nBfJo7QmsIiISBYzsxuBe4Gm7v6foPPkdWZWE1gKDHL314LOIyIiIpKVzKwK8BWhtYD/CDpPSsysMKFnNnRy98+DziMiGaOZwCIiIlnIzLoAw4CLNACcNdz9J6At8G8zuzToPCIiIiJZbAAwOTcPAAPEr1X8L0JrF4tIHqOZwCIiIlnEzC4GXiY0APxVwHHCjpmdB8whNPtkWdB5RERERI6XmZUmNLu2gbv/EnSetJjZCcAmQne8rQ86j4ikn2YCi4iIZAEzawZMATpoADh7uPsnwDXAdDM7I+g8IiIiIlmgPzA7LwwAA7j7XmA8oTWMRSQP0UxgERGR42RmjYD3ga7u/kHQecKdmV0BjANauPv3QecRERERyQwzK0JoVm1Ld/826DzpZWbRwHrgNHf/v6DziEj6aCawiIjIcTCzOsBcoJ8GgHOGu79N6MF775tZ1aDziIiIiGRST+DTvDQADODuO4BphNYyFpE8QjOBRUREMsnMTgKWAyPdfWLQefIbMxsA9AOaufu2gOOIiIiIpJuZFSI0m/Y6d/846DwZZWYxwCqgprvvCjiOiKSDZgKLiIhkgpmVBz4AntIAcDDc/d/A64RmBJcKNo2IiIhIhnQGfs2LA8AA7r6F0N1wNwWdRUTSRzOBRUREMsjMSgKLgffc/f6g8+RnZmbAk0AjoI277ws4koiIiEiq4q9fVgND3f29oPNklpnVBxYA1d39QNB5RCR1mgksIiKSAWZWFJgDfAQ8EHCcfM9D32YPADYCM8wsIthEIiIiImlqAxQkNJM2z3L3dcCXQPegs4hI2jQTWEREJJ3iBxhnAn8C3d39aMCRJF78unrTgYPAte5+JOBIIiIiIsdkZouBl9x9WtBZjpeZNQVeBurq+kskd9NMYBERkXQws4LAZOAI0EsDwLmLux8GrgbKARPib7MUERERyVXM7FygOvBG0FmygruvALYCnYLOIiKp0yCwiIhIGuIHFMcBlYAu7h4XcCQ5hvi16NoDDYExwaYREREROabBwL/C7HryEeAefQkvkrtpEFhERCRtDwNnApe7+/6gw0jK3P0v4GLgMjO7J+g8IiIiIgnM7GSgKTAx6CxZ7F0gEmgVdBARSZkGgUVERFJhZncTml16sbv/N+g8kjZ3/wNoDdxoZn2DziMiIiISbxDwjLvvDTpIVopfJu1RQF/Ai+RiejCciIhICszsBmAI0Mzdfw06j2SMmdUElgED3f31oPOIiIhI/mVmlYF1QO34L6zDSvwDlDcAV7j7F0HnEZHkNBNYRETkGMzsKmA4cJEGgPMmd/8JaAs8aWaXBJ1HRERE8rU7gMnhOAAM4O6HgMcJrXksIrmQZgKLiIj8g5m1BSYTGgD+Kug8cnzM7DxgNtDJ3ZcHnUdERETyFzMrDfwENHD3X4LOk13MrBiwCWji7uuDziMiSWkmsIiIyN+YWVNgCtBBA8Dhwd0/Aa4FZpjZGUHnERERkXynPzA7nAeAAdx9DzAeuCvoLCKSnGYCi4iIxDOzhsD7wHXu/kHAcSSLmdkVwDigubv/EHQeERERCX9mVoTQ7NiW7v5t0Hmym5lFA+uBeu7+W9B5ROR/NBNYREQEMLM6wFygvwaAw5O7vw3cCywws6pB5xEREZF8oSfwaX4YAAZw9x3ANGBAwFFE5B80E1hERPI9MzsJWA6MdPeJQeeR7GVmA4B+QDN33xZwHBEREQlTZlaI0KzY69z946Dz5BQzqwZ8CdR0913BphGRBJoJLCIi+ZqZlQc+AJ7WAHD+4O7/Bt4A3jezUsGmERERkTDWGfhPfhoABnD3zYTusLsp4Cgi8jeaCSwiIvmWmZUEFgNz3f2+oPNIzjEzA54EGgFt3H1fwJFEREQkjMRfa6wGhrr7e0HnyWlmVh9YAFR39wNB5xERzQQWEZF8Kv4hHXOAj4H7A44jOcxD34IPIPSglulmFhFsIhEREQkzbYCChGbE5jvuvo7QkhDdg84iIiGaCSwiIvmOmRUGZgK7gOvd/WiwiSQo8f8XpgP7ga7ufiTgSCIiIhIGzGwx8JK7Tws6S1DMrBkwCairayyR4GkmsIiI5CtmVhCYDBwFemoAOH9z9zigC1AeGB9/66aIiIhIppnZuUB1Qs8gyM9WAFuBTkEHERENAouISD4SP8D3DHAi0CV+AFDyufh16toTWh94dMBxREREJO8bDPwrv19rxi+/9QgwWF+0iwRPg8AiIpKfPAScBVzu7vuDDiO5h7v/BVwMtDOzwUHnERERkbzJzE4GmgITg86SS7wLRAGtgg4ikt9pEFhERPIFMxsEdAAudvf/BhxHciF3/wNoDfQ1s75B5xEREZE8aRDwjLvvDTpIbhC/9NqjhGZHi0iA9GA4EREJe2Z2AzAEaObuvwadR3I3M6sJLAMGuvvrQecRERGRvMHMKgPrgNrxXy4LYGYRwE9AR3f/Iug8IvmVZgKLiEhYM7OrgBFAaw0AS3q4+0+EloZ40swuCTqPiIiI5Bl3AJM1AJyUux8C/oVmA4sESjOBRUQkbJlZW2AyoQHgtUHnkbzFzBoDs4Er3H150HlEREQk9zKz0oRmuzZw91+CzpPbmFkxYBPQxN3XB51HJD/STGAREQlLZtYEmErotjMNAEuGuftK4Fpghpk1CjqPiIiI5Gr9gTkaAD42d98DjAfuCjqLSH6lmcAiIhJ2zKwh8D5wvbu/H3AcyePM7ArgGaCFu/8QdB4RERHJXcysCKFZrhe6+zdB58mtzCwaWA/Uc/ffgs4jkt9oJrCIiIQVM6sDzAVu1gCwZAV3fxsYCiwws6pB5xEREZFcpyfwmQaAU+fuO4BpwICAo4jkS5oJLCIiYcPMTgKWAw+6+0tB55HwYmZ3ADcBzdx9W9B5REREJHhmVojQ7Nbr3P3joPPkdmZWDfgSqOHuuwOOI5KvaCawiIiEBTMrB3wAPK0BYMkO7v4E8AYw38xKBp1HREREcoUrgf9oADh93H0zobv2+gUcRSTf0UxgERHJ8+IH5BYB89z9vqDzSPgyMwOeBBoBbdx9X8CRREREJCDx1wWrgaHu/l7QefIKM6sPLACqu/uBoPOI5BeaCSwiInla/IM4ZgMrgfsDjiNhzkPfng8g9PCX6WYWEWwiERERCVBroCChma2STu6+DlgFdA86i0h+opnAIiKSZ5lZYWAmsBvo5u5HA44k+UT8/73pwH6gq7sfCTiSiIiI5DAzWwy85O7Tgs6S15hZM2ASUFfXUSI5QzOBRUQkTzKzgsBkwIEeGgCWnOTucUAXoAIwPv52UBEREcknzOxcoDqh5wVIxq0AtgGdgg4ikl9oEFhERPKc+AG3Z4ATgaviB+REclT8GnaXA2cAowOOIyIiIjlrMPC4rkMzJ36JrTHAYH2ZLpIzNAgsIiJ50SjgbOByd98fdBjJv9z9L+BioJ2ZDQ46j4iIiGQ/MzsZaAq8FHSWPO5dIAq4MOggIvmBBoFFRCRPMbO7gCuAtu7+36DziLj7DkIPhrnJzG4MOo+IiIhku0HAOHffG3SQvCx+ObdHgXuCziKSH+jBcCIikmeYWR9gKNDM3X8NOo/I35lZLWApcKe7a31AERGRMGRmlYF1QG13/yPoPHmdmUUAG4Ar3P2LoPOIhDPNBBYRkTzBzDoDI4DWGgCW3MjdNxBaGuIpM7s46DwiIiKSLe4ApmgAOGu4+yHgCUJrLItINtJMYBERyfXMrC0wmdAA8Nqg84ikxswaA7MJzWhZHnQeERERyRpmVhr4CWjo7j8HnSdcmFkxYBNwvrv/GHQekXClmcAiIpKrmVkTYArQUQPAkhe4+0rgWmCGmTUKOo+IiIhkmX7AHA0AZy133wNMILTWsohkE80EFhGRXMvMGgILgG7u/n7AcUQyxMyuAMYBzd39h6DziIiISOaZWRFCs1UvdPdvgs4TbsysHPADUM/dfws6j0g40kxgERHJlcysDjAXuFkDwJIXufvbhB5kuMDMqgadR0RERI5LD+AzDQBnD3ffDrwCDAg4ikjY0kxgERHJdczsJGA5MMrdXww6j8jxMLM7gb5AM3ffFnQeERERyRgzKwSsJ3R32kdB5wlXZlYN+BKo4e67A44jEnY0E1hERHKV+FvBFgDPaABYwoG7Pw68Ccw3s5JB5xEREZEMuxL4jwaAs5e7bwbmATcFHEUkLGkmsIiI5BpmVgJYBLzv7kODziOSVczMgKeABkBbd98XcCQRERFJh/hz+GrgPnd/N+g84c7M6hOaEFLd3Q8EnUcknGgmsIiI5ArxD9uYA3wK3BdwHJEs5aFv3W8HtgBvmVlEwJFEREQkfVoDBQk9q0KymbuvA1YB1wedRSTcaCawiIgEzswKAzOB3YTWWjsacCSRbBH/f30GsBe4zt2PBBxJREREUmFmi4GJ7j416Cz5hZldALwEnKxrJZGso5nAIiISKDMrALwMONBDA8ASztw9DrgKqAiMi7/FVERERHIhMzsXqAG8HnSWfGY5sB24IuggIuFEg8AiIhKY+AGwZ4DKwFXxA2QiYS1+fbvLgTOBhwOOIyIiIikbDPxL16g5K34ZrUeAe/SFuUjW0SCwiIgEaRRwDnC5u+8POoxITnH3v4CLgcvN7O6g84iIiEhSZlYXaEpoWQLJeXOAIsCFQQcRCRcaBBYRkUCY2V2EbvG62N3/G3QekZzm7jsIPWymn5ndGHQeERERSWIQMM7d9wYdJD+KXyLuUeCeoLOIhAs9GE5ERHKcmfUB7gOaufsvQecRCZKZ1QKWAne6+xtB5xEREcnvzKwysA6o7e5/BJ0nvzKzCOAnoIO7fxl0HpG8TjOBRUQkR5lZZ2AkcJEGgEXA3TcQWhriKTNrG3QeERERYQAwRQPAwXL3Q8DjhNZmFpHjpJnAIiKSY8ysDTAFaO3ua4POI5KbmFlj4B3gCndfEXQeERGR/MjMShOafdrQ3X8OOk9+Z2bFgE3A+e7+Y9B5RPIyzQQWEZEcYWbnA1MJDXBpAFjkH9x9JdAVmGFmDQOOIyIikl/1A+ZoADh3cPc9wATgrqCziOR1mgksIiLZzswaAAuA6939/aDziORmZtYJeBpo7u7rg84jIiKSX5hZEUKzTi9092+CziMhZlYOWA+c6u6/BZ1HJK/STGAREclWZlYbmAfcogFgkbS5+wxCD05cYGYnBZ1HREQkH+kBfKYB4NzF3bcD04Dbg84ikpdpJrCIiGQbM6sCrABGufuLQecRyUvM7E7gRuACd98WdB4REZFwZmaFCM027ebuHwWdR5Iys2rAl0ANd98dcByRPEkzgUVEJFvE37b1AfCMBoBFMs7dHwfeAuabWcmg84iIiIS5K4H/aAA4d3L3zYTuLrwp4CgieZZmAouISJYzsxLAIuB9dx8adB6RvMrMjND6wKcDbd19X8CRREREwk78+XY1cJ+7vxt0Hjk2MzsdeB+o7u4Hgs4jktdoJrCIiGSp+AdqzAE+I7SuqYhkkoe+rb8N+Bl4y8wiAo4kIiISjloDBYG5QQeRlLn7V8Aq4Pqgs4jkRZoJLCIiWcbMCgNvA38B17n70YAjiYSF+L41A9hLqG8dCTiSiIhI2DCzRcAkd58adBZJnZldALwEnKzrIZGM0UxgERHJEmZWAHgZMKC7BoBFso67xwFdgIrAM/G3rYqIiMhxMrNzgJrA60FnkXRZDmwHrgg6iEheo0FgERE5bn9bt7QK0Dl+wEpEspC77wfaA2cBDwUcR0REJFwMBv6l69e8IX6prEeAwfpSXCRjNAgsIiJZ4UHgPKBd/ECViGQDd/8vcDHQwcwGBZ1HREQkLzOzukAzQssLSN4xBygKXBh0EJG8RIPAIiJyXMxsINAJaBs/QCUi2cjddxB6gE1/M7sh6DwiIiJ52CBgnLvvDTqIpF/8snOPAvcEnUUkL9GD4UREJNPMrDdwP9DM3X8JOo9IfmJmtYClwB3u/mbQeURERPISM6sMrAPqxH/BKnmImUUAPwEd3P3LoPOI5AWaCSwiIpliZlcSWgbiIg0Ai+Q8d99AaGmIp82sbdB5RERE8pgBwBQNAOdN7n4IeJzQms4ikg6aCSwiIhlmZm2AqUBrd18TcByRfM3MzgfeATq6+4qg84iIiOR2Zlaa0CzShu7+c9B5JHPMrBiwCTjf3X8MOo9IbqeZwCIikiHxA07TCA04rQk4jki+5+4fA9cBb5tZw4DjiIiI5AX9gDkaAM7b3H0PMAG4K+gsInmBZgKLiEi6mVkD4APgenefH3QeEfmf+CVangKau/v6oPOIiIjkRmZWhNDs0Qvd/Zug88jxMbNywA9APXf/Leg8IrmZZgKLiEi6mFltYB5wiwaARXIfd59O6EGNC8zspKDziIiI5FI9gM81ABwe3H078Apwe9BZRHI7zQQWEZE0mVkVYDnwsLu/EHQeEUmZmQ0EbgCaxX8wEhEREcDMChGaNXq9u38UdB7JGmZWDfgSqOHuuwOOI5JraSawiIikysyigQXAeA0Ai+R+7v4vYDow38xKBp1HREQkF7kS+E0DwOHF3TcD84GbAo4ikqtpJrCIiKTIzEoAi4AF7j4k6Dwikj5mZsDTQH2grbvvDziSiIhIoOLPjauA+9393aDzSNYys9MJDQTXcPcDQecRyY00E1hERI4p/qEZs4HPgKEBxxGRDPDQt/y3Ab8Ab5lZ4YAjiYiIBK01UBiYG3QQyXru/hWwBrg+4CgiuZZmAouISDLxA0ZvA38B17n70YAjiUgmxPflGcAeoJu7Hwk4koiISCDMbBEwyd2nBp1FsoeZXQC8BJysax6R5DQTWEREkjCzAsDLgAHdNQAskne5exzQBTgReCb+VlgREZF8xczOAWoCrwedRbLVcmAHcEXQQURyIw0Ci4hIor+tI1oF6Bw/gCQieVj8esCXA2cDDwUcR0REJAiDgX/p2ja8xS+HNQYYrC++RZLTILCIiPzdg8B5wOV6kJRI+HD3/wJtgY5mNijoPCIiIjnFzOoCzQgtEyDhbw5QFLgw6CAiuY0GgUVEBAAzGwhcCbR1991B5xGRrOXuO4CLgP5mdkPQeURERHLIIGC8u+8NOohkv/il7B4lNPtbRP5GD4YTERHMrDdwP9DM3X8JOo+IZB8zqw0sBQa4+5tB5xEREckuZlYZWAfUif8yVPIBM4sAfgI6uPuXQecRyS00E1hEJJ8zsysJLQPRWgPAIuHP3X8ELgaeNrO2QecRERHJRgOAqRoAzl/c/RDwOJoNLJKEZgKLiORjZtYamAq0cfc1AccRkRxkZucDs4CO7v5RwHFERESylJmVBjYAZ7j7lqDzSM4ys2LAJuD8+C/ARfI9zQQWEcmn4geApgFXaABYJP9x94+BbsDbZtYw4DgiIiJZrR/wngaA8yd33wM8C9wVdBaR3EIzgUVE8iEzOx34AOju7vODziMiwYlfEuYpoLm7rw86j4iIyPEysyKEZoG2cvevg84jwTCzcsAPQD13/y3oPCJB00xgEZF8Jv6hUPOAWzUALCLuPp3QgyEXmNlJQecRERHJAt2BzzUAnL+5+3bgVeD2oLOI5AaaCSwiko+YWRVgOfCwu78QdB4RyT3MbCBwA9As/kOTiIhInmNmhQjN/rxea96LmVUHvgBquPvuoPOIBEkzgUVE8gkziwYWABM0ACwi/+Tu/wJmAPPNrGTQeURERDKpE/CbBoAFwN03AfOBm4LOIhI0zQQWEckHzKwEsAj4wN3vDTqPiOROZmbAM8BpQFt33x9wJBERkXSLP4+tAh5w9zlB55HcIf55KPMJzQY+EHQekaBoJrCISJiLfzDGbOBzYEjAcUQkF/PQ7IBbgV+Bt8yscMCRREREMuIioDDwXtBBJPdw96+ANUC3gKOIBEozgUVEwlj8AM4MYC9wnbsfCTiSiOQB8b873gb+C3Rz96MBRxIREUmTmS0CXnb3KUFnkdzFzC4AXgJO1mciya80E1hEJEyZWQFgIlCQ0IMxdLEjIuni7nHAVUBl4Jn422tFRERyLTM7B6gJvBZ0FsmVlgM7gI5BBxEJigaBRUTCUPyAzVNADNA5fkBHRCTd4tcDvhw4BxgVcBwREZG0DAYe13WvHEv8klePAPfoy23JrzQILCISnkYCjYF27r4v6DAikje5+3+BtsAVZnZX0HlERESOxczqAs2AF4POIrnabOAEoGXQQUSCoEFgEZEwY2Z3Ap2Btu6+O+g8IpK3ufsOQg/audnM+gSdR0RE5BjuAsa7+96gg0juFf+Mg0eBe4LOIhIEPRhORCSMmFkv4AGgmbv/EnQeEQkfZlYbWAIMcPe3Ao4jIiICgJmdCHwN1In/4lIkRWYWAfwEdHD3L4POI5KTNBNYRCRMmNmVhNbtbK0BYBHJau7+I3AJMM7M2gadR0REJN4AYKoGgCU93P0Q8AShNaRF8hXNBBYRCQNm1hqYBrRx99VB5xGR8GVmTYBZhGbQfBRwHBERycfMrBSwEWjk7lsCjiN5hJkVJ/T/prG7bwg6j0hO0UxgEZE8zszOB14BrtAAsIhkt/iB3+uAmWbWMOA4IiKSv/UD3tUAsGSEu/8FPEtoLWmRfEMzgUVE8jAzOx34AOjh7vOCziMi+YeZdQaeBGLjl4oQERHJMWZWBNgEtHL3r4POI3mLmZUDfgBOdfffg84jkhM0E1hEJI8ys1rAPOA2DQCLSE6LfzjcA8AHZlYl6DwiIpLvdAc+1wCwZIa7bwdeBW4POotITtFMYBGRPMjMKgMrgIfd/YWg84hI/mVmdwG9gQviP1CJiIhkKzMrRGgWZ3d3XxF0HsmbzKw68AVQw913B51HJLtpJrCISB5jZtGEloCYoAFgEQmau48F3gbmmVmJoPOIiEi+0An4TQPAcjzcfRMwH+gbdBaRnKCZwCIieUj8AMuHwEJ3vzfoPCIiAGZmwDPAaUBbd98fcCQREQlT8eecL4Fh7j4n6DySt5lZA0JL7NVw9wNB5xHJTpoJLCKSR8Q//OIdQrcsDQk4johIIg/NKrgV+BV4y8wKBxxJRETC10VABPBe0EEk73P3tcAaoFvAUUSynWYCi4jkAfEDKjOAvcB17n4k4EgiIsnE/66aCewGurn70YAjiYhImDGzD4HJ7j4l6CwSHswsFngROFmfsyScaSawiEguZ2YFgIlAIUIPv9CFiYjkSu4eB3QGqgDPxN+yKyIikiXM7GygNvBa0FkkrCwDdgAdgw4ikp00CCwikovFD6A8BcQAV7r7oYAjiYikKn494HbAucCogOOIiEh4GQz8K/5LR5EsEb+s1SPAYH2BLeFMg8AiIrnbCOB8oJ277ws6jIhIerj7f4G2wBVmdlfQeUREJO8zs7pAwm37IlltNlAMaBl0EJHsokFgEZFcyszuALoAbd19d9B5REQywt23A62BW8ysd9B5REQkz7sLGOfue4MOIuEn/jkGjxKabS4SlvRgOBGRXMjMegHDgGbu/nPQeUREMsvMagNLgdvcfXrQeUREJO8xsxOBr4E67r4j6DwSnswsAvgJ6ODuXwadRySraSawiEguY2adCK2jeZEGgEUkr3P3H4GLgXFm1iboPCIikicNAKZqAFiyU/zzV54A7g46i0h20ExgEZFcxMwuAl4B2rj76qDziIhkFTNrAswkNLvm46DziIhI3mBmpQjNzjzD3bcEHEfCnJkVBzYB57n7hqDziGQlzQQWEcklzKwx8CpwhQaARSTcuPtHQDdgppk1CDqPiIjkGf2A9zQALDnB3f8CJhBag1okrGgmsIhILmBmpwMfAD3cfV7QeUREsouZdQaeBGLjl4oQERE5JjMrAmwktEza10HnkfzBzMoDPwCnuPvvQecRySqaCSwiEjAzqwXMI/TQJA0Ai0hYc/e3gAeAD8ysStB5REQkV+sOfKkBYMlJ7r6N0BJ9twedRSQraSawiEiAzKwysAIY7e7PB51HRCSnmNkgoBdwgbtvDzqPiIjkLmZWkNBszB7uviLoPJK/mFl14HOgprvvDjqPSFbQTGARkYCYWTShJSCe1QCwiOQ37v4YoQfFzTOzEkHnERGRXKcTsFUDwBIEd98EvA/0DTqLSFbRTGARkQDEP3V2EfChu98TdB4RkSCYmQHjgFOBi919f8CRREQkF4g/P3wJDHP3OUHnkfwp/kG284Aa7n4g6Dwix0szgUVEcpiZRQHvELqwvTfgOCIigfHQbIRbgP8D3jSzwgFHEhGR3KEVEAm8F3QQyb/cfS2wBugWcBSRLKGZwCIiOSh+gGM6sB/o6u5HAo4kIhK4+N+NM4HdQDd3PxpwJBERCZCZfQhMdvcpQWeR/M3MYoEXgFP02U3yOs0EFhHJIWZWAJgIFAau10WEiEiIu8cBnYEqwNPxtwGLiEg+ZGZnA7WB14LOIgIsA/4AOgYdROR4aRBYRCQHxA9oPAnEAFe6+6GAI4mI5Crx6wG3A84DHgw4joiIBGcw8Hj8F4QigYpfuuoRYLC+pJa8ToPAIiI5YwTQBGjn7vuCDiMikhu5+3+BtkAnMxsYdB4REclZZlYHiAVeDDqLyN/MBooBLYMOInI8NAgsIpLNzOwOoAvQ1t13B51HRCQ3c/ftQGvgVjPrHXQeERHJUYOA8e6+J+ggIgnin1XwKKFZ6iJ5lh4MJyKSjcysFzAMaObuPwedR0Qkr4ifDbYEuM3dpwccR0REspmZVQK+Aeq4+46g84j8nZlFABuB9u7+ZdB5RDJDM4FFRLKJmXUCHgJaawBYRCRj3H09cAkw3szaBJ1HRESy3QBgmgaAJTeKf6bL48DdQWcRySzNBBYRyQZmdhHwCtDG3VcHnUdEJK8ysybALEIzbz4OOI6IiGQDMysF/ASc4e5bAo4jckxmVpzQbODG7r4h6DwiGaWZwCIiWczMzgNeBTppAFhE5Pi4+0dAN2CmmZ0edB4REckWNwFzNQAsuZm7/wU8C9wVdBaRzNBMYBGRLGRm9YGFQE93nxt0HhGRcGFmVwFPAM3d/ceg84iISNYwsyhgE6El1NYFnUckNWZWHvgeONXdfw86j0hGaCawiEgWMbNawHxCDzHSALCISBZy9zeB4cACM6sScBwREck63YEvNQAseYG7byN01+ftQWcRySjNBBYRyQJmVhlYDoxx9+eDziMiEq7MbBDQE7hADw8SEcnbzKwg8AOhu+iWB51HJD3MrDrwOVDT3XcHnUckvTQTWETkOJlZWWAB8JwGgEVEspe7P0boQXHzzaxEwHFEROT4dAK2AiuCDiKSXu6+idDnv75BZxHJCM0EFhE5DvFPiP0QWOTu9wSdR0QkPzAzA8YBpwIXu/v+gCOJiEgGxf8u/wIY4e6zg84jkhFm1gCYB9Rw9wNB5xFJD80EFhHJpPiHWLwDrAbuDTiOiEi+4aFZDLcA/we8aWaFA44kIiIZ1wqIAt4NOohIRrn7WmAt0C3oLCLppZnAIiKZED/gMB3YD3R19yMBRxIRyXfifxfPAnYB3dz9aKCBREQk3cxsITDV3ScHnUUkM8wsFngBOEWfByUv0ExgEZEMMrMCwEtAYeB6nfBFRILh7nFAZ+Ak4Kn4W4tFRCSXM7OzgDrAa0FnETkOy4A/gQ4B5xBJFw0Ci4hkQPwAw7+B6sCV7n4o2EQiIvmbu+8D2gGNgZEBxxERkfQZDDyua2nJy+KXpxoD3KMvoiUv0CCwiEjGDAeaAe3iBx5ERCRg7r4baAt0NrM7g84jIiIpM7M6QHPgxYCjiGSF2UAxoEXQQUTSokFgEZF0MrMBwNVAG3ffFWwaERH5O3ffDlwE3GZmvYLOIyIiKboLGO/ue4IOInK84p9H8ChwT9BZRNKiB8OJiKSDmfUkfhawu/8ccBwREUlB/AyzJcBt7j494DgiIvI3ZlYJ+Bao7e47gs4jkhXMLALYCFzu7quCziOSEs0EFhFJg5ldATwMtNYAsIhI7ubu64FLgHFm1jroPCIiksQAYKoGgCWcxK9t/Tihta5Fci3NBBYRSYWZtQJeJbQExOqg84iISPqYWRNgJtDB3T8OOo+ISH5nZiUJzZY80903BxxHJEuZWXFC/78bu/uGoPOIHItmAouIpMDMzgNeAzppAFhEJG9x94+A64GZZnZ60HlERIR+wFwNAEs4cve/gOcIrXktkitpJrCIyDGYWX1gIdDT3ecGnUdERDLHzLoQukWzubv/GHQeEZH8yMyigE2ElldbF3QekexgZuWB74FT3f33oPOI/JNmAouI/IOZ1QLmA7drAFhEJG9z9zcIPdhzgZlVCTiOiEh+1R34UgPAEs7cfRuhO0lvCzqLyLFoJrCIyN+YWWVgOfCIuz8XdB4REckaZnY30AO4QA8kEhHJOWZWEPiB0B12y4POI5KdzKw68DlQw93/G3Qekb/TTGARkXhmVhZYADyvAWARkfDi7o8C7wDzzKxE0HlERPKRTsBWYEXQQUSym7tvIvSZsm/QWUT+STOBRURIfJrrh8Bidx8cdB4REcl6ZmbAeOBk4BJ33x9wJBGRsBb/e/cLYIS7zw46j0hOMLMGwDygursfDDqPSALNBBaRfC/+QRXvAKuBewKOIyIi2cRDsx9uAX4H3jCzwgFHEhEJd62AKODdoIOI5BR3XwusBboFnUXk7zQTWETyNTMrBEwHDgBd3f1IwJFERCSbxQ/+zgL+BLq7+9FgE4mIhCczWwhMdffJQWcRyUlmFgu8AJyiz5iSW2gmsIjkW2ZWAJgIRADX6+QsIpI/uHsc0BmIAZ6Kv11ZRESykJmdBdQBXgs6i0gAlhH6srlDwDlEEmkQWETypfgP/P8GagBXuvuhYBOJiEhOcvd9QDvgfGBkwHFERMLRYOBxXWdLfhS/BNUY4B592Sy5hQaBRSS/Gg40Ay6LHwgQEZF8xt13A22Bq8zszqDziIiECzOrDTQHXgw4ikiQZgPFgBZBBxEBDQKLSD5kZgOAa4C27r4r2DQiIhIkd98GXATcbma9gs4jIhImBgHj3X1P0EFEghL/zIHHCM2KFwmcHgwnIvmKmfUARgDN3P3ngOOIiEguYWZ1gCXAre4+I+A4IiJ5lplVAr4B6rj7jqDziATJzCKBn4DL3X1V0Hkkf9NMYBHJN8ysIzAaaKMBYBER+Tt3Xw9cCkwws4uCziMikocNAKZpAFgE3P0g8ARwd9BZRDQTWETyBTNrBbxKaAkIfQMrIiLHZGZNgZmEZuysDDqPiEheYmYlgY3Ame6+OeA4IrmCmRUHNgHnuvtPQeeR/EszgUUk7JnZeYQGgK/UALCIiKTG3VcA1wOzzOz0oPOIiOQxNwHzNAAs8j/u/hfwLHBX0Fkkf9NMYBEJa2ZWH1gI9HT3uUHnERGRvMHMugCPA7HuviHoPCIiuZ2ZRRGa7dja3dcFnUckNzGz8sD3wKnu/nvQeSR/0kxgEQlbZlYTmAfcrgFgERHJCHd/AxgOfGBmlQOOIyKSF1wPrNIAsEhy7r4NeA24Legskn9pJrCIhCUzOxFYATzi7s8FnUdERPImM7sb6AFcoIcciYgcm5kVJDTLsZe7Lw86j0huZGbVgc+BGu7+36DzSP6jmcAiEnbMrCzwAfC8BoBFROR4uPujwDvAPDMrEXQeEZFc6gpgO6FJGCJyDO6+CVgA9A06i+RPmgksImEl/smrHwJLgMGuX3IiInKczMyACUBd4BJ33x9wJBGRXCP+d+QXwAh3nx10HpHczMwaAu8Rmg18MOA4ks9oJrCIhI34h1G8A6xBA8AiIpJF4s8nNwNbgTfMrHDAkUREcpMLgSjg3aCDiOR27r4G+AroFnAUyYc0E1hEwoKZFQKmAweBa939SMCRREQkzJhZBDAL+APo7u5Hg00kIhI8M1sITHX3yUFnEckLzKw58Bxwqj63Sk7STGARyfPMrADwEhAJdNOJVEREsoO7HwKuBGKAJ+NvgRYRybfM7EygDvBa0FlE8pClwE6gQ8A5JJ/RILCI5DlmNsvM6sT/2YAngJpAp/gP6CIiItnC3fcB7YAmwIiEejM7w8ymBRZMRCQYg4EndA0ukn7xy0w9AgzWF8qSk7QchIjkKWYWDfwEVHD3A2Y2HGgPtHD3XUFmExGR/MPMygPLgWfd/QkzKwX8AlR0972BhhMRyQFmVhv4GKju7nuCziOSl8Tfzfot0N/dFwWdR/IHzQQWkbymLbAofgD4duBaoK0GgEVEJCe5+zbgImCAmfWKPw99DrQMNJiISM65C5igAWCRjIt/rsCjhGbTi+QIzQQWkTzFzF4HFgKHCd2G28zdfw42lYiI5FfxyxMtAW4FqgF13L1vkJlERLKbmVUCvgHquvv2oPOI5EVmFknoLtfL3X1V0Hkk/GkmsIjkGWZWGGgNHAVGA22AbWZ2lZndHWg4ERHJV8zsfjPrCGwGLgUmAH8Cl2p9PxHJB24HXtEAsEjmuftBQs+30WdZyRGaCSwieYaZxQLPA6UJnSjPAzoDq4Cn3H1OgPFERCQfMbPOwM1APeA1YC0wBjgAtHP3NcGlExHJPmZWEtgInOnumwOOI5KnmVlxYBNwrrv/FHQeCW8aBBaRPCP+qetXA/8H7AcmA1Pd/ZdAg4mISL5lZjWAbkB3QnfZVSG0RuatgQYTEckmZjYYqO/u1wWdRSQcmNkooKy79ws6i4Q3DQKLSJ5hZiuA/wIjgU9dv8BERCSXiH/Kd1NgGHDY3dsEHElEJEuYWZS7H0j4M6FZwG3d/atgk4mEBzMrD3wPnOLuW+PrEvudSFbRILCIiIiIiIiIHJOZLQP6uvt3ZnYj0N7dLw06l0g4MbNxwG53HxK/5Moqd68ZdC4JL3ownIiIiIiIiIikpDBQ2swKAoOARwLOIxKO/gXcaGYlgGJAkYDzSBgqFHQAyZ2KFCny+4EDByoEnUNEck5UVNTW/fv3Vww6h4iEF11TiKSPzsOSix0EIoErgO3AcjOLAFq4+/uBJhPJ4+Iffr7a3Tea2QKgLzCDUL8TyVIaBJZjOnDgQAUtFSKSv5iZBmlEJMvpmkIkfXQellwsYRB4MPAgUAmYDmwCNAgscnwuAp4zsw7Ao8B7wHzgUJChJDxpOQgRERERERERSclB4BygKPAn8DmhgapuQYYSCQfufh+hwd9lQDXgK6ATmgks2UAPhpNjMjPX/w2R/MXMcHcLOoeIhBddU4ikj87DkluZ2VtAXWAN0Abo4e7zAg0lEmbM7GxCy0AsBS4Atrn72cGmknCj5SBEREREREREJCUnAKcABpzv7j8FnEck7Lj752Z2FvAmUB7YF3AkCUNaDkJEREREREREUlIEWAWcpwFgkezj7tsIrRE8H43XSTbQchByTLp1UyT/0W2oIpIddE0hkj46D4uIiEh20jcLku906tSJ6Ohotm3blqT+0KFD1KtXj4YNG3L48GEAmjdvjplhZowaNSpx2+nTp9OpUydiYmIoUqQIdevWZejQoezZsyfZ8datW0f79u2pWLEixYoVo0GDBjz77LPJttu8eTPXXXcdVapUoWjRopxyyimMHj2auLi4JNtVq1YtMdPfy6xZs5JsV6hQocTXXnzxxcz+uHLE/v37GThwIJUqVaJIkSI0btyYZcuWpXv/5557jrp16xIZGUndunWP+fOdM2cO1157LXXr1qVAgQI0b948xfYmTpxIo0aNKFasGBUrVuSyyy5j1apVmXlrIiISgKw41wMsXryYpk2bUqRIEcqUKcN1113H77//nuqx+/bti5lx3XXXpbrd6NGjMTOaNm2apH79+vXcfvvtnH766RQrVoxKlSrRvn171q1bl6wNneuT0rleREREJGUaBJZ8Z9y4cRw5coRbb701Sf2oUaP44YcfeOmllyhU6H/LZV9yySWsXLmSnj17JtaNHTsWgIceeoh58+bRr18/xo8fT5s2bTh69Gjidv/5z39o3rw5v/zyC+PGjWPWrFlccMEF9OvXjyeeeCJxuz179tCqVStWrlzJmDFjeO+99+jSpQv33Xcfd911V7L30KZNG1auXJmkxMbGJtnmo48+4u233z6+H1YO6dmzJxMnTuTBBx/k3XffpVKlSrRp04Y1a9akue+zzz5Lv3796Ny5M/Pnz6dz587079+f5557Lsl2s2bNYs2aNZxzzjlUrVo1xfYmTJhA7969adq0KbNmzWLcuHH83//9Hy1btmTz5s3H+U5FRCQnZMW5fvny5bRu3ZqSJUsyY8YM/v3vf7N06VJatmzJgQMHjnncjz/+mFdeeYUSJUqkmm/jxo089NBDlC9fPtlrCxYsYOHChVx33XXMnj2b8ePHs23bNs4991xWr16dZFud63WuFxEREUk3d1dRSVZC/zXC10svveSAz5o1y93dv/rqKy9cuLAPGjQoyXaxsbHevXv3ZPtv27YtWd2UKVMc8EWLFiXWPfvssw74Dz/8kGTbpk2b+plnnpn49/nz5zvg77//fpLtrrvuOi9btmySupiYGO/atWu63uemTZsc8BdeeCFd26dm165dx3zfx2vVqlUO+JQpUxLr4uLivE6dOt6hQ4dU9z106JBHR0d7r169ktT37NnTo6OjPS4uLrHuyJEjiX+OjY312NjYY7Z53nnneePGjZPUbdiwwQF/+umn0/u28qT4fh/47x8VFZXwKkFdUxzvuf7CCy/0GjVqJDmXfPLJJw74M888k2z7Q4cOeb169fzhhx9O81zdunVrv/HGGz02NtabNGmS5LXt27f70aNHk9Tt3r3bS5cu7ddff32ytnSuD59zfbich6Oion4HXEVFJfUSFRX1e9D9Vf1eRSVnS9D9XjOBJV/q1asXrVq1on///vz555/07t2bqlWrMmLEiHTtX65cuWR1Z511FgC//vprYl3CUg6lSpVKsm2pUqVw9wxvl9MOHz7Mu+++S5cuXahYsSIfffRRlh9jzpw5FC5cmCuvvDKxrlChQlx99dXMmzcv2XIYf7dy5Up27NjBtddem6S+W7du7Nixg5UrVybWFSiQvl93cXFxx/x3AAL9txARkYw53nP9J598QuvWrZPMGD733HMpW7ZssiWYAB577DGOHDnCwIEDU2331VdfZdWqVYwePfqYr0dHR2OWdFnYEiVKULt27STXGFlF5/oQneuzzoEDByoEPSClopIXyoEDByoE3V+zivq9ikr6StD9XoPAkm89//zz7N69m7PPPpvPP/+cF154gSJFimS6veXLlwNwyimnJNZ17tyZ6Ohobr/9dn7++Wd2797N1KlTef/997njjjsSt2vVqhW1a9fm3nvv5YcffuCvv/5i7ty5TJky5ZgfJufMmUPRokWJjIykcePGzJkzJ9O5j2XVqlUMGDCAypUr0759e7Zt28YzzzxDq1atErdxdw4fPpxm+fvyGMfyzTffUKNGjWQ/+3r16nHw4EE2btyY6r4J2/5zX4Bvv/02Q+8boH///nzwwQdMnTqV3bt38/PPP3PrrbdSqVIlrrnmmgy3JyIiwTmec33BggWJiIhIVh8REcHXX3+dpO6nn35i1KhRjB8//pj7JNi5cyd33HEHjz76KGXKlEn3+9i5cydff/11kmuM46Vzvc71IiIikr9oEFjyrerVq9OvXz82btxI165dadGiRabb+u2333jggQdo1apV4oxggAoVKvDxxx+zZs0aYmJiKFWqFL169eKpp55K8sCYqKgoli9fzv79+zn55JMpUaIEl156KbfeeitDhgxJcqx27drx9NNP8/777zNt2jQiIiK4/PLLef311zOdH0LrFz/yyCOcdtppnHnmmSxatIg777yTLVu2sHjxYnr37k2xYsUSt588eTKFCxdOs/Tq1SvV4+7cuTPZbBwg8cPxn3/+meq+kHwGdXr2TUmvXr2YMGECN9xwA6VKlSImJoZPP/2UxYsXEx0dneH2REQkOMdzrq9bt26SWaYQeojr77//nuz8ctNNN3HFFVek2f6gQYOoU6cOPXr0SHcOgNtvvx13Z8CAARna7590rg/RuV5ERETyo0JpbyISnnbt2sUrr7yCmbFy5Ur279+fqZnAe/fupUOHDhQqVIiXX345yWvbtm2jQ4cOlC5dmpkzZ1KyZEnmzZvHrbfeStGiRbn++uuB0BOzO3fuzK5du3j11Vc58cQTWbFiBaNGjSIqKor77rsvsc2nn346yTGuuOIKzjvvPO69916uvvrqjP8ggOHDh/Pggw9SsWJFrr32Wl555RUaNGiQ6j7t2rXj888/T7PttD5MuXuy214T6tOSsM2x9s+st99+m1tvvZVbb72VSy65hN27d/PYY4/Rtm1bli9fTpUqVbLsWCIikr2O51x/++23c91113H//fdz66238ueff3LDDTdQoECBJMsOTJs2jc8//5zvv/8+1faWL1/OlClTWLVqVYbOW4899hhTp05l4sSJ1KpVK937/ZPO9f+jc72IiIjkRxoElnxr4MCB7Nmzhzlz5tCxY0eGDRvGo48+mqE2Dh48SMeOHdmwYQPLly+ncuXKSV5/9NFH+fXXX/n4448pWbIkAC1atGDHjh3cfvvtdO3alYIFC/LSSy+xfPlyNm7cSPXq1QGIjY3lyJEjjBgxghtuuIEKFY69dEzBggXp3LkzgwcPZvv27cdcrzgtxYsXJyIign379rFr1y527dqV4ge2BGXKlEl8T6lJa32+MmXK8MsvvySrT5j5k9rtsgmv7dy5k4oVKybWJ8wKysitthD6oHnTTTfRpUsXHnvsscT6li1bEhMTwyOPPJJsEF5ERHKv4znXd+3ale+//56xY8cyatQozIwuXbpwySWXJC4HsWfPHu68804GDx5MVFQUu3btAuDo0aPExcWxa9cuihUrRqFChejbty+9e/emSpUqidsdPnyYI0eOsGvXLooWLZpsKYmJEycyePBgxowZQ8+ePY/rZ6FzfYjO9SIiIpJfaTkIyZc+/PBDJk6cyOjRo7n00ksZNGgQTzzxBKtXr053G4cPH6ZLly6sXLmSefPmceqppybb5uuvv6ZmzZrJPkCdeeaZ7Nq1i99++y1xu9KlSycOAP99u8OHD/Pjjz+mmuV4Z8kMHDiQ33//nUcffZTvv/+eFi1aEBMTwz333MO6deuOuU9W3SJar149Nm7cyIEDB5LUf/vtt0RFRVGjRo1U903Y9p/7Asf8N0nN1q1b2b59O2eccUaS+hIlSlCrVi2+++67DLUnIiLByYpz/YMPPsiOHTv46quv+O2333jttdf48ccfadq0KQA7duxg+/btDBkyhNKlSyeWX375hTfffJPSpUszf/58AL777jueffbZJNt99NFHfPLJJ5QuXZrnn38+ybHfeOMNbrjhBu666y4GDx583D8PnetDdK4XERGR/EqDwJLv7Nu3jxtuuIEmTZrQv39/AB544AFq1KjBDTfcwJEjR9Js4+jRo3Tr1o3333+fd955h3POOeeY21WsWJENGzYkzvhJ8NlnnxEZGZl4+2TFihXZuXNnsgejfPbZZwDJZhj/3eHDh3nrrbeoXr36ca1jV7JkSW644QaWL1/OTz/9RO/evZk+fTqnn346DRo04NFHH02y7l7CLaJpleHDh6d63Msvv5y4uDimT5+e5D298cYbtG3blsKFC6e4b+PGjYmOjubVV19NUj9t2jTKlStH48aNM/QzKF26NJGRkXzxxRdJ6nft2sWPP/6Y6r+DiIjkHllxrk9wwgknUL9+fSpUqMD8+fP5/vvvuemmm4DQ+Xvx4sXJSoUKFWjVqhWLFy9OPBcda7sGDRpw2mmnsXjxYjp27Jh4zNmzZ3PdddfRp0+fDN+llBqd63Wul9zj5ZdfxszYsGFDhvdt3rx54pdROeW5556jbt26REZGUrduXZ599tl077ts2TIaN25MkSJFqFSpEnfeeSf79+/PxrQiuY/6vPp8ruDuKirJSui/RngaMGCAR0RE+LfffpukfsmSJW5mPnbs2MS62NhY7969e7I2+vXr54APHTrUV65cmaT88ssvidt9/PHHXqhQIT/33HP9rbfe8gULFviAAQPczPzWW29N3G7jxo1erFgxr1u3rk+dOtU//PBDHz58uEdGRnq7du0St3v11Ve9S5cuPnnyZF+0aJG/9tpr3qRJEzczf/PNN5Pl3LRpkwP+wgsvZPrntXz5cr/hhhu8VKlSPnPmzEy3k5ouXbp46dKl/cUXX/SFCxd6p06dPDIy0levXp1ku5o1a3rLli2T1E2YMMHNzO+//35fvHix33///W5m/uyzzybZbvPmzf7WW2/5W2+95aeeeqqfeuqpiX/ftm1b4nb9+/d3M/MBAwb4ggUL/K233vJzzz3XCxUq5J988km2vP/cIr7fB/77R0VFJbxKENcUWXGuX7VqlT/00EM+b948nzdvng8dOtQjIiL87rvvTvP4MTEx3rVr1zS3i42N9SZNmiSpW7ZsmUdGRnqjRo38o48+SnKNsWrVqmRt6Fz/P3n9XB8u5+Fw/hyRlbZt2+YrV670AwcOZHjfb775xr/55ptsSHVsCX1w6NChvmjRIh86dOgx++CxrF692qOiorxjx46+cOFCf+GFF7xUqVJ+9dVX50Dy3C1c+ryr36eL+rz6vHvw/T7wXxYqubOE6y/xTz75xAsUKOAjRow45us33HCDFy1a1Ddu3OjuKX8wjImJceCYZdiwYUm2XbFihbdu3drLly/vJ5xwgtevX9+ffPJJj4uLS7LdunXr/IorrvATTzzRixQp4ieffLIPHz7c9+7dm7jNypUrvUWLFl6+fHkvVKiQlyxZ0lu1auULFiw45vvJig+GCQ4cOOA7d+487naOZd++fX7HHXd4hQoVPDIy0s8991xfsmRJsu1iYmI8NjY2Wf2ECRO8du3aHhER4bVr1/bx48cn22bSpEkp/pstXrw4cbtDhw75E0884fXr1/cTTjjBy5cv723atPGVK1dm5VvOlYI+IamoqIRnyelriqw613/99dfepEkTL1mypEdFRfkZZ5zhEydOTFeG4xkEHjZsWIrnq5iYmGRt6Fz/P3n9XB8u5+Fw/RyRXx06dMijo6O9V69eSep79uzp0dHRyT7T/FP79u29Tp06SbabPHmyA8m+BMpvwqXPu/p9WFGfz15B9/vAf1mo5M6iX+IhsbGxfv3113tcXJwfPXo06DgZcvjwYd+wYUOWfTCU8Bf0CUlFRSU8S26/ptC5XnKLcDkP5/Y+nxNeffVVr1u3rkdGRvppp53ms2bNSvaFU8KXFj/++GNiXcIXSFOnTvXatWv7CSec4E2aNPGvvvoqSfvH+gIpuyxdutQBX7hwYZL6RYsWOeDLli1Lcd+DBw96ZGSk33fffUnq9+/f7xERET5y5MhsyZxXhEufd/V79fl46vNpC7rfa01gkTRMmTKFwoUL89BDDwUdJUMiIyOpVatW0DFERERyPZ3rRSSrLFy4kK5du3LyySczY8YM7rrrLgYMGMD69evTtf+yZct48sknefjhh3n99dfZu3cv7du35/DhwxnOcvjw4TRLWmukf/PNN8D/HtKYIKWHNv7dTz/9xMGDB5PtGxUVRc2aNVPdVySvUJ//H/X53K9Q0AFEcrPnnnuOv/76C0j94Wy50aeffprwrSzVqlULNoyIiEgupXO9iGSlYcOGceqppzJz5kzMDID69etz5plnpmv/v/76i7Vr11K6dGkg9ADKs88+m88++4zzzz8/3Tk2b95M9erV09wuJiaGzZs3p/j6zp07AShVqlSS+jJlygAkeZhkevdN2D+1fUXyCvX5tPdN2F99PngaBBZJRd26dYOOkGnpPemIiIjkZzrXi0hWOXLkCJ9//jn33ntv4mAQwBlnnJGuwRmAxo0bJw4GQWgwCeDnn3/O0IDQiSeeyOeff57mdpGRkam+nvBF09/fT3qltm/CayJ5mfp8+vdVn88dNAgsIiIiIiIicpx27NhBXFwc5cuXT/ZahQoV0tVGwmy7BAkDNgcOHMhQloiICBo2bJjmdmkN9CTk2blzJxUrVkysT5jR98+8Ke37Tzt37qRq1app5hPJzdTnU973n9TncwetCSwiIiIiIiJynKKjoylcuDDbtm1L9trWrVtzNMvmzZspXLhwmqVmzZqptpPSOqAJfz/11FNT3LdmzZpERkYm2/fAgQNs3Lgx1X1F8gL1+aTU53M/DQKL5CIvv/wyZsaGDRsyvG/z5s1p2rRpNqRK2XPPPUfdunWJjIykbt26PPvss+naz8xSLGPGjEmy7TvvvEPjxo0pVaoU0dHRtGjRgkWLFmXH2xEREclS+eG8fuTIEcaOHUvLli2pUKECxYsX58wzz2TSpEmp3voZFxdH/fr1MTNefPHFJK8tWbLkmNcIx1pjUCQ3KViwIGeffTYzZsxI8v//yy+/ZNOmTTmaJeHW8LTKnDlzUm2ncePGREdH8+qrryapnzZtGuXKlaNx48Yp7hsREUHbtm156623kjzkavr06Rw8eJB27dod35sUCZj6fFLq87mfloMQyUUuvfRSVq5cyUknnZThfcePH58NiVL27LPP0r9/f4YMGcKFF17Ihx9+SP/+/TEz+vbtm+q+K1euTFY3btw4pk2bluTEMHfuXDp27Ejnzp0ZPnw4hw4d4sknn6Rt27asWLGCc845J8vfl4iISFbJD+f1/fv38+CDD9K1a1duu+02ihcvzty5c+nduzc//PBDsi93E4wdO5YdO3akmumpp57i7LPPTvx7oUL66CK534gRI7jooovo2LEjN954Izt27GD48OFUrFiRAgVybg5WREQEZ5111nG3U7hwYR588EH69+/PiSeeSMuWLVm0aBETJ05kwoQJSfpl7969mTx5cpLBn+HDh9O4cWOuvvpq+vXrx+bNmxk0aBBXX311um5dF8nt1OfV5/MUd1dRSVZC/zVEju3QoUMeHR3tvXr1SlLfs2dPj46O9ri4uAy3WbNmTT/rrLOS1F199dVepUoVP3z4cGLdnj17PDIy0gcOHJi58JKi+H4f+O8fFRWV8Cq6psj9jue8fvjwYf/jjz+S1ffq1csjIyN93759yV776aefvGjRoj5t2jQH/IUXXkjy+uLFix3wDz74IJPvKG8Kl/Ow+rz7K6+84nXq1PGIiAg/9dRT/e233/aGDRv6gAEDEreZNGmSA/7jjz8m1sXExHjXrl2TtQf4pEmTEv8eGxvrTZo0ydb38E8TJkzw2rVre0REhNeuXdvHjx+fbJvu3bv7sf79lyxZ4uedd55HRkZ6+fLlfcCAAcf83ZDfhEufd/V79fl/UJ9PWdD9PvBfFiq5s+T3X+LZ4dVXX/W6det6ZGSkn3baaT5r1iyPjY317t27J26T2olh6tSpXrt2bT/hhBO8SZMm/tVXXyVpPydPDEuXLnXAFy5cmKR+0aJFDviyZcsy1N7y5csd8KeffjpJfadOnfyUU05JUnf06FEvUaKE33nnnZkLLykK+oSkoqISniVcryl0Xk/d+PHjHfCff/452WutW7f2Xr16+aZNmzQI/Dfhch4O1z5/PLZs2eKRkZE+ZcqUoKNILhIufd7V75NRn5eUBN3vtSawSA5YuHAhXbt25eSTT2bGjBncddddDBgwgPXr16dr/2XLlvHkk0/y8MMP8/rrr7N3717at2+f5LaL9Dp8+HCa5ciRI6m28c033wD/WzQ+QUqLyKdl8uTJREREcM011ySpv/HGG1m/fj1jx47lzz//ZOvWrQwcOBCAPn36ZOgYIiIiWUXn9bQtX76cUqVKUalSpST1r7zyCl988QWPPPJImm1ce+21FCxYkOjoaLp27covv/yS4RwiOW3//v3069ePGTNmsHTpUiZOnMhFF11ExYoVueKKK4KOJyJZTH1e8hItrCWSA4YNG8app57KzJkzMTMA6tevz5lnnpmu/f/66y/Wrl1L6dKlAahYsSJnn302n332Geeff366c2zevJnq1aunuV1MTAybN29O8fWdO3cCJHtAS5kyZQD4888/053pwIEDvPXWW1x66aWULVs2yWutW7dm1qxZXHfddQwaNAiAcuXKMX/+fE455ZR0H0NERCQr6byeuoULF/L666/z4IMPJlk7cOfOndx555088sgjREdHs2fPnmPuX7JkSQYOHEhsbCwlSpRg1apVjB49mmXLlrF69Wqio6MzlEckJxUsWJDffvuNm2++mT/++IOSJUvSsmVLHn30UU444YSg44lIFlOfl7xEg8Ai2ezIkSN8/vnn3HvvvYkfFAHOOOOMdH1wg9ATOhM+KELogybAzz//nKEPiwlPDE1LZGRkqq+H7mIgyfvJrFmzZrF792569OiR7LWPP/6Y6667jiuuuIJrrrmGuLg4JkyYQLt27Vi0aBGnn376cR9fREQkI3ReT933339Ply5daNmyJYMHD07y2qBBg6hZsya9e/dOtY1GjRrRqFGjxL/HxsYSGxvLOeecwzPPPMPw4cOPO6dIdomIiGDWrFlBxxCRHKI+L3mJBoFFstmOHTuIi4ujfPnyyV6rUKFCutpImImTIOHD3IEDBzKUJSIiIl1P5EzrQ2BCnp07d1KxYsXE+oSZQv/Mm5opU6ZQrlw5Lr744mSv3XbbbTRs2JCJEycm1rVu3Zp69eoxdOhQ5syZk+7jiIiIZAWd11P2888/07p1a2rUqMHMmTOTzAL+9NNPefnll/nwww/ZvXs3AP/973+B0K20u3btSjYT+e/OOOMM6tSpk65BbxERERFJTmsCi2Sz6OhoChcuzLZt25K9tnXr1hzNsnnzZgoXLpxmqVmzZqrtpLRGYMLfTz311HTl+f3331mwYAHXXnsthQsXTvb6119/zRlnnJGkrlChQpx++ul899136TqGiIhIVtJ5/dh+++03LrzwQooVK8a8efMoXrx4kte/++47jhw5QvPmzSldujSlS5emQYMGQOhL39KlS6e4PEQCd8+S2coi4a5Hjx5UqVIl6BiZMnHiRBo1akSxYsWoWLEil112GatWrQo6lkiullf7/IoVK+jZsyf169enUKFCVKtWLehIYU8zgUWyWcGCBTn77LOZMWMGw4cPT/zw8uWXX7Jp0yYuuOCCHMuSVbeNNm7cmOjoaF599VVatmyZWD9t2jTKlStH48aN05Vn2rRpHDlyhO7dux/z9YoVK/LFF18kqYuLi2PNmjVUrlw5XccQERHJSjqvJ7djxw5atWrF4cOHWbJkyTHX7G3bti2LFy9OUvf7779zzTXXcNddd3HppZdSpEiRFI/xxRdfsH79eq699tpUs4hI3jVhwgT69+/PLbfcwmOPPcbu3bt56KGHaNmyJWvWrNEAkUiY+fDDD1m2bBlnnXUWZpZ4h5BkHw0Ci+SAESNGcNFFF9GxY0duvPFGduzYwfDhw6lYsSIFCuTchPyIiAjOOuus426ncOHCPPjgg/Tv358TTzyRli1bsmjRIiZOnMiECROS3P7Zu3dvJk+efMwnnk+ZMoX69esnWffv726++Wbuvvturr/+eq699trENYE3bNjAmDFjjvt9iIiIZIbO6/87r+/fv582bdrw008/MXHiRH755Rd++eWXxO1PPfVUSpQoQcWKFZMsNQEkPqyubt26NG/ePLG+a9euVK9enTPPPJOSJUuyatUqxowZw0knnUT//v2P+/2KSO40ZcoUGjduzNNPP51Y17BhQ2rVqsW7777LLbfcEmA6Eclq999/P8OGDQNCs5mXLFkSbKB8QMtBiOSAVq1a8corr/Ddd9/RsWNHHnnkEf71r39RsWJFSpYsGXS8TLnpppsYP348r7/+Om3atOH1119n3Lhx9O3bN8l2R44c4ciRI8n2X716NevWrUtxFjCEHiAzefJkvv32W7p06UKPHj3Ys2cPc+fOpVOnTln+nkRERNJD5/X/nde3bt3KqlWrOHjwIF27dqVx48ZJSmZu4z7ttNOYPXs2PXr0oE2bNjz11FN06tSJTz75hLJlyx73exXJqPXr19OxY0fKly9PVFQUVatWpXPnzhw9ehQIrW99yy23cMopp3DCCSdw4okn0qFDB9avX5+knZdffhkzY8WKFVxxxRWJSx489thjAMydO5eGDRtywgkncN5557Fu3bok+zdv3pymTZsya9Ys6tWrR1RUFKeffjoLFixI8z3s3buXu+++m2rVqhEREUGNGjUYM2ZM4oMhAfbs2cOtt95K1apViYyMpEKFCrRq1SrZ+8gucXFxydYGT/j733OKZDf1+Zzp8zn5xbnEc3cVlWQl9F9DstOWLVs8MjLSp0yZEnQUEXd3j+/3gf/+UVFRCa+SX64pdF6X4xUu5+Fw7PO1a9f2s88+26dPn+5LlizxV155xa+99lo/fPiwu7v/+uuvfuONN/rrr7/uS5Ys8Xfeecc7derkpUuX9t9//z2xnUmTJjngtWrV8oceesg/+OADv+GGGxzwIUOG+Omnn+6vv/66z5492+vWres1atRIPIa7e2xsrFeoUMGrV6/uU6ZM8XfeeccvuOACL1y4sH/99deJ23Xv3t0rV66c+Pe4uDhv2rSplylTxp944glfuHChjxw50iMiIvzuu+9O3O6GG27w8uXL+4svvuhLly71GTNm+B133OGfffZZqj+fw4cPe1xcXJolLS+99JIXKlTIp0yZ4rt27fItW7b4Nddc45UqVfLt27en/Q+Vx4RLn/cw7Pfq8znT5/+ue/fuHhMTk6F98qKg+33gvyxUcmcJt1/iQdu3b5/fdNNNiSeRl156yevUqeMxMTG+Z8+eoOOJuLsHfkJSUVEJzxKO1xQ6r0t2CJfzcLj1+e3btzvg77zzTrr3OXz4sB86dMhr167tTzzxRGJ9woDQgw8+mFgXFxfn5cuX94iICN+yZUti/YwZMxzwjz76KLEuNjbWAf/0008T6/bu3evlypXzLl26JNb9c0BoypQpDvjSpUuT5EwYFNqxY4e7u9erV8/vuOOOdL/PBDExMQ6kWTZt2pRmWy+88IJHRkYm7lOjRg3//vvvM5wpLwiXPu9h1u/V59OWlX3+7+9Bg8DZX7QmsEgOKFiwIL/99hs333wzf/zxByVLlqRly5Y8+uijnHDCCUHHExERkQzQeV0k/yhbtiw1atTgnnvuYdu2bTRv3pxatWol227mzJmMHTuW7777jp07dybWf//998m2bdOmTeKfCxUqRM2aNdm7dy9Vq1ZNrD/55JMB+Pnnnzn//PMT66tWrco555yT+PeiRYty2WWX8eGHH6b4HubPn09MTAznn39+kud0tG3blgceeIBPP/2USy65hLPPPpuXX36ZcuXKcdFFF9GoUSMKFiyY1o+IOXPmcPDgwTS3O/HEE1N9/e233+bWW2/l1ltv5ZJLLmH37t089thjtG3bluXLl1OlSpU0jyFyvNTnc67PS87TILBIDoiIiGDWrFlBxxAREZEsoPO6SP5hZnzwwQcMGzaMu+++m507d1KjRg0GDx7MjTfeCJD4vIr+/ftz3333UbZsWQoUKECfPn04cOBAsjZLly6d5O8RERFEREQkqwOS7V++fPlk7VWoUIHffvstxfewbds2tmzZQuHChY/5+h9//AHA008/TYUKFXj++ecZMmQIZcqUoUePHowaNYoiRYqk2P6pp56aMBs0VX9/yOQ/uTs33XQTXbp0SVwvFaBly5bExMTwyCOPJHlgnEh2UZ/PmT4vwdC/iIiIiIiIiEgKatSowdSpUzl69Chr1qzhySefpG/fvlSvXp2LLrqIV199ldjYWJ555pkk+yUMtGSlbdu2JavbunUrlSpVSnGfsmXLUr16dd58881jvl69enUAihUrxpgxYxgzZgybNm3ijTfe4L777iMqKoqHHnooxfZr1qzJli1b0sy+adMmqlWrdszXtm7dyvbt2znjjDOS1JcoUYJatWrx3Xffpdm+SFZRn8/+Pi/B0CCwSD7Ro0cPFi5cyK+//hp0lAwxsxRfGz16NPfccw8AL7zwAjNnzmTt2rXs2rWL6tWr07NnT2677bYUvwEVEREJd+F+/hfJSQUKFOCMM87g6aefZsqUKXz99ddcdNFF7Nu3j8jIyCTbzp8/P1v63c8//8znn3/O2WefDcC+fft49913admyZYr7tG3blhkzZlCsWLHEW87TUr16de655x7efPNNvv7661S3zYpbw0uXLk1kZCRffPFFkvpdu3bx448/0r59+3TlFslK6vPHpuUg8i4NAotIrrZy5cpkdePGjWPatGm0a9cusW7EiBFceOGFPPHEE5QrV44VK1YwdOhQPv/8c15//fWcjCwiIiLHKb3nf5Hs9tVXX3H77bfTpUsXatWqxZEjR3j55ZcpXLgwLVq0AODiiy+mb9++jBw5kqZNm7J27VpGjx5N5cqVszxPhQoV6NKlCyNHjqRkyZKMHTuWnTt3ct9996W4T9euXZk0aRIXXnghAwcOpEGDBhw6dIgNGzYwe/Zs3n33XSIjI2ncuDGXX3459evXp1ixYixdupS1a9fSu3fvVDPVr1//uN9XZGQkvXv3ZsKECZQtWzZxTeCxY8eyd+9e+vfvf9zHEEkP9fmc6fMA27dvZ+nSpQBs2bKFffv2MX36dADOPvtsYmJisuQ48j8aBBaRXO28885LVnfddddx1llnUa9evcS61atXU65cucS/J5ygH3jgAUaPHp14y4uIiIjkfuk9/4tkt4oVK1K1alUef/xxfv31V6Kioqhfvz7vvfceDRs2BKBPnz785z//4YUXXmD06NHUr1+f119/nZEjR2Z5nlq1anHnnXcydOhQNm7cSJ06dZg9ezannXZaivsULlyY999/nzFjxvD888+zadMmihUrRq1atbjkkksS75q74IILePPNNxkzZgyHDx+mZs2aPPnkk9x8881Z/j6O5d///je1a9dm4sSJvPDCC5xwwgk0atSI5cuXc+655+ZIBhH1+Zzr89988w2dO3dOUpfw90mTJtGjR48cyZGvuLuKSrIS+q8hqfnhhx+8Q4cOXq5cOY+MjPSTTjrJr7zySj9y5Ii7u+/evdtvvvlmP/nkk71o0aJeqVIlb9++vf/www9J2pk0aZIDvnz5cu/YsaOfcMIJXqFCBX/00Ufd3f29997zBg0aeNGiRf3cc8/1r776Ksn+sbGx3qRJE585c6afeuqpHhkZ6fXr1/f3338/yXbdu3f3ypUrJ6nbs2ePDxo0yGNiYrxw4cJevXp1Hz16tB89ejRxm7/++stvueUWP+mkkzwiIsLLly/vF154YbL3kVOWL1/ugD/99NNpbjt37lwHfNmyZTmQLO+L7/eB//5RUVEJrxJu1xQ6/+f+839eFS7n4XDr87lJQr+X8BAufd7V77ON+nz4CbrfayawSCZddtlllCpVigkTJhAdHc1//vMf3nvvvYSTIH/99RdxcXEMHz6cihUrsnv3bqZMmcJ5553Hd999R4UKFZK017NnT3r27En//v158803ufvuu9m1axfvvvsuQ4YMoWjRogwaNIgOHTqwfv16ChYsmLjvhg0buPPOOxkxYgQlS5bkX//6F5dddhmrV69OcbbM4cOHadu2Ld9++y33338/9evX5+OPP2bYsGHs3LmTRx55BIA777yTd955h4cffpjatWuzY8cOVqxYwe7du1P9+Rw5ciTxZ5GajD4xdPLkyURERHDNNdekue3y5cspUKAAderUydAxREREUqLzf+4//4uIiIjIMQQ5Aq2Sewv6Ji9V27dvd8DfeeeddO9z+PBhP3TokNeuXdufeOKJxPqEmUAPPvhgYl1cXJyXL1/eIyIifMuWLYn1M2bMcMA/+uijxLrY2FgH/NNPP02s27t3r5crV867dOmSWPfPmUBTpkxxwJcuXZok58iRIz0iIsJ37Njh7u716tXzO+64I93vM0FMTIwDaZZNmzalu839+/d7yZIlvWPHjmluu27dOi9SpIj36dMnw9nzK8JoNoKKikruKeF0TaHzf9qCPv/nZeFyHg6nPp/baFZgeAmXPu/q99lGfT78BN3vNRNYJBPKli1LjRo1uOeee9i2bRvNmzenVq1aybabOXMmY8eO5bvvvmPnzp2J9d9//32ybdu0aZP450KFClGzZk327t1L1apVE+sTnuz5888/c/755yfWV61alXPOOSfx70WLFuWyyy7jww8/TPE9zJ8/n5iYGM4//3wOHz6cWN+2bVseeOABPv30Uy655BLOPvtsXn75ZcqVK8dFF11Eo0aNksxCSkl2PDF01qxZ7N69O821gbZu3Ur79u2pWbMmjz/+eLrbFxERSY3O/7n7/C8S7pYsWRJ0BBHJQerzktU0CCySCWbGBx98wLBhw7j77rvZuXMnNWrUYPDgwdx4440AzJ07l06dOtG/f3/uu+8+ypYtS4ECBejTpw8HDhxI1mbp0qWT/D0iIoKIiIhkdUCy/cuXL5+svQoVKvDbb7+l+B62bdvGli1bEheF/6c//vgDgKeffpoKFSrw/PPPM2TIEMqUKUOPHj0YNWoURYoUSbH9U089NeFb4VRl5HbQKVOmUK5cOS6++OIUt9m1axdt2rTB3VmwYAHFixdPd/siIiKp0fk/957/RURERCR1GgQWyaQaNWowdepUjh49ypo1a3jyySfp27cv1atX56KLLuLVV18lNjaWZ555Jsl+CR+ustK2bduS1W3dupVKlSqluE/ZsmWpXr06b7755jFfr169OgDFihVjzJgxjBkzhk2bNvHGG29w3333ERUVxUMPPZRi+zVr1mTLli1pZt+0aRPVqlVLc7vff/+dBQsWcMstt6T4wXXPnj1cfPHFbN26lRUrVqT6/kVERDJD5//cd/4XERERkbQVCDqASF5XoEABzjjjDJ5++mkAvv76awD27dtHZGRkkm3nz5/Pr7/+muUZfv75Zz7//PPEv+/bt493332Xxo0bp7hP27Zt+eWXXyhWrBhnnXVWslK2bNlk+1SvXp177rmH008/PfF9pmTOnDl8/vnnaZb03g46bdo0jhw5Qvfu3Y/5+v79+7nssstYv349CxYsoGbNmulqV0REJDN0/j+2nD7/S/62ZMkSzIyFCxcGHSVTevTogZlhZvTp0yfJa3/++Se9evWibNmynHDCCbRq1Yp169Zl+lj79+9n4MCBVKpUiSJFitC4cWOWLVuW6fZ27NjBzTffTLVq1ShSpAi1atVi8ODB/PXXX5lu87nnnqNu3bpERkZSt25dnn322Uy3BfD222/TsGFDoqKiiImJYdSoURw9ejTT7S1btozGjRtTpEgRKlWqxJ133sn+/fuTbNOnT5/Ef9OmTZseV35JTn0+/YYOHUqbNm2Ijo7GzHj55ZePK/vRo0d56KGHqFatGlFRUTRo0IAZM2YcV5vq8zlPM4FFMuGrr77i9ttvp0uXLtSqVYsjR47w8ssvU7hwYVq0aAHAxRdfTN++fRk5ciRNmzZl7dq1jB49msqVK2d5ngoVKtClSxdGjhxJyZIlGTt2LDt37uS+++5LcZ+uXbsyadIkLrzwQgYOHEiDBg04dOgQGzZsYPbs2bz77rtERkbSuHFjLr/8curXr0+xYsVYunQpa9eupXfv3qlmql+/fpa+xylTplC/fn0aNWp0zNc7derEsmXLePLJJ9m7dy+ffPJJ4ms1a9akXLlyWZpHRETyH53/c9/5XySva9SoEePHj0+yvMvRo0e57LLL+PXXXxk3bhylSpVi9OjRtGjRgrVr12bq90nPnj15//33eeyxx6hevTrjxo2jTZs2rFy5koYNG2aoLXenXbt2/PTTTzz44IPUqVOH1atXc//99/P999/zzjvvZDjfs88+S//+/RkyZAgXXnghH374If3798fM6Nu3b4bbmzdvHldeeSU33HADTzzxBKtXr2bIkCHs3buX0aNHZ7i9NWvW0KZNGy6++GJGjRrFpk2bGDRoEL/99huvvfZa4nZDhgyhT58+9O/fP8PHkPwhp/r8U089RcOGDbnsssuYPHnyceceMmQI//73v3n44Ydp1KgRr7/+Op07d+a9997L1HJN6vMBCfKpdCq5t6Cne6Zq69atfv3113vt2rW9SJEiXrp0ab/gggt8wYIFidscPXrUhw0b5lWqVPGoqCg/++yz/cMPP/TY2Fjv3r174nYJTwf/8ccfkxwjNjbWY2Njk9T9+OOPDvikSZOSbNekSROfMWOGn3zyyR4REeGnnXaaz507N8m+/3w6uHvoadvDhg3zunXrekREhJcpU8bPOeccHz58uB85csTd3e+++25v2LChlyhRwosWLer169f3p59++jh+ehm3atUqB3zs2LEpbkMqTyD/+89LUkYYPaFYRUUl95RwuqbQ+T/3nf/DSbich3Oyzy9evNgB/+CDD3LsmFmpe/fuyfq7u/vMmTMd8GXLliXW7dq1y0uXLu0DBgzI8HES+tKUKVMS6+Li4rxOnTreoUOHDLf3/fffO+DPPfdckvr77rvPzcx3796dofYOHTrk0dHR3qtXryT1PXv29OjoaI+Li8twxgYNGnjLli2T1I0YMcIjIiJ869atGW6vffv2XqdOnSRZJk+e7ICvXr062fYJv6NTEy593nOw36vPp1/C+XzTpk3H/Zl469atHhER4SNHjkxS37JlS2/YsGGG28uvfd49+H4f+C8LldxZwukDW7hL7y8bkbQEfUJSUVEJz6Jriuyh83/4CZfzcGp9/pVXXnHAv/3222SvNW/e3M8//3x3D32ZMmjQIG/QoIEXL17co6Oj/cILL/TPPvssyT7HGhCKiYnxYcOGHfPn+89BkMWLF3uLFi28WLFifsIJJ3jbtm39m2++STF/VktpQKhnz55epUqVZPXXX3+916hRI8PHGTFihBcuXNj37duXpP6BBx7wyMhIP3ToUIbaW7dunQP+xhtvJKkfO3ZspgaBly5d6oAvXLgwSf2iRYuSDYylx5YtWxzwF198MUn9xo0bkw2Gp8fBgwc9MjLS77vvviT1+/fvP+bAmLsGgROozyeVU33+77JiEDhh8HPDhg1J6idOnOiA//zzzxlqL7/2effg+73WBBYREREREZFs16FDB4oXL87UqVOT1P/6668sW7aMbt26AaFbo3/77TcGDhzIO++8w5QpU6hZsyZNmzZNc13q9Hrvvfdo1aoVJUqUYNq0aUybNo2dO3fSrFkz/vOf/6S679GjRzl8+HCaJfR5P+O++eYb6tWrl6y+Xr16bNq0KdmalOlpr0aNGhQpUiRZewcPHmTjxo0Zaq9evXpccMEFPPTQQ6xZs4Y9e/awYsUKnnzySfr06UOJEiUynC+h3X8eB+Dbb7/NkvaqV69O0aJFM9zeTz/9xMGDB5O1FxUVRc2aNTPcXn6iPp8+Wd3ns9o333xDVFQUNWrUSFKf1X1UfT77aRBYREREREREsl3RokW54ooreOWVV5IMlrzyyisUKlSIq666CoCCBQsydepUunXrRosWLWjTpg3jxo3jggsu4MUXX8ySLLfddhuxsbHMmjWL9u3b06FDB+bPnw/A448/nuq+vXr1onDhwmmWzK7DuXPnTkqVKpWsvkyZMrg7u3btyrL2IPRAqowwM+bOnUu1atVo1KgRxYsXp1mzZrRo0YIJEyZkqK2EfECyjJnNl1J7AKVLl87S9sqUKZPh9vIT9fn0yeo+n9V27txJyZIlMbMk9VndR9Xns58eDCeSxy1ZsiToCCIiIpLDdP6XvKpbt25MnjyZpUuX0rx5cyA0IHTppZcmDgAALF26lFGjRrF27Vq2b9+eWF+wYMHjzvDjjz+yceNGhg4dyuHDhxPrixUrxvnnn8/y5ctT3X/48OHccsstaR6nevXqmcrn7skGWxLqc0t7PXv2ZNWqVbz00kvUrl2b1atXM3z4cPr27ZvhQbuEHMfKmNl8KbWXmfec1e3lN+rzacvqPprVsuN3CKjPB0GDwCIiIiIiIpIjWrRoQeXKlZk6dSrNmzdn7dq1rFu3jhEjRiRuk/BU9g4dOvDiiy9SoUIFChYsyP33358lt0Vv27YNgN69e9O7d+9kr//zlud/qlq1KlWqVEnzOJkdvCpTpkziTLS/27lzJ2Z2zNlpabX3yy+/HLO9hNcz4r333uOtt95i8eLFiYN6zZo1o1SpUnTv3p1+/fpx5plnZihfQp6KFSsm1ifMtstovr+390+7du3K0vZ27txJ1apVM9RefqM+n7as7vNZrUyZMuzatSvZYHBmf4eozwdHy0GIiIiIiIhIjihQoABdu3ZlxowZHDhwgKlTp1K6dGkuvfTSxG2mT5/OiSeeyGuvvcbll1/Oueeey1lnncWePXvSbD8qKoqDBw8mqfvnrbtly5YFYPTo0Xz++efJyqxZs1I9RnbfGl7v/9u77/ioqvSP498HSKEoXQQhAaLgUgQVpYgGEAQEEVcFrCC49ooIKroCNrCtq4K6ulJEUQGxYwEpoqxlRX4KKgLBti6KgkoJJOT5/TFJlpCeTHInk8/79bqvXW7unPsNzrn3zsOZc9q2zXPOybVr16pFixa55vYtSnsbN25UampqrvbymuezMFlztB511FE59mcVfr/44oti58vKs38+SWrTpk1Y2tu0aZN27txZ7PaSkpIUFxeXq73U1FRt3Lix2O1VNvT5woW7z4db27ZtlZqaqpSUlBz7w91H6fNljyIwArV06VKZmRYtWhR0lBIZMWKEzExmpgsvvDB7/x9//KExY8aoZ8+e2XPn5Pe1zfHjx6tv375q0KCBzEwzZswoVab7779fp5xyipo0aSIz04QJE/I8bubMmTrjjDPUvHlzmZlGjBhRqvO+8sorOvvss9W6dWtVqVIle1RAXpYvX66uXbuqevXqaty4sUaPHl3if+F9/PHHdfLJJ+uQQw5RzZo11a5dO913331KS0srUXvz5s3T6aefrsTERFWvXl2tW7fW+PHjcz2AbNq0Kfu//f5bSedsKsp74Y8//tCQIUN06KGHqmbNmqpTp446d+6sZ555Jtex1apVy84Urrm0ACBSReszhRT6MDty5EjVr19fNWvWVO/evfXZZ5+V+Fy7du3Sddddp8aNG6t69erq2rWrli9fXuL2MjIydMcdd6h58+aKj49Xhw4dNH/+/BK3J4V+56uvvlrNmjVTXFycmjZtmuforaJ64YUX1LFjR8XHxysxMVG33367MjIyStTWihUrdMEFF6h9+/aqVq2amjdvnudxF154YfZ/0+7du5c4ezQ677zz9Ntvv2nBggWaM2eOhg4dqtjY2Oyf79y5U3FxcTlGnK1Zs0YrV64stO3ExMRc/ePll1/O8efWrVurefPmWrNmjTp16pRra9++fYHnmDBhQp6FpP23U045pSh/HbkMGjRI3333nVasWJG97/fff9crr7yiQYMGlai9tLQ0zZs3L3tfenq6nnvuOfXr108xMTHFai9r5N7HH3+cY/+HH34oSTrkkEOK1V7Xrl3VoEGDXM+zs2fPVsOGDdW1a9ditZeQkKAOHTrk2V5sbKz69u1brPZiY2PVr18/zZ07N8dUAvPmzdPu3btL/N+5MqHPFyzcfT7c+vXrp9jY2Dz7VMeOHdWsWbNitUefD5C7s7Hl2kJvjbK3ZMkSl+Rvv/12uZwv3IYPH+5HHnmkr1y50jds2JC9PyUlxevUqeO9evXyM844wyX5kiVL8myjVq1a3r17dx8+fLhL8unTp5cq0+GHH+7HHnusX3rppS7Jb7311jyP6927t3fo0MFHjRrlderU8eHDh5fqvCNHjvQ//elPfu6553piYqInJyfnedyqVas8Pj7eTzvtNF+0aJE//vjjXqdOHR82bFiJznvIIYf4+eef788995y/8847PmnSJI+Li/OhQ4eWqL3OnTv7n//8Z3/qqad8yZIl/re//c3r1Knj3bp1871792Yfl5KS4pL8xhtv9JUrV+bY0tPTS3TuorwXtmzZ4meddZY/8cQTvmjRIn/ttdf8/PPPd0n+wAMP5Dj2X//6l7/wwgsuyR9//PFCz5/Z7wO//rCxsUXXxjNF0eT3TLF3717v2rWrN2vWzOfMmeMLFy70E044wevXr+/ff/99ic41dOhQr1Onjj/++OO+aNEiP+200zw+Pt5XrVpVovbGjRvncXFxft999/k777zjF110kZuZv/766yVq75dffvHDDz/c27Vr57NmzfKlS5f6M88841dddVWJ2nv99dfdzPyiiy7yd955x++77z6Pi4vzG264oUTtTZgwwVu2bOlDhgzx9u3be2JiYp7HbdiwwVeuXOlHHnmkH3fccYW2Gy334aL2+Y4dO/ohhxzikvy9997L8bO33nrLJfmVV17pixcv9n/84x/epEkTb9myZY5nzLz6/ZNPPulVqlTxCRMm+KJFi/zuu+/2du3a5Xq2eu2117xatWo+ZMgQnz9/vi9dutSfffZZv+qqq3I9U5WV4cOH5/nMnNXvExIS/Nlnn/U33njDk5OT8+z3BT1372vo0KFet27d7GfI008/3ePi4nL1++Tk5Hzf01m2bdvmjRs39iZNmvhjjz2W3a9q167tHTt2zPEsnPVcW5hHHnnEzcxvueUWX7Jkid9yyy1uZv7oo4/mOO7WW291SZ6SklJge6+99pqbmV9yySW+ZMkSv//++/Ps99OnTy/ws1qWrM8wp59+ui9atMifeOIJr1u3br6fYZKTkwvt99HS572I/Z4+X759funSpT537lyfNm2aS/LLL7/c586dm+veXJQ+7/6/e/3999/vS5Ys8UsuuSTPez19vmBB9/vALxZskbnxga1o8ruIZ2RkZP//rN8xv4tMVmExq6hY2iLwvoXKgorA+x6XmJhY6iLwvu0lJyfne2M69dRTvVWrVp6Wlpa9b+bMmS6pRB8+f/rpp1z7Jk2a5JJ848aNYWlv1qxZLsnfeeed7H1Z/72KUlwtqtK8F7p06eLt2rXLtb84OYO+IbGxsUXnxjNF0eT3TLFgwQKX5MuXL8/et23bNq9bt65fc801xT7PJ5984pJ81qxZ2fvS0tK8VatWPnjw4GK3t3nzZo+NjfVJkybl2N+rVy/v2LFjsdtzd//LX/7iCQkJ/ttvv5Xo9fvr0KGD9+rVK8e+iRMnemxsrG/evLnY7e37zDN8+PBCPzxXlA+G4dqK2ufvu+8+l+QtW7bM8+fTpk3zli1belxcnLdr186fe+65XP0kr36/d+9enzhxoickJHj16tX9pJNO8vXr1+f5bPX+++/7gAEDvE6dOh4XF+eJiYk+bNgwX7lyZZF+h9LKr9+7h/4xZMSIEV63bl2vXr26n3jiib569epcxzVo0KBIgx927tzp1157rTdq1Mjj4uK8c+fOvnTp0lzHderUyTt37lxoe5s2bfLhw4d7QkKCx8fHe1JSkl999dX+yy+/5DjujDPO8EaNGhXannuoKHTYYYd5bGysH3bYYT5t2rRcx4wZM8bj4uJ869athbY3f/58P+KIIzw2NtabNWvmkyZNyjVY4+GHH3ZJvnbt2kLbW7p0qXfp0sXj4uL8oIMO8muuucZ37tyZ57EUgXOjz5dvn09OTnZJubb971lF7fPp6el+2223ebNmzTw2Ntbbt2/v8+bNy3Ucfb5gQff7wC8WbJG55XcRf/rpp/PtMD169PBu3bq5e6gIev3113uHDh38gAMO8AYNGviJJ57oH374YY7X5HURT0xMzLNwmddFfMmSJd6zZ0+vVauW16xZ0/v16+dr1qzJM3tZKOginqWwInCWcBWB91VQEXhf4SgC7yu/IvDu3bs9Li7Ob7755hz7d+3alecHyJJ6/fXXc31gLo21a9fm+sBcFkXg/dsuznth4MCBfuSRR+bbFkVgNja2oDaeKYomv2eKCy64wJs2bZpr//nnn5/vB+mCTJw40WNiYnJ9iPnrX//qcXFxvmfPnmK1l/UPuevXr8+x/8knn3RJ/u233xarvT/++MPj4+PD9kzwzTffuCR/4okncuzfuHFjrnt7SVAELnqfR27Dhw/3E044wdPS0nL840JRffXVVy7JP/jgg7Dk2b59u8fExPhzzz0Xlvbc3Zs0aeJTpkwJW3tdu3b1Sy+9NGztnXXWWd6/f/+wtbd3715PS0vzE044gSIwcqHPF1809Xn34Ps9cwKjWAYPHqwDDjhATz31VI7933//vZYvX67zzjtPUmhuuB9//FHXXXedXnrpJc2aNUtJSUnq3r179kICpfXaa6+pd+/eOvDAAzV79mzNnj1bW7du1fHHH68ffvihwNdmZGQoPT290C3URxEuGzZs0O7du7Mnbs8SHx+vpKSkPCfDL4l3331XVapUUatWrcLWniT96U9/yvWzG2+8UdWqVVPt2rV16qmnas2aNWE5Z2HcXenp6fr111/1z3/+U2+++aZGjx5dLucGgHDgmaJo1qxZk+u+KYUWQUlJSSn2nPpr1qxRy5Ytcy0y07ZtW+3evVsbN24sdnt5LSyV3yIthfnkk0+UmpqqRo0a6YwzzlD16tVVq1YtDR48ONeCNEXNt2+eLC1atFCNGjXC9uwBlNTy5csVExOjiy66qNivXbZsmfr06aNjjz02LFnef/99JSUl6YwzzghLe19//bVSU1N12WWXhaW9nTt3avXq1Ro3blxY2pNCf/8333xz2Nq76KKLFBMTU6p51hHd6PNFR58Pv2pBB0DFUqNGDf35z3/W008/rTvuuCN74vann35a1apV05AhQyRJVatWzfGhLiMjQ3369NHGjRv1xBNP6IEHHih1lquuukrJyck5VvLs0aOHkpKSdP/99+u+++7L97UjR44s0sqd06dPL/WCafifrVu3SpLq1KmT62f16tXLtYprSXz++ed64IEHNHLkSDVq1KjU7f3444/661//qt69e6tTp07Z++Pi4nTxxRfrpJNOUsOGDfXFF1/orrvuUrdu3fTRRx+FrQCdn6lTp+rKK6+UJMXExOjBBx/UueeeW6bnBIBw4pmiaLZu3aoWLVrk2l+vXj25u7Zt21asVcO3bt2a731Yyr2ielHay1oENxzt/ec//5EkjRkzRv3799fLL7+sn376STfddJP69u2rzz//PMdiQkXJJ+X97FG3bt2wPHsAJTVhwgRdccUVkqSGDRsW+/V/+ctf9Je//CVsefr06aMvvvgibO0ddthh+uWXX8LWXo0aNbRjx46wtSeF/uExnG655RZdcsklkqQDDjggrG2j4qPPFw99PvwoAqPYzjvvPM2cOVPLli1Tjx49JIU+sA0YMCD7gV8K/SvV7bffrtWrV+vnn3/O3l+1atVSZ/j666+1ceNGjR8/PsdqjbVq1VK3bt2yR27mZ9+Lb0Hy+tCFkssaBbX/B8V9f1Yamzdv1qmnnpr9ob20duzYocGDB6tatWqaMWNGjp81btxYjz76aPafjz/+ePXv319t27bVnXfemev4cBs6dKi6dOmiLVu26OWXX9bll18uM9PFF19cpucFgHDimaJw7h7W+2akt5eRkSEp9Pf17LPPZrd96KGHqkuXLpozZ46GDx9erHxS2T17AKXRvHlzNW/ePOgYCKPExEQlJiYGHQMRij4ffSpan6cIjGLr2bOnDjnkED311FPq0aOHVq9erc8++0wTJ07MPubTTz9V3759NXjwYD3xxBNq1KiRqlatqltuuaXYX1vMy08//SRJGjVqlEaNGpXr5/t/JXF/CQkJatq0aaHnCceHS/xP1gf6rFE5+9q6dasSEhJK3Pa2bdvUt29fubveeuutUv8r3O7du3Xaaadp/fr1evfdd3XIIYcU+ppmzZqpe/fu+uijj0p17qJo2LBh9r8e9+vXTzt37tSYMWM0cuRIxcTElPn5ASAceKYoXL169fK9b5pZniNcC2vvu+++y7O9rJ8Xt71t27blKgaXtL369etLknr37p2jvc6dO+vAAw/UZ599Vux8++bZ17Zt24qdDwAAoKKiCIxiq1Klis455xw99thjmjp1qp566inVrVtXAwYMyD5m3rx5atKkiebMmZPjAX779u2FfgiKj4/X7t27c+zb/6t6WR8Q7rrrLvXu3TtXG3FxcQWeg+kggpGUlKS4uLhc8++lpqZq48aNOuuss0rU7vbt29W/f39t3rxZK1asUOPGjUuVMz09XUOHDtXKlSu1ePFitWnTpsivzW9EVFnr1KmTZs6cqc2bNxepGAEAkYBnisK1bdtWixYtyrV/7dq1atGiRbGmgshqb8GCBUpNTVV8fHyO9vKa27co7aWmpiolJSXHa7Pu9cW5h2a1J+U9clcKPTOUpL21a9eqS5cu2fs3bdqknTt3FjsfAABARUURGCVy3nnn6e6779aCBQs0Z84cDR06NMf8bDt37lRcXFyOB/g1a9Zo5cqV6t69e4FtJyYm5hrl8fLLL+f4c+vWrdW8eXOtWbNGN9xwQ7HzMx1EMGJjY9WvXz/NnTtXf/3rX1WtWugSNG/ePO3evVunnHJKsdvctWuXBg4cqHXr1mnp0qVKSkoqVcaMjAydd955evPNN/Xaa68Va9L9b7/9Vu+9957OPPPMUmUoiWXLlqlWrVo66KCDyv3cAFAaPFMUbNCgQZo+fbpWrFiR/fv+/vvveuWVV3T++eeXqL1bb71V8+bNy55LPj09Xc8995z69etX7G+T9OvXT7GxsXrmmWdyLLQye/ZsdezYUc2aNStWe02bNlWnTp301ltv5fiH1ZUrV+r333/XMcccQyAZ+gAAZfVJREFUU6z2EhIS1KFDBz3zzDMaOXJkjnyxsbHq27dvsdoDAACoqCgCo0TatWunjh076vrrr9d//vOf7BW8s/Tv319/+9vfdNVVV2nw4MHasGGDJkyYUKS5UoYNG6YLL7xQEydOVPfu3fXJJ59o1qxZOY4xM02dOlWnnnqq9uzZo6FDh6p+/fr673//q/fff18tW7bU1Vdfne85ymMunoULF2rHjh3Zq1IvW7ZMW7ZsUcOGDZWcnJx93LJly/Tzzz9nz3H48ccfq1atWqpZs6b69++ffVyPHj20adMmbdq0qcDzfvzxxzmOWbt2rebNmydJOVb9XLt2bfYonZ07d+qbb77JPu7kk09WjRo1JIU+3E6cOFEpKSkF/p1988032dMgZP0uWe0lJydnT10wYcIEde3aVcOGDdOll16qTZs26frrr9ewYcPUsWPH7PaWLl2qnj17Fjpy6vTTT9fy5cv197//XTt27NC//vWv7J8lJSVln3fTpk1q0aKFbr31Vk2YMCHf9q644go9++yzGj9+vGrUqJGjvaZNm2aPsr3uuuuUkZGhbt26qUGDBvryyy81efJkVa1aVTfeeGOONrPeb0uXLs33vFLR3guPPfaY/vWvf6l3795q2rSpfvnlFz3//POaN2+eJk+eXKzFcgAgEvBMUbBBgwapa9euOuecc3T33XerTp06uuuuu2RmGjNmTJ5ZCrrfdOzYUUOHDtVVV12l3bt3q3nz5nrkkUeUkpKiOXPm5Di2KM8eBx10kK699lrdfvvtqlmzpo488kg999xzeuedd/Taa6/lOHbEiBGaOXNmoXPxTp48WX379tWZZ56pCy+8UJs3b9bNN9+stm3baujQodnHFfUZ5c4779TAgQN16aWXaujQoVq1apVuv/12jR49Osc/ns6YMUMXXHCBlixZkj1HdV5+/vlnLVu2TFLo+Wfnzp3ZzzzHHHNMhZobEAAAVCLuzsaWawu9NQp23333uSRv2bJlnj+fNm2at2zZ0uPi4rxdu3b+3HPP+fDhwz05OTn7mCVLlrgkf/vtt7P37d271ydOnOgJCQlevXp1P+mkk3z9+vUuyadPn57jHO+//74PGDDA69Sp43FxcZ6YmOjDhg3zlStXFpo/HPb/ffaVmJjoknJt+x+fnJyc53GJiYk5juvUqZN37ty5SJnyam///6a33nprvselpKRkHzdmzBiPi4vzrVu3Fnje6dOn59vekiVLchy7dOlS79Kli8fFxflBBx3k11xzje/cuTPHMa+++qpL8oULFxZ43vzOuf/75fPPP3dJ/sgjjxTYXn7/3ST5rbfemn3cP//5T+/UqZPXqVPHq1Wr5gcffLCfffbZvm7dulxtNmjQwIcOHVrged2L9l547733vH///n7wwQd7bGysN2nSxE888UR/9dVX82wzJSXFJfnjjz9e6Pkz3yOBX3/Y2Niia+OZomgKeqb45ZdffMSIEV63bl2vXr26n3jiib569epcxxX1frNz506/9tprvVGjRh4XF+edO3f2pUuX5jquqM8e6enpftttt3mzZs08NjbW27dv7/Pmzct13BlnnOGNGjUqtD1399dff907derkcXFxXq9ePT///PN98+bNOY4p6jOKu/v8+fP9iCOO8NjYWG/WrJlPmjTJ09PTcxzz8MMPuyRfu3ZtgW1lvdcKe/bIkpyc7Mcdd1yhGaPlPhwfH//fgp7P2NjYQlt8fPx/g+6v9Hs2tvLdgu735u4C9mdmznujcCNGjFBKSooWL16sKlWqqEqVKmVynh07dqhu3bqaPXu2hgwZUibnyE+3bt3UsWNHTZs2rVzPe9NNN+nll1/WZ599FpY5dv/xj39o/Pjx+uabb7JHOZeHdevWqXXr1vrggw+KNbVEOOzdu1ebNm3SoYceqscff1wXXnhhgcebmdy9/Cc0BhDVeKYomtI+U4T7flMWzx6HHHKIrr76ao0dOzYs7YX7GeXss8/Wtm3b9Prrr4elvYyMDGVkZOjEE0/U3r17tWLFigKP5z4MAADKUtlUrIBKZPny5YqJidFFF11UZud4//33lZSUlGM6h/Kwc+dOrV69WuPGjSvX80qhqRFuuummsC2ytmzZMl177bXlWgDOOm+fPn3KvQAshRYzOvTQQ8v9vACAkinNM0W47zfhfvb4+uuvlZqaqssuuyws7ZXFM8ry5ctzzGtcWhdddJFiYmK0fPnysLUJAABQUowERp4YtVM0mzZt0pYtWyRJDRs2ZA44RJR///vfyurHzZs3V4MGDQo8nhFIAMoCzxRFwzNF9Pnmm2+y5/k/4IAD1Lp16wKP5z4MAADKEkVg5IkPbEDlw4dPAGWBZwqgaLgPAwCAssR0EAAAAAAAAAAQxSgCAwAAAAAAAEAUowgMAAAAAAAAAFGMIjAAAAAAAAAARLFqQQdAZIqPj99sZo2CzgGg/MTHx28OOgOA6MMzBVA03IcBAEBZMlZrBiouM2sgaZ2ktu7+Y9B59mVmF0s6xd0HBp0FAICKzMzelTTV3Z8NOsu+zOxQSSsltXT3P4LOAwAAgPwxHQRQsV0paV6kFYAzzZR0tJm1DzoIAAAVlZkdJ6mJpHlBZ9mfu6+X9I6kvwSdBQAAAAVjJDBQQZlZLUkpko5z93VB58mLmd2g0Cjl84LOAgBARWRmL0ta6O6PBJ0lL2Z2lKSXJCW5+56g8wAAACBvjAQGKq4LJS2N1AJwpkcknWxmzYMOAgBARWNm7SQdK2lGwFHy5e6fSPpC0jlBZwEAAED+GAkMVEBmFitpvaQ/u/vHQecpiJlNkVTd3a8KOgsAABWJmc2U9JW73xl0loKY2YmSHlbo2z8ZQecBAABAbowEBiqmsySti/QCcKYHJJ1rZg2DDgIAQEVhZgmSBkqaFnSWInhH0nZJg4IOAgAAgLxRBAYqGDOrImmspClBZymKzEXr5km6IugsAABUIKMlPenu24IOUhgPfbVwiqRxZmZB5wEAAEBuTAcBVDBmdoqkiZKO9grSgc2slaT3JLVw9+1B5wEAIJKZWX1JX0tq7+4/BJ2nKMysqkJzA1/o7suDzgMAAICcGAkMVDw3SJpcUQrAkpS5eN1ShRazAwAABbtC0gsVpQAsSe6+V9I9Cj2nAAAAIMIwEhioQMysu0IrhLfO/LBVYZhZJ0kvSDrU3fcEnQcAgEhkZjUlpUg63t2/CjpPcZhZvKSNkvq5+/8FnQcAAAD/w0hgoGK5QdI9Fa0ALEmZi9itU2hROwAAkLdRkt6taAVgSXL3VIUWhB0XcBQAAADsh5HAQAVhZu0lvaXQvLqpQecpCTPro9CHw/bunhFwHAAAIoqZxUhaL+lMd/8w6DwlYWa1FRoN3MndU4LOAwAAgBBGAgMVx1hJf6+oBeBMiySlShoYdBAAACLQMEkbKmoBWJLc/TdJ/5B0XdBZAAAA8D+MBAYqADNLlPSJpCR33xZwnFIxsyGSrpF0XEVa3A4AgLJkZlUk/Z+k69z9zaDzlIaZHSxpraTD3f2noPMAAACAkcBARXGdpCcqegE403xJB0nqHnQQAAAiyMmS0hSa+qlCc/f/Snpe0pVBZwEAAEAII4GBCGdmDRRaUK2tu/8YdJ5wMLOLJZ3i7kwLAQCAJDN7V9JUd3826CzhYGaHSlqp0FoG24POAwAAUNkxEhiIfFdImh8tBeBMMyUdnbnYHQAAlZqZHSfpEEnzgs4SLu6+XtISSX8JOgsAAAAYCQxENDOrKSlFUnd3Xxd0nnAysxsUGt18XtBZAAAIkpm9LGmhuz8SdJZwMrOjJb2o0JoGewKOAwAAUKkxEhiIbBdKWh5tBeBMj0o6OXPROwAAKiUzayvpWEkzAo4Sdu7+b0lfSjo76CwAAACVHSOBgQhlZjGSNkg63d0/CjpPWTCzKZKqu/tVQWcBACAIZjZT0lfufmfQWcqCmZ0o6WGFvv2TEXQeAACAyoqRwEDkOkvS19FaAM70gKRzMxe/AwCgUjGzBEkDJUXVNBD7eUfSDkmnBB0EAACgMqMIDEQgM6siaZykyUFnKUuZi93Nk3Rl0FkAAAjAaElPuvvWoIOUFQ997XCypBvMzILOAwAAUFkxHQQQgczsFEkTJR3tUd5JzayVpPcktXD37UHnAQCgPJhZfUlfS2rv7j8EnacsmVlVSV9IutDdlwedBwAAoDJiJDAQmW6QNDnaC8CSlLno3VKFFsEDAKCyuELSC9FeAJYkd98r6R6Fnm8AAAAQAEYCAxHGzLortEJ468wPTVHPzDpJekFSkrunBZ0HAICyZGY1JaVIOt7dvwo6T3kws3hJGyX1c/f/CzoPAABAZcNIYCDyjJN0T2UpAEuSu38saZ1Ci+EBABDtRkp6t7IUgCXJ3VMVWhB2bMBRAAAAKiVGAgMRxMzaSXpboflxU4POU57MrI9CHw7bu3tGwHEAACgTZhYjab2kM939w6DzlCczq63QaOCj3X1TwHEAAAAqFUYCA5FlrKQHK1sBONMiSbslDQg6CAAAZWiopI2VrQAsSe7+m6THJV0XdBYAAIDKhpHAQIQws0RJnyg0L+62gOMEwsyGSLra3Y8LOgsAAOFmZibp/ySNcfc3g84TBDNrLGmNQmsf/Bx0HgAAgMqCkcBA5Bgt6Z+VtQCcab6kRpmL4wEAEG1OlpQu6a2ggwTF3X+UNFfSlUFnAQAAqEwYCQxEADNroNDCaO3c/T9B5wmSmV0s6RR3Hxh0FgAAwsnM3pU01d2fDTpLkMzsUEkrFVoDYXvQeQAAACoDRgIDkeEKSfMrewE400xJR5tZ+6CDAAAQLmZ2nKRDJM0LOkvQ3H29pCWS/hJ0FgAAgMqCkcBAwMyspqQUSd3dfV3QeSKBmd0gqa27nxd0FgAAwsHMXpa00N0fCTpLJDCzoyW9qNBaCHsCjgMAABD1GAkMBO9CScspAOfwqKSTMxfLAwCgQjOztpKOlTQj4CgRw93/LelLSWcHnQUAAKAyYCQwECAzi5G0XtIZ7v5R0HkiiZlNkRTv7lcHnQUAgNIwsxmS1rn7nUFniSRmdqKkhxRaEyEj6DwAAADRjJHAQLDOkrSeAnCeHpB0XuaieQAAVEhmliDpFElMA5HbO5J2KvT3AwAAgDJEERgIiJlVkTRW0pSgs0Qid/9R0nyFFs0DAKCiulbSdHffGnSQSOOhryROkXSDmVnQeQAAAKIZ00EAATGzUyRNlHS00xHzZGatJK2Q1MLddwSdBwCA4jCz+pK+ltTe3X8IOk8kMrOqCs0NPMrdlwedBwAAIFoxEhgIzjhJUygA5y9zsbzlCi2eBwBARXO5pAUUgPPn7nsl3aPQcxEAAADKCCOBgQCYWXeFVgg/3N3TA44T0czsGIWmhUhy97Sg8wAAUBRmVlNSiqQT3P3LoPNEMjOLl7RRUj93/7+g8wAAAEQjRgIDwRgn6V4KwIXLXDTva4UW0QMAoKIYKWkFBeDCuXuqpL8rtFYCAAAAygAjgYFyZmbtJL2t0Dy3qUHnqQjMrI+kBxSaUzEj4DgAABTIzGIkrZc0xN0/CDpPRWBmtRUaDXy0u28KOA4AAEDUYSQwUP7GSnqQAnCxLJK0W9KAoIMAAFAEQyVtpABcdO7+m6THJV0XdBYAAIBoxEhgoByZWaKkTxSa33ZbwHEqFDMbIukqd+8edBYAAPJjZibp/ySNcfc3g85TkZhZY0lrJLV295+DzgMAABBNGAkMlK/Rkv5JAbhE5ks6OHNRPQAAItXJktIlvRV0kIrG3X+UNFfSlUFnAQAAiDaMBAbKiZk1kLROUjt3/0/QeSoiM7tE0gB3PyXoLAAA5MXMlkt6xN3nBJ2lIjKzwyS9r9DaCduDzgMAABAtGAkMlJ8rJM2nAFwqMyR1ylxcDwCAiGJm3SQ1VWg0K0rA3b+WtETSX4LOAgAAEE0YCQyUAzOrKSlFUnd3Xxd0norMzG6U9Cd3Pz/oLAAA7MvMXpL0prtPCzpLRWZmR0t6UaE1FPYEHAcAACAqMBIYKB8XSlpOATgsHpE0IHORPQAAIoKZtZXUWdL0oLNUdO7+b0lfSjo76CwAAADRgpHAQBkzsxhJGySd7u4fBZ0nGpjZ3ZLi3P3qoLMAACBJZjZD0tfufkfQWaKBmfWW9KBCaylkBJ0HAACgomMkMFD2zlLoQyEF4PB5QNJ5mYvtAQAQKDNLkDRIEtNAhM9iSTslsRgsAABAGFAEBsqQmVWRNFbSlKCzRJPMxfXmK7TYHgAAQbtW0pPuvjXoINHCQ19XnCJpnJlZ0HkAAAAqOqaDAMqQmQ2UNEnS0U5nCyszayVphaQW7r4j6DwAgMrJzOpL+lpSe3f/Ieg80cTMqio0N/BId3836DwAAAAVGSOBgbJ1g6QpFIDDL3ORveUKLboHAEBQLpe0gAJw+Ln7Xkn3KPQ8BQAAgFJgJDBQRsysu6SZklq7e3rQeaKRmR2j0LQQSe6eFnQeAEDlYmY1JW2UlOzuXwadJxqZWbxCf8f93P3/gs4DAABQUTESGCg74yTdQwG47GQutve1QovvAQBQ3kZKeo8CcNlx91RJf1dojQUAAACUECOBgTJgZu0kvS2ppbvvCjpPNDOzkyTdL+kId88IOg8AoHIwsxiF/iFyqLt/EHSeaGZmtRUaDXy0u28KOA4AAECFxEhgoGyMlfQgBeBy8bakPZIGBB0EAFCpDJWUQgG47Ln7b5Iel3Rd0FkAAAAqKkYCA2FmZomSPlFontptAcepFMxsqKQr3b170FkAANHPzEzS/0m63t3fCDpPZWBmjSWtUWithZ+DzgMAAFDRMBIYCL/Rkv5JAbhczZd0cOZifAAAlLWTJe2V9GbQQSoLd/9R0lxJVwadBQAAoCJiJDAQRmZWX6H5Adu5+3+CzlOZmNklkga4+ylBZwEARDczWy7pEXefE3SWysTMDpP0vqQW7r496DwAAAAVCSOBgfC6QtJ8CsCBmCGpU+aifAAAlAkz6yapqUKjUlGO3P1rSUskXRh0FgAAgIqGkcBAmJhZTUkpkrq7+7qg81RGZnajpD+5+/lBZwEARCcze0nSm+4+LegslZGZHS3pRYXWXtgTcBwAAIAKg5HAQPiMkvQuBeBAPSJpQObifAAAhJWZtZHUWdL0oLNUVu7+b0lfSTor6CwAAAAVCSOBgTAwsxhJ6yWd6e4fBp2nMjOzuyXFufvVQWcBAEQXM5sh6Wt3vyPoLJWZmfWW9KBCazBkBJ0HAACgImAkMBAewyRtoAAcER6QdJ6ZNQg6CAAgephZM0mDJDENRPAWS9olaWDQQQAAACoKisBAKZlZFUnjJE0OOgukzEX55iu0SB8AAOEyWtKT7r416CCVnYe+yjhZ0g1mZkHnAQAAqAiYDgIoJTMbKGmSpKOdDhURzKyVpBWSWrj7jqDzAAAqNjOrL+lrSe3d/Yeg80Ays6qSvpQ00t3fDToPAABApGMkMFB6N0iaQgE4cmQuzrdc0oVBZwEARIXLJS2gABw53H2vpHsUeg4DAABAIRgJDJSCmR0naZak1u6eHnQe/I+ZHSNpnqRD3T0t6DwAgIrJzGpISpGU7O5fBp0H/2Nm8ZI2Surr7p8FnQcAACCSMRIYKJ1xku6hABx53P0jSesVWrQPAICSGinpPQrAkcfdUyX9XdLYoLMAAABEOkYCAyVkZu0kvS2ppbvvCjoPcjOzkyTdL+kId88IOg8AoGIxsxiF5gIe6u4fBJ0HuZlZbYVGAx/t7psCjgMAABCxGAkMlNz1kh6iABzR3pa0R9LJQQcBAFRIQyRtogAcudz9N0lPSBoddBYAAIBIxkhgoATMLEHSKklJ7r4t4DgogJkNlXSlu3cPOgsAoOIwM5O0WtJYd38j6DzIn5k1lrRGoTUafg46DwAAQCRiJDBQMqMlPUkBuEKYL6mxmVEEBgAUR39JGZLeDDoICubuPyq0GOwVQWcBAACIVIwEBorJzOorND9gO3f/T9B5UDgzu0TSAHc/JegsAICKwcyWS3rE3ecEnQWFM7PDJL0vqYW7bw86DwAAQKRhJDBQfFdIeoECcIUyU1KnzMX8AAAokJl1k9RU0tygs6Bo3P1rSUslXRhwFAAAgIjESGCgGMyspqQUSce7+1dB50HRmdmNkv7k7ucHnQUAENnM7CVJb7r7tKCzoOjMrJOkBQqt2bAn6DwAAACRhJHAQPGMkvQuBeAK6RFJA8wsMeggAIDIZWZtJHWWND3oLCged/9Y0leSzgo6CwAAQKRhJDBQRGYWI2m9pDPd/cOg86D4zOxuSbHufk3QWQAAkcnMpkva4O63B50FxWdmvSX9XVJ7d88IOg8AAECkYCQwUHTDFPpQSAG44npA0vmZi/sBAJCDmTWTdKqkqUFnQYktlpQqaWDQQQAAACIJRWCgCMysiqRxkqYEnQUll7mY3wsKLe4HAMD+rpU03d23Bh0EJeOhrzlOkXSDmVnQeQAAACIF00EARWBmAyXdJukop9NUaGbWWtK7klq4+46g8wAAIoOZ1VNo2qcj3P37oPOg5MysqkJzA1/g7u8GnQcAACASMBIYKJpxkqZQAK74Mhf1e1ehRf4AAMhyuaQXKQBXfO6+V9I9Cj2/AQAAQIwEBgplZsdJmiWptbunB50HpWdmx0qaK+lQd08LOg8AIFhmVkNSiqQe7v5F0HlQemYWr9B/05Pc/bOg8wAAAASNkcBA4cZJupcCcPTIXNxvg0KL/QEAMFLS+xSAo4e7p0r6u6SxQWcBAACIBIwEBgpgZu0kLVJo/thdQedB+JjZSZLuV2jux4yg8wAAgmFmMZK+ljTM3f8VdB6Ej5nVlrRR0tHuvingOAAAAIFiJDBQsOslPUgBOCq9LWmPpJODDgIACNQQSZsoAEcfd/9N0hOSRgedBQAAIGiMBAbyYWYJklZJSnL3bQHHQRkws6GSrnT37kFnAQCUPzMzSasljXX3N4LOg/Azs8aS1ii0tsPPQecBAAAICiOBgfyNlvQkBeCoNl9S48zF/wAAlU9/SRmS3gw6CMqGu/8oaZ6kK4LOAgAAECRGAgN5MLP6Cs0P2N7dfwg6D8qOmV0qqb+7Dwo6CwCgfJnZMkmPufszQWdB2TGzVpLeU2iNh+1B5wEAAAgCI4GBvF0h6QUKwJXCDEnHZi4CCACoJMysq6QESc8HnQVly93XSVoq6cKAowAAAASGkcDAfsyspqQUSce7+1dB50HZM7ObFJorcHjQWQAA5cPMXpT0trtPDToLyp6ZdZL0gqRD3X1P0HkAAADKGyOBgdxGSXqXAnClMk3SwMzFAAEAUc7M2kjqKml60FlQPtz9Y0nrJJ0VdBYAAIAgMBIY2IeZxUhaL+lMd/8w6DwoP2Z2j6QYd78m6CwAgLJlZtMlbXD324POgvJjZn0kPaDQmg8ZAccBAAAoV4wEBnIaptCHQgrAlc/fJJ2fuSggACBKmVkzSadKYhqIymeRpFRJA4MOAgAAUN4oAgOZzKyKpHGSpgSdBeXP3f+j0FyBVwSdBQBQpq6VNN3dtwYdBOXLQ1+BnCLpBjOzoPMAAACUJ6aDADKZ2UBJt0k6yukYlZKZtZb0rqQW7r4j6DwAgPAys3oKTft0hLt/H3QelD8zqyrpK0kXuPu7QecBAAAoL4wEBv5nnKQpFIArr8zFAN9VaHFAAED0uVzSixSAKy933yvpHoWe+wAAACoNRgIDkszsOElPSWrl7ulB50FwzOxYSXMlHeruaUHnAQCEh5nVkJQiqYe7fxF0HgTHzOIVei+c5O6fBZ0HAACgPDASGAgZJ+keCsDIXBRwg0KLBAIAosdISe9TAIa7p0r6u6SxQWcBAAAoL4wERqVnZm0lLVZoHthdQedB8Mysr6T7FJozMiPoPACA0jGzGElfSxrm7v8KOg+CZ2Z1FPpH36Pc/ZuA4wAAAJQ5RgIDoVEgD1IAxj7ekpQm6eSggwAAwmKIpE0UgJHF3bdJekLSdQFHAQAAKBeMBEalZmYJklYpNP/r1qDzIHKY2TBJl7v78UFnAQCUnJmZpNWSxrn7wqDzIHKYWWNJaxRaE2JL0HkAAADKEiOBUdmNlvQkBWDkYZ6kJpmLBgIAKq7+klzSG0EHQWRx9x8Vut9fGXQWAACAssZIYFRaZlZfofkB27v7D0HnQeQxs0sl9Xf3QUFnAQCUjJktk/SYuz8TdBZEHjNrJek9hdaG2B50HgAAgLLCSGBUZldIeoECMAowQ9KxZtYu6CAAgOIzs66SEiQ9H3QWRCZ3XydpqaQLA44CAABQphgJjErJzGpKSpF0vLt/FXQeRC4zu0lSa3cfHnQWAEDxmNmLkt5296lBZ0HkMrNOkl6QlOTuaUHnAQAAKAuMBEZlNVLSuxSAUQTTJA3MXEQQAFBBmNmfJHWRND3oLIhs7v6xpHWSzgo6CwAAQFlhJDAqHTOLkbRe0pnu/mHQeRD5zOweSTHufk3QWQAARWNm0yVtcPfbg86CyGdmfSQ9oNBaERkBxwEAAAg7RgKjMhoqaSMFYBTDA5LOz1xMEAAQ4cysmaRTFfo2B1AUiyTtljQg6CAAAABlgSIwKhUzM0njJE0OOgsqjszFA19QaDFBAEDku1bSdHf/NeggqBg89PXIyZJuCDoLAABAWWA6CFQqZjZA0u2SjnLe/CgGM2st6V1JLdx9R9B5AAB5M7N6Ck37dIS7fx90HlQcZlZV0leSRrj7iqDzAAAAhBMjgVHZ3CBpCgVgFFfmIoLvShoVdBYAQIEul/QiBWAUl7vvlXSPGA0MAACiECOBUWmY2XGSnpLUyt3Tg86DisfMjpU0V9Kh7p4WdB4AQE5mVkNSiqQe7v5F0HlQ8ZhZvELvoZPc/bOg8wAAAIQLI4FRmYyTdA8FYJRU5mKCGyQNCzoLACBPIyW9TwEYJeXuqZL+Lmls0FkAAADCiZHAqBTMrK2kxQrN57or6DyouMysr6R7FZprkgsoAEQIM6sm6WtJZ7n7v4LOg4rLzOoo9I++R7n7NwHHAQAACAtGAqOyuF7SgxSAEQZvSUqXdHLQQQAAOQyR9A0FYJSWu2+T9ISk0QFHAQAACBtGAiPqmVmCpFUKzeO6Neg8qPjMbJiky939+KCzAAAkMzNJn0q6wd0XBhwHUcDMGktao9BaEluCzgMAAFBajARGZXCtpOkUgBFG8yQdkrnYIAAgeP0y//eNQFMgarj7j5LmS7oi6CwAAADhwEhgRDUzq6/Q/IDt3f2HoPMgepjZpZL6u/ugoLMAQGVnZsskPebuzwSdBdHDzFpJWqHQmhI7gs4DAABQGowERrS7XNICCsAoAzMkHZu56CAAICBm1lVSgqTng86C6OLu6yQtl3Rh0FkAAABKi5HAiFpmVlNSiqQT3P3LoPMg+pjZTZJau/vwoLMAQGVlZi9KetvdpwadBdHHzI5RaFqIJHdPCzoPAABASTESGNFspKQVFIBRhh6RNDBz8UEAQDkzsz9J6ippetBZEJ3c/SOFphY7K+gsAAAApcFIYEQlM4uRtF7SEHf/IOg8iF5mdo+kGHe/JugsAFDZmNl0SRvc/fagsyB6mVkfSQ8otMZERsBxAAAASoSRwIhWQyVtpACMcvCApPMzFyEEAJQTM2sq6VRJ04LOgqi3SNJuSQOCDgIAAFBSFIERdczMJI2TNDnoLIh+mYsOvqDQIoQAgPJzraTp7v5r0EEQ3Tz01cnJCj1fAgAAVEhMB4GoY2YDJN0u6SjnDY5yYGatJb0rqYW77wg6DwBEOzOrp9C0T0e4+/dB50H0M7Oqkr6SNMLdVwSdBwAAoLgYCYxoNE7S3RSAUV7c/StJKxRajBAAUPYuk/QSBWCUF3ffK+leMRoYAABUUIwERlQxs26SZktq5e7pQedB5WFmnSU9L+lQd08LOg8ARCszqyEpRVIPd/8i6DyoPMwsXqH3Xh93/zzoPAAAAMXBSGBEm3GS7qUAjPKWuQjhRoUWJQQAlJ0LJK2kAIzy5u6pkh6UNDboLAAAAMXFSGBEDTNrK2mxQvOy7go6DyofM+ur0FdFj2A6EgAIPzOrJulrSWe5+7+CzoPKx8zqSNqg0NoT3wQcBwAAoMgYCYxocr2khygAI0BvSUqXdHLQQQAgSg2R9C0FYATF3bdJ+qek0QFHAQAAKBZGAiMqmFmCpE8lJbn71oDjoBIzs2GSLnf344POAgDRxMxMoXv9De6+MOA4qMTMrImkzxVag2JL0HkAAACKgpHAiBbXSnqSAjAiwDxJh5jZcUEHAYAo0y/zf98INAUqPXf/j6T5kq4IOgsAAEBRMRIYFZ6Z1VdofsD27v5D0HkAM7tUUn93HxR0FgCIFma2TNJj7v5M0FkAM2slaYVCa1HsCDoPAABAYRgJjGhwuaQFFIARQWZIOjZzsUIAQCmZWRdJCZKeDzoLIEnuvk7SckkXBp0FAACgKBgJjArNzGpK2igp2d2/DDoPkMXMxks6zN1HBJ0FACo6M1sgabG7Pxx0FiCLmR2j0LQQSe6eFnQeAACAgjASGBXdSEnvUQBGBJomaVDmooUAgBIysz9J6ibpyaCzAPty948UmpLsrKCzAAAAFIaRwKiwzCxGoQfvoe7+QdB5gP2Z2b2Sqrr7tUFnAYCKysyelJTi7rcFnQXYn5mdJOl+SUe4e0bQeQAAAPLDSGBUZEMV+lBIARiR6m+ShmcuXggAKCYzayppsKSpAUcB8vO2pD2SBgQdBAAAoCAUgVEhmZlJGidpStBZgPxkLla4QKHFCwEAxXetpBnu/mvQQYC8eOhrlVMUei4FAACIWEwHgQrJzAZIukPSkc6bGBHMzA5XaPXwFu6+I+g8AFBRmFk9SesV+pr990HnAfJjZtUkfSlphLuvCDoPAABAXhgJjIpqnKQpFIAR6TIXLVyh0CKGAICiu0zSSxSAEencPV3SvWI0MAAAiGCMBEaFY2bdJM2W1CrzoRuIaGbWWdLzkg5197Sg8wBApDOzGpJSJPVw9y+CzgMUxsziFXrP9nH3z4POAwAAsD9GAqMiGifpXgrAqCgyFy/cqNBihgCAwl0gaSUFYFQU7p4q6UFJY4POAgAAkBdGAqNCMbM2kt5RaH7VXUHnAYrKzPpJukehuS258AJAPjLnV/1a0tnuvjLoPEBRmVkdSRskHeXu3wQcBwAAIAdGAqOiGSvpIQrAqIDelLRX0slBBwGACDdE0rcUgFHRuPs2Sf+UNDrgKAAAALkwEhgVhpk1k7RaUpK7bw06D1BcZnaWpEvd/YSgswBAJDIzk/SppBvd/fWA4wDFZmZNJH2u0NoVW4LOAwAAkIWRwKhIRkt6kgIwKrC5kppmLm4IAMitnySTtDDoIEBJuPt/JM2XdEXQWQAAAPbFSGBUCGZWX6H5Adu7+w9B5wFKyswuk9TX3U8NOgsARBozWyrpcXd/OugsQEmZWStJKxRaw2JH0HkAAAAkRgKj4rhc0gIKwIgC0yV1NrO2QQcBgEhiZl0kJUp6LugsQGm4+zpJyyVdGHQWAACALIwERsQzs5qSNkpKdvcvg84DlJaZjZd0mLuPCDoLAEQKM1sgabG7Pxx0FqC0zOwYhaaFSHL3tKDzAAAAMBIYFcFISe9RAEYUmSZpkJklBB0EACKBmf1JUjdJTwadBQgHd/9IoanMzgo6CwAAgMRIYEQ4M4tR6AF6qLt/EHQeIFzM7F5JVd392qCzAEDQzOxJSSnuflvQWYBwMbOTJN0v6Qh3zwg6DwAAqNwYCYxIN0ShD4UUgBFt/iZpeOaihwBQaZlZU0mDJU0NOAoQbm9L2iPp5KCDAAAAUARGxDIzkzRO0pSgswDhlrnI4QKFFj0EgMrsWkkz3P3XoIMA4eShr1xOkXRD0FkAAACYDgIRy8xOlnSnpCOdNyqikJkdLmmZpJbuviPoPABQ3sysnqT1kjq4+3dB5wHCzcyqSfpK0nB3XxF0HgAAUHkxEhiR7AZJUygAI1plLnb4nkKLHwJAZXSZpJcoACNauXu6pHsU+nYbAABAYBgJjIhkZt0kzZbUKvPhGYhKZtZZ0nOSDnP3tKDzAEB5MbMaklIk9XD3L4LOA5QVM6suaaOkPu7+edB5AABA5cRIYESqcZLupQCMaJe56GGKpKFBZwGAcnaBpJUUgBHt3H2XpAcljQ06CwAAqLwYCYyIY2ZtJL0jqUXmQzMQ1cysn0JfFT2C6U8AVAaZ86R+Lelsd18ZdB6grJlZHUkbJB3l7t8EHAcAAFRCjARGJBor6SEKwKhE3pS0V9LJQQcBgHIyRNK3FIBRWbj7Nkn/lDQ64CgAAKCSYiQwIoqZNZO0WlKSu28NOg9QXszsLEmXuvsJQWcBgLJkZiZplaSb3P31oPMA5cXMmkj6XKF1AH4JOg8AAKhcGAmMSHOtpCcpAKMSmiupaeaiiAAQzfoq9Ay6MOggQHly9/9Imi/piqCzAACAyoeRwIgYZlZP0npJ7d39h6DzAOXNzC6T1NfdTw06CwCUFTNbKulxd3866CxAeTOzVpJWKLT2xY6g8wAAgMqDkcCIJJdLepECMCqx6ZI6Zy6OCABRx8y6SGou6bmAowCBcPd1kt6VNCroLAAAoHJhJDAigpnVkJQiqYe7fxF0HiAoZjZeobkCRwSdBQDCzcwWSFrs7g8HnQUIipkdq9A0UIe6e1rQeQAAQOXASGBEipGS3qcADGiapEGZiyQCQNQwsz9J6ibpyaCzAEFy9w8lbZA0LOgsAACg8mAkMAJnZjGSvpY0zN3/FXQeIGhmdq+kqu5+bdBZACBczOxJSSnuflvQWYCgmdlJku6XdIS7ZwSdBwAARD9GAiMSDJG0iQIwkO1vkoabWf2ggwBAOJhZU0mDJU0NOAoQKd6WtEfSyUEHAQAAlQNFYATKzEzSOEmTg84CRIrMxREXKLRYIgBEg2slzXD3X4MOAkQCD30dc4qkG4LOAgAAKgemg0CgzOxkSXdKOtJ5MwLZzOxwScsktXD3nUHnAYCSMrO6Cs1/2sHdvws6DxApzKyapK8kne/u7wWdBwAARDdGAiNo4yRNoQAM5OTuX0p6T6FFEwGgIrtM0ksUgIGc3D1d0j0KPQ8DAACUKUYCIzBm1lXS05JaZT4EA9iHmXWW9Jykw9w9Leg8AFBcZlZdUoqknu7+RdB5gEiT2Uc2Surj7p8HnQcAAEQvRgIjSOMk3UcBGMibu38gaZNCiycCQEV0gaQPKAADeXP3XZIeknR90FkAAEB0YyQwAmFmbSQtEfOdAgUys36S7lZoLk0u2AAqjMz5Tr+WdLa7rww6DxCpzKyOQvNmH+nu3wYcBwAARClGAiMo10t6iAIwUKg3JWVI6h90EAAopjMlfUcBGCiYu2+T9KSk0QFHAQAAUYyRwCh3ZtZM0mpJSe6+Neg8QKQzs7MkXeruJwSdBQCKwsxM0ipJN7n760HnASKdmTWR9LlC6wD8EnQeAAAQfRgJjCBcK2k6BWCgyOZKampm3YIOAgBF1Feh58yFQQcBKgJ3/4+kFyRdEXQWAAAQnRgJjHJlZvUkrZd0hLt/H3QeoKIws8sk9XX3U4POAgCFMbOlkh5396eDzgJUFGbWWtK7Cq2ZsSPoPAAAILowEhjl7XJJL1IABoptuqTOmYsqAkDEMrMukppLei7gKECF4u5fKVQEHhV0FgAAEH0YCYxyY2Y1JKVI6uHuXwSdB6hozGy8QnMFjgg6CwDkx8wWSFrs7g8HnQWoaMzsWIWmgTrU3dOCzgMAAKIHI4FRnkZKep8CMFBi0yQNylxcEQAijpkdLqmbpCeDzgJURO7+oaQNkoYFnQUAAEQXRgKjXJhZjKSvJQ1z938FnQeoqMzsPoWu3aODzgIA+zOzf0r6xt0nBZ0FqKjMrK+k+xRaQyMj6DwAACA6MBIY5WWIpE0UgIFS+5ukEZmLLAJAxDCzppJOkzQ16CxABfeWpDRJJwcdBAAARA+KwChzZmaSxkmaEnQWoKLLXFTxRYUWWQSASHKNpJnu/kvQQYCKzENf1Zyi0PMzAABAWDAdBMqcmZ0s6S5JHZ03HFBqZvYnSUsltXD3nQHHAQCZWV2F5jHt4O7fBZ0HqOjMrJqkrySd7+7vBZ0HAABUfIwERtiZ2cFmVn+fXeMkTaEADIRH5uKK7yu02KKk0GJMZlY1uFQAKhMzizWzw/bZdZmklykAA+Hh7umS7tU+o4HNrJGZNQguFQAAqMgoAqMsXCHpL5JkZl0lJUh6PtBEQPSZImlM5qKLkvS0pHYB5gFQuXSR9JgkmVl1SVdKujvQRED0mSHpWDPLur9fI+mCwNIAAIAKjSIwykK6pOqZ/3+cpHszRzMACJPMRRY3KbToohTqc/QzAOVl33v9BZI+cPe1AeYBoo6775L0oKTrM3dxrwcAACVGERhlYbekODNrI6mrpOmZXxsdx1fYgNIxsxPNbGDmHydLGpe5+GKcQn0PAMpD1r2+mkIFqsmSZGZnmtlxgSYDKjgzO8TMRmdO8zRN0kAzSxD3egAAUAoUgVEWdiv0kHq9pIckHShpsaTukrYHmAuIBpslTTWzOyS9LSlDUn/xwRBA+cq6158p6TtJH5vZ3yXdKemnIIMBUeA3SSdLWiipqqQnJY0W93oAAFAKFIFRFnZLqi/pVEkfSvpY0iJJp7p7apDBgIrO3T+XdIykbpJekzRVoWlX+GAIoDxlFYHHKTQ38CJJh0o6xt2/DjIYUNG5+3ZJ/SStVug5+i1J50s6QNzrAQBACVEERlnYLelISf+WNFvSJe4+0d0zgo0FRAd3/0lSH0lrJN2gUOGlhvhgCKD87JZUW1ItSXdJWirpFHffFmAmIGq4e7q7X6/Qff4ZhQrCbcS9HgAAlFC1oAMgKsVIaicpVtJxjAgCwi9zscXrzOxjSf9QqAi8J9hUACqRPQp96ydW0nnu/nLAeYCo5O7PmdlaSa9KaibJAo4EAAAqKEYCoyz8IukjSUdTAAbKlrvPkXSipBQxOghA+dkq6VtJ3SgAA2XL3T+T1FHSZwr1PQAAgGIzdw86AwAAAAAAAACgjDASGAAAAAAAAACiGEVgAAAAAAAAAIhixV4Yrnr16v9NTU1tVBZhAJSv+Pj4zbt27Tq4vM/LdQQomqD6aFmg3wNFEy39nj4PFE209HkAQOQr9pzAZubMIwxEBzOTu5f7KtNcR4CiCaqPlgX6PVA00dLv6fNA0URLnwcARD6mgwAAAAAAAACAKEYRGAAAAAAAAACiGEVgAAAAAAAAAIhiFIEBAAAAAAAAIIpRBAYAAAAAAACAKEYROGAzZsyQmWn9+vXFfm2PHj3UvXv3MkiVv8cee0ytW7dWXFycWrdurUcffbRIrzOzfLfJkyfnOn7GjBnq1KmTatSoobp16+r444/XmjVr8m2/X79+MjPdfPPNJf7dgPJSGfr93r17de+996pXr15q1KiRDjjgAB199NGaPn26ClotPi0tTe3bt5eZ6Yknnsjxs6VLl+Z5DalTp05pf0UgIlSGa0OW5cuXq2vXrqpevboaN26s0aNHa9euXWWYFohM9Hv6PQAA5aVa0AEquwEDBmjlypVq1qxZsV87bdq0MkiUv0cffVSXXXaZbrrpJp144olavHixLrvsMpmZLr744gJfu3Llylz7pk6dqtmzZ+uUU07JsX/s2LGaOnWqrr/+et1zzz3asWOHPvjgg3wfEufMmaPVq1eX/BcDylll6Pe7du3SbbfdpnPOOUdXXXWVDjjgAL3++usaNWqUvvrqqzz/8UeS7r33Xm3ZsqXATA8++KCOOeaY7D9Xq8atDNGhMlwbJOnTTz9V37591b9/f91+++1KSUnR9ddfrx9//FFz5swpp98AiAz0e/o9AADlxt2LtYVegspmz5493qBBAx85cmSO/RdccIE3aNDA09LSit1mUlKSd+rUKce+FStWuCRfsGBBkdrYunWrN2rUyJ955hmX5OPHjy92jsossz8X+zpQ2o3rSMVQmn6fnp7uv/zyS679I0eO9Li4ON+5c2eun23YsMFr1Kjhs2fPdkn++OOP5/j5kiVLXJK//fbbJfyNKp6g+mhZbPT76FHaZ4JTTz3VW7VqleO4mTNnuiRftWpVWUSuUKKl39Pnowv9vuxES59nY2NjY4v8jekgytCcOXN0+OGHKz4+Xu3bt9dLL72kHj16aMSIEdnH5PUVsObNm+vcc8/V7Nmz1apVK9WqVUvdu3fXZ599lqP98vwK2MqVK7VlyxadffbZOfafd9552rJlS54jfQuyYsUKbdiwQcOHD8+x/9FHH1XLli01ePDgIrUzduxYtW3bVmeddVaxzg+UFfp9SNWqVVWvXr1c+zt16qTdu3fnOdr30ksv1bBhw3TccceVPjwQYbg2hOzZs0dvvPGGhgwZkmMU/5AhQxQbG6tXXnmlzHID5Y1+H0K/BwAgMlAELiOLFi3SOeeco8MPP1zz58/XmDFjdM0112jdunVFev3y5cv197//XXfeeaeeffZZ7dixQ6eeeqrS09OLnSU9Pb3Qbe/evQW2kTUfb9u2bXPsz/rz2rVri5Vp5syZio2NzVW8fe+999ShQwfdfffdOuSQQ1StWjW1b99ec+fOzdXGihUrNGvWrHL/KhyQH/p94d59913VqVNHjRs3zrH/6aef1scff6wpU6YU2sbZZ5+tqlWrqkGDBjrnnHP03XffFTsHUJ64NvzPhg0btHv37lyvjY+PV1JSUomuK0Akot//D/0eAIDIwESKZeTWW29VmzZttGDBApmZJKl9+/Y6+uiji/T6P/74Q6tXr1bdunUlSQcffLCOOeYYffjhh+rWrVuRc2zatEktWrQo9LjExERt2rQp359v3bpVknItwJQ10u/XX38tcqbU1FTNnTtXAwYMUP369XP87D//+Y+2bNmiVatW6d5771X9+vX1j3/8Q0OGDNHixYvVq1cvSaHFoy6++GKNGTNGrVu3LvK5gbJEvy/YokWL9Oyzz+q2227LMRJo69atGj16tKZMmaIGDRpo+/bteb6+du3auu6665ScnKwDDzxQn3zyie666y4tX75cq1atUoMGDYqVBygvXBsKf23W64t7XQEiFf2+8NdmvZ5+DwBA+aAIXAb27t2rjz76SDfeeGP2Q58kHXXUUUV6CJOkrl27Zj/0SaGHRkn69ttvi/Xg16RJE3300UeFHhcXF1fgz91dknL8PiX14osv6rfffsvxVbgsGRkZ+uOPP7R06VIdddRRkqTevXvriCOO0G233ZZdBJ4yZYp27dql8ePHlzoPEA70+4J9+eWXGjp0qHr16qVx48bl+Nn111+vpKQkjRo1qsA2jjzySB155JHZf05OTlZycrKOPfZYPfzww5owYUKpcwLhxrWh6K/N+hlQ0dHvi/5a+j0AAOWHInAZ2LJli9LS0nTQQQfl+lmjRo2K1Mb+c2lmPZilpqYWK0tsbKw6duxY6HGFPdBl5dm6dasOPvjg7P1Z/3Kf19yf+Zk1a5YaNmyo/v375/pZ/fr1tWfPnuwCsCRVqVJFJ554op5++mlJoYffO+64Q0888YR2796t3bt3Zx+7e/dubdu2TQceeKCqVGG2E5Qf+n3+vv32W5100klq2bKlFixYkGMU8AcffKAZM2Zo8eLF+u233yRJv//+uyRp165d2rZtW54jh7IcddRRatWqVZE+4AJB4NqQ/2v3t3XrViUkJBSaD4h09Pv8X7s/+j0AAOWHKlkZaNCggWJiYvTTTz/l+tnmzZvLNcumTZsUExNT6JaUlFRgO/nN95X15zZt2hQpz3//+1+99dZbOvvssxUTE5PnefIbJZD10Ltx40alpqbq3HPPVd26dbM3Sbr33ntVt25d5hZDuaPf5+3HH3/UiSeeqFq1amnhwoU64IADcvz8iy++0N69e9WjR4/svtyhQwdJ0lVXXaW6devmOz1EFncPy2hloCxwbcgpKSlJcXFxuV6bmpqqjRs3Fvl5Aohk9Puc6PcAAEQGRgKXgapVq+qYY47R/PnzNWHChOzixL///W+lpKTohBNOKLcs4foKWNeuXdWgQQM988wz2VMySNLs2bPVsGFDde3atUh5Zs+erb1792r48OF5/vy0007T4sWL9fHHH6tTp06SQlNELFq0SMccc4wkqWPHjlqyZEmu1/bs2VPnnnuuRo0aVeSv2gHhQr/PbcuWLerdu7fS09O1dOnSPOfs7devX67+/N///ldnnXWWxowZowEDBqh69er5nuPjjz/WunXrcq1WDkQKrg05xcbGql+/fpo7d67++te/Zn8zYN68edq9e7dOOeWUIv42QOSi3+dEvwcAIDJQBC4jEydOVJ8+fXTaaafpoosu0pYtWzRhwgQdfPDB5TpNQWxsbHYxtTRiYmJ022236bLLLlOTJk3Uq1cvvfPOO3ryySf1yCOP5Ph696hRozRz5sw8Vy+eNWuW2rdvn2Nez32NGjVKU6dO1emnn6477rgje2G4devWadq0aZJCi0r06NEjz9cnJibm+zOgrNHv/9fvd+3apb59+2rDhg168skn9d133+m7777LPr5NmzY68MADdfDBB+f4Wqmk7IVpWrdunaM/n3POOWrRooWOPvpo1a5dW5988okmT56sZs2a6bLLLiv17wuUFa4NOZ8JJkyYoK5du2rYsGG69NJLtWnTJl1//fUaNmxYkb62DlQE9Hv6PQAAkYYicBnp3bu3nn76aU2cOFGnnXaaDj30UN13332aNGmSateuHXS8ErnkkkskSffff7+mTJmixMRETZ06VRdffHGO4/bu3au9e/fmev2qVav02Wef6d577833HPHx8Vq8eLGuv/56XXXVVdq5c6eOOuoovfnmmxR3EfHo9//r95s3b9Ynn3wiKVS83d+SJUuK3afbtWunOXPm6KGHHtLOnTvVuHFjnX766Zo4caLq169fzN8MKD9cG3I+E3Ts2FFvvPGGbrjhBg0YMEC1a9fW8OHDdeedd5ZbfqCs0e/p9wAARBor7oqsZuas4loy3377rVq1aqXHH39c5513XtBxAJmZ3L3cJ1OtTNcR+j1KI6g+WhYqU78vCq4NyE+09Hv6fG70e+QlWvo8ACDyUQQuI7t27dLo0aPVu3dvNWjQQBs2bNCUKVO0e/durVmzRjVr1gw6IkAROMzo9wi3aPpgGK39vii4NqA4oqXfV+Y+L9HvUXTR0ucBAJGP6SDKSNWqVfXjjz/q8ssv1y+//KLatWurV69euvvuu3noA6IU/R5AXrg2AJUP/R4AAEQaRgIDlRgjgYHIFk2jg+j3QNFES7+nzwNFEy19HgAQ+cpvaVoAAAAAAAAAQLmjCFzJjBgxQk2bNg06Romkp6frb3/7m9q2bav4+Hg1aNBAffr00ebNm7OPmTFjhsws19axY8fgggMRqKJeC/Lq31nb5MmTg44HRKyK2uelot3/AeRWUfv9ihUrdMEFF6h9+/aqVq2amjdvHnQkAACiAnMCo8I455xztHjxYt100006+uijtW3bNi1btky7d+/OdezcuXNzPPQy9xoQHVauXJlr39SpUzV79mydcsopASQCUNaKc/8HUPEtXrxYy5cvV6dOnWRm+v3334OOBABAVKAIjArhmWee0fz58/XBBx/o6KOPzt5/6qmn5nl8x44ddeihh5ZXPADlpEuXLrn2nXvuuerUqZPatm0bQCIAZam4938AFd8tt9yiW2+9VVJoNPPSpUuDDQQAQJRgOohSWrdunU477TQddNBBio+PV0JCgs4880xlZGRIkn7//XddccUV+tOf/qSaNWuqSZMmGjx4sNatW5ejnaxpDFasWKE///nPqlWrlg4++GDdc889kqTXX39dHTt2VM2aNdWlSxd99tlnOV7fo0cPde/eXS+++GL21yWPOOIIvfXWW4X+Djt27NDYsWPVvHlzxcbGqmXLlpo8ebL2Xcxj+/btuvLKK5WQkKC4uDg1atRIvXv3zvV7lJVHHnlEycnJOT4AApGEa0H5XAv2t2LFCm3YsEHDhw8P5PyovOjz3P9R+dDvy6ffV6nCR1QAAMoCI4FLaeDAgapTp44eeeQRNWjQQD/88INee+217AepP/74Q2lpaZowYYIOPvhg/fbbb5o1a5a6dOmiL774Qo0aNcrR3gUXXKALLrhAl112mZ5//nmNHTtW27Zt06uvvqqbbrpJNWrU0PXXX5/9QFm1atXs165fv16jR4/WxIkTVbt2bd13330aOHCgVq1ale8IufT0dPXr109r167VLbfcovbt2+v999/Xrbfeqq1bt2rKlCmSpNGjR+ull17SnXfeqcMOO0xbtmzRihUr9NtvvxX497N3714VZWXoatXyfyumpaXpww8/1MUXX6yxY8fqySef1O+//66jjjpKd911l3r27JnrNd27d9fPP/+sgw46SIMHD9add96punXrFpoDKCmuBWV/LcjLzJkzFRsbq7POOqtYrwNKiz4fmfd/oCzR74O51wMAgDBx92JtoZfA3f3nn392Sf7SSy8V+TXp6em+Z88eP+yww/xvf/tb9v7p06e7JL/tttuy96WlpflBBx3ksbGx/s0332Tvnz9/vkvy9957L3tfcnKyS/IPPvgge9+OHTu8YcOGPnTo0Ox9w4cP90MOOST7z7NmzXJJvmzZshw5J02a5LGxsb5lyxZ3d2/btq1fe+21Rf49syQmJrqkQreUlJR82/jxxx9dkh9wwAHeoUMHX7Bggb/22muenJzssbGx/uWXX2Yf+8Ybb/hf//pXf+2113zx4sU+adIkr1Wrlnfo0MFTU1OLnT/aZfbnYl8HSrtF23WEa0HhwnEt2N+uXbu8du3aftpppxU7T0URVB8tiy2a+j19vnDlff+PJtHS76Opz7vT74uiLO71w4cP98TExGJnqUiipc+zsbGxsUX+xj/DlkL9+vXVsmVL3XDDDfrpp5/Uo0ePPOehXbBgge6991598cUX2rp1a/b+L7/8Mtexffv2zf7/1apVU1JSknbs2KGEhITs/Ycffrgk6dtvv1W3bt2y9yckJOjYY4/N/nONGjU0cOBALV68ON/f4Y033lBiYqK6deum9PT07P39+vXTX//6V33wwQc6+eSTdcwxx2jGjBlq2LCh+vTpoyOPPDLHaIT8vPLKK0VauKVJkyb5/izrK3ZpaWl6/fXXs4894YQTsr/CNn36dEmhv799/w579eqlI444QoMHD9acOXM0YsSIQrMAxcW1oHyuBft78cUX9dtvv9GvUe7o85F3/wfKGv0+mHs9AAAIH4rApWBmevvtt3Xrrbdq7Nix2rp1q1q2bKlx48bpoosukhSa0+v000/XZZddpptvvln169dXlSpVdOGFFyo1NTVXm/tPWRAbG6vY2Nhc+yTlev1BBx2Uq71GjRrpxx9/zPd3+Omnn/TNN98oJiYmz5//8ssvkqSHHnpIjRo10j/+8Q/ddNNNqlevnkaMGKHbb79d1atXz7f9Nm3ayL10XwurW7euzExt2rTJ8dBYq1Ytde3aNdc8afsbNGiQatasqY8++ohiEcoE14LyuRbsb9asWWrYsKH69+9f5NcA4UCfrxj3fyCc6PfB3OsBAED4cAcupZYtW+qpp55SRkaGPv30U/3973/XxRdfrBYtWqhPnz565plnlJycrIcffjjH67IessLpp59+yrVv8+bNaty4cb6vqV+/vlq0aKHnn38+z5+3aNFCUugD1+TJkzV58mSlpKToueee080336z4+Hjdcccd+baflJSkb775ptDsKSkpat68eZ4/q169ulq2bCkzy/Uzd8/zoToveb0eCBeuBWV/LdjXf//7X7311lu64oor8v0wC5Ql+nzFuf8D4UK/L997PQAACC+KwGFSpUoVHXXUUXrooYc0a9Ysff755+rTp4927typuLi4HMe+8cYb+v7778Oe4dtvv9VHH32kY445RpK0c+dOvfrqq+rVq1e+r+nXr5/mz5+vWrVqZX/drDAtWrTQDTfcoOeff16ff/55gceG62thp512mh566CF9//33atq0qaTQ4hsrV67UwIEDC3ztiy++qB07dqhz586F5gBKi2tB3sL9FdHZs2dr7969Gj58eJGOB8oKfT5vkXD/B8oK/T5vTAcBAEBkowhcCv/3f/+nq6++WkOHDtWhhx6qvXv3asaMGYqJiclesbp///66+OKLNWnSJHXv3l2rV6/WXXfdpUMOOSTseRo1aqShQ4dq0qRJql27tu69915t3bpVN998c76vOeecczR9+nSdeOKJuu6669ShQwft2bNH69ev18svv6xXX31VcXFx6tq1qwYNGqT27durVq1aWrZsmVavXq1Ro0YVmKl9+/Zh+d3GjBmjp556SieffLL++te/KjY2Vvfcc4927dqlcePGZR/Xp08f9ezZU+3bt1d8fLxWrFih++67T0cddZSGDh0alizA/rgWlN+1IMusWbPUvn17HXnkkWFtFygK+nzk3f+Bska/L79+//PPP2vZsmWSpG+++UY7d+7UvHnzJEnHHHOMEhMTw3IeAAAqG4rApXDwwQcrISFB999/v77//nvFx8erffv2eu2119SxY0dJ0oUXXqgffvhBjz/+uO666y61b99ezz77rCZNmhT2PIceeqhGjx6t8ePHa+PGjWrVqpVefvlltWvXLt/XxMTE6M0339TkyZP1j3/8QykpKapVq5YOPfRQnXzyydlfsz7hhBP0/PPPa/LkyUpPT1dSUpL+/ve/6/LLLw/775GXRo0aafny5bruuut0wQUXKCMjQ926ddPy5ctzjGRo27atnnrqKX3//ffavXu3EhISdNlll+mWW27JNccaEC5cC8rvWiBJq1at0meffaZ777233M4J7Is+H3n3f6Cs0e/Lr9+vWbNGZ555Zo59WX+ePn06a3wAAFBCVpTJ+3O8wMyL+xqUvR49eig9PV0rVqwIOgoqEDOTu5f7ZMlcR8oO14LoElQfLQv0+7JBn48+0dLv6fNlh34fXaKlzwMAIl+VoAMAAAAAAAAAAMoORWAAAAAAAAAAiGJMBwFUYkwHAUS2aPqKKP0eKJpo6ff0eaBooqXPAwAiHyOBAQAAAAAAACCKUQQGAAAAAAAAgCgW0UXgpUuXysy0aNGioKOUyIgRI2RmMjNdeOGF2fv/+OMPjRkzRj179lTt2rVlZlq6dGmebYwfP159+/ZVgwYNZGaaMWNGqTI1b948O9O+24svvlii9mbOnKkzzjgju90RI0bke+wLL7ygjh07Kj4+XomJibr99tuVkZFR7HPu3btX9957r3r16qVGjRrpgAMO0NFHH63p06erpF87fPzxx3XyySfrkEMOUc2aNdWuXTvdd999SktLK/B1/fr1k5np5ptvLtF5i/pe+Oabb3TqqacqMTFR1atXV4MGDdSjRw+98cYbOY77/vvvc/x3rah9J5yi9ToiSb/++qtGjhyp+vXrq2bNmurdu7c+++yzUp1v7dq1OuOMM1S/fn1Vr15drVu31sMPP1yitjIyMnTHHXeoefPmio+PV4cOHTR//vxS5XvsscfUunVrxcXFqXXr1nr00UdL3NYrr7yis88+W61bt1aVKlXUo0ePUmWTpOXLl6tr166qXr26GjdurNGjR2vXrl05jrnwwguz/5t279691OdETvT5otu1a5euu+46NW7cWNWrV1fXrl21fPnyErdXFn3+119/1dVXX61mzZopLi5OTZs21ahRo0rcXrieRbLQ5yMD/b7oKkK/D+e9Xgpvv1+xYoUuuOACtW/fXtWqVVPz5s3zPI5+DwCIRBFdBI4GRx55pFauXKmbbrope98vv/yif/7zn6pSpYpOOumkAl//4IMPaufOnRo4cGDYMvXt21crV67MsSUnJ5eordmzZ2v9+vXq3bu36tSpk+9xCxcu1BlnnKHOnTtr4cKFuvrqq3X77bdr/PjxxT7nrl27dNttt+nwww/XY489phdffFE9evTQqFGjdOONN5bo95g4caIaNmyov/3tb3r11Vc1dOhQjR8/Xuedd16+r5kzZ45Wr15dovNlKep7Yfv27WrQoIFuv/12vf766/rnP/+pWrVqqX///jkK+AcddJBWrlypqVOnlioXIkte15GMjAwNHDhQixYt0tSpUzV//nylpaWpZ8+e+uGHH0p0ng8//FCdO3dWWlqannzySb3++usaPXq00tPTS9TeTTfdpNtuu01XXXWVFi5cqC5duujMM8/UwoULS9Teo48+qksvvVRnnnmm3njjDZ155pm67LLL9Nhjj5WovRdffFGffvqpjj32WCUkJJSojX19+umn6tu3rxo3bqxXX31Vt912m6ZPn66RI0fmOO6mm27SypUrdeSRR5b6nIhO5dXnL7jgAj355JO67bbb9Oqrr6px48bq27evPv300xK1F+4+/+uvv+q4447TO++8ozvvvFNvvfWW7rnnHtWqVatE7YXzWUSizyO86Pch4b7Xh7vfL168WMuXL1ebNm3Upk2bfI+j3wMAIpK7F2sLvaR8LFmyxCX522+/XW7nDKfhw4d7cnJyrv0ZGRnZ/z/rd1yyZEmebezdu9fd3VNSUlyST58+vVSZEhMT/ZxzzilVG/vKypfV9vDhw/M8rkOHDt6rV68c+yZOnOixsbG+efPmYp0zPT3df/nll1z7R44c6XFxcb5z585itefu/tNPP+XaN2nSJJfkGzduzPWzrVu3eqNGjfyZZ55xST5+/Phin9O9eO+F/aWlpXnTpk194MCBuX5W1L6T2Z+LfR0o7cZ1pOjyu44sWLDAJfny5cuz923bts3r1q3r11xzTbHPs3fvXj/88MN98ODBpYmbbfPmzR4bG+uTJk3Ksb9Xr17esWPHYre3Z88eb9CggY8cOTLH/gsuuMAbNGjgaWlpxW5z3+tXcnJynn/PxXHqqad6q1atcmSZOXOmS/JVq1blOj45OdmPO+64AtsMqo+WxVZe/Z4+XzSffPKJS/JZs2Zl70tLS/NWrVqV6DoQ7j7v7v6Xv/zFExIS/LfffivR6/cXzmcR97Lp8+7R0++51xcd/T6kLO714e73+z47DB8+3BMTEws8vrLd69nY2NjYInsL60jgZ555RmamL774ItfPevbsqeOOOy678Dx27Fh17NhRBx54oBo2bKjevXvro48+KvQczZs314QJE3Ltz2uqhKVLl6pXr1464IADskdNrl27tkS/WziZFX3x1ypVInuwdlHyffvtt1q9erXOPvvsHPvPO+887dmzR2+++Waxzlm1alXVq1cv1/5OnTpp9+7d2rJlS7Hak6SGDRvm2Z4UmmJhf2PHjlXbtm111llnFftc+yrOe2F/1apVU506dRQTE1OqDJGG60jRvPzyy2ratKmOP/747H21a9fWKaecopdffrnY7S1ZskRffvmlRo8eHZZ8b7zxhvbs2ZOr35977rn69NNP9d133xWrvZUrV2rLli15Xke2bNmilStXFjtjOK+ve/bs0RtvvKEhQ4aoWrVq2fuHDBmi2NhYvfLKK2E7V7ShzxdNuPv8K6+8opiYGJ1xxhnZ+6pVq6Zhw4Zp4cKFhU6HtL9w9/nt27frqaee0oUXXqgDDzywWK/NS7ifRejzpUO/L5rK1u/Dfa8Pd7+XIv+zGQAABQnrXWzw4ME64IAD9NRTT+XY//3332v58uXZX63PyMjQjz/+qOuuu04vvfSSZs2apaSkJHXv3l2ff/55WLK89tpr6t27tw488EDNnj1bs2fP1tatW3X88ccX+vWpjIwMpaenF7q5l2z+2aC98sorqlGjhuLi4tS1a9cy/6CyZs0aSVLbtm1z7G/RooVq1KgRtofsd999V3Xq1FHjxo3D1l6VKlXUqlWrHPtXrFihWbNmadq0aWE5T3FkvTc3b96sO++8U+vWrdOVV15Z7jnKEteRolmzZk2uPiWF+llKSkquOSkL895770mSUlNT1blzZ8XExOiggw7SVVddVey2svLFx8erZcuWufJJKna/z+86UtL2wm3Dhg3avXt3rnzx8fFKSkoKPF8ko88XTbj7/Jo1a9SyZUtVr149V3u7d+/Wxo0bi91eOPv8J598otTUVDVq1EhnnHGGqlevrlq1amnw4MFKSUkpVltZ+fbNk6WkzyL0+dKh3xdNZev34b7Xl9dnEAAAKoqwFoFr1KihP//5z3r66adzPOw8/fTTqlatmoYMGSIpNJLzqaee0nnnnaeePXuqb9++mjp1qk444QQ98cQTYcly1VVXKTk5WS+++KJOPfVUDR48OHsRrfvvv7/A144cOVIxMTGFbjNnzgxL1vJ0yimn6KGHHtKbb76p2bNnKzY2VoMGDdKzzz5bZufcunWrJOU5Z3DdunX166+/lvocixYt0rPPPqsxY8bkGJFTUp9//rkeeOABjRw5Uo0aNcren5aWposvvlhjxoxR69atS32e4ho7dqxiYmJ08MEH66677tJzzz2nnj17lnuOssR1pGi2bt2aZ5+qV6+e3F3btm0rVnv/+c9/JElDhw5V37599fbbb+v666/XE088oUsuuaRE+bIWO9w/n6Ri9/v8riMlbS/cCrrO1atXL/B8kYw+XzTh7vMFtSeVrI+Gs89nXZPGjBmjqlWr6uWXX9Zjjz2mVatWqW/fvtqzZ0+x80nhexahz5cO/b5oKlu/D/e9vjw+gwAAUJGUvlq2n/POO08zZ87UsmXLsldaf/rppzVgwIAcX+FftmyZbr/9dq1evVo///xz9v6qVauWOsPXX3+tjRs3avz48TkWNKpVq5a6deumd999t8DXT5gwQVdccUWh52nRokWps5a3hx56KMef//znP6tLly668cYbNWzYsDI5Z9bDfV5TH4RjNPWXX36poUOHqlevXho3blyp29u8ebNOPfVUJSUl5Xr4nzJlinbt2lXixSRK65prrtGwYcP03//+V7NmzdKwYcM0b968sC4cGAm4jhTO3cPap7JWyT733HM1adIkSVKPHj2UkZGhG2+8URMmTChW1nDnK+g6EgnK+joX7ejzhSuLPhXJ7WVdk1q0aKFnn302u+1DDz1UXbp00Zw5czR8+PBi5ZPC10fp86VHvy9cpPfTSL/X008BAMgp7EXgnj176pBDDtFTTz2lHj16aPXq1frss880ceLE7GOyVlMePHiwnnjiCTVq1EhVq1bVLbfcUqKvHe/vp59+kiSNGjVKo0aNyvXz/b+ytL+EhAQ1bdq00POE4+EzaFWrVtWZZ56pcePG6eeff85zbtzSynqQz/rX+H1t27Ytz/l9i+rbb7/VSSedpJYtW2rBggWlHgW8bds29e3bV+6ut956SwcccECOc91xxx164okntHv3bu3evTv7Z7t379a2bdt04IEHlulcYU2bNs1+bw4cOFA9evTQmDFjoq4IzHWkcPXq1cuzT23dulVmlueol4LUr19fktSnT58c+0866STdcMMNWrNmTbE+xNarV0/btm3L9QExK3Nx+/2+15GDDz44e3/WKJ7SXEfCoaDr3NatW5WQkFDekSoU+nzhwt3n69Wrl+d8naXpo+Hs81nXpN69e+dor3PnzjrwwAP12WefFTvfvnn2VZJnEfp86dHvC1fZ+n247/Vl+RkEAICKKOzVqipVquicc87R/PnzlZqaqqeeekp169bVgAEDso+ZN2+emjRpojlz5mjQoEHq3LmzOnXqpO3btxfafnx8fI7im5T7q0FZHxzuuusuffTRR7m2F198scBzRPN0EHkp6xF2+c3jtWnTJu3cuVNt2rQpUbs//vijTjzxRNWqVUsLFy7MUbAtie3bt6t///7avHmz3n777VxzC2/cuFGpqak699xzVbdu3exNku69917VrVu33OcW69Spk9avX1+u5ywPXEcK17Zt2zzfb2vXrlWLFi1yzfdXlPak3NeBrOtDampqsdtLTU3NNXdnVubi9vv8riMlbS/ckpKSFBcXlytfamqqNm7cGHi+SEefL1xZ9Pms+9r+7eU1x2dR2iuLPp/fs0lJrkn75slS0mcR+nzp0e8LV1n7fbju9WX1GQQAgIqqTIYsnnfeefrtt9+0YMECzZkzR0OHDlVsbGz2z3fu3Km4uLgcD/Zr1qwp0oqviYmJuUZ/7L86buvWrdW8eXOtWbNGnTp1yrW1b9++wHNMmDAhzwfB/bdTTjmlKH8dES09PV1z585VixYt1KBBgzI5R0JCgjp06KBnnnkmx/6sOYn79u1b7Da3bNmi3r17Kz09XW+//Xaps+/atUsDBw7UunXr9NZbbykpKSnXMR07dtSSJUtybVLoK/RLliwp1ylCMjIytGLFijyzRgOuIwUbNGiQvvvuO61YsSJ73++//65XXnlFgwYNKnZ7/fv3V1xcXPY8iFnefPNNmZk6depUrPb69eun2NjYPPt9x44d1axZs2K117VrVzVo0CDP9ho2bKiuXbsWq71wi42NVb9+/TR37twcXymeN2+edu/eHRX3i7JGny9YuPv8oEGDlJaWpnnz5mXvS09P13PPPad+/fopJiamWO2Fu883bdpUnTp10ltvvZXja9srV67U77//rmOOOaZY7YX7WYQ+Hx70+4JVtn4f7nt9WXwGAQCgQnP3Ym2hlxSuY8eOfsghh7gkf++993L87K233nJJfuWVV/rixYv9H//4hzdp0sRbtmzpycnJ2cctWbLEJfnbb7+dve/JJ5/0KlWq+IQJE3zRokV+9913e7t27VyST58+Pfu41157zatVq+ZDhgzx+fPn+9KlS/3ZZ5/1q666yh944IEi/Q6lNXz48By/z75ef/11nzt3rk+YMMEl+YQJE3zu3Lm+dOnSHMctXbrU586d69OmTXNJfvnll/vcuXP99ddfz3FccnKyJyYmFpjnmWee8aFDh/rMmTP9nXfe8Tlz5vhxxx3nZubPP/98ruxF+W+9Zs0anzt3rs+dO9cbNmzoPXr0yP7zjh07so977bXX3Mz8kksu8SVLlvj999/vcXFxfsMNN+Rob/r06S7JlyxZku85d+7c6UcddZTHxcX5008/7StXrsyx/fbbb9nHZr2H9n1v5KV///5uZv7ggw/mau+nn34q8LWSfPz48XnuHz58eIGvdS/ae+HWW2/1K6+80p999tns93KfPn3czHzOnDm52syr7+SX3Yt5DQjHxnWk6PK7juzdu9e7du3qCQkJ/uyzz/obb7zhycnJXr9+ff/+++9zHJuYmJjvtWhfEyZM8KpVq/qNN97ob7/9tt91110eHx/vo0aNynFcUa437u7jxo3zuLg4v//++33JkiV+ySWXuJnlun4V9XrzyCOPuJn5Lbfc4kuWLPFbbrnFzcwfffTRHMfdeuutLslTUlIKbG/Tpk3Z16s2bdp4mzZtsv+8b78vynXJ3X3VqlUeHx/vp59+ui9atMifeOIJr1u3rg8bNizP45OTk/24444rsM2g+mhZbEX5b0yfL98+P3ToUK9bt64/8cQTvmjRIj/99NM9Li7OV61aleO4oPr8okWLvGrVqn766af7woULfcaMGd60aVNv27at79q1K/u4ovb5cD6LuJdNn3ePnn7Pvb7o6Pf/E+57fbj7/U8//ZT9rNCjRw9v2LBh9p83bdqU6/jKdq9nY2NjY4vsrfgvKOID3X333eeSvGXLlnn+fNq0ad6yZUuPi4vzdu3a+XPPPZfrASivB7q9e/f6xIkTPSEhwatXr+4nnXSSr1+/Ps9C3/vvv+8DBgzwOnXqeFxcnCcmJvqwYcN85cqVRfodSqugInBiYqJLyrXtf3xycnKex+3/UNapUyfv3LlzgXlWrlzpPXv29IMOOsirVavmtWvX9t69e/tbb72V69gzzjjDGzVqVOjvmPUAlte2/0PZ/Pnz/YgjjvDY2Fhv1qyZT5o0ydPT03Mc8/DDD7skX7t2bb7nTElJyfec+z+8vfrqqy7JFy5cWODvUVB7hRWQ8yoCb9++3SX5uHHjCnyte9HeCy+99JL37NnTGzZs6LGxsZ6QkOCnnHKKr1ixIs82o6UIzHWk4OvIL7/84iNGjPC6det69erV/cQTT/TVq1fnOq5BgwY+dOjQQs+VkZHh9913nyclJXlMTIwnJCT4rbfe6mlpaTmOK8r1xt09PT3db7vtNm/WrJnHxsZ6+/btfd68ebmOK+r1xj304fCwww7z2NhYP+yww3zatGm5jhkzZozHxcX51q1bC2wr6wNfYdeRolyXsixdutS7dOnicXFxftBBB/k111zjO3fuzPPYyvbBsCj9nj5fvn1+586dfu2113qjRo08Li7OO3funOsfo92D7fOvv/66d+rUyePi4rxevXp+/vnn++bNm3McU9Q+7x6+Z5Es4e7z7tHT77nXFx39Pqdw3uvdw9vvs95rRf3MUNnu9WxsbGxskb0V/wVFfKBD6IHuhBNO8LS0NN+7d2+ZnWf79u0eExPjzz33XNjabNKkiU+ZMiVs7RXVWWed5f379w9bezfeeKO3bdvWMzIywtZmUbz55pseGxvr3333Xbme1909LS3NFy1aFBVFYJT+OvLVV1+5JP/ggw/CkqciXG+6du3ql156adjaC/d1ae/evZ6WluYnnHBCpfpgSL8vGvp88UVTn3ePnn5Pny86+n3xRVO/j5Y+z8bGxsYW+VuZzAmM/1m+fLliYmJ00UUXldk53n//fSUlJemMM84IS3tff/21UlNTddlll4WlveJYvny5br755rC1t2zZMt10001ltuhdQecdPnx4kVaMDqfvv/9eMTEx6t27d7meF2WrNNeRZcuWqU+fPjr22GPDkiXSrzc7d+7U6tWrNW7cuLC0J4X/unTRRRcpJiZGy5cvD1ubiC70+aKjzyNa0O+Ljn4PAEDJmLsX7wVmXtzXVFabNm3Sli1bJEkNGzZUYmJiwIkQ7dLS0rR69ersP7du3VoHHHBAvsebmdy9fCvk4jpSHFxHos8333yjn3/+WZJ0wAEHqHXr1vkeG1QfLQv0+6Khz0ef4vR5KXr6PX2+6Oj30aey3usBAJGNIjBQiVEEBiJbNH0wpN8DRRMt/Z4+DxRNtPR5AEDkYzoIAAAAAAAAAIhiFIEBAAAAAAAAIIpRBAYAAAAAAACAKEYRGAAAAAAAAACiWLXiviA+Pn6zmTUqizAAyld8fPzmoM7LdQQoXFB9tCzQ74GiiZZ+T58HiiZa+jwAIPIZq/YCAAAAAAAAQPRiOggAAAAAAAAAiGIUgQEAAAAAAAAgilEEBgAAAAAAAIAoRhEYAAAAAAAAAKIYRWAAAAAAAAAAiGIUgQEAAAAAAAAgilEEBgAAAAAAAIAoRhEYAAAAAAAAAKIYRWAAAAAAAAAAiGIUgQEAAAAAAAAgilEEBgAAAAAAAIAoRhEYAAAAAAAAAKIYRWAAAAAAAAAAiGIUgQEAAAAAAAAgilEEBgAAAAAAAIAoRhEYAAAAAAAAAKIYRWAAAAAAAAAAiGIUgQEAAAAAAAAgilEEBgAAAAAAAIAoRhEYAAAAAAAAAKIYRWAAAAAAAAAAiGIUgQEAAAAAAAAgilEEBgAAAAAAAIAoRhEYAAAAAAAAAKIYRWAAAAAAAAAAiGIUgQEAAAAAAAAgilEEBgAAAAAAAIAoRhEYAAAAAAAAAKIYRWAAAAAAAAAAiGIUgQEAAAAAAAAgilEEBgAAAAAAAIAoRhEYAAAAAAAAAKIYRWAAAAAAAAAAiGIUgQEAAAAAAAAgilEEBgAAAAAAAIAoRhEYAAAAAAAAAKIYRWAAAAAAAAAAiGIUgQEAAAAAAAAgilEEBgAAAAAAAIAoRhEYAAAAAAAAAKIYRWAAAAAAAAAAiGIUgQEAAAAAAAAgilEEBgAAAAAAAIAoRhEYAAAAAAAAAKIYRWAAAAAAAAAAiGIUgQEAAAAAAAAgilEEBgAAAAAAAIAoRhEYAAAAAAAAAKIYRWAAAAAAAAAAiGIUgQEAAAAAAAAgilEEBgAAAAAAAIAoRhEYAAAAAAAAAKIYRWAAAAAAAAAAiGIUgQEAAAAAAAAgilEEBgAAAAAAAIAoRhEYAAAAAAAAAKIYRWAAAAAAAAAAiGIUgQEAAAAAAAAgilEEBgAAAAAAAIAoRhEYAAAAAAAAAKIYRWAAAAAAAAAAiGIUgQEAAAAAAAAgilEEBgAAAAAAAIAoRhEYAAAAAAAAAKIYRWAAAAAAAAAAiGIUgQEAAAAAAAAgilEEBgAAAAAAAIAoRhEYAAAAAAAAAKIYRWAAAAAAAAAAiGIUgQEAAAAAAAAgilEEBgAAAAAAAIAoRhEYAAAAAAAAAKIYRWAAAAAAAAAAiGIUgQEAAAAAAAAgilEEBgAAAAAAAIAoRhEYAAAAAAAAAKIYRWAAAAAAAAAAiGIUgQEAAAAAAAAgilEEBgAAAAAAAIAoRhEYAAAAAAAAAKIYRWAAAAAAAAAAiGIUgQEAAAAAAAAgilEEBgAAAAAAAIAoRhEYAAAAAAAAAKIYRWAAAAAAAAAAiGIUgQEAAAAAAAAgilEEBgAAAAAAAIAoRhEYAAAAAAAAAKIYRWAAAAAAAAAAiGIUgQEAAAAAAAAgilEEBgAAAAAAAIAoRhEYAAAAAAAAAKIYRWAAAAAAAAAAiGIUgQEAAAAAAAAgilEEBgAAAAAAAIAoRhEYAAAAAAAAAKIYRWAAAAAAAAAAiGIUgQEAAAAAAAAgilEEBgAAAAAAAIAoRhEYAAAAAAAAAKIYRWAAAAAAAAAAiGIUgQEAAAAAAAAgilEEBgAAAAAAAIAoRhEYAAAAAAAAAKIYRWAAAAAAAAAAiGIUgQEAAAAAAAAgilEEBgAAAAAAAIAoRhEYAAAAAAAAAKIYRWAAAAAAAAAAiGIUgQEAAAAAAAAgiv0/fChzUNGTGbMAAAAASUVORK5CYII=\n",
      "text/plain": [
       "<Figure size 1800x1440 with 1 Axes>"
      ]
     },
     "metadata": {
      "needs_background": "light"
     },
     "output_type": "display_data"
    }
   ],
   "source": [
    "plt.figure(figsize=(25,20))\n",
    "plot_tree(dtc)\n",
    "plt.show()"
   ]
  },
  {
   "cell_type": "markdown",
   "id": "0f06fc29",
   "metadata": {},
   "source": [
    "# Conclusion\n",
    "-----------------------------\n",
    "\n",
    "# Key Findings From Exploration and Modeling"
   ]
  },
  {
   "cell_type": "markdown",
   "id": "a1633b71",
   "metadata": {},
   "source": []
  },
  {
   "cell_type": "markdown",
   "id": "d99d1b3f",
   "metadata": {},
   "source": [
    "# Recommendation"
   ]
  },
  {
   "cell_type": "markdown",
   "id": "29277ce7",
   "metadata": {},
   "source": [
    "* tbd\n",
    "* tbd\n",
    "* tbd"
   ]
  },
  {
   "cell_type": "markdown",
   "id": "c1a15d0e",
   "metadata": {},
   "source": [
    "# Next Step"
   ]
  },
  {
   "cell_type": "markdown",
   "id": "9d25c58d",
   "metadata": {},
   "source": [
    "* Acquire a larger random sample of github repositories for increased accuracy on model\n",
    "\n",
    "\n",
    "* Identify different features to further access README file\n",
    "    * graphic or visualization in the README\n",
    "    * Coding example in the README\n",
    "\n",
    "\n",
    "* (THIRD THING)"
   ]
  },
  {
   "cell_type": "code",
   "execution_count": null,
   "id": "c1df8108",
   "metadata": {},
   "outputs": [],
   "source": []
  }
 ],
 "metadata": {
  "kernelspec": {
   "display_name": "Python 3 (ipykernel)",
   "language": "python",
   "name": "python3"
  },
  "language_info": {
   "codemirror_mode": {
    "name": "ipython",
    "version": 3
   },
   "file_extension": ".py",
   "mimetype": "text/x-python",
   "name": "python",
   "nbconvert_exporter": "python",
   "pygments_lexer": "ipython3",
   "version": "3.9.7"
  }
 },
 "nbformat": 4,
 "nbformat_minor": 5
}
