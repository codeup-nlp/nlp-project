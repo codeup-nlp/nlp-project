{
 "cells": [
  {
   "cell_type": "markdown",
   "id": "3f98939d",
   "metadata": {},
   "source": [
    "# Import"
   ]
  },
  {
   "cell_type": "code",
   "execution_count": 28,
   "id": "a0e7dc96",
   "metadata": {},
   "outputs": [],
   "source": [
    "import pandas as pd\n",
    "import numpy as np\n",
    "\n",
    "import nltk\n",
    "import re\n",
    "import os\n",
    "import json\n",
    "from typing import Dict, List, Optional, Union, cast\n",
    "import requests\n",
    "from pprint import pprint\n",
    "from sklearn.feature_extraction.text import CountVectorizer\n",
    "\n",
    "import matplotlib.pyplot as plt\n",
    "import seaborn as sns\n",
    "\n",
    "from env import github_token, github_username\n",
    "import base_acquire\n",
    "import wrangle\n",
    "\n",
    "# Make sure we can see the full scale of the data\n",
    "pd.set_option('display.max_columns', None)\n",
    "pd.set_option('display.max_rows', None)\n",
    "\n",
    "# plotting defaults\n",
    "plt.rc('figure', figsize=(11, 5))\n",
    "plt.style.use('seaborn-whitegrid')\n",
    "plt.rc('font', size=16)"
   ]
  },
  {
   "cell_type": "code",
   "execution_count": null,
<<<<<<< HEAD
   "id": "74e46daa",
=======
   "id": "1c13bb9a",
>>>>>>> 40eb7f615516fd432eab991eeb2ee4ee4a4c6b8c
   "metadata": {},
   "outputs": [],
   "source": [
    "\n",
    "  "
   ]
  },
  {
   "cell_type": "code",
   "execution_count": 2,
   "id": "7cf24259",
   "metadata": {},
   "outputs": [],
   "source": [
    "def clean(text: str) -> list:\n",
    "    'A simple function to cleanup text data'\n",
    "    wnl = nltk.stem.WordNetLemmatizer()\n",
    "    stopwords = set(nltk.corpus.stopwords.words('english'))\n",
    "    text = (text.encode('ascii', 'ignore')\n",
    "             .decode('utf-8', 'ignore')\n",
    "             .lower())\n",
    "    words = re.sub(r'[^\\w\\s]', '', text).split() # tokenization\n",
    "    return [wnl.lemmatize(word) for word in words if word not in stopwords]"
   ]
  },
  {
   "cell_type": "code",
   "execution_count": 3,
   "id": "b2733e2b",
   "metadata": {},
   "outputs": [
    {
     "data": {
      "text/html": [
       "<div>\n",
       "<style scoped>\n",
       "    .dataframe tbody tr th:only-of-type {\n",
       "        vertical-align: middle;\n",
       "    }\n",
       "\n",
       "    .dataframe tbody tr th {\n",
       "        vertical-align: top;\n",
       "    }\n",
       "\n",
       "    .dataframe thead th {\n",
       "        text-align: right;\n",
       "    }\n",
       "</style>\n",
       "<table border=\"1\" class=\"dataframe\">\n",
       "  <thead>\n",
       "    <tr style=\"text-align: right;\">\n",
       "      <th></th>\n",
       "      <th>repo</th>\n",
       "      <th>language</th>\n",
       "      <th>readme_contents</th>\n",
       "    </tr>\n",
       "  </thead>\n",
       "  <tbody>\n",
       "    <tr>\n",
       "      <th>0</th>\n",
       "      <td>ccxt/ccxt</td>\n",
       "      <td>JavaScript</td>\n",
       "      <td># CCXT – CryptoCurrency eXchange Trading Libra...</td>\n",
       "    </tr>\n",
       "    <tr>\n",
       "      <th>1</th>\n",
       "      <td>openssl/openssl</td>\n",
       "      <td>C</td>\n",
       "      <td>Engines\\n=======\\n\\nDeprecation Note\\n--------...</td>\n",
       "    </tr>\n",
       "    <tr>\n",
       "      <th>2</th>\n",
       "      <td>HelloZeroNet/ZeroNet</td>\n",
       "      <td>JavaScript</td>\n",
       "      <td># ZeroNet [![Build Status](https://travis-ci.o...</td>\n",
       "    </tr>\n",
       "    <tr>\n",
       "      <th>3</th>\n",
       "      <td>freqtrade/freqtrade</td>\n",
       "      <td>Python</td>\n",
       "      <td># ![freqtrade](https://raw.githubusercontent.c...</td>\n",
       "    </tr>\n",
       "    <tr>\n",
       "      <th>4</th>\n",
       "      <td>amark/gun</td>\n",
       "      <td>JavaScript</td>\n",
       "      <td>&lt;p id=\"readme\"&gt;&lt;a href=\"https://gun.eco/\"&gt;&lt;img...</td>\n",
       "    </tr>\n",
       "  </tbody>\n",
       "</table>\n",
       "</div>"
      ],
      "text/plain": [
       "                   repo    language  \\\n",
       "0             ccxt/ccxt  JavaScript   \n",
       "1       openssl/openssl           C   \n",
       "2  HelloZeroNet/ZeroNet  JavaScript   \n",
       "3   freqtrade/freqtrade      Python   \n",
       "4             amark/gun  JavaScript   \n",
       "\n",
       "                                     readme_contents  \n",
       "0  # CCXT – CryptoCurrency eXchange Trading Libra...  \n",
       "1  Engines\\n=======\\n\\nDeprecation Note\\n--------...  \n",
       "2  # ZeroNet [![Build Status](https://travis-ci.o...  \n",
       "3  # ![freqtrade](https://raw.githubusercontent.c...  \n",
       "4  <p id=\"readme\"><a href=\"https://gun.eco/\"><img...  "
      ]
     },
     "execution_count": 3,
     "metadata": {},
     "output_type": "execute_result"
    }
   ],
   "source": [
    "df = pd.DataFrame(base_acquire.scrape_github_data())\n",
    "df.head()"
   ]
  },
  {
   "cell_type": "code",
<<<<<<< HEAD
   "execution_count": 4,
   "id": "df890fd7",
=======
   "execution_count": 49,
   "id": "83b42812",
>>>>>>> 40eb7f615516fd432eab991eeb2ee4ee4a4c6b8c
   "metadata": {},
   "outputs": [
    {
     "data": {
      "text/html": [
       "<div>\n",
       "<style scoped>\n",
       "    .dataframe tbody tr th:only-of-type {\n",
       "        vertical-align: middle;\n",
       "    }\n",
       "\n",
       "    .dataframe tbody tr th {\n",
       "        vertical-align: top;\n",
       "    }\n",
       "\n",
       "    .dataframe thead th {\n",
       "        text-align: right;\n",
       "    }\n",
       "</style>\n",
       "<table border=\"1\" class=\"dataframe\">\n",
       "  <thead>\n",
       "    <tr style=\"text-align: right;\">\n",
       "      <th></th>\n",
       "      <th>repo</th>\n",
       "      <th>language</th>\n",
       "      <th>readme_contents</th>\n",
       "      <th>clean_text</th>\n",
<<<<<<< HEAD
=======
       "      <th>text_length</th>\n",
>>>>>>> 40eb7f615516fd432eab991eeb2ee4ee4a4c6b8c
       "    </tr>\n",
       "  </thead>\n",
       "  <tbody>\n",
       "    <tr>\n",
       "      <th>0</th>\n",
       "      <td>ccxt/ccxt</td>\n",
<<<<<<< HEAD
       "      <td>JavaScript</td>\n",
       "      <td># CCXT – CryptoCurrency eXchange Trading Libra...</td>\n",
       "      <td>ccxt cryptocurrency exchange trading library b...</td>\n",
=======
       "      <td>javascript</td>\n",
       "      <td># CCXT – CryptoCurrency eXchange Trading Libra...</td>\n",
       "      <td>ccxt cryptocurrency exchange trading library b...</td>\n",
       "      <td>53807</td>\n",
>>>>>>> 40eb7f615516fd432eab991eeb2ee4ee4a4c6b8c
       "    </tr>\n",
       "    <tr>\n",
       "      <th>1</th>\n",
       "      <td>openssl/openssl</td>\n",
<<<<<<< HEAD
       "      <td>C</td>\n",
       "      <td>Engines\\n=======\\n\\nDeprecation Note\\n--------...</td>\n",
       "      <td>engine deprecation note engine api introduced ...</td>\n",
=======
       "      <td>c</td>\n",
       "      <td>Engines\\n=======\\n\\nDeprecation Note\\n--------...</td>\n",
       "      <td>engine deprecation note engine api introduced ...</td>\n",
       "      <td>10357</td>\n",
>>>>>>> 40eb7f615516fd432eab991eeb2ee4ee4a4c6b8c
       "    </tr>\n",
       "    <tr>\n",
       "      <th>2</th>\n",
       "      <td>HelloZeroNet/ZeroNet</td>\n",
<<<<<<< HEAD
       "      <td>JavaScript</td>\n",
       "      <td># ZeroNet [![Build Status](https://travis-ci.o...</td>\n",
       "      <td>zeronet build statushttpstravisciorghellozeron...</td>\n",
=======
       "      <td>javascript</td>\n",
       "      <td># ZeroNet [![Build Status](https://travis-ci.o...</td>\n",
       "      <td>zeronet build statushttpstravisciorghellozeron...</td>\n",
       "      <td>3866</td>\n",
>>>>>>> 40eb7f615516fd432eab991eeb2ee4ee4a4c6b8c
       "    </tr>\n",
       "    <tr>\n",
       "      <th>3</th>\n",
       "      <td>freqtrade/freqtrade</td>\n",
<<<<<<< HEAD
       "      <td>Python</td>\n",
       "      <td># ![freqtrade](https://raw.githubusercontent.c...</td>\n",
       "      <td>freqtradehttpsrawgithubusercontentcomfreqtrade...</td>\n",
=======
       "      <td>python</td>\n",
       "      <td># ![freqtrade](https://raw.githubusercontent.c...</td>\n",
       "      <td>freqtradehttpsrawgithubusercontentcomfreqtrade...</td>\n",
       "      <td>7995</td>\n",
>>>>>>> 40eb7f615516fd432eab991eeb2ee4ee4a4c6b8c
       "    </tr>\n",
       "    <tr>\n",
       "      <th>4</th>\n",
       "      <td>amark/gun</td>\n",
<<<<<<< HEAD
       "      <td>JavaScript</td>\n",
       "      <td>&lt;p id=\"readme\"&gt;&lt;a href=\"https://gun.eco/\"&gt;&lt;img...</td>\n",
       "      <td>p idreadmea hrefhttpsgunecoimg width40 srchttp...</td>\n",
=======
       "      <td>javascript</td>\n",
       "      <td>&lt;p id=\"readme\"&gt;&lt;a href=\"https://gun.eco/\"&gt;&lt;img...</td>\n",
       "      <td>p idreadmea hrefhttpsgunecoimg width40 srchttp...</td>\n",
       "      <td>14774</td>\n",
>>>>>>> 40eb7f615516fd432eab991eeb2ee4ee4a4c6b8c
       "    </tr>\n",
       "  </tbody>\n",
       "</table>\n",
       "</div>"
      ],
      "text/plain": [
       "                   repo    language  \\\n",
<<<<<<< HEAD
       "0             ccxt/ccxt  JavaScript   \n",
       "1       openssl/openssl           C   \n",
       "2  HelloZeroNet/ZeroNet  JavaScript   \n",
       "3   freqtrade/freqtrade      Python   \n",
       "4             amark/gun  JavaScript   \n",
=======
       "0             ccxt/ccxt  javascript   \n",
       "1       openssl/openssl           c   \n",
       "2  HelloZeroNet/ZeroNet  javascript   \n",
       "3   freqtrade/freqtrade      python   \n",
       "4             amark/gun  javascript   \n",
>>>>>>> 40eb7f615516fd432eab991eeb2ee4ee4a4c6b8c
       "\n",
       "                                     readme_contents  \\\n",
       "0  # CCXT – CryptoCurrency eXchange Trading Libra...   \n",
       "1  Engines\\n=======\\n\\nDeprecation Note\\n--------...   \n",
       "2  # ZeroNet [![Build Status](https://travis-ci.o...   \n",
       "3  # ![freqtrade](https://raw.githubusercontent.c...   \n",
       "4  <p id=\"readme\"><a href=\"https://gun.eco/\"><img...   \n",
       "\n",
<<<<<<< HEAD
       "                                          clean_text  \n",
       "0  ccxt cryptocurrency exchange trading library b...  \n",
       "1  engine deprecation note engine api introduced ...  \n",
       "2  zeronet build statushttpstravisciorghellozeron...  \n",
       "3  freqtradehttpsrawgithubusercontentcomfreqtrade...  \n",
       "4  p idreadmea hrefhttpsgunecoimg width40 srchttp...  "
      ]
     },
     "execution_count": 4,
=======
       "                                          clean_text  text_length  \n",
       "0  ccxt cryptocurrency exchange trading library b...        53807  \n",
       "1  engine deprecation note engine api introduced ...        10357  \n",
       "2  zeronet build statushttpstravisciorghellozeron...         3866  \n",
       "3  freqtradehttpsrawgithubusercontentcomfreqtrade...         7995  \n",
       "4  p idreadmea hrefhttpsgunecoimg width40 srchttp...        14774  "
      ]
     },
     "execution_count": 49,
>>>>>>> 40eb7f615516fd432eab991eeb2ee4ee4a4c6b8c
     "metadata": {},
     "output_type": "execute_result"
    }
   ],
   "source": [
    "df['clean_text'] = df['readme_contents'].apply(clean).apply(' '.join)\n",
<<<<<<< HEAD
=======
    "df['language'] = df['language'].str.lower()\n",
>>>>>>> 40eb7f615516fd432eab991eeb2ee4ee4a4c6b8c
    "df.head()"
   ]
  },
  {
   "cell_type": "code",
<<<<<<< HEAD
   "execution_count": 5,
   "id": "496c3259",
=======
   "execution_count": 50,
   "id": "2e7b7478",
>>>>>>> 40eb7f615516fd432eab991eeb2ee4ee4a4c6b8c
   "metadata": {},
   "outputs": [],
   "source": [
    "# Save Data to .csv\n",
    "df.to_csv('repo.csv', index=False)"
   ]
  },
  {
   "cell_type": "markdown",
<<<<<<< HEAD
   "id": "a475b662",
=======
   "id": "221693d7",
>>>>>>> 40eb7f615516fd432eab991eeb2ee4ee4a4c6b8c
   "metadata": {},
   "source": [
    "# Basic Exploration"
   ]
  },
  {
   "cell_type": "code",
<<<<<<< HEAD
   "execution_count": 6,
   "id": "db572089",
=======
   "execution_count": 51,
   "id": "4930aca2",
>>>>>>> 40eb7f615516fd432eab991eeb2ee4ee4a4c6b8c
   "metadata": {},
   "outputs": [
    {
     "data": {
      "text/plain": [
<<<<<<< HEAD
       "JavaScript          24\n",
       "Python              20\n",
       "HTML                17\n",
       "C++                 16\n",
       "Jupyter Notebook    11\n",
       "Java                 6\n",
       "C                    5\n",
       "Ruby                 3\n",
       "TeX                  2\n",
       "Shell                2\n",
       "TypeScript           2\n",
       "Go                   2\n",
       "C#                   2\n",
       "Assembly             1\n",
       "Mathematica          1\n",
       "CSS                  1\n",
       "Swift                1\n",
       "Kotlin               1\n",
       "G-code               1\n",
       "R                    1\n",
       "PHP                  1\n",
       "MATLAB               1\n",
       "Matlab               1\n",
       "Groff                1\n",
       "Objective-C          1\n",
       "Name: language, dtype: int64"
      ]
     },
     "execution_count": 6,
=======
       "javascript          24\n",
       "python              20\n",
       "html                17\n",
       "c++                 16\n",
       "jupyter notebook    11\n",
       "java                 6\n",
       "c                    5\n",
       "ruby                 3\n",
       "c#                   2\n",
       "go                   2\n",
       "typescript           2\n",
       "tex                  2\n",
       "matlab               2\n",
       "shell                2\n",
       "groff                1\n",
       "r                    1\n",
       "css                  1\n",
       "g-code               1\n",
       "kotlin               1\n",
       "swift                1\n",
       "mathematica          1\n",
       "assembly             1\n",
       "php                  1\n",
       "objective-c          1\n",
       "Name: language, dtype: int64"
      ]
     },
     "execution_count": 51,
>>>>>>> 40eb7f615516fd432eab991eeb2ee4ee4a4c6b8c
     "metadata": {},
     "output_type": "execute_result"
    }
   ],
   "source": [
    "df.language.value_counts()"
   ]
  },
  {
   "cell_type": "code",
<<<<<<< HEAD
   "execution_count": 14,
=======
   "execution_count": 52,
>>>>>>> 40eb7f615516fd432eab991eeb2ee4ee4a4c6b8c
   "id": "036c31d9",
   "metadata": {},
   "outputs": [
    {
     "data": {
      "text/plain": [
<<<<<<< HEAD
       "(124, (124, 4))"
      ]
     },
     "execution_count": 14,
=======
       "(124, (124, 5))"
      ]
     },
     "execution_count": 52,
>>>>>>> 40eb7f615516fd432eab991eeb2ee4ee4a4c6b8c
     "metadata": {},
     "output_type": "execute_result"
    }
   ],
   "source": [
    "df.repo.nunique(), df.shape"
   ]
  },
  {
   "cell_type": "code",
<<<<<<< HEAD
   "execution_count": 8,
   "id": "85dfa667",
=======
   "execution_count": 53,
   "id": "49093bb4",
>>>>>>> 40eb7f615516fd432eab991eeb2ee4ee4a4c6b8c
   "metadata": {},
   "outputs": [
    {
     "name": "stdout",
     "output_type": "stream",
     "text": [
      "<class 'pandas.core.frame.DataFrame'>\n",
      "RangeIndex: 124 entries, 0 to 123\n",
<<<<<<< HEAD
      "Data columns (total 4 columns):\n",
=======
      "Data columns (total 5 columns):\n",
>>>>>>> 40eb7f615516fd432eab991eeb2ee4ee4a4c6b8c
      " #   Column           Non-Null Count  Dtype \n",
      "---  ------           --------------  ----- \n",
      " 0   repo             124 non-null    object\n",
      " 1   language         124 non-null    object\n",
      " 2   readme_contents  124 non-null    object\n",
      " 3   clean_text       124 non-null    object\n",
<<<<<<< HEAD
      "dtypes: object(4)\n",
      "memory usage: 4.0+ KB\n"
=======
      " 4   text_length      124 non-null    int64 \n",
      "dtypes: int64(1), object(4)\n",
      "memory usage: 5.0+ KB\n"
>>>>>>> 40eb7f615516fd432eab991eeb2ee4ee4a4c6b8c
     ]
    }
   ],
   "source": [
    "df.info()"
   ]
  },
  {
   "cell_type": "markdown",
<<<<<<< HEAD
   "id": "a108319a",
=======
   "id": "95cd7294",
>>>>>>> 40eb7f615516fd432eab991eeb2ee4ee4a4c6b8c
   "metadata": {},
   "source": [
    "## Takeaways\n",
    "- 124 rows (unique repos), 4 columns\n",
    "- 25 different coding languages\n",
    "- majority are JavaScript, Python, HTML, and C++\n",
    "-----------------\n",
    "# Question\n",
    "**Does the length of the README vary by programming language?**"
   ]
  },
  {
   "cell_type": "code",
<<<<<<< HEAD
   "execution_count": 18,
   "id": "7a1866fc",
=======
   "execution_count": 54,
   "id": "5f8fca5a",
>>>>>>> 40eb7f615516fd432eab991eeb2ee4ee4a4c6b8c
   "metadata": {},
   "outputs": [
    {
     "data": {
      "text/html": [
       "<div>\n",
       "<style scoped>\n",
       "    .dataframe tbody tr th:only-of-type {\n",
       "        vertical-align: middle;\n",
       "    }\n",
       "\n",
       "    .dataframe tbody tr th {\n",
       "        vertical-align: top;\n",
       "    }\n",
       "\n",
       "    .dataframe thead th {\n",
       "        text-align: right;\n",
       "    }\n",
       "</style>\n",
       "<table border=\"1\" class=\"dataframe\">\n",
       "  <thead>\n",
       "    <tr style=\"text-align: right;\">\n",
       "      <th></th>\n",
       "      <th>repo</th>\n",
       "      <th>language</th>\n",
       "      <th>readme_contents</th>\n",
       "      <th>clean_text</th>\n",
       "      <th>text_length</th>\n",
       "    </tr>\n",
       "  </thead>\n",
       "  <tbody>\n",
       "    <tr>\n",
       "      <th>0</th>\n",
       "      <td>ccxt/ccxt</td>\n",
<<<<<<< HEAD
       "      <td>JavaScript</td>\n",
=======
       "      <td>javascript</td>\n",
>>>>>>> 40eb7f615516fd432eab991eeb2ee4ee4a4c6b8c
       "      <td># CCXT – CryptoCurrency eXchange Trading Libra...</td>\n",
       "      <td>ccxt cryptocurrency exchange trading library b...</td>\n",
       "      <td>53807</td>\n",
       "    </tr>\n",
       "    <tr>\n",
       "      <th>1</th>\n",
       "      <td>openssl/openssl</td>\n",
<<<<<<< HEAD
       "      <td>C</td>\n",
=======
       "      <td>c</td>\n",
>>>>>>> 40eb7f615516fd432eab991eeb2ee4ee4a4c6b8c
       "      <td>Engines\\n=======\\n\\nDeprecation Note\\n--------...</td>\n",
       "      <td>engine deprecation note engine api introduced ...</td>\n",
       "      <td>10357</td>\n",
       "    </tr>\n",
       "    <tr>\n",
       "      <th>2</th>\n",
       "      <td>HelloZeroNet/ZeroNet</td>\n",
<<<<<<< HEAD
       "      <td>JavaScript</td>\n",
=======
       "      <td>javascript</td>\n",
>>>>>>> 40eb7f615516fd432eab991eeb2ee4ee4a4c6b8c
       "      <td># ZeroNet [![Build Status](https://travis-ci.o...</td>\n",
       "      <td>zeronet build statushttpstravisciorghellozeron...</td>\n",
       "      <td>3866</td>\n",
       "    </tr>\n",
       "    <tr>\n",
       "      <th>3</th>\n",
       "      <td>freqtrade/freqtrade</td>\n",
<<<<<<< HEAD
       "      <td>Python</td>\n",
=======
       "      <td>python</td>\n",
>>>>>>> 40eb7f615516fd432eab991eeb2ee4ee4a4c6b8c
       "      <td># ![freqtrade](https://raw.githubusercontent.c...</td>\n",
       "      <td>freqtradehttpsrawgithubusercontentcomfreqtrade...</td>\n",
       "      <td>7995</td>\n",
       "    </tr>\n",
       "    <tr>\n",
       "      <th>4</th>\n",
       "      <td>amark/gun</td>\n",
<<<<<<< HEAD
       "      <td>JavaScript</td>\n",
=======
       "      <td>javascript</td>\n",
>>>>>>> 40eb7f615516fd432eab991eeb2ee4ee4a4c6b8c
       "      <td>&lt;p id=\"readme\"&gt;&lt;a href=\"https://gun.eco/\"&gt;&lt;img...</td>\n",
       "      <td>p idreadmea hrefhttpsgunecoimg width40 srchttp...</td>\n",
       "      <td>14774</td>\n",
       "    </tr>\n",
       "  </tbody>\n",
       "</table>\n",
       "</div>"
      ],
      "text/plain": [
       "                   repo    language  \\\n",
<<<<<<< HEAD
       "0             ccxt/ccxt  JavaScript   \n",
       "1       openssl/openssl           C   \n",
       "2  HelloZeroNet/ZeroNet  JavaScript   \n",
       "3   freqtrade/freqtrade      Python   \n",
       "4             amark/gun  JavaScript   \n",
=======
       "0             ccxt/ccxt  javascript   \n",
       "1       openssl/openssl           c   \n",
       "2  HelloZeroNet/ZeroNet  javascript   \n",
       "3   freqtrade/freqtrade      python   \n",
       "4             amark/gun  javascript   \n",
>>>>>>> 40eb7f615516fd432eab991eeb2ee4ee4a4c6b8c
       "\n",
       "                                     readme_contents  \\\n",
       "0  # CCXT – CryptoCurrency eXchange Trading Libra...   \n",
       "1  Engines\\n=======\\n\\nDeprecation Note\\n--------...   \n",
       "2  # ZeroNet [![Build Status](https://travis-ci.o...   \n",
       "3  # ![freqtrade](https://raw.githubusercontent.c...   \n",
       "4  <p id=\"readme\"><a href=\"https://gun.eco/\"><img...   \n",
       "\n",
       "                                          clean_text  text_length  \n",
       "0  ccxt cryptocurrency exchange trading library b...        53807  \n",
       "1  engine deprecation note engine api introduced ...        10357  \n",
       "2  zeronet build statushttpstravisciorghellozeron...         3866  \n",
       "3  freqtradehttpsrawgithubusercontentcomfreqtrade...         7995  \n",
       "4  p idreadmea hrefhttpsgunecoimg width40 srchttp...        14774  "
      ]
     },
<<<<<<< HEAD
     "execution_count": 18,
=======
     "execution_count": 54,
>>>>>>> 40eb7f615516fd432eab991eeb2ee4ee4a4c6b8c
     "metadata": {},
     "output_type": "execute_result"
    }
   ],
   "source": [
    "# Get the length of text in each README\n",
    "df['text_length'] = df.clean_text.apply(len)\n",
    "df.head()"
   ]
  },
  {
   "cell_type": "code",
<<<<<<< HEAD
   "execution_count": 22,
   "id": "f1df5ecf",
=======
   "execution_count": 55,
   "id": "4cb95df2",
>>>>>>> 40eb7f615516fd432eab991eeb2ee4ee4a4c6b8c
   "metadata": {},
   "outputs": [
    {
     "data": {
      "text/plain": [
       "count      124.000000\n",
       "mean      5870.153226\n",
       "std       7181.930247\n",
       "min         67.000000\n",
       "25%       2029.750000\n",
       "50%       3799.000000\n",
       "75%       7447.250000\n",
       "max      53807.000000\n",
       "Name: text_length, dtype: float64"
      ]
     },
<<<<<<< HEAD
     "execution_count": 22,
=======
     "execution_count": 55,
>>>>>>> 40eb7f615516fd432eab991eeb2ee4ee4a4c6b8c
     "metadata": {},
     "output_type": "execute_result"
    }
   ],
   "source": [
    "# Quick Metrics\n",
    "df.text_length.describe()"
   ]
  },
  {
   "cell_type": "code",
<<<<<<< HEAD
   "execution_count": 19,
   "id": "1ce04e3d",
=======
   "execution_count": 56,
   "id": "b6ca8d7f",
>>>>>>> 40eb7f615516fd432eab991eeb2ee4ee4a4c6b8c
   "metadata": {},
   "outputs": [
    {
     "data": {
      "text/plain": [
<<<<<<< HEAD
       "59       67\n",
       "74       89\n",
       "66      107\n",
       "64      139\n",
       "58      179\n",
       "      ...  \n",
       "12    17430\n",
       "44    20765\n",
       "99    22345\n",
       "14    43769\n",
       "0     53807\n",
       "Name: clean_text, Length: 124, dtype: int64"
      ]
     },
     "execution_count": 19,
=======
       "59        67\n",
       "74        89\n",
       "66       107\n",
       "64       139\n",
       "58       179\n",
       "69       204\n",
       "106      263\n",
       "60       278\n",
       "61       493\n",
       "105      503\n",
       "113      607\n",
       "117      638\n",
       "101      731\n",
       "109      758\n",
       "51       948\n",
       "53       970\n",
       "72      1146\n",
       "32      1196\n",
       "17      1199\n",
       "10      1204\n",
       "54      1227\n",
       "83      1300\n",
       "77      1310\n",
       "68      1580\n",
       "65      1671\n",
       "35      1675\n",
       "11      1701\n",
       "13      1716\n",
       "41      1732\n",
       "70      1898\n",
       "97      2020\n",
       "86      2033\n",
       "122     2063\n",
       "31      2110\n",
       "67      2192\n",
       "42      2194\n",
       "108     2233\n",
       "75      2302\n",
       "7       2336\n",
       "36      2394\n",
       "91      2571\n",
       "73      2745\n",
       "76      2773\n",
       "92      2833\n",
       "25      2891\n",
       "19      2907\n",
       "37      2912\n",
       "21      2925\n",
       "63      3032\n",
       "71      3055\n",
       "20      3144\n",
       "88      3259\n",
       "39      3296\n",
       "81      3321\n",
       "103     3375\n",
       "18      3384\n",
       "114     3421\n",
       "43      3442\n",
       "29      3684\n",
       "9       3690\n",
       "6       3704\n",
       "50      3734\n",
       "118     3864\n",
       "2       3866\n",
       "34      3889\n",
       "5       3891\n",
       "62      3958\n",
       "48      3967\n",
       "115     4040\n",
       "28      4279\n",
       "46      4342\n",
       "27      4413\n",
       "96      4572\n",
       "33      4966\n",
       "82      5012\n",
       "47      5022\n",
       "49      5145\n",
       "26      5229\n",
       "95      5262\n",
       "90      5591\n",
       "85      5763\n",
       "110     5853\n",
       "93      5885\n",
       "38      5935\n",
       "52      6059\n",
       "79      6063\n",
       "100     6171\n",
       "102     6183\n",
       "119     6365\n",
       "94      6410\n",
       "78      6753\n",
       "15      7313\n",
       "45      7378\n",
       "123     7655\n",
       "80      7674\n",
       "3       7995\n",
       "24      8022\n",
       "57      8301\n",
       "56      8339\n",
       "120     8750\n",
       "16      8904\n",
       "104     9181\n",
       "84      9203\n",
       "121     9354\n",
       "40     10062\n",
       "98     10080\n",
       "1      10357\n",
       "89     10959\n",
       "23     11002\n",
       "87     11316\n",
       "107    12023\n",
       "55     12846\n",
       "116    13040\n",
       "22     13891\n",
       "30     14529\n",
       "4      14774\n",
       "111    15107\n",
       "112    16084\n",
       "8      17392\n",
       "12     17430\n",
       "44     20765\n",
       "99     22345\n",
       "14     43769\n",
       "0      53807\n",
       "Name: clean_text, dtype: int64"
      ]
     },
     "execution_count": 56,
>>>>>>> 40eb7f615516fd432eab991eeb2ee4ee4a4c6b8c
     "metadata": {},
     "output_type": "execute_result"
    }
   ],
   "source": [
    "df.clean_text.apply(len).sort_values()"
   ]
  },
  {
   "cell_type": "code",
<<<<<<< HEAD
   "execution_count": 29,
   "id": "46baa60d",
=======
   "execution_count": 57,
   "id": "b1aa8559",
>>>>>>> 40eb7f615516fd432eab991eeb2ee4ee4a4c6b8c
   "metadata": {},
   "outputs": [
    {
     "data": {
      "text/plain": [
       "<AxesSubplot:>"
      ]
     },
<<<<<<< HEAD
     "execution_count": 29,
=======
     "execution_count": 57,
>>>>>>> 40eb7f615516fd432eab991eeb2ee4ee4a4c6b8c
     "metadata": {},
     "output_type": "execute_result"
    },
    {
     "data": {
      "image/png": "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\n",
      "text/plain": [
       "<Figure size 792x360 with 1 Axes>"
      ]
     },
     "metadata": {},
     "output_type": "display_data"
    }
   ],
   "source": [
    "df.text_length.sort_values().plot.bar()"
   ]
  },
  {
   "cell_type": "code",
<<<<<<< HEAD
   "execution_count": null,
   "id": "07f9bac5",
=======
   "execution_count": 58,
   "id": "5180c0c5",
>>>>>>> 40eb7f615516fd432eab991eeb2ee4ee4a4c6b8c
   "metadata": {},
   "outputs": [],
   "source": [
    "# there are two repos with 30,000 more text than all the others"
   ]
  },
  {
   "cell_type": "code",
<<<<<<< HEAD
   "execution_count": null,
   "id": "ef72d2d9",
   "metadata": {},
   "outputs": [],
   "source": []
  },
  {
   "cell_type": "code",
   "execution_count": null,
   "id": "1623b352",
   "metadata": {},
   "outputs": [],
   "source": []
  },
  {
   "cell_type": "code",
   "execution_count": null,
   "id": "675bb283",
   "metadata": {},
   "outputs": [],
   "source": []
=======
   "execution_count": 59,
   "id": "2be5dce1",
   "metadata": {},
   "outputs": [
    {
     "data": {
      "text/plain": [
       "language\n",
       "groff                 493.000000\n",
       "tex                   518.500000\n",
       "mathematica          1196.000000\n",
       "kotlin               1732.000000\n",
       "assembly             2110.000000\n",
       "g-code               2194.000000\n",
       "jupyter notebook     2521.454545\n",
       "css                  2912.000000\n",
       "matlab               3168.500000\n",
       "php                  3384.000000\n",
       "python               4368.750000\n",
       "r                    5145.000000\n",
       "html                 5169.705882\n",
       "c++                  5501.000000\n",
       "go                   5613.000000\n",
       "shell                5821.000000\n",
       "typescript           6786.500000\n",
       "objective-c          7674.000000\n",
       "javascript           8178.291667\n",
       "java                 8456.666667\n",
       "c                    9042.600000\n",
       "ruby                 9699.333333\n",
       "c#                  13755.000000\n",
       "swift               17392.000000\n",
       "Name: text_length, dtype: float64"
      ]
     },
     "execution_count": 59,
     "metadata": {},
     "output_type": "execute_result"
    }
   ],
   "source": [
    "df.groupby(['language']).text_length.mean().sort_values()"
   ]
  },
  {
   "cell_type": "code",
   "execution_count": 62,
   "id": "33ffb52a",
   "metadata": {},
   "outputs": [
    {
     "data": {
      "text/plain": [
       "<AxesSubplot:xlabel='language'>"
      ]
     },
     "execution_count": 62,
     "metadata": {},
     "output_type": "execute_result"
    },
    {
     "data": {
      "image/png": "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\n",
      "text/plain": [
       "<Figure size 792x360 with 1 Axes>"
      ]
     },
     "metadata": {},
     "output_type": "display_data"
    }
   ],
   "source": [
    "df.groupby(['language']).text_length.mean().sort_values().plot.bar()"
   ]
  },
  {
   "cell_type": "code",
   "execution_count": 65,
   "id": "87e15443",
   "metadata": {},
   "outputs": [],
   "source": [
    "all_text = ' '.join(df.clean_text)\n",
    "javascript_text = ' '.join(df[df.language == 'javascript'].clean_text)\n",
    "python_text = ' '.join(df[df.language == 'python'].clean_text)\n",
    "html_text = ' '.join(df[df.language == 'html'].clean_text)\n",
    "cplusplus_text = ' '.join(df[df.language == 'c++'].clean_text)\n",
    "jpnb_text = ' '.join(df[df.language == 'jupyter notebook'].clean_text)\n",
    "java_text = ' '.join(df[df.language == 'java'].clean_text)\n",
    "c_text = ' '.join(df[df.language == 'c'].clean_text)\n",
    "ruby_text = ' '.join(df[df.language == 'ruby'].clean_text)\n",
    "tex_text = ' '.join(df[df.language == 'c#'].clean_text)\n",
    "shell_text = ' '.join(df[df.language == 'go'].clean_text)\n",
    "typescript_text = ' '.join(df[df.language == 'typescript'].clean_text)\n",
    "go_text = ' '.join(df[df.language == 'tex'].clean_text)\n",
    "c_hashtag_text = ' '.join(df[df.language == 'matlab'].clean_text)\n",
    "assembly_text = ' '.join(df[df.language == 'shell'].clean_text)\n",
    "mathematica_text = ' '.join(df[df.language == 'groff'].clean_text)\n",
    "css_text = ' '.join(df[df.language == 'r'].clean_text)\n",
    "swift_text = ' '.join(df[df.language == 'css'].clean_text)\n",
    "kotlin_text = ' '.join(df[df.language == 'g-code'].clean_text)\n",
    "gcode_text = ' '.join(df[df.language == 'kotlin'].clean_text)\n",
    "r_text = ' '.join(df[df.language == 'swift'].clean_text)\n",
    "php_text = ' '.join(df[df.language == 'mathematica'].clean_text)\n",
    "matlab_text = ' '.join(df[df.language == 'assembly'].clean_text)\n",
    "groff_text = ' '.join(df[df.language == 'php'].clean_text)\n",
    "objc_text = ' '.join(df[df.language == 'objective-c'].clean_text)"
   ]
>>>>>>> 40eb7f615516fd432eab991eeb2ee4ee4a4c6b8c
  },
  {
   "cell_type": "code",
   "execution_count": null,
<<<<<<< HEAD
   "id": "d08a5bfc",
   "metadata": {},
   "outputs": [],
   "source": []
  },
  {
   "cell_type": "code",
   "execution_count": null,
   "id": "664c9f80",
   "metadata": {},
   "outputs": [],
   "source": []
=======
   "id": "f4ec6369",
   "metadata": {},
   "outputs": [],
   "source": [
    "all_text = clean(all_text)\n",
    "javascript_text = clean(javascript_text)\n",
    "python_text = clean(python_text)\n",
    "html_text = clean(html_text)\n",
    "cplusplus_text = clean(cplusplus_text)\n",
    "jpnb_text = clean(jpnb_text)\n",
    "java_text = clean(java_text)\n",
    "c_text = clean(c_text)\n",
    "ruby_text = clean(ruby_text)\n",
    "tex_text = clean(tex_text)\n",
    "shell_text = clean(shell_text)\n",
    "typescript_text = clean(typescript_text)\n",
    "go_text = clean(go_text)\n",
    "c_hashtag_text = clean(c_hashtag_text)\n",
    "assembly_text = clean(assembly_text)\n",
    "mathematica_text = clean(mathematica_text)\n",
    "css_text = clean(css_text)\n",
    "swift_text = clean(swift_text)\n",
    "kotlin_text = clean(kotlin_text)\n",
    "gcode_text = clean(gcode_text)\n",
    "r_text = clean(r_text)\n",
    "php_text = clean(php_text)\n",
    "matlab_text = clean()matlab_text\n",
    "groff_text = clean(groff_text)\n",
    "objc_text = clean(objc_text)"
   ]
  },
  {
   "cell_type": "code",
   "execution_count": 63,
   "id": "8480721b",
   "metadata": {
    "scrolled": true
   },
   "outputs": [
    {
     "data": {
      "text/plain": [
       "javascript          24\n",
       "python              20\n",
       "html                17\n",
       "c++                 16\n",
       "jupyter notebook    11\n",
       "java                 6\n",
       "c                    5\n",
       "ruby                 3\n",
       "c#                   2\n",
       "go                   2\n",
       "typescript           2\n",
       "tex                  2\n",
       "matlab               2\n",
       "shell                2\n",
       "groff                1\n",
       "r                    1\n",
       "css                  1\n",
       "g-code               1\n",
       "kotlin               1\n",
       "swift                1\n",
       "mathematica          1\n",
       "assembly             1\n",
       "php                  1\n",
       "objective-c          1\n",
       "Name: language, dtype: int64"
      ]
     },
     "execution_count": 63,
     "metadata": {},
     "output_type": "execute_result"
    }
   ],
   "source": [
    "df.language.value_counts()"
   ]
>>>>>>> 40eb7f615516fd432eab991eeb2ee4ee4a4c6b8c
  },
  {
   "cell_type": "code",
   "execution_count": null,
<<<<<<< HEAD
   "id": "22a04ef0",
=======
   "id": "de5a5f3c",
>>>>>>> 40eb7f615516fd432eab991eeb2ee4ee4a4c6b8c
   "metadata": {},
   "outputs": [],
   "source": []
  },
  {
   "cell_type": "code",
   "execution_count": null,
<<<<<<< HEAD
   "id": "5902d5bd",
=======
   "id": "430fc225",
>>>>>>> 40eb7f615516fd432eab991eeb2ee4ee4a4c6b8c
   "metadata": {},
   "outputs": [],
   "source": []
  },
  {
   "cell_type": "code",
   "execution_count": null,
<<<<<<< HEAD
   "id": "2a009624",
=======
   "id": "cb9f4995",
>>>>>>> 40eb7f615516fd432eab991eeb2ee4ee4a4c6b8c
   "metadata": {},
   "outputs": [],
   "source": []
  },
  {
   "cell_type": "code",
   "execution_count": null,
<<<<<<< HEAD
   "id": "f3ef40d5",
=======
   "id": "a4489e45",
>>>>>>> 40eb7f615516fd432eab991eeb2ee4ee4a4c6b8c
   "metadata": {},
   "outputs": [],
   "source": []
  },
  {
   "cell_type": "code",
   "execution_count": null,
<<<<<<< HEAD
   "id": "41119260",
=======
   "id": "11e019d1",
>>>>>>> 40eb7f615516fd432eab991eeb2ee4ee4a4c6b8c
   "metadata": {},
   "outputs": [],
   "source": []
  },
  {
   "cell_type": "code",
   "execution_count": null,
<<<<<<< HEAD
   "id": "85b12256",
=======
   "id": "77561053",
>>>>>>> 40eb7f615516fd432eab991eeb2ee4ee4a4c6b8c
   "metadata": {},
   "outputs": [],
   "source": []
  },
  {
   "cell_type": "code",
   "execution_count": 10,
<<<<<<< HEAD
   "id": "556defe5",
=======
   "id": "4b0b2c30",
>>>>>>> 40eb7f615516fd432eab991eeb2ee4ee4a4c6b8c
   "metadata": {},
   "outputs": [],
   "source": [
    "# Let's build a Bag of Words\n",
    "cv = CountVectorizer()\n",
    "bag_of_words = cv.fit_transform(df.clean_text)"
   ]
  },
  {
   "cell_type": "code",
   "execution_count": 11,
<<<<<<< HEAD
   "id": "0980b728",
=======
   "id": "905dbae0",
>>>>>>> 40eb7f615516fd432eab991eeb2ee4ee4a4c6b8c
   "metadata": {},
   "outputs": [
    {
     "data": {
      "text/plain": [
       "matrix([[0, 0, 0, ..., 0, 0, 0],\n",
       "        [0, 0, 0, ..., 0, 0, 0],\n",
       "        [0, 1, 0, ..., 0, 0, 0],\n",
       "        ...,\n",
       "        [0, 0, 0, ..., 0, 0, 0],\n",
       "        [0, 0, 0, ..., 0, 0, 0],\n",
       "        [0, 0, 0, ..., 0, 0, 0]])"
      ]
     },
     "execution_count": 11,
     "metadata": {},
     "output_type": "execute_result"
    }
   ],
   "source": [
    "bag_of_words.todense()"
   ]
  },
  {
   "cell_type": "code",
   "execution_count": 12,
<<<<<<< HEAD
   "id": "322ea9e4",
=======
   "id": "248cee99",
>>>>>>> 40eb7f615516fd432eab991eeb2ee4ee4a4c6b8c
   "metadata": {},
   "outputs": [
    {
     "ename": "AttributeError",
     "evalue": "'CountVectorizer' object has no attribute 'get_feature_names_out'",
     "output_type": "error",
     "traceback": [
      "\u001b[0;31m---------------------------------------------------------------------------\u001b[0m",
      "\u001b[0;31mAttributeError\u001b[0m                            Traceback (most recent call last)",
      "\u001b[0;32m/var/folders/08/8cpsy8b90ddg4tfjy9502gzw0000gn/T/ipykernel_35118/695142718.py\u001b[0m in \u001b[0;36m<module>\u001b[0;34m\u001b[0m\n\u001b[0;32m----> 1\u001b[0;31m \u001b[0mcv\u001b[0m\u001b[0;34m.\u001b[0m\u001b[0mget_feature_names_out\u001b[0m\u001b[0;34m(\u001b[0m\u001b[0;34m)\u001b[0m\u001b[0;34m\u001b[0m\u001b[0;34m\u001b[0m\u001b[0m\n\u001b[0m",
      "\u001b[0;31mAttributeError\u001b[0m: 'CountVectorizer' object has no attribute 'get_feature_names_out'"
     ]
    }
   ],
   "source": [
    "cv.get_feature_names_out()"
   ]
  },
  {
   "cell_type": "code",
   "execution_count": null,
<<<<<<< HEAD
   "id": "12db9fca",
=======
   "id": "72177b3e",
>>>>>>> 40eb7f615516fd432eab991eeb2ee4ee4a4c6b8c
   "metadata": {},
   "outputs": [],
   "source": [
    "cv.vocabulary_"
   ]
  },
  {
   "cell_type": "code",
   "execution_count": null,
<<<<<<< HEAD
   "id": "f031aab7",
=======
   "id": "943681d3",
>>>>>>> 40eb7f615516fd432eab991eeb2ee4ee4a4c6b8c
   "metadata": {},
   "outputs": [],
   "source": []
  }
 ],
 "metadata": {
  "kernelspec": {
   "display_name": "Python 3 (ipykernel)",
   "language": "python",
   "name": "python3"
  },
  "language_info": {
   "codemirror_mode": {
    "name": "ipython",
    "version": 3
   },
   "file_extension": ".py",
   "mimetype": "text/x-python",
   "name": "python",
   "nbconvert_exporter": "python",
   "pygments_lexer": "ipython3",
   "version": "3.9.7"
  }
 },
 "nbformat": 4,
 "nbformat_minor": 5
}
