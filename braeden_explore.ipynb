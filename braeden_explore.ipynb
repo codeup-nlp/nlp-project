{
 "cells": [
  {
   "cell_type": "markdown",
   "id": "3f98939d",
   "metadata": {},
   "source": [
    "# Import"
   ]
  },
  {
   "cell_type": "code",
   "execution_count": 3,
   "id": "a0e7dc96",
   "metadata": {},
   "outputs": [],
   "source": [
    "import pandas as pd\n",
    "import numpy as np\n",
    "\n",
    "\n",
    "import os\n",
    "import json\n",
    "from typing import Dict, List, Optional, Union, cast\n",
    "import requests\n",
    "\n",
    "from env import github_token, github_username\n"
   ]
  },
  {
   "cell_type": "code",
   "execution_count": 5,
   "id": "7cf24259",
   "metadata": {},
   "outputs": [],
   "source": [
    "my_25 = ['NASAWorldWind/WebWorldWind', \n",
    "         'r-spacex/SpaceX-API', \n",
    "         'nasa/fprime', \n",
    "         'NASAWorldWind/WorldWindJava ', \n",
    "         'nasa-gibs/worldview', \n",
    "         'nasa/apod-api', \n",
    "         'chrislgarry/Apollo-11', \n",
    "         'nasa/NASA-3D-Resources', \n",
    "         'nasa/astrobee', \n",
    "         'bloominstituteoftechnology/nasa-photo-of-the-day', \n",
    "         'nasa/Open-Source-Catalog', \n",
    "         'nasa/CrisisMappingToolkit', \n",
    "         'nasa/code-nasa-gov', \n",
    "         'nasa/earthdata-search', \n",
    "         'NASAWorldWind/WorldWindAndroid', \n",
    "         'spaceship-prompt/spaceship-prompt', \n",
    "         'rt-bishop/Look4Sat', \n",
    "         'nasa-jpl/COVID-19-respirators ', \n",
    "         'jakiestfu/himawari.js', \n",
    "         'orbitalindex/awesome-space', \n",
    "         'CelestiaProject/Celestia', \n",
    "         'trehn/termtrack', \n",
    "         'barrosfilipe/Rocket-Lab-API ', \n",
    "         'Trinitui/Rocket-Lab-API-Reborn', \n",
    "         'Onnamission/SpaceX-Analytics']"
   ]
  },
  {
   "cell_type": "code",
   "execution_count": null,
   "id": "b2733e2b",
   "metadata": {},
   "outputs": [],
   "source": []
  }
 ],
 "metadata": {
  "kernelspec": {
   "display_name": "Python 3 (ipykernel)",
   "language": "python",
   "name": "python3"
  },
  "language_info": {
   "codemirror_mode": {
    "name": "ipython",
    "version": 3
   },
   "file_extension": ".py",
   "mimetype": "text/x-python",
   "name": "python",
   "nbconvert_exporter": "python",
   "pygments_lexer": "ipython3",
   "version": "3.9.7"
  }
 },
 "nbformat": 4,
 "nbformat_minor": 5
}
