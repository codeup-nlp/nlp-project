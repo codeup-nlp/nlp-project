{
 "cells": [
  {
   "cell_type": "markdown",
   "id": "3f98939d",
   "metadata": {},
   "source": [
    "# Import"
   ]
  },
  {
   "cell_type": "code",
   "execution_count": 1,
   "id": "a0e7dc96",
   "metadata": {},
   "outputs": [],
   "source": [
    "import pandas as pd\n",
    "import numpy as np\n",
    "\n",
    "import nltk\n",
    "import re\n",
    "import os\n",
    "import json\n",
    "from typing import Dict, List, Optional, Union, cast\n",
    "import requests\n",
    "from pprint import pprint\n",
    "from sklearn.feature_extraction.text import CountVectorizer\n",
    "\n",
    "import matplotlib.pyplot as plt\n",
    "import seaborn as sns\n",
    "\n",
    "from env import github_token, github_username\n",
    "import base_acquire\n",
    "import wrangle\n",
    "\n",
    "# Make sure we can see the full scale of the data\n",
    "pd.set_option('display.max_columns', None)\n",
    "pd.set_option('display.max_rows', None)\n",
    "\n",
    "# plotting defaults\n",
    "plt.rc('figure', figsize=(11, 5))\n",
    "plt.style.use('seaborn-whitegrid')\n",
    "plt.rc('font', size=16)"
   ]
  },
  {
   "cell_type": "code",
   "execution_count": 2,
   "id": "0950896e",
   "metadata": {},
   "outputs": [
    {
     "name": "stdout",
     "output_type": "stream",
     "text": [
      "Reading data from csv file...\n"
     ]
    },
    {
     "data": {
      "text/html": [
       "<div>\n",
       "<style scoped>\n",
       "    .dataframe tbody tr th:only-of-type {\n",
       "        vertical-align: middle;\n",
       "    }\n",
       "\n",
       "    .dataframe tbody tr th {\n",
       "        vertical-align: top;\n",
       "    }\n",
       "\n",
       "    .dataframe thead th {\n",
       "        text-align: right;\n",
       "    }\n",
       "</style>\n",
       "<table border=\"1\" class=\"dataframe\">\n",
       "  <thead>\n",
       "    <tr style=\"text-align: right;\">\n",
       "      <th></th>\n",
       "      <th>repo</th>\n",
       "      <th>language</th>\n",
       "      <th>readme_contents</th>\n",
       "      <th>clean_text</th>\n",
       "    </tr>\n",
       "  </thead>\n",
       "  <tbody>\n",
       "    <tr>\n",
       "      <th>0</th>\n",
       "      <td>ccxt/ccxt</td>\n",
       "      <td>javascript</td>\n",
       "      <td># CCXT – CryptoCurrency eXchange Trading Libra...</td>\n",
       "      <td>ccxt cryptocurrency exchange trading library b...</td>\n",
       "    </tr>\n",
       "    <tr>\n",
       "      <th>1</th>\n",
       "      <td>openssl/openssl</td>\n",
       "      <td>c</td>\n",
       "      <td>Engines\\n=======\\n\\nDeprecation Note\\n--------...</td>\n",
       "      <td>engine deprecation note engine api introduced ...</td>\n",
       "    </tr>\n",
       "    <tr>\n",
       "      <th>2</th>\n",
       "      <td>HelloZeroNet/ZeroNet</td>\n",
       "      <td>javascript</td>\n",
       "      <td># ZeroNet [![Build Status](https://travis-ci.o...</td>\n",
       "      <td>zeronet build statushttpstravisciorghellozeron...</td>\n",
       "    </tr>\n",
       "    <tr>\n",
       "      <th>3</th>\n",
       "      <td>freqtrade/freqtrade</td>\n",
       "      <td>python</td>\n",
       "      <td># ![freqtrade](https://raw.githubusercontent.c...</td>\n",
       "      <td>freqtradehttpsrawgithubusercontentcomfreqtrade...</td>\n",
       "    </tr>\n",
       "    <tr>\n",
       "      <th>4</th>\n",
       "      <td>amark/gun</td>\n",
       "      <td>javascript</td>\n",
       "      <td>&lt;p id=\"readme\"&gt;&lt;a href=\"https://gun.eco/\"&gt;&lt;img...</td>\n",
       "      <td>p idreadmea hrefhttpsgunecoimg width40 srchttp...</td>\n",
       "    </tr>\n",
       "  </tbody>\n",
       "</table>\n",
       "</div>"
      ],
      "text/plain": [
       "                   repo    language  \\\n",
       "0             ccxt/ccxt  javascript   \n",
       "1       openssl/openssl           c   \n",
       "2  HelloZeroNet/ZeroNet  javascript   \n",
       "3   freqtrade/freqtrade      python   \n",
       "4             amark/gun  javascript   \n",
       "\n",
       "                                     readme_contents  \\\n",
       "0  # CCXT – CryptoCurrency eXchange Trading Libra...   \n",
       "1  Engines\\n=======\\n\\nDeprecation Note\\n--------...   \n",
       "2  # ZeroNet [![Build Status](https://travis-ci.o...   \n",
       "3  # ![freqtrade](https://raw.githubusercontent.c...   \n",
       "4  <p id=\"readme\"><a href=\"https://gun.eco/\"><img...   \n",
       "\n",
       "                                          clean_text  \n",
       "0  ccxt cryptocurrency exchange trading library b...  \n",
       "1  engine deprecation note engine api introduced ...  \n",
       "2  zeronet build statushttpstravisciorghellozeron...  \n",
       "3  freqtradehttpsrawgithubusercontentcomfreqtrade...  \n",
       "4  p idreadmea hrefhttpsgunecoimg width40 srchttp...  "
      ]
     },
     "execution_count": 2,
     "metadata": {},
     "output_type": "execute_result"
    }
   ],
   "source": [
    "if os.path.exists('repo.csv'):\n",
    "    print('Reading data from csv file...')\n",
    "    df = pd.read_csv('repo.csv')\n",
    "else:\n",
    "    print('Scrapping data from Github...')\n",
    "    df = pd.DataFrame(base_acquire.scrape_github_data())\n",
    "    # download cleaned data to a .csv\n",
    "    df.to_csv('repo.csv', index=False)\n",
    "    \n",
    "    \n",
    "df.head()"
   ]
  },
  {
   "cell_type": "code",
   "execution_count": 3,
   "id": "7cf24259",
   "metadata": {},
   "outputs": [],
   "source": [
    "def clean(text: str) -> list:\n",
    "    'A simple function to cleanup text data'\n",
    "    \n",
    "    wnl = nltk.stem.WordNetLemmatizer()\n",
    "    stopwords = set(nltk.corpus.stopwords.words('english'))\n",
    "    text = (text.encode('ascii', 'ignore')\n",
    "             .decode('utf-8', 'ignore')\n",
    "             .lower())\n",
    "    words = re.sub(r'[^\\w\\s]', '', text).split() # tokenization\n",
    "    return [wnl.lemmatize(word) for word in words if word not in stopwords]"
   ]
  },
  {
   "cell_type": "code",
   "execution_count": 4,
   "id": "66eecadd",
   "metadata": {},
   "outputs": [
    {
     "data": {
      "text/html": [
       "<div>\n",
       "<style scoped>\n",
       "    .dataframe tbody tr th:only-of-type {\n",
       "        vertical-align: middle;\n",
       "    }\n",
       "\n",
       "    .dataframe tbody tr th {\n",
       "        vertical-align: top;\n",
       "    }\n",
       "\n",
       "    .dataframe thead th {\n",
       "        text-align: right;\n",
       "    }\n",
       "</style>\n",
       "<table border=\"1\" class=\"dataframe\">\n",
       "  <thead>\n",
       "    <tr style=\"text-align: right;\">\n",
       "      <th></th>\n",
       "      <th>repo</th>\n",
       "      <th>language</th>\n",
       "      <th>readme_contents</th>\n",
       "      <th>clean_text</th>\n",
       "    </tr>\n",
       "  </thead>\n",
       "  <tbody>\n",
       "    <tr>\n",
       "      <th>0</th>\n",
       "      <td>ccxt/ccxt</td>\n",
       "      <td>javascript</td>\n",
       "      <td># CCXT – CryptoCurrency eXchange Trading Libra...</td>\n",
       "      <td>ccxt cryptocurrency exchange trading library b...</td>\n",
       "    </tr>\n",
       "    <tr>\n",
       "      <th>1</th>\n",
       "      <td>openssl/openssl</td>\n",
       "      <td>c</td>\n",
       "      <td>Engines\\n=======\\n\\nDeprecation Note\\n--------...</td>\n",
       "      <td>engine deprecation note engine api introduced ...</td>\n",
       "    </tr>\n",
       "    <tr>\n",
       "      <th>2</th>\n",
       "      <td>HelloZeroNet/ZeroNet</td>\n",
       "      <td>javascript</td>\n",
       "      <td># ZeroNet [![Build Status](https://travis-ci.o...</td>\n",
       "      <td>zeronet build readmezhcnmd englishreadmemd bit...</td>\n",
       "    </tr>\n",
       "    <tr>\n",
       "      <th>3</th>\n",
       "      <td>freqtrade/freqtrade</td>\n",
       "      <td>python</td>\n",
       "      <td># ![freqtrade](https://raw.githubusercontent.c...</td>\n",
       "      <td>freqtrade coverage freqtrade free open source ...</td>\n",
       "    </tr>\n",
       "    <tr>\n",
       "      <th>4</th>\n",
       "      <td>amark/gun</td>\n",
       "      <td>javascript</td>\n",
       "      <td>&lt;p id=\"readme\"&gt;&lt;a href=\"https://gun.eco/\"&gt;&lt;img...</td>\n",
       "      <td>p idreadmea width40 width50 alignright vspace2...</td>\n",
       "    </tr>\n",
       "  </tbody>\n",
       "</table>\n",
       "</div>"
      ],
      "text/plain": [
       "                   repo    language  \\\n",
       "0             ccxt/ccxt  javascript   \n",
       "1       openssl/openssl           c   \n",
       "2  HelloZeroNet/ZeroNet  javascript   \n",
       "3   freqtrade/freqtrade      python   \n",
       "4             amark/gun  javascript   \n",
       "\n",
       "                                     readme_contents  \\\n",
       "0  # CCXT – CryptoCurrency eXchange Trading Libra...   \n",
       "1  Engines\\n=======\\n\\nDeprecation Note\\n--------...   \n",
       "2  # ZeroNet [![Build Status](https://travis-ci.o...   \n",
       "3  # ![freqtrade](https://raw.githubusercontent.c...   \n",
       "4  <p id=\"readme\"><a href=\"https://gun.eco/\"><img...   \n",
       "\n",
       "                                          clean_text  \n",
       "0  ccxt cryptocurrency exchange trading library b...  \n",
       "1  engine deprecation note engine api introduced ...  \n",
       "2  zeronet build readmezhcnmd englishreadmemd bit...  \n",
       "3  freqtrade coverage freqtrade free open source ...  \n",
       "4  p idreadmea width40 width50 alignright vspace2...  "
      ]
     },
     "execution_count": 4,
     "metadata": {},
     "output_type": "execute_result"
    }
   ],
   "source": [
    "df['clean_text'] = df['readme_contents'].apply(wrangle.clean).apply(' '.join)\n",
    "df['language'] = df['language'].str.lower()\n",
    "df.head()"
   ]
  },
  {
   "cell_type": "code",
   "execution_count": 5,
   "id": "a1887d3c",
   "metadata": {},
   "outputs": [],
   "source": [
    "# Save Data to .csv\n",
    "df.to_csv('repo.csv', index=False)"
   ]
  },
  {
   "cell_type": "markdown",
   "id": "43033a7d",
   "metadata": {},
   "source": [
    "# Basic Exploration"
   ]
  },
  {
   "cell_type": "code",
   "execution_count": 6,
   "id": "8a39da44",
   "metadata": {},
   "outputs": [
    {
     "data": {
      "text/plain": [
       "javascript          26\n",
       "python              23\n",
       "html                19\n",
       "c++                 16\n",
       "jupyter notebook    12\n",
       "java                 6\n",
       "c                    5\n",
       "ruby                 3\n",
       "c#                   2\n",
       "go                   2\n",
       "typescript           2\n",
       "tex                  2\n",
       "matlab               2\n",
       "shell                2\n",
       "groff                1\n",
       "r                    1\n",
       "css                  1\n",
       "g-code               1\n",
       "kotlin               1\n",
       "swift                1\n",
       "mathematica          1\n",
       "assembly             1\n",
       "php                  1\n",
       "objective-c          1\n",
       "Name: language, dtype: int64"
      ]
     },
     "execution_count": 6,
     "metadata": {},
     "output_type": "execute_result"
    }
   ],
   "source": [
    "df.language.value_counts()"
   ]
  },
  {
   "cell_type": "code",
   "execution_count": 7,
   "id": "036c31d9",
   "metadata": {},
   "outputs": [
    {
     "data": {
      "text/plain": [
       "(129, (132, 4))"
      ]
     },
     "execution_count": 7,
     "metadata": {},
     "output_type": "execute_result"
    }
   ],
   "source": [
    "df.repo.nunique(), df.shape"
   ]
  },
  {
   "cell_type": "code",
   "execution_count": 8,
   "id": "0f4f1955",
   "metadata": {},
   "outputs": [
    {
     "name": "stdout",
     "output_type": "stream",
     "text": [
      "<class 'pandas.core.frame.DataFrame'>\n",
      "RangeIndex: 132 entries, 0 to 131\n",
      "Data columns (total 4 columns):\n",
      " #   Column           Non-Null Count  Dtype \n",
      "---  ------           --------------  ----- \n",
      " 0   repo             132 non-null    object\n",
      " 1   language         132 non-null    object\n",
      " 2   readme_contents  132 non-null    object\n",
      " 3   clean_text       132 non-null    object\n",
      "dtypes: object(4)\n",
      "memory usage: 4.2+ KB\n"
     ]
    }
   ],
   "source": [
    "df.info()"
   ]
  },
  {
   "cell_type": "markdown",
   "id": "5d4d78b2",
   "metadata": {},
   "source": [
    "## Takeaways\n",
    "- 124 rows (unique repos), 4 columns\n",
    "- 25 different coding languages\n",
    "- majority are JavaScript, Python, HTML, and C++\n",
    "-----------------\n",
    "# Question\n",
    "**Does the length of the README vary by programming language?**"
   ]
  },
  {
   "cell_type": "code",
   "execution_count": 9,
   "id": "75c70c1a",
   "metadata": {},
   "outputs": [
    {
     "data": {
      "text/html": [
       "<div>\n",
       "<style scoped>\n",
       "    .dataframe tbody tr th:only-of-type {\n",
       "        vertical-align: middle;\n",
       "    }\n",
       "\n",
       "    .dataframe tbody tr th {\n",
       "        vertical-align: top;\n",
       "    }\n",
       "\n",
       "    .dataframe thead th {\n",
       "        text-align: right;\n",
       "    }\n",
       "</style>\n",
       "<table border=\"1\" class=\"dataframe\">\n",
       "  <thead>\n",
       "    <tr style=\"text-align: right;\">\n",
       "      <th></th>\n",
       "      <th>repo</th>\n",
       "      <th>language</th>\n",
       "      <th>readme_contents</th>\n",
       "      <th>clean_text</th>\n",
       "      <th>text_length</th>\n",
       "    </tr>\n",
       "  </thead>\n",
       "  <tbody>\n",
       "    <tr>\n",
       "      <th>0</th>\n",
       "      <td>ccxt/ccxt</td>\n",
       "      <td>javascript</td>\n",
       "      <td># CCXT – CryptoCurrency eXchange Trading Libra...</td>\n",
       "      <td>ccxt cryptocurrency exchange trading library b...</td>\n",
       "      <td>12619</td>\n",
       "    </tr>\n",
       "    <tr>\n",
       "      <th>1</th>\n",
       "      <td>openssl/openssl</td>\n",
       "      <td>c</td>\n",
       "      <td>Engines\\n=======\\n\\nDeprecation Note\\n--------...</td>\n",
       "      <td>engine deprecation note engine api introduced ...</td>\n",
       "      <td>10357</td>\n",
       "    </tr>\n",
       "    <tr>\n",
       "      <th>2</th>\n",
       "      <td>HelloZeroNet/ZeroNet</td>\n",
       "      <td>javascript</td>\n",
       "      <td># ZeroNet [![Build Status](https://travis-ci.o...</td>\n",
       "      <td>zeronet build readmezhcnmd englishreadmemd bit...</td>\n",
       "      <td>1991</td>\n",
       "    </tr>\n",
       "    <tr>\n",
       "      <th>3</th>\n",
       "      <td>freqtrade/freqtrade</td>\n",
       "      <td>python</td>\n",
       "      <td># ![freqtrade](https://raw.githubusercontent.c...</td>\n",
       "      <td>freqtrade coverage freqtrade free open source ...</td>\n",
       "      <td>5801</td>\n",
       "    </tr>\n",
       "    <tr>\n",
       "      <th>4</th>\n",
       "      <td>amark/gun</td>\n",
       "      <td>javascript</td>\n",
       "      <td>&lt;p id=\"readme\"&gt;&lt;a href=\"https://gun.eco/\"&gt;&lt;img...</td>\n",
       "      <td>p idreadmea width40 width50 alignright vspace2...</td>\n",
       "      <td>6672</td>\n",
       "    </tr>\n",
       "  </tbody>\n",
       "</table>\n",
       "</div>"
      ],
      "text/plain": [
       "                   repo    language  \\\n",
       "0             ccxt/ccxt  javascript   \n",
       "1       openssl/openssl           c   \n",
       "2  HelloZeroNet/ZeroNet  javascript   \n",
       "3   freqtrade/freqtrade      python   \n",
       "4             amark/gun  javascript   \n",
       "\n",
       "                                     readme_contents  \\\n",
       "0  # CCXT – CryptoCurrency eXchange Trading Libra...   \n",
       "1  Engines\\n=======\\n\\nDeprecation Note\\n--------...   \n",
       "2  # ZeroNet [![Build Status](https://travis-ci.o...   \n",
       "3  # ![freqtrade](https://raw.githubusercontent.c...   \n",
       "4  <p id=\"readme\"><a href=\"https://gun.eco/\"><img...   \n",
       "\n",
       "                                          clean_text  text_length  \n",
       "0  ccxt cryptocurrency exchange trading library b...        12619  \n",
       "1  engine deprecation note engine api introduced ...        10357  \n",
       "2  zeronet build readmezhcnmd englishreadmemd bit...         1991  \n",
       "3  freqtrade coverage freqtrade free open source ...         5801  \n",
       "4  p idreadmea width40 width50 alignright vspace2...         6672  "
      ]
     },
     "execution_count": 9,
     "metadata": {},
     "output_type": "execute_result"
    }
   ],
   "source": [
    "# Get the length of text in each README\n",
    "df['text_length'] = df.clean_text.apply(len)\n",
    "df.head()"
   ]
  },
  {
   "cell_type": "code",
   "execution_count": 10,
   "id": "49fbaead",
   "metadata": {},
   "outputs": [
    {
     "data": {
      "text/plain": [
       "count      132.000000\n",
       "mean      4198.568182\n",
       "std       4869.862584\n",
       "min         60.000000\n",
       "25%       1246.500000\n",
       "50%       2628.500000\n",
       "75%       5543.000000\n",
       "max      41580.000000\n",
       "Name: text_length, dtype: float64"
      ]
     },
     "execution_count": 10,
     "metadata": {},
     "output_type": "execute_result"
    }
   ],
   "source": [
    "# Quick Metrics\n",
    "df.text_length.describe()"
   ]
  },
  {
   "cell_type": "code",
   "execution_count": 11,
   "id": "898729ad",
   "metadata": {},
   "outputs": [
    {
     "data": {
      "text/plain": [
       "<AxesSubplot:>"
      ]
     },
     "execution_count": 11,
     "metadata": {},
     "output_type": "execute_result"
    },
    {
     "data": {
      "image/png": "[encoded data removed]",
      "text/plain": [
       "<Figure size 792x360 with 1 Axes>"
      ]
     },
     "metadata": {},
     "output_type": "display_data"
    }
   ],
   "source": [
    "# Shortest 25 REAME(s)\n",
    "df.clean_text.apply(len).sort_values().head(20).plot.bar()"
   ]
  },
  {
   "cell_type": "code",
   "execution_count": 12,
   "id": "db85caa3",
   "metadata": {},
   "outputs": [
    {
     "data": {
      "text/plain": [
       "<AxesSubplot:>"
      ]
     },
     "execution_count": 12,
     "metadata": {},
     "output_type": "execute_result"
    },
    {
     "data": {
      "image/png": "[encoded data removed]",
      "text/plain": [
       "<Figure size 792x360 with 1 Axes>"
      ]
     },
     "metadata": {},
     "output_type": "display_data"
    }
   ],
   "source": [
    "# Longest 25 README(s)\n",
    "df.clean_text.apply(len).sort_values().tail(25).plot.bar()"
   ]
  },
  {
   "cell_type": "code",
   "execution_count": 13,
   "id": "43767e0e",
   "metadata": {},
   "outputs": [
    {
     "ename": "SyntaxError",
     "evalue": "invalid syntax (1527442505.py, line 1)",
     "output_type": "error",
     "traceback": [
      "\u001b[0;36m  File \u001b[0;32m\"/var/folders/08/8cpsy8b90ddg4tfjy9502gzw0000gn/T/ipykernel_40640/1527442505.py\"\u001b[0;36m, line \u001b[0;32m1\u001b[0m\n\u001b[0;31m    plt.barh(data=df, x=\"repo\", y=)\u001b[0m\n\u001b[0m                                  ^\u001b[0m\n\u001b[0;31mSyntaxError\u001b[0m\u001b[0;31m:\u001b[0m invalid syntax\n"
     ]
    }
   ],
   "source": []
  },
  {
   "cell_type": "code",
   "execution_count": null,
   "id": "1ce6a413",
   "metadata": {},
   "outputs": [],
   "source": [
    "df.text_length.sort_values().plot.bar()"
   ]
  },
  {
   "cell_type": "code",
   "execution_count": null,
   "id": "f0f9c447",
   "metadata": {},
   "outputs": [],
   "source": [
    "# there are two repos with 30,000 more text than all the others"
   ]
  },
  {
   "cell_type": "code",
   "execution_count": null,
   "id": "1d290776",
   "metadata": {},
   "outputs": [],
   "source": [
    "df.groupby(['language']).text_length.mean().sort_values()"
   ]
  },
  {
   "cell_type": "code",
   "execution_count": null,
   "id": "9a8e6a12",
   "metadata": {},
   "outputs": [],
   "source": [
    "df.groupby(['language']).text_length.mean().sort_values().plot.bar()"
   ]
  },
  {
   "cell_type": "markdown",
   "id": "89e6c13a",
   "metadata": {},
   "source": [
    "# Word Counts"
   ]
  },
  {
   "cell_type": "code",
   "execution_count": null,
   "id": "1e409e24",
   "metadata": {},
   "outputs": [],
   "source": [
    "all_text = ' '.join(df.clean_text)\n",
    "javascript_text = ' '.join(df[df.language == 'javascript'].clean_text)\n",
    "python_text = ' '.join(df[df.language == 'python'].clean_text)\n",
    "html_text = ' '.join(df[df.language == 'html'].clean_text)\n",
    "cplusplus_text = ' '.join(df[df.language == 'c++'].clean_text)\n",
    "jpnb_text = ' '.join(df[df.language == 'jupyter notebook'].clean_text)\n",
    "java_text = ' '.join(df[df.language == 'java'].clean_text)\n",
    "c_text = ' '.join(df[df.language == 'c'].clean_text)\n",
    "ruby_text = ' '.join(df[df.language == 'ruby'].clean_text)\n",
    "tex_text = ' '.join(df[df.language == 'c#'].clean_text)\n",
    "shell_text = ' '.join(df[df.language == 'go'].clean_text)\n",
    "typescript_text = ' '.join(df[df.language == 'typescript'].clean_text)\n",
    "go_text = ' '.join(df[df.language == 'tex'].clean_text)\n",
    "c_hashtag_text = ' '.join(df[df.language == 'matlab'].clean_text)\n",
    "assembly_text = ' '.join(df[df.language == 'shell'].clean_text)\n",
    "mathematica_text = ' '.join(df[df.language == 'groff'].clean_text)\n",
    "css_text = ' '.join(df[df.language == 'r'].clean_text)\n",
    "swift_text = ' '.join(df[df.language == 'css'].clean_text)\n",
    "kotlin_text = ' '.join(df[df.language == 'g-code'].clean_text)\n",
    "gcode_text = ' '.join(df[df.language == 'kotlin'].clean_text)\n",
    "r_text = ' '.join(df[df.language == 'swift'].clean_text)\n",
    "php_text = ' '.join(df[df.language == 'mathematica'].clean_text)\n",
    "matlab_text = ' '.join(df[df.language == 'assembly'].clean_text)\n",
    "groff_text = ' '.join(df[df.language == 'php'].clean_text)\n",
    "objc_text = ' '.join(df[df.language == 'objective-c'].clean_text)"
   ]
  },
  {
   "cell_type": "code",
   "execution_count": null,
   "id": "a66af4ef",
   "metadata": {},
   "outputs": [],
   "source": [
    "all_text = clean(all_text)\n",
    "javascript_text = clean(javascript_text)\n",
    "python_text = clean(python_text)\n",
    "html_text = clean(html_text)\n",
    "cplusplus_text = clean(cplusplus_text)\n",
    "jpnb_text = clean(jpnb_text)\n",
    "java_text = clean(java_text)\n",
    "c_text = clean(c_text)\n",
    "ruby_text = clean(ruby_text)\n",
    "tex_text = clean(tex_text)\n",
    "shell_text = clean(shell_text)\n",
    "typescript_text = clean(typescript_text)\n",
    "go_text = clean(go_text)\n",
    "c_hashtag_text = clean(c_hashtag_text)\n",
    "assembly_text = clean(assembly_text)\n",
    "mathematica_text = clean(mathematica_text)\n",
    "css_text = clean(css_text)\n",
    "swift_text = clean(swift_text)\n",
    "kotlin_text = clean(kotlin_text)\n",
    "gcode_text = clean(gcode_text)\n",
    "r_text = clean(r_text)\n",
    "php_text = clean(php_text)\n",
    "matlab_text = clean(matlab_text)\n",
    "groff_text = clean(groff_text)\n",
    "objc_text = clean(objc_text)"
   ]
  },
  {
   "cell_type": "code",
   "execution_count": null,
   "id": "e4d4aa7c",
   "metadata": {},
   "outputs": [],
   "source": []
  },
  {
   "cell_type": "code",
   "execution_count": null,
   "id": "b698c423",
   "metadata": {},
   "outputs": [],
   "source": [
    "all_freq = pd.Series(str(all_text).split()).value_counts()\n",
    "javascript_freq = pd.Series(str(javascript_text).split()).value_counts()\n",
    "python_freq = pd.Series(str(python_text).split()).value_counts()\n",
    "html_freq = pd.Series(str(html_text).split()).value_counts()\n",
    "cplusplus_freq = pd.Series(str(cplusplus_text).split()).value_counts()\n",
    "jpnb_freq = pd.Series(str(jpnb_text).split()).value_counts()\n",
    "java_freq = pd.Series(str(java_text).split()).value_counts()\n",
    "c_freq = pd.Series(str(c_text).split()).value_counts()\n",
    "ruby_freq = pd.Series(str(ruby_text).split()).value_counts()\n",
    "tex_freq = pd.Series(str(tex_text).split()).value_counts()\n",
    "shell_freq = pd.Series(str(shell_text).split()).value_counts()\n",
    "typescript_freq = pd.Series(str(typescript_text).split()).value_counts()\n",
    "go_freq = pd.Series(str(go_text).split()).value_counts()\n",
    "c_hashtag_freq = pd.Series(str(c_hashtag_text).split()).value_counts()\n",
    "assembly_freq = pd.Series(str(assembly_text).split()).value_counts()\n",
    "mathematica_freq = pd.Series(str(mathematica_text).split()).value_counts()\n",
    "css_freq = pd.Series(str(css_text).split()).value_counts()\n",
    "swift_freq = pd.Series(str(swift_text).split()).value_counts()\n",
    "kotlin_freq = pd.Series(str(kotlin_text).split()).value_counts()\n",
    "gcode_freq = pd.Series(str(gcode_text).split()).value_counts()\n",
    "r_freq = pd.Series(str(r_text).split()).value_counts()\n",
    "php_freq = pd.Series(str(php_text).split()).value_counts()\n",
    "matlab_freq = pd.Series(str(matlab_text).split()).value_counts()\n",
    "groff_freq = pd.Series(str(groff_text).split()).value_counts()\n",
    "objc_freq = pd.Series(str(objc_text).split()).value_counts()"
   ]
  },
  {
   "cell_type": "code",
   "execution_count": null,
   "id": "7b055c08",
   "metadata": {},
   "outputs": [],
   "source": [
    "word_counts = pd.concat([all_freq, javascript_freq, python_freq, html_freq, cplusplus_freq, jpnb_freq, java_freq, c_freq, ruby_freq, tex_freq, shell_freq, typescript_freq, go_freq, c_hashtag_freq, assembly_freq, mathematica_freq, css_freq, swift_freq, kotlin_freq, gcode_freq, r_freq, php_freq, matlab_freq, groff_freq, objc_freq], sort=True, axis=1)\n",
    "word_counts.columns = ['all', 'javascript', 'python', 'html', 'c++', 'jupyter_notebook', 'java', 'c', 'ruby', 'tex', 'shell', 'typescript', 'go', 'c#', 'assembly', 'mathematica', 'css', 'swift', 'kotlin', 'gcode', 'r', 'php', 'matlab', 'groff', 'objc']\n",
    "word_counts = word_counts.fillna(0).apply(lambda s: s.astype(int))"
   ]
  },
  {
   "cell_type": "code",
   "execution_count": null,
   "id": "b65964f4",
   "metadata": {},
   "outputs": [],
   "source": [
    "# Top 25 words used in REAME(s)\n",
    "\n",
    "top_25 = word_counts.sort_values(by='all', ascending=False).head(25)\n",
    "top_25"
   ]
  },
  {
   "cell_type": "code",
   "execution_count": null,
   "id": "82b7a631",
   "metadata": {},
   "outputs": [],
   "source": [
    "word_counts.sort_values(by='all', ascending=False)[['all', 'javascript', 'python', 'html']].head(9).plot()\n",
    "plt.title('Words Used Most in README Files')"
   ]
  },
  {
   "cell_type": "code",
   "execution_count": null,
   "id": "4501e38c",
   "metadata": {
    "scrolled": true
   },
   "outputs": [],
   "source": [
    "df.language.value_counts()"
   ]
  },
  {
   "cell_type": "code",
   "execution_count": null,
   "id": "9ba52db0",
   "metadata": {},
   "outputs": [],
   "source": []
  },
  {
   "cell_type": "code",
   "execution_count": null,
   "id": "a4bad1ec",
   "metadata": {},
   "outputs": [],
   "source": []
  },
  {
   "cell_type": "code",
   "execution_count": null,
   "id": "96635171",
   "metadata": {},
   "outputs": [],
   "source": []
  },
  {
   "cell_type": "code",
   "execution_count": null,
   "id": "ecfbf164",
   "metadata": {},
   "outputs": [],
   "source": []
  },
  {
   "cell_type": "code",
   "execution_count": null,
   "id": "5cdd8bee",
   "metadata": {},
   "outputs": [],
   "source": []
  },
  {
   "cell_type": "code",
   "execution_count": null,
   "id": "24acb99d",
   "metadata": {},
   "outputs": [],
   "source": []
  },
  {
   "cell_type": "code",
   "execution_count": null,
   "id": "ba47b10b",
   "metadata": {},
   "outputs": [],
   "source": []
  },
  {
   "cell_type": "code",
   "execution_count": null,
   "id": "9af0dea3",
   "metadata": {},
   "outputs": [],
   "source": [
    "# Let's build a Bag of Words\n",
    "cv = CountVectorizer()\n",
    "bag_of_words = cv.fit_transform(df.clean_text)"
   ]
  },
  {
   "cell_type": "code",
   "execution_count": null,
   "id": "0858ad05",
   "metadata": {},
   "outputs": [],
   "source": [
    "bag_of_words.todense()"
   ]
  },
  {
   "cell_type": "code",
   "execution_count": null,
   "id": "59c003f1",
   "metadata": {},
   "outputs": [],
   "source": [
    "cv.get_feature_names_out()"
   ]
  },
  {
   "cell_type": "code",
   "execution_count": null,
   "id": "3b33dbe8",
   "metadata": {},
   "outputs": [],
   "source": [
    "cv.vocabulary_"
   ]
  },
  {
   "cell_type": "code",
   "execution_count": null,
   "id": "dbe0c6d3",
   "metadata": {},
   "outputs": [],
   "source": []
  }
 ],
 "metadata": {
  "kernelspec": {
   "display_name": "Python 3 (ipykernel)",
   "language": "python",
   "name": "python3"
  },
  "language_info": {
   "codemirror_mode": {
    "name": "ipython",
    "version": 3
   },
   "file_extension": ".py",
   "mimetype": "text/x-python",
   "name": "python",
   "nbconvert_exporter": "python",
   "pygments_lexer": "ipython3",
   "version": "3.9.7"
  }
 },
 "nbformat": 4,
 "nbformat_minor": 5
}
