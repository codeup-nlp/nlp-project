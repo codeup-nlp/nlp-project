{
 "cells": [
  {
   "cell_type": "code",
   "execution_count": 9,
   "id": "5a3cd55f",
   "metadata": {},
   "outputs": [],
   "source": [
    "import os\n",
    "import pandas as pd\n",
    "import numpy as np\n",
    "import matplotlib.pyplot as plt\n",
    "\n",
    "import base_acquire"
   ]
  },
  {
   "cell_type": "code",
   "execution_count": null,
   "id": "bfa6fe52",
   "metadata": {},
   "outputs": [],
   "source": []
  },
  {
   "cell_type": "code",
   "execution_count": null,
   "id": "a20634fc",
   "metadata": {},
   "outputs": [],
   "source": []
  },
  {
   "cell_type": "code",
   "execution_count": null,
   "id": "5871e1d6",
   "metadata": {},
   "outputs": [],
   "source": []
  },
  {
   "cell_type": "code",
   "execution_count": null,
   "id": "75d784bd",
   "metadata": {},
   "outputs": [],
   "source": []
  },
  {
   "cell_type": "code",
   "execution_count": null,
   "id": "f022ec3e",
   "metadata": {},
   "outputs": [],
   "source": []
  },
  {
   "cell_type": "code",
   "execution_count": 7,
   "id": "0bd265f2",
   "metadata": {},
   "outputs": [],
   "source": [
    "r = base_acquire.scrape_github_data()"
   ]
  },
  {
   "cell_type": "code",
   "execution_count": 8,
   "id": "7fd29993",
   "metadata": {},
   "outputs": [
    {
     "data": {
      "text/plain": [
       "[{'repo': 'gocodeup/codeup-setup-script',\n",
       "  'language': 'Shell',\n",
       "  'readme_contents': '# Codeup Setup Script\\n\\nSetup script for Codeup students\\' laptops to install the all the tools we will\\nneed for the java course. We will install the following:\\n\\n- [xcode](https://developer.apple.com/xcode/features/): command line tools for\\n  macs\\n- [brew](http://brew.sh/): package manager for macs\\n- [java](https://en.wikipedia.org/wiki/Java_(programming_language))\\n- [tomcat](http://tomcat.apache.org/): the java webserver\\n- [maven](https://maven.apache.org/): a java dependency and build management tool\\n- [mysql](https://www.mysql.com/): the database we\\'ll use for the class\\n- [node js](https://nodejs.org/en/): a JavaScript runtime outside the browser\\n- [npm](https://www.npmjs.com/): a package manager for JavaScript\\n- [intellij](https://www.jetbrains.com/idea/): a Java IDE\\n\\nIn addition, we will:\\n\\n- setup ssh keys for the student\\'s laptop and guide them through the process of\\n  linking their ssh key to their Github account.\\n- Setup a global gitignore file and set the default commit editor to `nano`\\n  (only if these are not already set)\\n\\n## For Students\\n\\nCopy and paste the following in your terminal:\\n\\n```\\nbash -c \"$(curl -sS https://raw.githubusercontent.com/gocodeup/codeup-setup-script/master/install.sh)\"\\n```\\n\\n## Note for Instructors\\n\\nIf students already have and `id_rsa` ssh key generated the script will *not*\\ntry to generate a new ones, and you will need to walk them through the process\\nof adding their existing key to Github.\\n\\nThe following should do the trick if they already have a ssh key pair, but it\\'s\\nnot wired up to Github.\\n\\n```bash\\npbcopy < ~/.ssh/id_rsa.pub\\nopen https://github.com/settings/ssh\\n```\\n'},\n",
       " {'repo': 'gocodeup/movies-application',\n",
       "  'language': 'JavaScript',\n",
       "  'readme_contents': '# Movies Application\\n\\nFor this project, we will be building a single page movie application (SPA). It\\nwill allow users to add, edit, and delete movies, as well as rate them. We will\\nbe using [`json-server`](https://github.com/typicode/json-server) to mock a\\ndatabase and our backend, so that we can just worry about the front end and AJAX\\nrequests.\\n\\nThe webpack dev server is configured to watch for changes both in the javascript\\nsource, as well as the `public` directory. Whenever changes are detected, the\\npage will be reloaded. It will also proxy any requests that start with `/api` to\\nlocalhost:3000, which is where json-server is configured run.\\n\\n`json-server` is configured to have a delay of 1.2 seconds, so you can see what\\nyour application might actually look like, instead of serving instantaneous\\nreponses. You can modify this behavior by changing (or removing) the number\\nafter the `-d` flag inside of the npm `dev` script.\\n\\n## Setup\\n\\n1. Fork this repository to your own github account or your github organization.\\n\\n1. Clone your fork locally into your computer.\\n\\n1. Run `npm install`\\n\\n1. Run `npm run build`\\n\\n1. Run `npm run dev` and visit\\n   [http://localhost:1313/](http://localhost:1313/) in your browser. Open up\\n   the console and inspect the output.\\n\\n## Development\\n\\nIn general, you should have the development web server (`npm run dev`) running\\nwhile you are working on the project. You should view your project through\\nhttp://localhost:1313, **not** from IntelliJ\\'s web server, or by dragging the\\nfile(s) into chrome. As you make changes to your source files, all you need to\\ndo is save the file, and the website will be live reloaded.\\n\\nTake a look at the `src/index.js` file to get started. You will notice it has\\nexamples of importing and requiring separate javascript files. Regardless of\\nwhich you choose to use, you should pick one and use it throughout your code\\nbase, don\\'t mix and match the two.\\n\\nThe file `src/api.js` also contains an example api request. You can\\nreference this to get started building out the parts of your application that\\ninteract with the api.\\n\\nThe `db.json` file contains your \"database\". You can edit this file directly to\\nmake changes to your data, and this file will be updated if you make api\\nrequests that modify the data.\\n\\nThe server will serve files from the `public` directory, meaning any files\\noutside of `public` will not be visible. This means if you have any frontend\\nassets (e.g. bootstrap, or images) they will need to be in the `public`\\ndirectory.\\n\\n## Specification\\n\\nYour application should:\\n\\nOn page load:\\n\\n- Display a \"loading...\" message\\n- Make an ajax request to get a listing of all the movies\\n- When the initial ajax request comes back, remove the \"loading...\" message\\n  and replace it with HTML generated from the json response your code\\n  receives\\n\\nAllow users to add new movies\\n\\n- Create a form for adding a new movie that has fields for the movie\\'s title\\n  and rating\\n- When the form is submitted, the page should **not** reload / refresh,\\n  instead, your javascript should make a POST request to `/api/movies` with the\\n  information the user put into the form\\n\\nAllow users to edit existing movies\\n\\n- Give users the option to edit an existing movie\\n- A form should be pre-populated with the selected movie\\'s details\\n- Like creating a movie, this should not involve any page reloads, instead\\n  your javascript code should make an ajax request when the form is\\n  submitted.\\n\\nDelete movies\\n\\n- Each movie should have a \"delete\" button\\n- When this button is clicked, your javascript should send a `DELETE` request\\n\\n### Bonuses\\n\\n- Add a `disabled` attribute to buttons while their corresponding ajax request\\n  is still pending.\\n- Show a loading animation instead of just text that says \"loading...\"\\n- Use modals for the creating and editing movie forms\\n- Add a `genre` property to every movie\\n- Allow users to sort the movies by rating, title, or genre (if you have it)\\n- Allow users to search through the movies by rating, title, or genre (if you\\n  have it)\\n\\n## Helpful Hints\\n\\n- The id property of every movie should not be edited by hand. The purpose of\\n  this property is to uniquely identify that particular movie. That is, if we\\n  want to delete or modify an existing movie, we can specify what movie we want\\n  to change by referencing it\\'s id. When a new movie is created (i.e.  when you\\n  send a `POST` request to `/api/movies` with a title and a rating), the server\\n  will respond with the movie object that was created, including a generated id.\\n- Take a look at the other branches in this repository, as they have\\n  configuration/setup for common scenarios, such as including bootstrap in your\\n  application.\\n'},\n",
       " {'repo': 'torvalds/linux',\n",
       "  'language': 'C',\n",
       "  'readme_contents': 'Linux kernel\\n============\\n\\nThere are several guides for kernel developers and users. These guides can\\nbe rendered in a number of formats, like HTML and PDF. Please read\\nDocumentation/admin-guide/README.rst first.\\n\\nIn order to build the documentation, use ``make htmldocs`` or\\n``make pdfdocs``.  The formatted documentation can also be read online at:\\n\\n    https://www.kernel.org/doc/html/latest/\\n\\nThere are various text files in the Documentation/ subdirectory,\\nseveral of them using the Restructured Text markup notation.\\n\\nPlease read the Documentation/process/changes.rst file, as it contains the\\nrequirements for building and running the kernel, and information about\\nthe problems which may result by upgrading your kernel.\\n'}]"
      ]
     },
     "execution_count": 8,
     "metadata": {},
     "output_type": "execute_result"
    }
   ],
   "source": [
    "r\n"
   ]
  },
  {
   "cell_type": "code",
   "execution_count": null,
   "id": "610152fd",
   "metadata": {},
   "outputs": [],
   "source": []
  }
 ],
 "metadata": {
  "kernelspec": {
   "display_name": "Python 3 (ipykernel)",
   "language": "python",
   "name": "python3"
  },
  "language_info": {
   "codemirror_mode": {
    "name": "ipython",
    "version": 3
   },
   "file_extension": ".py",
   "mimetype": "text/x-python",
   "name": "python",
   "nbconvert_exporter": "python",
   "pygments_lexer": "ipython3",
   "version": "3.9.7"
  }
 },
 "nbformat": 4,
 "nbformat_minor": 5
}
